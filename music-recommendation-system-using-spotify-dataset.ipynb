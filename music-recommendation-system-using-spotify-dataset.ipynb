{
 "cells": [
  {
   "attachments": {
    "image.png": {
     "image/png": "[encoded data removed]"
    }
   },
   "cell_type": "markdown",
   "metadata": {},
   "source": [
    "# **Building Music Recommendation System using Spotify Dataset**\n",
    "\n",
    "![image.png](attachment:image.png)\n",
    "\n",
    "\n",
    "Hello and welcome to my kernel. In this kernel, I have created Music Recommendation System using Spotify Dataset. To do this, I presented some of the visualization processes to understand data and done some EDA(Exploratory Data Analysis) so we can select features that are relevant to create a Recommendation System."
   ]
  },
  {
   "cell_type": "code",
   "execution_count": 21,
   "metadata": {},
   "outputs": [
    {
     "data": {
      "text/plain": [
       "'\\npip install yellowbrick\\npip install seaborn\\npip install plotly\\n'"
      ]
     },
     "execution_count": 21,
     "metadata": {},
     "output_type": "execute_result"
    }
   ],
   "source": [
    "'''\n",
    "pip install yellowbrick\n",
    "pip install seaborn\n",
    "pip install plotly\n",
    "'''"
   ]
  },
  {
   "cell_type": "markdown",
   "metadata": {},
   "source": [
    "# **Import Libraries**"
   ]
  },
  {
   "cell_type": "code",
   "execution_count": 24,
   "metadata": {
    "execution": {
     "iopub.execute_input": "2021-12-17T05:44:20.715330Z",
     "iopub.status.busy": "2021-12-17T05:44:20.714397Z",
     "iopub.status.idle": "2021-12-17T05:44:21.808185Z",
     "shell.execute_reply": "2021-12-17T05:44:21.807394Z",
     "shell.execute_reply.started": "2021-12-17T05:44:20.715276Z"
    }
   },
   "outputs": [],
   "source": [
    "import os\n",
    "import numpy as np\n",
    "import pandas as pd\n",
    "\n",
    "import seaborn as sns\n",
    "import plotly.express as px \n",
    "import matplotlib.pyplot as plt\n",
    "%matplotlib inline\n",
    "\n",
    "from sklearn.cluster import KMeans\n",
    "from sklearn.preprocessing import StandardScaler\n",
    "from sklearn.pipeline import Pipeline\n",
    "from sklearn.manifold import TSNE\n",
    "from sklearn.decomposition import PCA\n",
    "from sklearn.metrics import euclidean_distances\n",
    "from scipy.spatial.distance import cdist\n",
    "\n",
    "import warnings\n",
    "warnings.filterwarnings(\"ignore\")"
   ]
  },
  {
   "cell_type": "markdown",
   "metadata": {},
   "source": [
    "# **Read Data**"
   ]
  },
  {
   "cell_type": "code",
   "execution_count": 25,
   "metadata": {
    "execution": {
     "iopub.execute_input": "2021-12-17T05:44:21.810083Z",
     "iopub.status.busy": "2021-12-17T05:44:21.809689Z",
     "iopub.status.idle": "2021-12-17T05:44:22.522129Z",
     "shell.execute_reply": "2021-12-17T05:44:22.521334Z",
     "shell.execute_reply.started": "2021-12-17T05:44:21.810053Z"
    }
   },
   "outputs": [],
   "source": [
    "data = pd.read_csv(\"data/data.csv\")\n",
    "genre_data = pd.read_csv('data/data_by_genres.csv')\n",
    "year_data = pd.read_csv('data/data_by_year.csv')"
   ]
  },
  {
   "cell_type": "code",
   "execution_count": 26,
   "metadata": {
    "_kg_hide-output": true,
    "execution": {
     "iopub.execute_input": "2021-12-17T05:44:22.523745Z",
     "iopub.status.busy": "2021-12-17T05:44:22.523285Z",
     "iopub.status.idle": "2021-12-17T05:44:22.617801Z",
     "shell.execute_reply": "2021-12-17T05:44:22.616916Z",
     "shell.execute_reply.started": "2021-12-17T05:44:22.523696Z"
    }
   },
   "outputs": [
    {
     "name": "stdout",
     "output_type": "stream",
     "text": [
      "<class 'pandas.core.frame.DataFrame'>\n",
      "RangeIndex: 170653 entries, 0 to 170652\n",
      "Data columns (total 19 columns):\n",
      " #   Column            Non-Null Count   Dtype  \n",
      "---  ------            --------------   -----  \n",
      " 0   valence           170653 non-null  float64\n",
      " 1   year              170653 non-null  int64  \n",
      " 2   acousticness      170653 non-null  float64\n",
      " 3   artists           170653 non-null  object \n",
      " 4   danceability      170653 non-null  float64\n",
      " 5   duration_ms       170653 non-null  int64  \n",
      " 6   energy            170653 non-null  float64\n",
      " 7   explicit          170653 non-null  int64  \n",
      " 8   id                170653 non-null  object \n",
      " 9   instrumentalness  170653 non-null  float64\n",
      " 10  key               170653 non-null  int64  \n",
      " 11  liveness          170653 non-null  float64\n",
      " 12  loudness          170653 non-null  float64\n",
      " 13  mode              170653 non-null  int64  \n",
      " 14  name              170653 non-null  object \n",
      " 15  popularity        170653 non-null  int64  \n",
      " 16  release_date      170653 non-null  object \n",
      " 17  speechiness       170653 non-null  float64\n",
      " 18  tempo             170653 non-null  float64\n",
      "dtypes: float64(9), int64(6), object(4)\n",
      "memory usage: 24.7+ MB\n",
      "None\n"
     ]
    }
   ],
   "source": [
    "print(data.info())"
   ]
  },
  {
   "cell_type": "code",
   "execution_count": 27,
   "metadata": {
    "_kg_hide-output": true,
    "execution": {
     "iopub.execute_input": "2021-12-17T05:44:22.621083Z",
     "iopub.status.busy": "2021-12-17T05:44:22.620630Z",
     "iopub.status.idle": "2021-12-17T05:44:22.634669Z",
     "shell.execute_reply": "2021-12-17T05:44:22.633770Z",
     "shell.execute_reply.started": "2021-12-17T05:44:22.621037Z"
    }
   },
   "outputs": [
    {
     "name": "stdout",
     "output_type": "stream",
     "text": [
      "<class 'pandas.core.frame.DataFrame'>\n",
      "RangeIndex: 2973 entries, 0 to 2972\n",
      "Data columns (total 14 columns):\n",
      " #   Column            Non-Null Count  Dtype  \n",
      "---  ------            --------------  -----  \n",
      " 0   mode              2973 non-null   int64  \n",
      " 1   genres            2973 non-null   object \n",
      " 2   acousticness      2973 non-null   float64\n",
      " 3   danceability      2973 non-null   float64\n",
      " 4   duration_ms       2973 non-null   float64\n",
      " 5   energy            2973 non-null   float64\n",
      " 6   instrumentalness  2973 non-null   float64\n",
      " 7   liveness          2973 non-null   float64\n",
      " 8   loudness          2973 non-null   float64\n",
      " 9   speechiness       2973 non-null   float64\n",
      " 10  tempo             2973 non-null   float64\n",
      " 11  valence           2973 non-null   float64\n",
      " 12  popularity        2973 non-null   float64\n",
      " 13  key               2973 non-null   int64  \n",
      "dtypes: float64(11), int64(2), object(1)\n",
      "memory usage: 325.3+ KB\n",
      "None\n"
     ]
    }
   ],
   "source": [
    "print(genre_data.info())"
   ]
  },
  {
   "cell_type": "code",
   "execution_count": 28,
   "metadata": {
    "_kg_hide-output": true,
    "execution": {
     "iopub.execute_input": "2021-12-17T05:44:22.636733Z",
     "iopub.status.busy": "2021-12-17T05:44:22.636084Z",
     "iopub.status.idle": "2021-12-17T05:44:22.647925Z",
     "shell.execute_reply": "2021-12-17T05:44:22.646858Z",
     "shell.execute_reply.started": "2021-12-17T05:44:22.636686Z"
    }
   },
   "outputs": [
    {
     "name": "stdout",
     "output_type": "stream",
     "text": [
      "<class 'pandas.core.frame.DataFrame'>\n",
      "RangeIndex: 100 entries, 0 to 99\n",
      "Data columns (total 14 columns):\n",
      " #   Column            Non-Null Count  Dtype  \n",
      "---  ------            --------------  -----  \n",
      " 0   mode              100 non-null    int64  \n",
      " 1   year              100 non-null    int64  \n",
      " 2   acousticness      100 non-null    float64\n",
      " 3   danceability      100 non-null    float64\n",
      " 4   duration_ms       100 non-null    float64\n",
      " 5   energy            100 non-null    float64\n",
      " 6   instrumentalness  100 non-null    float64\n",
      " 7   liveness          100 non-null    float64\n",
      " 8   loudness          100 non-null    float64\n",
      " 9   speechiness       100 non-null    float64\n",
      " 10  tempo             100 non-null    float64\n",
      " 11  valence           100 non-null    float64\n",
      " 12  popularity        100 non-null    float64\n",
      " 13  key               100 non-null    int64  \n",
      "dtypes: float64(11), int64(3)\n",
      "memory usage: 11.1 KB\n",
      "None\n"
     ]
    }
   ],
   "source": [
    "print(year_data.info())"
   ]
  },
  {
   "cell_type": "markdown",
   "metadata": {},
   "source": [
    "We are going to check for all the analysis with the target as **'popularity'**. Before going to do that let's check for the Feature Correlation by considering a few features and for that, I'm going to use the **yellowbrick** package. You can learn more about it from the [documentation](https://www.scikit-yb.org/en/latest/index.html)."
   ]
  },
  {
   "cell_type": "code",
   "execution_count": 29,
   "metadata": {
    "_kg_hide-input": true,
    "execution": {
     "iopub.execute_input": "2021-12-17T05:44:22.650055Z",
     "iopub.status.busy": "2021-12-17T05:44:22.649461Z",
     "iopub.status.idle": "2021-12-17T05:44:22.923236Z",
     "shell.execute_reply": "2021-12-17T05:44:22.922246Z",
     "shell.execute_reply.started": "2021-12-17T05:44:22.650012Z"
    }
   },
   "outputs": [
    {
     "data": {
      "image/png": "[encoded data removed]",
      "text/plain": [
       "<Figure size 2000x2000 with 1 Axes>"
      ]
     },
     "metadata": {},
     "output_type": "display_data"
    },
    {
     "data": {
      "text/plain": [
       "<Axes: title={'center': 'Features correlation with dependent variable'}, xlabel='Pearson Correlation'>"
      ]
     },
     "execution_count": 29,
     "metadata": {},
     "output_type": "execute_result"
    }
   ],
   "source": [
    "from yellowbrick.target import FeatureCorrelation\n",
    "\n",
    "feature_names = ['acousticness', 'danceability', 'energy', 'instrumentalness',\n",
    "       'liveness', 'loudness', 'speechiness', 'tempo', 'valence','duration_ms','explicit','key','mode','year']\n",
    "\n",
    "X, y = data[feature_names], data['popularity']\n",
    "\n",
    "# Create a list of the feature names\n",
    "features = np.array(feature_names)\n",
    "\n",
    "# Instantiate the visualizer\n",
    "visualizer = FeatureCorrelation(labels=features)\n",
    "\n",
    "plt.rcParams['figure.figsize']=(20,20)\n",
    "visualizer.fit(X, y)     # Fit the data to the visualizer\n",
    "visualizer.show()"
   ]
  },
  {
   "cell_type": "markdown",
   "metadata": {},
   "source": [
    "# **Data Understanding by Visualization and EDA**"
   ]
  },
  {
   "cell_type": "markdown",
   "metadata": {},
   "source": [
    "# **Music Over Time**\n",
    "\n",
    "Using the data grouped by year, we can understand how the overall sound of music has changed from 1921 to 2020."
   ]
  },
  {
   "cell_type": "code",
   "execution_count": 30,
   "metadata": {
    "_kg_hide-input": true,
    "execution": {
     "iopub.execute_input": "2021-12-17T05:44:23.524059Z",
     "iopub.status.busy": "2021-12-17T05:44:23.523636Z",
     "iopub.status.idle": "2021-12-17T05:44:23.989474Z",
     "shell.execute_reply": "2021-12-17T05:44:23.988566Z",
     "shell.execute_reply.started": "2021-12-17T05:44:23.524023Z"
    }
   },
   "outputs": [
    {
     "data": {
      "text/plain": [
       "<Axes: xlabel='decade', ylabel='count'>"
      ]
     },
     "execution_count": 30,
     "metadata": {},
     "output_type": "execute_result"
    },
    {
     "data": {
      "image/png": "[encoded data removed]",
      "text/plain": [
       "<Figure size 1100x600 with 1 Axes>"
      ]
     },
     "metadata": {},
     "output_type": "display_data"
    }
   ],
   "source": [
    "def get_decade(year):\n",
    "    period_start = int(year/10) * 10\n",
    "    decade = '{}s'.format(period_start)\n",
    "    return decade\n",
    "\n",
    "data['decade'] = data['year'].apply(get_decade)\n",
    "\n",
    "sns.set(rc={'figure.figsize':(11 ,6)})\n",
    "sns.countplot(x= data['decade'])"
   ]
  },
  {
   "cell_type": "code",
   "execution_count": 31,
   "metadata": {
    "_kg_hide-input": true,
    "execution": {
     "iopub.execute_input": "2021-12-17T05:44:24.033039Z",
     "iopub.status.busy": "2021-12-17T05:44:24.032665Z",
     "iopub.status.idle": "2021-12-17T05:44:24.481812Z",
     "shell.execute_reply": "2021-12-17T05:44:24.480785Z",
     "shell.execute_reply.started": "2021-12-17T05:44:24.033003Z"
    },
    "scrolled": true
   },
   "outputs": [
    {
     "data": {
      "application/vnd.plotly.v1+json": {
       "config": {
        "plotlyServerURL": "https://plot.ly"
       },
       "data": [
        {
         "hovertemplate": "variable=acousticness<br>year=%{x}<br>value=%{y}<extra></extra>",
         "legendgroup": "acousticness",
         "line": {
          "color": "#636efa",
          "dash": "solid"
         },
         "marker": {
          "symbol": "circle"
         },
         "mode": "lines",
         "name": "acousticness",
         "orientation": "v",
         "showlegend": true,
         "type": "scatter",
         "x": [
          1921,
          1922,
          1923,
          1924,
          1925,
          1926,
          1927,
          1928,
          1929,
          1930,
          1931,
          1932,
          1933,
          1934,
          1935,
          1936,
          1937,
          1938,
          1939,
          1940,
          1941,
          1942,
          1943,
          1944,
          1945,
          1946,
          1947,
          1948,
          1949,
          1950,
          1951,
          1952,
          1953,
          1954,
          1955,
          1956,
          1957,
          1958,
          1959,
          1960,
          1961,
          1962,
          1963,
          1964,
          1965,
          1966,
          1967,
          1968,
          1969,
          1970,
          1971,
          1972,
          1973,
          1974,
          1975,
          1976,
          1977,
          1978,
          1979,
          1980,
          1981,
          1982,
          1983,
          1984,
          1985,
          1986,
          1987,
          1988,
          1989,
          1990,
          1991,
          1992,
          1993,
          1994,
          1995,
          1996,
          1997,
          1998,
          1999,
          2000,
          2001,
          2002,
          2003,
          2004,
          2005,
          2006,
          2007,
          2008,
          2009,
          2010,
          2011,
          2012,
          2013,
          2014,
          2015,
          2016,
          2017,
          2018,
          2019,
          2020
         ],
         "xaxis": "x",
         "y": [
          0.8868960000000005,
          0.9385915492957748,
          0.9572467913513516,
          0.940199860169493,
          0.9626070503597138,
          0.660817216981134,
          0.9361794552845558,
          0.9386165035685952,
          0.6014265861344558,
          0.936714937370057,
          0.8330399585921336,
          0.9357705179282878,
          0.899897909117222,
          0.8911487501730107,
          0.7783855599472987,
          0.7723120800000008,
          0.8654357853881286,
          0.9192803908646014,
          0.9087381000000004,
          0.8476440499999951,
          0.8957376562500025,
          0.8529343703923857,
          0.9027523185915528,
          0.9076531914893636,
          0.7096568630000005,
          0.9199445823665852,
          0.9139650224242392,
          0.9221549999999956,
          0.9075328949999956,
          0.8539413005999965,
          0.9022971956499974,
          0.8743009244999965,
          0.8909223502564074,
          0.8650197272999992,
          0.8405510069999986,
          0.8230569899999975,
          0.7928023589743608,
          0.7796118650000005,
          0.7793927897435907,
          0.7671814843243259,
          0.7519038684210535,
          0.720607806842106,
          0.7227048300000004,
          0.6941005307692291,
          0.6099113295384619,
          0.5248094599699997,
          0.5296103243521767,
          0.4937702403500001,
          0.4488463039999994,
          0.4600571139500007,
          0.4583362981000009,
          0.4600428051999994,
          0.4165241889999992,
          0.4472074226000001,
          0.4337738871950005,
          0.3614706321099993,
          0.3393025333750004,
          0.3289685734499993,
          0.29593224063,
          0.284955397635897,
          0.3012042267400006,
          0.2895800382050001,
          0.2947778916300001,
          0.2877095803450008,
          0.2965709032099995,
          0.2850806564249999,
          0.3116640663948722,
          0.322009946512821,
          0.3133512518150009,
          0.3328699505850001,
          0.3327652916307699,
          0.3208087638250009,
          0.3090685537400004,
          0.3062343630899999,
          0.3025118061200004,
          0.3010268798000006,
          0.3067156934549995,
          0.2914894615700001,
          0.2715901110661201,
          0.2893227005163599,
          0.2868424748428934,
          0.282624289885001,
          0.2564705181729783,
          0.2805589466225845,
          0.2557635068666665,
          0.2799863520256408,
          0.2540809575538463,
          0.2491917627212275,
          0.261928619096939,
          0.2426866435515872,
          0.2731826625185919,
          0.2499530443804624,
          0.2574880859564779,
          0.249312645880299,
          0.2539522577102332,
          0.2841710299554814,
          0.2860990665261043,
          0.2676329907750836,
          0.2782985863365824,
          0.2199308880935964
         ],
         "yaxis": "y"
        },
        {
         "hovertemplate": "variable=danceability<br>year=%{x}<br>value=%{y}<extra></extra>",
         "legendgroup": "danceability",
         "line": {
          "color": "#EF553B",
          "dash": "solid"
         },
         "marker": {
          "symbol": "circle"
         },
         "mode": "lines",
         "name": "danceability",
         "orientation": "v",
         "showlegend": true,
         "type": "scatter",
         "x": [
          1921,
          1922,
          1923,
          1924,
          1925,
          1926,
          1927,
          1928,
          1929,
          1930,
          1931,
          1932,
          1933,
          1934,
          1935,
          1936,
          1937,
          1938,
          1939,
          1940,
          1941,
          1942,
          1943,
          1944,
          1945,
          1946,
          1947,
          1948,
          1949,
          1950,
          1951,
          1952,
          1953,
          1954,
          1955,
          1956,
          1957,
          1958,
          1959,
          1960,
          1961,
          1962,
          1963,
          1964,
          1965,
          1966,
          1967,
          1968,
          1969,
          1970,
          1971,
          1972,
          1973,
          1974,
          1975,
          1976,
          1977,
          1978,
          1979,
          1980,
          1981,
          1982,
          1983,
          1984,
          1985,
          1986,
          1987,
          1988,
          1989,
          1990,
          1991,
          1992,
          1993,
          1994,
          1995,
          1996,
          1997,
          1998,
          1999,
          2000,
          2001,
          2002,
          2003,
          2004,
          2005,
          2006,
          2007,
          2008,
          2009,
          2010,
          2011,
          2012,
          2013,
          2014,
          2015,
          2016,
          2017,
          2018,
          2019,
          2020
         ],
         "xaxis": "x",
         "y": [
          0.4185973333333336,
          0.4820422535211267,
          0.5773405405405401,
          0.5498940677966102,
          0.5738633093525181,
          0.5998802612481859,
          0.6482682926829262,
          0.5342878667724027,
          0.6476698529411761,
          0.5181758835758836,
          0.5952217391304357,
          0.5577976095617526,
          0.57029030390738,
          0.528705882352941,
          0.5558691699604746,
          0.5580055454545453,
          0.5421572298325723,
          0.479977977161501,
          0.5126828,
          0.52189235,
          0.4804813541666676,
          0.4646338882282997,
          0.4551456338028168,
          0.5001744680851068,
          0.5191431500000011,
          0.4144450116009276,
          0.4713208484848491,
          0.4633694736842109,
          0.4421993999999996,
          0.5042531000000008,
          0.4624800999999999,
          0.4570322000000001,
          0.4374260512820513,
          0.4656388999999994,
          0.4881312,
          0.4878145000000007,
          0.5034812307692305,
          0.4800213999999995,
          0.4821143076923083,
          0.4860292432432435,
          0.4891655789473678,
          0.4931643684210523,
          0.48162135,
          0.5041769743589742,
          0.5034505641025638,
          0.5070204999999981,
          0.4926885942971483,
          0.5010080999999997,
          0.4880977999999999,
          0.5063075000000004,
          0.5042738499999999,
          0.5209994499999997,
          0.5154494500000005,
          0.51533975,
          0.5209980000000007,
          0.5297624999999999,
          0.5333237000000017,
          0.5407746000000005,
          0.5620453000000001,
          0.5561523589743594,
          0.5421846999999999,
          0.5642594000000005,
          0.5456292999999998,
          0.5303089499999987,
          0.5556424000000012,
          0.5409334000000001,
          0.5410193333333342,
          0.5404594358974372,
          0.5472274499999988,
          0.5352986500000001,
          0.5558243589743591,
          0.5550648499999989,
          0.5698781500000001,
          0.5528299500000016,
          0.5590457500000001,
          0.5878306000000001,
          0.5768138499999994,
          0.5862116499999998,
          0.5821579190158892,
          0.590918047034764,
          0.5833178553615969,
          0.5761602999999997,
          0.5757633060388944,
          0.5676803662258397,
          0.5722805641025652,
          0.5682301538461539,
          0.5634143589743592,
          0.5791928388746803,
          0.5641903571428577,
          0.5724883432539687,
          0.5528669806643526,
          0.5708818508997433,
          0.5711480263157896,
          0.5899476807980057,
          0.5937740628166152,
          0.6002023928770179,
          0.6122170180722886,
          0.6635004755111744,
          0.6448141097998967,
          0.6929043349753701
         ],
         "yaxis": "y"
        },
        {
         "hovertemplate": "variable=energy<br>year=%{x}<br>value=%{y}<extra></extra>",
         "legendgroup": "energy",
         "line": {
          "color": "#00cc96",
          "dash": "solid"
         },
         "marker": {
          "symbol": "circle"
         },
         "mode": "lines",
         "name": "energy",
         "orientation": "v",
         "showlegend": true,
         "type": "scatter",
         "x": [
          1921,
          1922,
          1923,
          1924,
          1925,
          1926,
          1927,
          1928,
          1929,
          1930,
          1931,
          1932,
          1933,
          1934,
          1935,
          1936,
          1937,
          1938,
          1939,
          1940,
          1941,
          1942,
          1943,
          1944,
          1945,
          1946,
          1947,
          1948,
          1949,
          1950,
          1951,
          1952,
          1953,
          1954,
          1955,
          1956,
          1957,
          1958,
          1959,
          1960,
          1961,
          1962,
          1963,
          1964,
          1965,
          1966,
          1967,
          1968,
          1969,
          1970,
          1971,
          1972,
          1973,
          1974,
          1975,
          1976,
          1977,
          1978,
          1979,
          1980,
          1981,
          1982,
          1983,
          1984,
          1985,
          1986,
          1987,
          1988,
          1989,
          1990,
          1991,
          1992,
          1993,
          1994,
          1995,
          1996,
          1997,
          1998,
          1999,
          2000,
          2001,
          2002,
          2003,
          2004,
          2005,
          2006,
          2007,
          2008,
          2009,
          2010,
          2011,
          2012,
          2013,
          2014,
          2015,
          2016,
          2017,
          2018,
          2019,
          2020
         ],
         "xaxis": "x",
         "y": [
          0.2318151333333333,
          0.2378153521126759,
          0.2624064864864865,
          0.3443466101694912,
          0.2785935251798561,
          0.2114670907111756,
          0.2643213008130081,
          0.2079477954004757,
          0.2418007352941172,
          0.3335239189189189,
          0.2344967732919257,
          0.3020677290836656,
          0.2798994211287988,
          0.2621313148788928,
          0.2463669762845848,
          0.3083886092727274,
          0.3110482952815827,
          0.2809812398042416,
          0.2826715000000002,
          0.3108928949999999,
          0.2656431979166666,
          0.2560794708680144,
          0.2799900422535211,
          0.2534414494680852,
          0.2260444155,
          0.2221723085846866,
          0.2635512000000002,
          0.242464841052632,
          0.2461146149999996,
          0.3140711950000003,
          0.254665655,
          0.2536260100000002,
          0.2661968307692306,
          0.264347385,
          0.2950963400000001,
          0.3047611200000001,
          0.2952791333333324,
          0.3087957550000006,
          0.3109944051282049,
          0.3411423783783781,
          0.3395318673684203,
          0.3710257,
          0.3653538849999999,
          0.394438825641026,
          0.4490272461538461,
          0.482208465,
          0.4468238319159585,
          0.4569696500000004,
          0.4876251299999994,
          0.495633050000001,
          0.4963612550000003,
          0.5045261799999999,
          0.5361382499999989,
          0.5147236550000011,
          0.5232085050000003,
          0.5538432500000001,
          0.560287959000001,
          0.5614288650000007,
          0.5910127149999996,
          0.5977773948717964,
          0.5993827249999998,
          0.5909193894999996,
          0.6014252350000012,
          0.5910916750000013,
          0.6015154800000013,
          0.6149545999999998,
          0.5798395538461533,
          0.5856792461538458,
          0.584046375000001,
          0.5715913950000007,
          0.5594023641025635,
          0.5828642050000001,
          0.5625599100000002,
          0.578772685000001,
          0.5785795100000009,
          0.5860684750000011,
          0.5986987151000001,
          0.6051975050000015,
          0.6375226022552535,
          0.6254128323108387,
          0.6269855221945144,
          0.6412697960000012,
          0.6601652610030712,
          0.6488679450661226,
          0.653208511282051,
          0.6503262820512825,
          0.6683047743589737,
          0.6714608207672623,
          0.6707487551020408,
          0.6817778026289684,
          0.6483008934060499,
          0.6565714601542408,
          0.6455968914473688,
          0.6487954437905223,
          0.6270642715298895,
          0.5928552316082347,
          0.5904210208835337,
          0.6024346220161672,
          0.5932240360184717,
          0.6312316354679793
         ],
         "yaxis": "y"
        },
        {
         "hovertemplate": "variable=instrumentalness<br>year=%{x}<br>value=%{y}<extra></extra>",
         "legendgroup": "instrumentalness",
         "line": {
          "color": "#ab63fa",
          "dash": "solid"
         },
         "marker": {
          "symbol": "circle"
         },
         "mode": "lines",
         "name": "instrumentalness",
         "orientation": "v",
         "showlegend": true,
         "type": "scatter",
         "x": [
          1921,
          1922,
          1923,
          1924,
          1925,
          1926,
          1927,
          1928,
          1929,
          1930,
          1931,
          1932,
          1933,
          1934,
          1935,
          1936,
          1937,
          1938,
          1939,
          1940,
          1941,
          1942,
          1943,
          1944,
          1945,
          1946,
          1947,
          1948,
          1949,
          1950,
          1951,
          1952,
          1953,
          1954,
          1955,
          1956,
          1957,
          1958,
          1959,
          1960,
          1961,
          1962,
          1963,
          1964,
          1965,
          1966,
          1967,
          1968,
          1969,
          1970,
          1971,
          1972,
          1973,
          1974,
          1975,
          1976,
          1977,
          1978,
          1979,
          1980,
          1981,
          1982,
          1983,
          1984,
          1985,
          1986,
          1987,
          1988,
          1989,
          1990,
          1991,
          1992,
          1993,
          1994,
          1995,
          1996,
          1997,
          1998,
          1999,
          2000,
          2001,
          2002,
          2003,
          2004,
          2005,
          2006,
          2007,
          2008,
          2009,
          2010,
          2011,
          2012,
          2013,
          2014,
          2015,
          2016,
          2017,
          2018,
          2019,
          2020
         ],
         "xaxis": "x",
         "y": [
          0.3448780588666665,
          0.4341948697183099,
          0.371732725027027,
          0.5817009136440677,
          0.4182973612230215,
          0.3330931111175616,
          0.3913284986504065,
          0.4948354801348136,
          0.2152040310609246,
          0.3522059281652805,
          0.2214196416149072,
          0.2263565791633467,
          0.1839489396816208,
          0.276382266643599,
          0.2258732980895915,
          0.2571099957181816,
          0.3270876216438359,
          0.3784246349265906,
          0.2776824694100001,
          0.3168486998649998,
          0.4449516393124999,
          0.392882047871581,
          0.4098969234647892,
          0.4492919654122334,
          0.2758942570149996,
          0.4861264096461711,
          0.3475934179090908,
          0.3554848223842104,
          0.2977615361899994,
          0.245000820015,
          0.3084378555850002,
          0.2884126469300002,
          0.3183223943230766,
          0.2974400082799999,
          0.2166044216900002,
          0.2387634177800001,
          0.1945206161692309,
          0.1812411100599998,
          0.1881481940615383,
          0.1765021594216216,
          0.2646232531421054,
          0.1714715509421054,
          0.18543231468,
          0.1595978017794872,
          0.1183659460923078,
          0.1151259555649999,
          0.1189468546723362,
          0.112776949285,
          0.1594527081650001,
          0.1275670030849998,
          0.12501788923,
          0.1148803337599997,
          0.0996802232299999,
          0.11636098351,
          0.1113220337449999,
          0.12162904398,
          0.1277210319449999,
          0.1003812145099999,
          0.1157513720150001,
          0.1287510612717948,
          0.1468379466199998,
          0.100016383,
          0.1454105232900004,
          0.1451730397350004,
          0.1137385580749998,
          0.1099408543649999,
          0.1019745174666666,
          0.117190380220513,
          0.1131825446149999,
          0.1258262680949997,
          0.1150923397999999,
          0.1006900830649998,
          0.11529396538,
          0.1118857599499999,
          0.1232687960699999,
          0.0950528120350001,
          0.1046901786199999,
          0.1113257503499999,
          0.0940681410661199,
          0.1011677687934559,
          0.1072140189925186,
          0.0880483503149999,
          0.0830492746673491,
          0.0779340349084435,
          0.0901943611846154,
          0.0777014718769231,
          0.0729572680512819,
          0.0636620903171356,
          0.0758720736836735,
          0.0829805682192461,
          0.103772332166584,
          0.0852055206786631,
          0.0983650539170038,
          0.0765695548379051,
          0.1067868780547114,
          0.0939843871174179,
          0.0970906090662649,
          0.0542171216690441,
          0.0776402469728064,
          0.0163755243054187
         ],
         "yaxis": "y"
        },
        {
         "hovertemplate": "variable=liveness<br>year=%{x}<br>value=%{y}<extra></extra>",
         "legendgroup": "liveness",
         "line": {
          "color": "#FFA15A",
          "dash": "solid"
         },
         "marker": {
          "symbol": "circle"
         },
         "mode": "lines",
         "name": "liveness",
         "orientation": "v",
         "showlegend": true,
         "type": "scatter",
         "x": [
          1921,
          1922,
          1923,
          1924,
          1925,
          1926,
          1927,
          1928,
          1929,
          1930,
          1931,
          1932,
          1933,
          1934,
          1935,
          1936,
          1937,
          1938,
          1939,
          1940,
          1941,
          1942,
          1943,
          1944,
          1945,
          1946,
          1947,
          1948,
          1949,
          1950,
          1951,
          1952,
          1953,
          1954,
          1955,
          1956,
          1957,
          1958,
          1959,
          1960,
          1961,
          1962,
          1963,
          1964,
          1965,
          1966,
          1967,
          1968,
          1969,
          1970,
          1971,
          1972,
          1973,
          1974,
          1975,
          1976,
          1977,
          1978,
          1979,
          1980,
          1981,
          1982,
          1983,
          1984,
          1985,
          1986,
          1987,
          1988,
          1989,
          1990,
          1991,
          1992,
          1993,
          1994,
          1995,
          1996,
          1997,
          1998,
          1999,
          2000,
          2001,
          2002,
          2003,
          2004,
          2005,
          2006,
          2007,
          2008,
          2009,
          2010,
          2011,
          2012,
          2013,
          2014,
          2015,
          2016,
          2017,
          2018,
          2019,
          2020
         ],
         "xaxis": "x",
         "y": [
          0.20571,
          0.2407197183098592,
          0.2274621621621621,
          0.2352190677966101,
          0.2376679856115108,
          0.2323695936139332,
          0.1684502439024389,
          0.1752893735130848,
          0.2360002100840333,
          0.2213108627858629,
          0.2274279503105589,
          0.2324962151394422,
          0.2090719247467437,
          0.2134525951557092,
          0.2292998682476943,
          0.2214382727272726,
          0.2259677321156773,
          0.237111092985318,
          0.2391015999999999,
          0.2643351000000004,
          0.2018398958333331,
          0.2128784185493456,
          0.2392107042253524,
          0.2387719414893616,
          0.2030099500000001,
          0.2108183294663576,
          0.2238293939393936,
          0.2196935789473678,
          0.2088585500000004,
          0.2169584000000004,
          0.2177773999999999,
          0.2329722999999998,
          0.221734051282051,
          0.2178411499999996,
          0.2214353500000001,
          0.1822571500000002,
          0.1827485641025636,
          0.2058408500000003,
          0.1918429230769232,
          0.2078637297297298,
          0.2089125789473681,
          0.2018957368421054,
          0.2037453000000002,
          0.2172323589743596,
          0.2138391282051284,
          0.2180930999999999,
          0.190917658829415,
          0.2173509500000005,
          0.2069658999999999,
          0.2122688000000002,
          0.2149145500000001,
          0.2069549500000001,
          0.2013747499999997,
          0.2093463499999996,
          0.2154413500000002,
          0.2490321999999999,
          0.2232140500000004,
          0.2180709499999994,
          0.2134431000000002,
          0.2037541025641026,
          0.2250998999999999,
          0.20100675,
          0.1989224500000002,
          0.1977062,
          0.1992064499999998,
          0.2118794500000001,
          0.202018102564103,
          0.207707538461538,
          0.1990802,
          0.1909609,
          0.1886289230769235,
          0.2002455000000007,
          0.1949322500000003,
          0.1921651000000001,
          0.2013737000000004,
          0.1986863000000002,
          0.1984788000000003,
          0.1937308999999996,
          0.206308047155305,
          0.1976860429447853,
          0.1870256359102248,
          0.1939111999999998,
          0.196976305015353,
          0.2021994404883014,
          0.1900816256410258,
          0.1882892820512821,
          0.1961265641025642,
          0.1984314066496162,
          0.2052522959183674,
          0.1997006448412699,
          0.2033088249876056,
          0.1897330077120824,
          0.1996308198380571,
          0.1918215960099752,
          0.1888564336372847,
          0.181169894268225,
          0.1917126004016064,
          0.1763255349500711,
          0.1726164186762446,
          0.1785354187192117
         ],
         "yaxis": "y"
        },
        {
         "hovertemplate": "variable=valence<br>year=%{x}<br>value=%{y}<extra></extra>",
         "legendgroup": "valence",
         "line": {
          "color": "#19d3f3",
          "dash": "solid"
         },
         "marker": {
          "symbol": "circle"
         },
         "mode": "lines",
         "name": "valence",
         "orientation": "v",
         "showlegend": true,
         "type": "scatter",
         "x": [
          1921,
          1922,
          1923,
          1924,
          1925,
          1926,
          1927,
          1928,
          1929,
          1930,
          1931,
          1932,
          1933,
          1934,
          1935,
          1936,
          1937,
          1938,
          1939,
          1940,
          1941,
          1942,
          1943,
          1944,
          1945,
          1946,
          1947,
          1948,
          1949,
          1950,
          1951,
          1952,
          1953,
          1954,
          1955,
          1956,
          1957,
          1958,
          1959,
          1960,
          1961,
          1962,
          1963,
          1964,
          1965,
          1966,
          1967,
          1968,
          1969,
          1970,
          1971,
          1972,
          1973,
          1974,
          1975,
          1976,
          1977,
          1978,
          1979,
          1980,
          1981,
          1982,
          1983,
          1984,
          1985,
          1986,
          1987,
          1988,
          1989,
          1990,
          1991,
          1992,
          1993,
          1994,
          1995,
          1996,
          1997,
          1998,
          1999,
          2000,
          2001,
          2002,
          2003,
          2004,
          2005,
          2006,
          2007,
          2008,
          2009,
          2010,
          2011,
          2012,
          2013,
          2014,
          2015,
          2016,
          2017,
          2018,
          2019,
          2020
         ],
         "xaxis": "x",
         "y": [
          0.3793266666666666,
          0.5355492957746479,
          0.6254924324324328,
          0.6637254237288139,
          0.6219287769784171,
          0.4369104571843251,
          0.6597004878048782,
          0.4957126883425853,
          0.6365298319327733,
          0.6162376299376306,
          0.5131170807453418,
          0.5881599601593626,
          0.5994099855282197,
          0.5588046712802772,
          0.5455777997364957,
          0.5640635454545455,
          0.5857894977168944,
          0.5149111092985317,
          0.5599248999999992,
          0.6167094700000009,
          0.4794560416666661,
          0.4774088585017848,
          0.4954545070422531,
          0.5406954787234041,
          0.4913613500000002,
          0.3982538283062647,
          0.5082125454545455,
          0.4621423684210526,
          0.4304195000000001,
          0.5516497000000001,
          0.44134755,
          0.4431349620499994,
          0.4291420512820513,
          0.4523410500000002,
          0.4724154999999997,
          0.5084230500000003,
          0.5110101538461542,
          0.4976614999999994,
          0.4784156410256422,
          0.5239316756756759,
          0.5128512105263155,
          0.5477920526315792,
          0.5415274500000008,
          0.55726042051282,
          0.5809506666666668,
          0.5801445499999996,
          0.5507916958479243,
          0.5659936500000002,
          0.5547452849999999,
          0.5720753999999992,
          0.5749132500000002,
          0.5956881500000009,
          0.5921162000000004,
          0.5812744000000009,
          0.5694151500000002,
          0.5807332499999998,
          0.58524655,
          0.5895352500000014,
          0.6099818000000005,
          0.5980580512820513,
          0.5829518500000006,
          0.5864384500000001,
          0.5721198999999989,
          0.5516387100000003,
          0.5655964500000001,
          0.5509485500000019,
          0.5414511794871785,
          0.5464853897435901,
          0.5483329000000007,
          0.5265268499999999,
          0.5486552307692295,
          0.5590983000000014,
          0.5555684500000001,
          0.5266491500000006,
          0.5302466999999994,
          0.5608732500000001,
          0.5485525000000002,
          0.5377209,
          0.5564528446950284,
          0.5594754601226991,
          0.541479107231919,
          0.5423971500000008,
          0.5305042476970324,
          0.5244885554425227,
          0.5325309230769236,
          0.5200283076923078,
          0.5167938461538473,
          0.5275418925831203,
          0.5071696617346935,
          0.5208951587301589,
          0.4724536787307882,
          0.4627090128534706,
          0.4547411943319834,
          0.4630487780548628,
          0.4320983687943254,
          0.4315320589872012,
          0.4164763112449793,
          0.4479212743699474,
          0.4588176295536167,
          0.5010478078817729
         ],
         "yaxis": "y"
        }
       ],
       "layout": {
        "legend": {
         "title": {
          "text": "variable"
         },
         "tracegroupgap": 0
        },
        "margin": {
         "t": 60
        },
        "template": {
         "data": {
          "bar": [
           {
            "error_x": {
             "color": "#2a3f5f"
            },
            "error_y": {
             "color": "#2a3f5f"
            },
            "marker": {
             "line": {
              "color": "#E5ECF6",
              "width": 0.5
             },
             "pattern": {
              "fillmode": "overlay",
              "size": 10,
              "solidity": 0.2
             }
            },
            "type": "bar"
           }
          ],
          "barpolar": [
           {
            "marker": {
             "line": {
              "color": "#E5ECF6",
              "width": 0.5
             },
             "pattern": {
              "fillmode": "overlay",
              "size": 10,
              "solidity": 0.2
             }
            },
            "type": "barpolar"
           }
          ],
          "carpet": [
           {
            "aaxis": {
             "endlinecolor": "#2a3f5f",
             "gridcolor": "white",
             "linecolor": "white",
             "minorgridcolor": "white",
             "startlinecolor": "#2a3f5f"
            },
            "baxis": {
             "endlinecolor": "#2a3f5f",
             "gridcolor": "white",
             "linecolor": "white",
             "minorgridcolor": "white",
             "startlinecolor": "#2a3f5f"
            },
            "type": "carpet"
           }
          ],
          "choropleth": [
           {
            "colorbar": {
             "outlinewidth": 0,
             "ticks": ""
            },
            "type": "choropleth"
           }
          ],
          "contour": [
           {
            "colorbar": {
             "outlinewidth": 0,
             "ticks": ""
            },
            "colorscale": [
             [
              0,
              "#0d0887"
             ],
             [
              0.1111111111111111,
              "#46039f"
             ],
             [
              0.2222222222222222,
              "#7201a8"
             ],
             [
              0.3333333333333333,
              "#9c179e"
             ],
             [
              0.4444444444444444,
              "#bd3786"
             ],
             [
              0.5555555555555556,
              "#d8576b"
             ],
             [
              0.6666666666666666,
              "#ed7953"
             ],
             [
              0.7777777777777778,
              "#fb9f3a"
             ],
             [
              0.8888888888888888,
              "#fdca26"
             ],
             [
              1,
              "#f0f921"
             ]
            ],
            "type": "contour"
           }
          ],
          "contourcarpet": [
           {
            "colorbar": {
             "outlinewidth": 0,
             "ticks": ""
            },
            "type": "contourcarpet"
           }
          ],
          "heatmap": [
           {
            "colorbar": {
             "outlinewidth": 0,
             "ticks": ""
            },
            "colorscale": [
             [
              0,
              "#0d0887"
             ],
             [
              0.1111111111111111,
              "#46039f"
             ],
             [
              0.2222222222222222,
              "#7201a8"
             ],
             [
              0.3333333333333333,
              "#9c179e"
             ],
             [
              0.4444444444444444,
              "#bd3786"
             ],
             [
              0.5555555555555556,
              "#d8576b"
             ],
             [
              0.6666666666666666,
              "#ed7953"
             ],
             [
              0.7777777777777778,
              "#fb9f3a"
             ],
             [
              0.8888888888888888,
              "#fdca26"
             ],
             [
              1,
              "#f0f921"
             ]
            ],
            "type": "heatmap"
           }
          ],
          "heatmapgl": [
           {
            "colorbar": {
             "outlinewidth": 0,
             "ticks": ""
            },
            "colorscale": [
             [
              0,
              "#0d0887"
             ],
             [
              0.1111111111111111,
              "#46039f"
             ],
             [
              0.2222222222222222,
              "#7201a8"
             ],
             [
              0.3333333333333333,
              "#9c179e"
             ],
             [
              0.4444444444444444,
              "#bd3786"
             ],
             [
              0.5555555555555556,
              "#d8576b"
             ],
             [
              0.6666666666666666,
              "#ed7953"
             ],
             [
              0.7777777777777778,
              "#fb9f3a"
             ],
             [
              0.8888888888888888,
              "#fdca26"
             ],
             [
              1,
              "#f0f921"
             ]
            ],
            "type": "heatmapgl"
           }
          ],
          "histogram": [
           {
            "marker": {
             "pattern": {
              "fillmode": "overlay",
              "size": 10,
              "solidity": 0.2
             }
            },
            "type": "histogram"
           }
          ],
          "histogram2d": [
           {
            "colorbar": {
             "outlinewidth": 0,
             "ticks": ""
            },
            "colorscale": [
             [
              0,
              "#0d0887"
             ],
             [
              0.1111111111111111,
              "#46039f"
             ],
             [
              0.2222222222222222,
              "#7201a8"
             ],
             [
              0.3333333333333333,
              "#9c179e"
             ],
             [
              0.4444444444444444,
              "#bd3786"
             ],
             [
              0.5555555555555556,
              "#d8576b"
             ],
             [
              0.6666666666666666,
              "#ed7953"
             ],
             [
              0.7777777777777778,
              "#fb9f3a"
             ],
             [
              0.8888888888888888,
              "#fdca26"
             ],
             [
              1,
              "#f0f921"
             ]
            ],
            "type": "histogram2d"
           }
          ],
          "histogram2dcontour": [
           {
            "colorbar": {
             "outlinewidth": 0,
             "ticks": ""
            },
            "colorscale": [
             [
              0,
              "#0d0887"
             ],
             [
              0.1111111111111111,
              "#46039f"
             ],
             [
              0.2222222222222222,
              "#7201a8"
             ],
             [
              0.3333333333333333,
              "#9c179e"
             ],
             [
              0.4444444444444444,
              "#bd3786"
             ],
             [
              0.5555555555555556,
              "#d8576b"
             ],
             [
              0.6666666666666666,
              "#ed7953"
             ],
             [
              0.7777777777777778,
              "#fb9f3a"
             ],
             [
              0.8888888888888888,
              "#fdca26"
             ],
             [
              1,
              "#f0f921"
             ]
            ],
            "type": "histogram2dcontour"
           }
          ],
          "mesh3d": [
           {
            "colorbar": {
             "outlinewidth": 0,
             "ticks": ""
            },
            "type": "mesh3d"
           }
          ],
          "parcoords": [
           {
            "line": {
             "colorbar": {
              "outlinewidth": 0,
              "ticks": ""
             }
            },
            "type": "parcoords"
           }
          ],
          "pie": [
           {
            "automargin": true,
            "type": "pie"
           }
          ],
          "scatter": [
           {
            "fillpattern": {
             "fillmode": "overlay",
             "size": 10,
             "solidity": 0.2
            },
            "type": "scatter"
           }
          ],
          "scatter3d": [
           {
            "line": {
             "colorbar": {
              "outlinewidth": 0,
              "ticks": ""
             }
            },
            "marker": {
             "colorbar": {
              "outlinewidth": 0,
              "ticks": ""
             }
            },
            "type": "scatter3d"
           }
          ],
          "scattercarpet": [
           {
            "marker": {
             "colorbar": {
              "outlinewidth": 0,
              "ticks": ""
             }
            },
            "type": "scattercarpet"
           }
          ],
          "scattergeo": [
           {
            "marker": {
             "colorbar": {
              "outlinewidth": 0,
              "ticks": ""
             }
            },
            "type": "scattergeo"
           }
          ],
          "scattergl": [
           {
            "marker": {
             "colorbar": {
              "outlinewidth": 0,
              "ticks": ""
             }
            },
            "type": "scattergl"
           }
          ],
          "scattermapbox": [
           {
            "marker": {
             "colorbar": {
              "outlinewidth": 0,
              "ticks": ""
             }
            },
            "type": "scattermapbox"
           }
          ],
          "scatterpolar": [
           {
            "marker": {
             "colorbar": {
              "outlinewidth": 0,
              "ticks": ""
             }
            },
            "type": "scatterpolar"
           }
          ],
          "scatterpolargl": [
           {
            "marker": {
             "colorbar": {
              "outlinewidth": 0,
              "ticks": ""
             }
            },
            "type": "scatterpolargl"
           }
          ],
          "scatterternary": [
           {
            "marker": {
             "colorbar": {
              "outlinewidth": 0,
              "ticks": ""
             }
            },
            "type": "scatterternary"
           }
          ],
          "surface": [
           {
            "colorbar": {
             "outlinewidth": 0,
             "ticks": ""
            },
            "colorscale": [
             [
              0,
              "#0d0887"
             ],
             [
              0.1111111111111111,
              "#46039f"
             ],
             [
              0.2222222222222222,
              "#7201a8"
             ],
             [
              0.3333333333333333,
              "#9c179e"
             ],
             [
              0.4444444444444444,
              "#bd3786"
             ],
             [
              0.5555555555555556,
              "#d8576b"
             ],
             [
              0.6666666666666666,
              "#ed7953"
             ],
             [
              0.7777777777777778,
              "#fb9f3a"
             ],
             [
              0.8888888888888888,
              "#fdca26"
             ],
             [
              1,
              "#f0f921"
             ]
            ],
            "type": "surface"
           }
          ],
          "table": [
           {
            "cells": {
             "fill": {
              "color": "#EBF0F8"
             },
             "line": {
              "color": "white"
             }
            },
            "header": {
             "fill": {
              "color": "#C8D4E3"
             },
             "line": {
              "color": "white"
             }
            },
            "type": "table"
           }
          ]
         },
         "layout": {
          "annotationdefaults": {
           "arrowcolor": "#2a3f5f",
           "arrowhead": 0,
           "arrowwidth": 1
          },
          "autotypenumbers": "strict",
          "coloraxis": {
           "colorbar": {
            "outlinewidth": 0,
            "ticks": ""
           }
          },
          "colorscale": {
           "diverging": [
            [
             0,
             "#8e0152"
            ],
            [
             0.1,
             "#c51b7d"
            ],
            [
             0.2,
             "#de77ae"
            ],
            [
             0.3,
             "#f1b6da"
            ],
            [
             0.4,
             "#fde0ef"
            ],
            [
             0.5,
             "#f7f7f7"
            ],
            [
             0.6,
             "#e6f5d0"
            ],
            [
             0.7,
             "#b8e186"
            ],
            [
             0.8,
             "#7fbc41"
            ],
            [
             0.9,
             "#4d9221"
            ],
            [
             1,
             "#276419"
            ]
           ],
           "sequential": [
            [
             0,
             "#0d0887"
            ],
            [
             0.1111111111111111,
             "#46039f"
            ],
            [
             0.2222222222222222,
             "#7201a8"
            ],
            [
             0.3333333333333333,
             "#9c179e"
            ],
            [
             0.4444444444444444,
             "#bd3786"
            ],
            [
             0.5555555555555556,
             "#d8576b"
            ],
            [
             0.6666666666666666,
             "#ed7953"
            ],
            [
             0.7777777777777778,
             "#fb9f3a"
            ],
            [
             0.8888888888888888,
             "#fdca26"
            ],
            [
             1,
             "#f0f921"
            ]
           ],
           "sequentialminus": [
            [
             0,
             "#0d0887"
            ],
            [
             0.1111111111111111,
             "#46039f"
            ],
            [
             0.2222222222222222,
             "#7201a8"
            ],
            [
             0.3333333333333333,
             "#9c179e"
            ],
            [
             0.4444444444444444,
             "#bd3786"
            ],
            [
             0.5555555555555556,
             "#d8576b"
            ],
            [
             0.6666666666666666,
             "#ed7953"
            ],
            [
             0.7777777777777778,
             "#fb9f3a"
            ],
            [
             0.8888888888888888,
             "#fdca26"
            ],
            [
             1,
             "#f0f921"
            ]
           ]
          },
          "colorway": [
           "#636efa",
           "#EF553B",
           "#00cc96",
           "#ab63fa",
           "#FFA15A",
           "#19d3f3",
           "#FF6692",
           "#B6E880",
           "#FF97FF",
           "#FECB52"
          ],
          "font": {
           "color": "#2a3f5f"
          },
          "geo": {
           "bgcolor": "white",
           "lakecolor": "white",
           "landcolor": "#E5ECF6",
           "showlakes": true,
           "showland": true,
           "subunitcolor": "white"
          },
          "hoverlabel": {
           "align": "left"
          },
          "hovermode": "closest",
          "mapbox": {
           "style": "light"
          },
          "paper_bgcolor": "white",
          "plot_bgcolor": "#E5ECF6",
          "polar": {
           "angularaxis": {
            "gridcolor": "white",
            "linecolor": "white",
            "ticks": ""
           },
           "bgcolor": "#E5ECF6",
           "radialaxis": {
            "gridcolor": "white",
            "linecolor": "white",
            "ticks": ""
           }
          },
          "scene": {
           "xaxis": {
            "backgroundcolor": "#E5ECF6",
            "gridcolor": "white",
            "gridwidth": 2,
            "linecolor": "white",
            "showbackground": true,
            "ticks": "",
            "zerolinecolor": "white"
           },
           "yaxis": {
            "backgroundcolor": "#E5ECF6",
            "gridcolor": "white",
            "gridwidth": 2,
            "linecolor": "white",
            "showbackground": true,
            "ticks": "",
            "zerolinecolor": "white"
           },
           "zaxis": {
            "backgroundcolor": "#E5ECF6",
            "gridcolor": "white",
            "gridwidth": 2,
            "linecolor": "white",
            "showbackground": true,
            "ticks": "",
            "zerolinecolor": "white"
           }
          },
          "shapedefaults": {
           "line": {
            "color": "#2a3f5f"
           }
          },
          "ternary": {
           "aaxis": {
            "gridcolor": "white",
            "linecolor": "white",
            "ticks": ""
           },
           "baxis": {
            "gridcolor": "white",
            "linecolor": "white",
            "ticks": ""
           },
           "bgcolor": "#E5ECF6",
           "caxis": {
            "gridcolor": "white",
            "linecolor": "white",
            "ticks": ""
           }
          },
          "title": {
           "x": 0.05
          },
          "xaxis": {
           "automargin": true,
           "gridcolor": "white",
           "linecolor": "white",
           "ticks": "",
           "title": {
            "standoff": 15
           },
           "zerolinecolor": "white",
           "zerolinewidth": 2
          },
          "yaxis": {
           "automargin": true,
           "gridcolor": "white",
           "linecolor": "white",
           "ticks": "",
           "title": {
            "standoff": 15
           },
           "zerolinecolor": "white",
           "zerolinewidth": 2
          }
         }
        },
        "xaxis": {
         "anchor": "y",
         "domain": [
          0,
          1
         ],
         "title": {
          "text": "year"
         }
        },
        "yaxis": {
         "anchor": "x",
         "domain": [
          0,
          1
         ],
         "title": {
          "text": "value"
         }
        }
       }
      },
      "text/html": [
       "<div>                            <div id=\"ab1f9305-b188-4794-bffb-942b4a307a95\" class=\"plotly-graph-div\" style=\"height:525px; width:100%;\"></div>            <script type=\"text/javascript\">                require([\"plotly\"], function(Plotly) {                    window.PLOTLYENV=window.PLOTLYENV || {};                                    if (document.getElementById(\"ab1f9305-b188-4794-bffb-942b4a307a95\")) {                    Plotly.newPlot(                        \"ab1f9305-b188-4794-bffb-942b4a307a95\",                        [{\"hovertemplate\":\"variable=acousticness\\u003cbr\\u003eyear=%{x}\\u003cbr\\u003evalue=%{y}\\u003cextra\\u003e\\u003c\\u002fextra\\u003e\",\"legendgroup\":\"acousticness\",\"line\":{\"color\":\"#636efa\",\"dash\":\"solid\"},\"marker\":{\"symbol\":\"circle\"},\"mode\":\"lines\",\"name\":\"acousticness\",\"orientation\":\"v\",\"showlegend\":true,\"x\":[1921,1922,1923,1924,1925,1926,1927,1928,1929,1930,1931,1932,1933,1934,1935,1936,1937,1938,1939,1940,1941,1942,1943,1944,1945,1946,1947,1948,1949,1950,1951,1952,1953,1954,1955,1956,1957,1958,1959,1960,1961,1962,1963,1964,1965,1966,1967,1968,1969,1970,1971,1972,1973,1974,1975,1976,1977,1978,1979,1980,1981,1982,1983,1984,1985,1986,1987,1988,1989,1990,1991,1992,1993,1994,1995,1996,1997,1998,1999,2000,2001,2002,2003,2004,2005,2006,2007,2008,2009,2010,2011,2012,2013,2014,2015,2016,2017,2018,2019,2020],\"xaxis\":\"x\",\"y\":[0.8868960000000005,0.9385915492957748,0.9572467913513516,0.940199860169493,0.9626070503597138,0.660817216981134,0.9361794552845558,0.9386165035685952,0.6014265861344558,0.936714937370057,0.8330399585921336,0.9357705179282878,0.899897909117222,0.8911487501730107,0.7783855599472987,0.7723120800000008,0.8654357853881286,0.9192803908646014,0.9087381000000004,0.8476440499999951,0.8957376562500025,0.8529343703923857,0.9027523185915528,0.9076531914893636,0.7096568630000005,0.9199445823665852,0.9139650224242392,0.9221549999999956,0.9075328949999956,0.8539413005999965,0.9022971956499974,0.8743009244999965,0.8909223502564074,0.8650197272999992,0.8405510069999986,0.8230569899999975,0.7928023589743608,0.7796118650000005,0.7793927897435907,0.7671814843243259,0.7519038684210535,0.720607806842106,0.7227048300000004,0.6941005307692291,0.6099113295384619,0.5248094599699997,0.5296103243521767,0.4937702403500001,0.4488463039999994,0.4600571139500007,0.4583362981000009,0.4600428051999994,0.4165241889999992,0.4472074226000001,0.4337738871950005,0.3614706321099993,0.3393025333750004,0.3289685734499993,0.29593224063,0.284955397635897,0.3012042267400006,0.2895800382050001,0.2947778916300001,0.2877095803450008,0.2965709032099995,0.2850806564249999,0.3116640663948722,0.322009946512821,0.3133512518150009,0.3328699505850001,0.3327652916307699,0.3208087638250009,0.3090685537400004,0.3062343630899999,0.3025118061200004,0.3010268798000006,0.3067156934549995,0.2914894615700001,0.2715901110661201,0.2893227005163599,0.2868424748428934,0.282624289885001,0.2564705181729783,0.2805589466225845,0.2557635068666665,0.2799863520256408,0.2540809575538463,0.2491917627212275,0.261928619096939,0.2426866435515872,0.2731826625185919,0.2499530443804624,0.2574880859564779,0.249312645880299,0.2539522577102332,0.2841710299554814,0.2860990665261043,0.2676329907750836,0.2782985863365824,0.2199308880935964],\"yaxis\":\"y\",\"type\":\"scatter\"},{\"hovertemplate\":\"variable=danceability\\u003cbr\\u003eyear=%{x}\\u003cbr\\u003evalue=%{y}\\u003cextra\\u003e\\u003c\\u002fextra\\u003e\",\"legendgroup\":\"danceability\",\"line\":{\"color\":\"#EF553B\",\"dash\":\"solid\"},\"marker\":{\"symbol\":\"circle\"},\"mode\":\"lines\",\"name\":\"danceability\",\"orientation\":\"v\",\"showlegend\":true,\"x\":[1921,1922,1923,1924,1925,1926,1927,1928,1929,1930,1931,1932,1933,1934,1935,1936,1937,1938,1939,1940,1941,1942,1943,1944,1945,1946,1947,1948,1949,1950,1951,1952,1953,1954,1955,1956,1957,1958,1959,1960,1961,1962,1963,1964,1965,1966,1967,1968,1969,1970,1971,1972,1973,1974,1975,1976,1977,1978,1979,1980,1981,1982,1983,1984,1985,1986,1987,1988,1989,1990,1991,1992,1993,1994,1995,1996,1997,1998,1999,2000,2001,2002,2003,2004,2005,2006,2007,2008,2009,2010,2011,2012,2013,2014,2015,2016,2017,2018,2019,2020],\"xaxis\":\"x\",\"y\":[0.4185973333333336,0.4820422535211267,0.5773405405405401,0.5498940677966102,0.5738633093525181,0.5998802612481859,0.6482682926829262,0.5342878667724027,0.6476698529411761,0.5181758835758836,0.5952217391304357,0.5577976095617526,0.57029030390738,0.528705882352941,0.5558691699604746,0.5580055454545453,0.5421572298325723,0.479977977161501,0.5126828,0.52189235,0.4804813541666676,0.4646338882282997,0.4551456338028168,0.5001744680851068,0.5191431500000011,0.4144450116009276,0.4713208484848491,0.4633694736842109,0.4421993999999996,0.5042531000000008,0.4624800999999999,0.4570322000000001,0.4374260512820513,0.4656388999999994,0.4881312,0.4878145000000007,0.5034812307692305,0.4800213999999995,0.4821143076923083,0.4860292432432435,0.4891655789473678,0.4931643684210523,0.48162135,0.5041769743589742,0.5034505641025638,0.5070204999999981,0.4926885942971483,0.5010080999999997,0.4880977999999999,0.5063075000000004,0.5042738499999999,0.5209994499999997,0.5154494500000005,0.51533975,0.5209980000000007,0.5297624999999999,0.5333237000000017,0.5407746000000005,0.5620453000000001,0.5561523589743594,0.5421846999999999,0.5642594000000005,0.5456292999999998,0.5303089499999987,0.5556424000000012,0.5409334000000001,0.5410193333333342,0.5404594358974372,0.5472274499999988,0.5352986500000001,0.5558243589743591,0.5550648499999989,0.5698781500000001,0.5528299500000016,0.5590457500000001,0.5878306000000001,0.5768138499999994,0.5862116499999998,0.5821579190158892,0.590918047034764,0.5833178553615969,0.5761602999999997,0.5757633060388944,0.5676803662258397,0.5722805641025652,0.5682301538461539,0.5634143589743592,0.5791928388746803,0.5641903571428577,0.5724883432539687,0.5528669806643526,0.5708818508997433,0.5711480263157896,0.5899476807980057,0.5937740628166152,0.6002023928770179,0.6122170180722886,0.6635004755111744,0.6448141097998967,0.6929043349753701],\"yaxis\":\"y\",\"type\":\"scatter\"},{\"hovertemplate\":\"variable=energy\\u003cbr\\u003eyear=%{x}\\u003cbr\\u003evalue=%{y}\\u003cextra\\u003e\\u003c\\u002fextra\\u003e\",\"legendgroup\":\"energy\",\"line\":{\"color\":\"#00cc96\",\"dash\":\"solid\"},\"marker\":{\"symbol\":\"circle\"},\"mode\":\"lines\",\"name\":\"energy\",\"orientation\":\"v\",\"showlegend\":true,\"x\":[1921,1922,1923,1924,1925,1926,1927,1928,1929,1930,1931,1932,1933,1934,1935,1936,1937,1938,1939,1940,1941,1942,1943,1944,1945,1946,1947,1948,1949,1950,1951,1952,1953,1954,1955,1956,1957,1958,1959,1960,1961,1962,1963,1964,1965,1966,1967,1968,1969,1970,1971,1972,1973,1974,1975,1976,1977,1978,1979,1980,1981,1982,1983,1984,1985,1986,1987,1988,1989,1990,1991,1992,1993,1994,1995,1996,1997,1998,1999,2000,2001,2002,2003,2004,2005,2006,2007,2008,2009,2010,2011,2012,2013,2014,2015,2016,2017,2018,2019,2020],\"xaxis\":\"x\",\"y\":[0.2318151333333333,0.2378153521126759,0.2624064864864865,0.3443466101694912,0.2785935251798561,0.2114670907111756,0.2643213008130081,0.2079477954004757,0.2418007352941172,0.3335239189189189,0.2344967732919257,0.3020677290836656,0.2798994211287988,0.2621313148788928,0.2463669762845848,0.3083886092727274,0.3110482952815827,0.2809812398042416,0.2826715000000002,0.3108928949999999,0.2656431979166666,0.2560794708680144,0.2799900422535211,0.2534414494680852,0.2260444155,0.2221723085846866,0.2635512000000002,0.242464841052632,0.2461146149999996,0.3140711950000003,0.254665655,0.2536260100000002,0.2661968307692306,0.264347385,0.2950963400000001,0.3047611200000001,0.2952791333333324,0.3087957550000006,0.3109944051282049,0.3411423783783781,0.3395318673684203,0.3710257,0.3653538849999999,0.394438825641026,0.4490272461538461,0.482208465,0.4468238319159585,0.4569696500000004,0.4876251299999994,0.495633050000001,0.4963612550000003,0.5045261799999999,0.5361382499999989,0.5147236550000011,0.5232085050000003,0.5538432500000001,0.560287959000001,0.5614288650000007,0.5910127149999996,0.5977773948717964,0.5993827249999998,0.5909193894999996,0.6014252350000012,0.5910916750000013,0.6015154800000013,0.6149545999999998,0.5798395538461533,0.5856792461538458,0.584046375000001,0.5715913950000007,0.5594023641025635,0.5828642050000001,0.5625599100000002,0.578772685000001,0.5785795100000009,0.5860684750000011,0.5986987151000001,0.6051975050000015,0.6375226022552535,0.6254128323108387,0.6269855221945144,0.6412697960000012,0.6601652610030712,0.6488679450661226,0.653208511282051,0.6503262820512825,0.6683047743589737,0.6714608207672623,0.6707487551020408,0.6817778026289684,0.6483008934060499,0.6565714601542408,0.6455968914473688,0.6487954437905223,0.6270642715298895,0.5928552316082347,0.5904210208835337,0.6024346220161672,0.5932240360184717,0.6312316354679793],\"yaxis\":\"y\",\"type\":\"scatter\"},{\"hovertemplate\":\"variable=instrumentalness\\u003cbr\\u003eyear=%{x}\\u003cbr\\u003evalue=%{y}\\u003cextra\\u003e\\u003c\\u002fextra\\u003e\",\"legendgroup\":\"instrumentalness\",\"line\":{\"color\":\"#ab63fa\",\"dash\":\"solid\"},\"marker\":{\"symbol\":\"circle\"},\"mode\":\"lines\",\"name\":\"instrumentalness\",\"orientation\":\"v\",\"showlegend\":true,\"x\":[1921,1922,1923,1924,1925,1926,1927,1928,1929,1930,1931,1932,1933,1934,1935,1936,1937,1938,1939,1940,1941,1942,1943,1944,1945,1946,1947,1948,1949,1950,1951,1952,1953,1954,1955,1956,1957,1958,1959,1960,1961,1962,1963,1964,1965,1966,1967,1968,1969,1970,1971,1972,1973,1974,1975,1976,1977,1978,1979,1980,1981,1982,1983,1984,1985,1986,1987,1988,1989,1990,1991,1992,1993,1994,1995,1996,1997,1998,1999,2000,2001,2002,2003,2004,2005,2006,2007,2008,2009,2010,2011,2012,2013,2014,2015,2016,2017,2018,2019,2020],\"xaxis\":\"x\",\"y\":[0.3448780588666665,0.4341948697183099,0.371732725027027,0.5817009136440677,0.4182973612230215,0.3330931111175616,0.3913284986504065,0.4948354801348136,0.2152040310609246,0.3522059281652805,0.2214196416149072,0.2263565791633467,0.1839489396816208,0.276382266643599,0.2258732980895915,0.2571099957181816,0.3270876216438359,0.3784246349265906,0.2776824694100001,0.3168486998649998,0.4449516393124999,0.392882047871581,0.4098969234647892,0.4492919654122334,0.2758942570149996,0.4861264096461711,0.3475934179090908,0.3554848223842104,0.2977615361899994,0.245000820015,0.3084378555850002,0.2884126469300002,0.3183223943230766,0.2974400082799999,0.2166044216900002,0.2387634177800001,0.1945206161692309,0.1812411100599998,0.1881481940615383,0.1765021594216216,0.2646232531421054,0.1714715509421054,0.18543231468,0.1595978017794872,0.1183659460923078,0.1151259555649999,0.1189468546723362,0.112776949285,0.1594527081650001,0.1275670030849998,0.12501788923,0.1148803337599997,0.0996802232299999,0.11636098351,0.1113220337449999,0.12162904398,0.1277210319449999,0.1003812145099999,0.1157513720150001,0.1287510612717948,0.1468379466199998,0.100016383,0.1454105232900004,0.1451730397350004,0.1137385580749998,0.1099408543649999,0.1019745174666666,0.117190380220513,0.1131825446149999,0.1258262680949997,0.1150923397999999,0.1006900830649998,0.11529396538,0.1118857599499999,0.1232687960699999,0.0950528120350001,0.1046901786199999,0.1113257503499999,0.0940681410661199,0.1011677687934559,0.1072140189925186,0.0880483503149999,0.0830492746673491,0.0779340349084435,0.0901943611846154,0.0777014718769231,0.0729572680512819,0.0636620903171356,0.0758720736836735,0.0829805682192461,0.103772332166584,0.0852055206786631,0.0983650539170038,0.0765695548379051,0.1067868780547114,0.0939843871174179,0.0970906090662649,0.0542171216690441,0.0776402469728064,0.0163755243054187],\"yaxis\":\"y\",\"type\":\"scatter\"},{\"hovertemplate\":\"variable=liveness\\u003cbr\\u003eyear=%{x}\\u003cbr\\u003evalue=%{y}\\u003cextra\\u003e\\u003c\\u002fextra\\u003e\",\"legendgroup\":\"liveness\",\"line\":{\"color\":\"#FFA15A\",\"dash\":\"solid\"},\"marker\":{\"symbol\":\"circle\"},\"mode\":\"lines\",\"name\":\"liveness\",\"orientation\":\"v\",\"showlegend\":true,\"x\":[1921,1922,1923,1924,1925,1926,1927,1928,1929,1930,1931,1932,1933,1934,1935,1936,1937,1938,1939,1940,1941,1942,1943,1944,1945,1946,1947,1948,1949,1950,1951,1952,1953,1954,1955,1956,1957,1958,1959,1960,1961,1962,1963,1964,1965,1966,1967,1968,1969,1970,1971,1972,1973,1974,1975,1976,1977,1978,1979,1980,1981,1982,1983,1984,1985,1986,1987,1988,1989,1990,1991,1992,1993,1994,1995,1996,1997,1998,1999,2000,2001,2002,2003,2004,2005,2006,2007,2008,2009,2010,2011,2012,2013,2014,2015,2016,2017,2018,2019,2020],\"xaxis\":\"x\",\"y\":[0.20571,0.2407197183098592,0.2274621621621621,0.2352190677966101,0.2376679856115108,0.2323695936139332,0.1684502439024389,0.1752893735130848,0.2360002100840333,0.2213108627858629,0.2274279503105589,0.2324962151394422,0.2090719247467437,0.2134525951557092,0.2292998682476943,0.2214382727272726,0.2259677321156773,0.237111092985318,0.2391015999999999,0.2643351000000004,0.2018398958333331,0.2128784185493456,0.2392107042253524,0.2387719414893616,0.2030099500000001,0.2108183294663576,0.2238293939393936,0.2196935789473678,0.2088585500000004,0.2169584000000004,0.2177773999999999,0.2329722999999998,0.221734051282051,0.2178411499999996,0.2214353500000001,0.1822571500000002,0.1827485641025636,0.2058408500000003,0.1918429230769232,0.2078637297297298,0.2089125789473681,0.2018957368421054,0.2037453000000002,0.2172323589743596,0.2138391282051284,0.2180930999999999,0.190917658829415,0.2173509500000005,0.2069658999999999,0.2122688000000002,0.2149145500000001,0.2069549500000001,0.2013747499999997,0.2093463499999996,0.2154413500000002,0.2490321999999999,0.2232140500000004,0.2180709499999994,0.2134431000000002,0.2037541025641026,0.2250998999999999,0.20100675,0.1989224500000002,0.1977062,0.1992064499999998,0.2118794500000001,0.202018102564103,0.207707538461538,0.1990802,0.1909609,0.1886289230769235,0.2002455000000007,0.1949322500000003,0.1921651000000001,0.2013737000000004,0.1986863000000002,0.1984788000000003,0.1937308999999996,0.206308047155305,0.1976860429447853,0.1870256359102248,0.1939111999999998,0.196976305015353,0.2021994404883014,0.1900816256410258,0.1882892820512821,0.1961265641025642,0.1984314066496162,0.2052522959183674,0.1997006448412699,0.2033088249876056,0.1897330077120824,0.1996308198380571,0.1918215960099752,0.1888564336372847,0.181169894268225,0.1917126004016064,0.1763255349500711,0.1726164186762446,0.1785354187192117],\"yaxis\":\"y\",\"type\":\"scatter\"},{\"hovertemplate\":\"variable=valence\\u003cbr\\u003eyear=%{x}\\u003cbr\\u003evalue=%{y}\\u003cextra\\u003e\\u003c\\u002fextra\\u003e\",\"legendgroup\":\"valence\",\"line\":{\"color\":\"#19d3f3\",\"dash\":\"solid\"},\"marker\":{\"symbol\":\"circle\"},\"mode\":\"lines\",\"name\":\"valence\",\"orientation\":\"v\",\"showlegend\":true,\"x\":[1921,1922,1923,1924,1925,1926,1927,1928,1929,1930,1931,1932,1933,1934,1935,1936,1937,1938,1939,1940,1941,1942,1943,1944,1945,1946,1947,1948,1949,1950,1951,1952,1953,1954,1955,1956,1957,1958,1959,1960,1961,1962,1963,1964,1965,1966,1967,1968,1969,1970,1971,1972,1973,1974,1975,1976,1977,1978,1979,1980,1981,1982,1983,1984,1985,1986,1987,1988,1989,1990,1991,1992,1993,1994,1995,1996,1997,1998,1999,2000,2001,2002,2003,2004,2005,2006,2007,2008,2009,2010,2011,2012,2013,2014,2015,2016,2017,2018,2019,2020],\"xaxis\":\"x\",\"y\":[0.3793266666666666,0.5355492957746479,0.6254924324324328,0.6637254237288139,0.6219287769784171,0.4369104571843251,0.6597004878048782,0.4957126883425853,0.6365298319327733,0.6162376299376306,0.5131170807453418,0.5881599601593626,0.5994099855282197,0.5588046712802772,0.5455777997364957,0.5640635454545455,0.5857894977168944,0.5149111092985317,0.5599248999999992,0.6167094700000009,0.4794560416666661,0.4774088585017848,0.4954545070422531,0.5406954787234041,0.4913613500000002,0.3982538283062647,0.5082125454545455,0.4621423684210526,0.4304195000000001,0.5516497000000001,0.44134755,0.4431349620499994,0.4291420512820513,0.4523410500000002,0.4724154999999997,0.5084230500000003,0.5110101538461542,0.4976614999999994,0.4784156410256422,0.5239316756756759,0.5128512105263155,0.5477920526315792,0.5415274500000008,0.55726042051282,0.5809506666666668,0.5801445499999996,0.5507916958479243,0.5659936500000002,0.5547452849999999,0.5720753999999992,0.5749132500000002,0.5956881500000009,0.5921162000000004,0.5812744000000009,0.5694151500000002,0.5807332499999998,0.58524655,0.5895352500000014,0.6099818000000005,0.5980580512820513,0.5829518500000006,0.5864384500000001,0.5721198999999989,0.5516387100000003,0.5655964500000001,0.5509485500000019,0.5414511794871785,0.5464853897435901,0.5483329000000007,0.5265268499999999,0.5486552307692295,0.5590983000000014,0.5555684500000001,0.5266491500000006,0.5302466999999994,0.5608732500000001,0.5485525000000002,0.5377209,0.5564528446950284,0.5594754601226991,0.541479107231919,0.5423971500000008,0.5305042476970324,0.5244885554425227,0.5325309230769236,0.5200283076923078,0.5167938461538473,0.5275418925831203,0.5071696617346935,0.5208951587301589,0.4724536787307882,0.4627090128534706,0.4547411943319834,0.4630487780548628,0.4320983687943254,0.4315320589872012,0.4164763112449793,0.4479212743699474,0.4588176295536167,0.5010478078817729],\"yaxis\":\"y\",\"type\":\"scatter\"}],                        {\"template\":{\"data\":{\"histogram2dcontour\":[{\"type\":\"histogram2dcontour\",\"colorbar\":{\"outlinewidth\":0,\"ticks\":\"\"},\"colorscale\":[[0.0,\"#0d0887\"],[0.1111111111111111,\"#46039f\"],[0.2222222222222222,\"#7201a8\"],[0.3333333333333333,\"#9c179e\"],[0.4444444444444444,\"#bd3786\"],[0.5555555555555556,\"#d8576b\"],[0.6666666666666666,\"#ed7953\"],[0.7777777777777778,\"#fb9f3a\"],[0.8888888888888888,\"#fdca26\"],[1.0,\"#f0f921\"]]}],\"choropleth\":[{\"type\":\"choropleth\",\"colorbar\":{\"outlinewidth\":0,\"ticks\":\"\"}}],\"histogram2d\":[{\"type\":\"histogram2d\",\"colorbar\":{\"outlinewidth\":0,\"ticks\":\"\"},\"colorscale\":[[0.0,\"#0d0887\"],[0.1111111111111111,\"#46039f\"],[0.2222222222222222,\"#7201a8\"],[0.3333333333333333,\"#9c179e\"],[0.4444444444444444,\"#bd3786\"],[0.5555555555555556,\"#d8576b\"],[0.6666666666666666,\"#ed7953\"],[0.7777777777777778,\"#fb9f3a\"],[0.8888888888888888,\"#fdca26\"],[1.0,\"#f0f921\"]]}],\"heatmap\":[{\"type\":\"heatmap\",\"colorbar\":{\"outlinewidth\":0,\"ticks\":\"\"},\"colorscale\":[[0.0,\"#0d0887\"],[0.1111111111111111,\"#46039f\"],[0.2222222222222222,\"#7201a8\"],[0.3333333333333333,\"#9c179e\"],[0.4444444444444444,\"#bd3786\"],[0.5555555555555556,\"#d8576b\"],[0.6666666666666666,\"#ed7953\"],[0.7777777777777778,\"#fb9f3a\"],[0.8888888888888888,\"#fdca26\"],[1.0,\"#f0f921\"]]}],\"heatmapgl\":[{\"type\":\"heatmapgl\",\"colorbar\":{\"outlinewidth\":0,\"ticks\":\"\"},\"colorscale\":[[0.0,\"#0d0887\"],[0.1111111111111111,\"#46039f\"],[0.2222222222222222,\"#7201a8\"],[0.3333333333333333,\"#9c179e\"],[0.4444444444444444,\"#bd3786\"],[0.5555555555555556,\"#d8576b\"],[0.6666666666666666,\"#ed7953\"],[0.7777777777777778,\"#fb9f3a\"],[0.8888888888888888,\"#fdca26\"],[1.0,\"#f0f921\"]]}],\"contourcarpet\":[{\"type\":\"contourcarpet\",\"colorbar\":{\"outlinewidth\":0,\"ticks\":\"\"}}],\"contour\":[{\"type\":\"contour\",\"colorbar\":{\"outlinewidth\":0,\"ticks\":\"\"},\"colorscale\":[[0.0,\"#0d0887\"],[0.1111111111111111,\"#46039f\"],[0.2222222222222222,\"#7201a8\"],[0.3333333333333333,\"#9c179e\"],[0.4444444444444444,\"#bd3786\"],[0.5555555555555556,\"#d8576b\"],[0.6666666666666666,\"#ed7953\"],[0.7777777777777778,\"#fb9f3a\"],[0.8888888888888888,\"#fdca26\"],[1.0,\"#f0f921\"]]}],\"surface\":[{\"type\":\"surface\",\"colorbar\":{\"outlinewidth\":0,\"ticks\":\"\"},\"colorscale\":[[0.0,\"#0d0887\"],[0.1111111111111111,\"#46039f\"],[0.2222222222222222,\"#7201a8\"],[0.3333333333333333,\"#9c179e\"],[0.4444444444444444,\"#bd3786\"],[0.5555555555555556,\"#d8576b\"],[0.6666666666666666,\"#ed7953\"],[0.7777777777777778,\"#fb9f3a\"],[0.8888888888888888,\"#fdca26\"],[1.0,\"#f0f921\"]]}],\"mesh3d\":[{\"type\":\"mesh3d\",\"colorbar\":{\"outlinewidth\":0,\"ticks\":\"\"}}],\"scatter\":[{\"fillpattern\":{\"fillmode\":\"overlay\",\"size\":10,\"solidity\":0.2},\"type\":\"scatter\"}],\"parcoords\":[{\"type\":\"parcoords\",\"line\":{\"colorbar\":{\"outlinewidth\":0,\"ticks\":\"\"}}}],\"scatterpolargl\":[{\"type\":\"scatterpolargl\",\"marker\":{\"colorbar\":{\"outlinewidth\":0,\"ticks\":\"\"}}}],\"bar\":[{\"error_x\":{\"color\":\"#2a3f5f\"},\"error_y\":{\"color\":\"#2a3f5f\"},\"marker\":{\"line\":{\"color\":\"#E5ECF6\",\"width\":0.5},\"pattern\":{\"fillmode\":\"overlay\",\"size\":10,\"solidity\":0.2}},\"type\":\"bar\"}],\"scattergeo\":[{\"type\":\"scattergeo\",\"marker\":{\"colorbar\":{\"outlinewidth\":0,\"ticks\":\"\"}}}],\"scatterpolar\":[{\"type\":\"scatterpolar\",\"marker\":{\"colorbar\":{\"outlinewidth\":0,\"ticks\":\"\"}}}],\"histogram\":[{\"marker\":{\"pattern\":{\"fillmode\":\"overlay\",\"size\":10,\"solidity\":0.2}},\"type\":\"histogram\"}],\"scattergl\":[{\"type\":\"scattergl\",\"marker\":{\"colorbar\":{\"outlinewidth\":0,\"ticks\":\"\"}}}],\"scatter3d\":[{\"type\":\"scatter3d\",\"line\":{\"colorbar\":{\"outlinewidth\":0,\"ticks\":\"\"}},\"marker\":{\"colorbar\":{\"outlinewidth\":0,\"ticks\":\"\"}}}],\"scattermapbox\":[{\"type\":\"scattermapbox\",\"marker\":{\"colorbar\":{\"outlinewidth\":0,\"ticks\":\"\"}}}],\"scatterternary\":[{\"type\":\"scatterternary\",\"marker\":{\"colorbar\":{\"outlinewidth\":0,\"ticks\":\"\"}}}],\"scattercarpet\":[{\"type\":\"scattercarpet\",\"marker\":{\"colorbar\":{\"outlinewidth\":0,\"ticks\":\"\"}}}],\"carpet\":[{\"aaxis\":{\"endlinecolor\":\"#2a3f5f\",\"gridcolor\":\"white\",\"linecolor\":\"white\",\"minorgridcolor\":\"white\",\"startlinecolor\":\"#2a3f5f\"},\"baxis\":{\"endlinecolor\":\"#2a3f5f\",\"gridcolor\":\"white\",\"linecolor\":\"white\",\"minorgridcolor\":\"white\",\"startlinecolor\":\"#2a3f5f\"},\"type\":\"carpet\"}],\"table\":[{\"cells\":{\"fill\":{\"color\":\"#EBF0F8\"},\"line\":{\"color\":\"white\"}},\"header\":{\"fill\":{\"color\":\"#C8D4E3\"},\"line\":{\"color\":\"white\"}},\"type\":\"table\"}],\"barpolar\":[{\"marker\":{\"line\":{\"color\":\"#E5ECF6\",\"width\":0.5},\"pattern\":{\"fillmode\":\"overlay\",\"size\":10,\"solidity\":0.2}},\"type\":\"barpolar\"}],\"pie\":[{\"automargin\":true,\"type\":\"pie\"}]},\"layout\":{\"autotypenumbers\":\"strict\",\"colorway\":[\"#636efa\",\"#EF553B\",\"#00cc96\",\"#ab63fa\",\"#FFA15A\",\"#19d3f3\",\"#FF6692\",\"#B6E880\",\"#FF97FF\",\"#FECB52\"],\"font\":{\"color\":\"#2a3f5f\"},\"hovermode\":\"closest\",\"hoverlabel\":{\"align\":\"left\"},\"paper_bgcolor\":\"white\",\"plot_bgcolor\":\"#E5ECF6\",\"polar\":{\"bgcolor\":\"#E5ECF6\",\"angularaxis\":{\"gridcolor\":\"white\",\"linecolor\":\"white\",\"ticks\":\"\"},\"radialaxis\":{\"gridcolor\":\"white\",\"linecolor\":\"white\",\"ticks\":\"\"}},\"ternary\":{\"bgcolor\":\"#E5ECF6\",\"aaxis\":{\"gridcolor\":\"white\",\"linecolor\":\"white\",\"ticks\":\"\"},\"baxis\":{\"gridcolor\":\"white\",\"linecolor\":\"white\",\"ticks\":\"\"},\"caxis\":{\"gridcolor\":\"white\",\"linecolor\":\"white\",\"ticks\":\"\"}},\"coloraxis\":{\"colorbar\":{\"outlinewidth\":0,\"ticks\":\"\"}},\"colorscale\":{\"sequential\":[[0.0,\"#0d0887\"],[0.1111111111111111,\"#46039f\"],[0.2222222222222222,\"#7201a8\"],[0.3333333333333333,\"#9c179e\"],[0.4444444444444444,\"#bd3786\"],[0.5555555555555556,\"#d8576b\"],[0.6666666666666666,\"#ed7953\"],[0.7777777777777778,\"#fb9f3a\"],[0.8888888888888888,\"#fdca26\"],[1.0,\"#f0f921\"]],\"sequentialminus\":[[0.0,\"#0d0887\"],[0.1111111111111111,\"#46039f\"],[0.2222222222222222,\"#7201a8\"],[0.3333333333333333,\"#9c179e\"],[0.4444444444444444,\"#bd3786\"],[0.5555555555555556,\"#d8576b\"],[0.6666666666666666,\"#ed7953\"],[0.7777777777777778,\"#fb9f3a\"],[0.8888888888888888,\"#fdca26\"],[1.0,\"#f0f921\"]],\"diverging\":[[0,\"#8e0152\"],[0.1,\"#c51b7d\"],[0.2,\"#de77ae\"],[0.3,\"#f1b6da\"],[0.4,\"#fde0ef\"],[0.5,\"#f7f7f7\"],[0.6,\"#e6f5d0\"],[0.7,\"#b8e186\"],[0.8,\"#7fbc41\"],[0.9,\"#4d9221\"],[1,\"#276419\"]]},\"xaxis\":{\"gridcolor\":\"white\",\"linecolor\":\"white\",\"ticks\":\"\",\"title\":{\"standoff\":15},\"zerolinecolor\":\"white\",\"automargin\":true,\"zerolinewidth\":2},\"yaxis\":{\"gridcolor\":\"white\",\"linecolor\":\"white\",\"ticks\":\"\",\"title\":{\"standoff\":15},\"zerolinecolor\":\"white\",\"automargin\":true,\"zerolinewidth\":2},\"scene\":{\"xaxis\":{\"backgroundcolor\":\"#E5ECF6\",\"gridcolor\":\"white\",\"linecolor\":\"white\",\"showbackground\":true,\"ticks\":\"\",\"zerolinecolor\":\"white\",\"gridwidth\":2},\"yaxis\":{\"backgroundcolor\":\"#E5ECF6\",\"gridcolor\":\"white\",\"linecolor\":\"white\",\"showbackground\":true,\"ticks\":\"\",\"zerolinecolor\":\"white\",\"gridwidth\":2},\"zaxis\":{\"backgroundcolor\":\"#E5ECF6\",\"gridcolor\":\"white\",\"linecolor\":\"white\",\"showbackground\":true,\"ticks\":\"\",\"zerolinecolor\":\"white\",\"gridwidth\":2}},\"shapedefaults\":{\"line\":{\"color\":\"#2a3f5f\"}},\"annotationdefaults\":{\"arrowcolor\":\"#2a3f5f\",\"arrowhead\":0,\"arrowwidth\":1},\"geo\":{\"bgcolor\":\"white\",\"landcolor\":\"#E5ECF6\",\"subunitcolor\":\"white\",\"showland\":true,\"showlakes\":true,\"lakecolor\":\"white\"},\"title\":{\"x\":0.05},\"mapbox\":{\"style\":\"light\"}}},\"xaxis\":{\"anchor\":\"y\",\"domain\":[0.0,1.0],\"title\":{\"text\":\"year\"}},\"yaxis\":{\"anchor\":\"x\",\"domain\":[0.0,1.0],\"title\":{\"text\":\"value\"}},\"legend\":{\"title\":{\"text\":\"variable\"},\"tracegroupgap\":0},\"margin\":{\"t\":60}},                        {\"responsive\": true}                    ).then(function(){\n",
       "                            \n",
       "var gd = document.getElementById('ab1f9305-b188-4794-bffb-942b4a307a95');\n",
       "var x = new MutationObserver(function (mutations, observer) {{\n",
       "        var display = window.getComputedStyle(gd).display;\n",
       "        if (!display || display === 'none') {{\n",
       "            console.log([gd, 'removed!']);\n",
       "            Plotly.purge(gd);\n",
       "            observer.disconnect();\n",
       "        }}\n",
       "}});\n",
       "\n",
       "// Listen for the removal of the full notebook cells\n",
       "var notebookContainer = gd.closest('#notebook-container');\n",
       "if (notebookContainer) {{\n",
       "    x.observe(notebookContainer, {childList: true});\n",
       "}}\n",
       "\n",
       "// Listen for the clearing of the current output cell\n",
       "var outputEl = gd.closest('.output');\n",
       "if (outputEl) {{\n",
       "    x.observe(outputEl, {childList: true});\n",
       "}}\n",
       "\n",
       "                        })                };                });            </script>        </div>"
      ]
     },
     "metadata": {},
     "output_type": "display_data"
    }
   ],
   "source": [
    "sound_features = ['acousticness', 'danceability', 'energy', 'instrumentalness', 'liveness', 'valence']\n",
    "fig = px.line(year_data, x='year', y=sound_features)\n",
    "fig.show()"
   ]
  },
  {
   "cell_type": "markdown",
   "metadata": {},
   "source": [
    "# **Characteristics of Different Genres**\n",
    "\n",
    "This dataset contains the audio features for different songs along with the audio features for different genres. We can use this information to compare different genres and understand their unique differences in sound."
   ]
  },
  {
   "cell_type": "code",
   "execution_count": 32,
   "metadata": {
    "_kg_hide-input": true,
    "execution": {
     "iopub.execute_input": "2021-12-17T05:44:24.976028Z",
     "iopub.status.busy": "2021-12-17T05:44:24.975629Z",
     "iopub.status.idle": "2021-12-17T05:44:25.069728Z",
     "shell.execute_reply": "2021-12-17T05:44:25.068740Z",
     "shell.execute_reply.started": "2021-12-17T05:44:24.975994Z"
    }
   },
   "outputs": [
    {
     "data": {
      "application/vnd.plotly.v1+json": {
       "config": {
        "plotlyServerURL": "https://plot.ly"
       },
       "data": [
        {
         "alignmentgroup": "True",
         "hovertemplate": "variable=valence<br>genres=%{x}<br>value=%{y}<extra></extra>",
         "legendgroup": "valence",
         "marker": {
          "color": "#636efa",
          "pattern": {
           "shape": ""
          }
         },
         "name": "valence",
         "offsetgroup": "valence",
         "orientation": "v",
         "showlegend": true,
         "textposition": "auto",
         "type": "bar",
         "x": [
          "basshall",
          "south african house",
          "trap venezolano",
          "turkish edm",
          "alberta hip hop",
          "chinese electropop",
          "afroswing",
          "afro soul",
          "circuit",
          "guaracha"
         ],
         "xaxis": "x",
         "y": [
          0.5886666666666667,
          0.8343333333333334,
          0.706,
          0.364,
          0.937,
          0.199,
          0.676625,
          0.743,
          0.556,
          0.556
         ],
         "yaxis": "y"
        },
        {
         "alignmentgroup": "True",
         "hovertemplate": "variable=energy<br>genres=%{x}<br>value=%{y}<extra></extra>",
         "legendgroup": "energy",
         "marker": {
          "color": "#EF553B",
          "pattern": {
           "shape": ""
          }
         },
         "name": "energy",
         "offsetgroup": "energy",
         "orientation": "v",
         "showlegend": true,
         "textposition": "auto",
         "type": "bar",
         "x": [
          "basshall",
          "south african house",
          "trap venezolano",
          "turkish edm",
          "alberta hip hop",
          "chinese electropop",
          "afroswing",
          "afro soul",
          "circuit",
          "guaracha"
         ],
         "xaxis": "x",
         "y": [
          0.6301666666666668,
          0.5623333333333332,
          0.777,
          0.7190000000000001,
          0.685,
          0.787,
          0.5801875,
          0.873,
          0.972,
          0.972
         ],
         "yaxis": "y"
        },
        {
         "alignmentgroup": "True",
         "hovertemplate": "variable=danceability<br>genres=%{x}<br>value=%{y}<extra></extra>",
         "legendgroup": "danceability",
         "marker": {
          "color": "#00cc96",
          "pattern": {
           "shape": ""
          }
         },
         "name": "danceability",
         "offsetgroup": "danceability",
         "orientation": "v",
         "showlegend": true,
         "textposition": "auto",
         "type": "bar",
         "x": [
          "basshall",
          "south african house",
          "trap venezolano",
          "turkish edm",
          "alberta hip hop",
          "chinese electropop",
          "afroswing",
          "afro soul",
          "circuit",
          "guaracha"
         ],
         "xaxis": "x",
         "y": [
          0.8180000000000001,
          0.847,
          0.877,
          0.698,
          0.885,
          0.66,
          0.71175,
          0.7659999999999999,
          0.745,
          0.745
         ],
         "yaxis": "y"
        },
        {
         "alignmentgroup": "True",
         "hovertemplate": "variable=acousticness<br>genres=%{x}<br>value=%{y}<extra></extra>",
         "legendgroup": "acousticness",
         "marker": {
          "color": "#ab63fa",
          "pattern": {
           "shape": ""
          }
         },
         "name": "acousticness",
         "offsetgroup": "acousticness",
         "orientation": "v",
         "showlegend": true,
         "textposition": "auto",
         "type": "bar",
         "x": [
          "basshall",
          "south african house",
          "trap venezolano",
          "turkish edm",
          "alberta hip hop",
          "chinese electropop",
          "afroswing",
          "afro soul",
          "circuit",
          "guaracha"
         ],
         "xaxis": "x",
         "y": [
          0.2131666666666666,
          0.0438333333333333,
          0.0446,
          0.00829,
          0.33,
          0.00257,
          0.31845,
          0.00627,
          0.00903,
          0.00903
         ],
         "yaxis": "y"
        }
       ],
       "layout": {
        "barmode": "group",
        "legend": {
         "title": {
          "text": "variable"
         },
         "tracegroupgap": 0
        },
        "margin": {
         "t": 60
        },
        "template": {
         "data": {
          "bar": [
           {
            "error_x": {
             "color": "#2a3f5f"
            },
            "error_y": {
             "color": "#2a3f5f"
            },
            "marker": {
             "line": {
              "color": "#E5ECF6",
              "width": 0.5
             },
             "pattern": {
              "fillmode": "overlay",
              "size": 10,
              "solidity": 0.2
             }
            },
            "type": "bar"
           }
          ],
          "barpolar": [
           {
            "marker": {
             "line": {
              "color": "#E5ECF6",
              "width": 0.5
             },
             "pattern": {
              "fillmode": "overlay",
              "size": 10,
              "solidity": 0.2
             }
            },
            "type": "barpolar"
           }
          ],
          "carpet": [
           {
            "aaxis": {
             "endlinecolor": "#2a3f5f",
             "gridcolor": "white",
             "linecolor": "white",
             "minorgridcolor": "white",
             "startlinecolor": "#2a3f5f"
            },
            "baxis": {
             "endlinecolor": "#2a3f5f",
             "gridcolor": "white",
             "linecolor": "white",
             "minorgridcolor": "white",
             "startlinecolor": "#2a3f5f"
            },
            "type": "carpet"
           }
          ],
          "choropleth": [
           {
            "colorbar": {
             "outlinewidth": 0,
             "ticks": ""
            },
            "type": "choropleth"
           }
          ],
          "contour": [
           {
            "colorbar": {
             "outlinewidth": 0,
             "ticks": ""
            },
            "colorscale": [
             [
              0,
              "#0d0887"
             ],
             [
              0.1111111111111111,
              "#46039f"
             ],
             [
              0.2222222222222222,
              "#7201a8"
             ],
             [
              0.3333333333333333,
              "#9c179e"
             ],
             [
              0.4444444444444444,
              "#bd3786"
             ],
             [
              0.5555555555555556,
              "#d8576b"
             ],
             [
              0.6666666666666666,
              "#ed7953"
             ],
             [
              0.7777777777777778,
              "#fb9f3a"
             ],
             [
              0.8888888888888888,
              "#fdca26"
             ],
             [
              1,
              "#f0f921"
             ]
            ],
            "type": "contour"
           }
          ],
          "contourcarpet": [
           {
            "colorbar": {
             "outlinewidth": 0,
             "ticks": ""
            },
            "type": "contourcarpet"
           }
          ],
          "heatmap": [
           {
            "colorbar": {
             "outlinewidth": 0,
             "ticks": ""
            },
            "colorscale": [
             [
              0,
              "#0d0887"
             ],
             [
              0.1111111111111111,
              "#46039f"
             ],
             [
              0.2222222222222222,
              "#7201a8"
             ],
             [
              0.3333333333333333,
              "#9c179e"
             ],
             [
              0.4444444444444444,
              "#bd3786"
             ],
             [
              0.5555555555555556,
              "#d8576b"
             ],
             [
              0.6666666666666666,
              "#ed7953"
             ],
             [
              0.7777777777777778,
              "#fb9f3a"
             ],
             [
              0.8888888888888888,
              "#fdca26"
             ],
             [
              1,
              "#f0f921"
             ]
            ],
            "type": "heatmap"
           }
          ],
          "heatmapgl": [
           {
            "colorbar": {
             "outlinewidth": 0,
             "ticks": ""
            },
            "colorscale": [
             [
              0,
              "#0d0887"
             ],
             [
              0.1111111111111111,
              "#46039f"
             ],
             [
              0.2222222222222222,
              "#7201a8"
             ],
             [
              0.3333333333333333,
              "#9c179e"
             ],
             [
              0.4444444444444444,
              "#bd3786"
             ],
             [
              0.5555555555555556,
              "#d8576b"
             ],
             [
              0.6666666666666666,
              "#ed7953"
             ],
             [
              0.7777777777777778,
              "#fb9f3a"
             ],
             [
              0.8888888888888888,
              "#fdca26"
             ],
             [
              1,
              "#f0f921"
             ]
            ],
            "type": "heatmapgl"
           }
          ],
          "histogram": [
           {
            "marker": {
             "pattern": {
              "fillmode": "overlay",
              "size": 10,
              "solidity": 0.2
             }
            },
            "type": "histogram"
           }
          ],
          "histogram2d": [
           {
            "colorbar": {
             "outlinewidth": 0,
             "ticks": ""
            },
            "colorscale": [
             [
              0,
              "#0d0887"
             ],
             [
              0.1111111111111111,
              "#46039f"
             ],
             [
              0.2222222222222222,
              "#7201a8"
             ],
             [
              0.3333333333333333,
              "#9c179e"
             ],
             [
              0.4444444444444444,
              "#bd3786"
             ],
             [
              0.5555555555555556,
              "#d8576b"
             ],
             [
              0.6666666666666666,
              "#ed7953"
             ],
             [
              0.7777777777777778,
              "#fb9f3a"
             ],
             [
              0.8888888888888888,
              "#fdca26"
             ],
             [
              1,
              "#f0f921"
             ]
            ],
            "type": "histogram2d"
           }
          ],
          "histogram2dcontour": [
           {
            "colorbar": {
             "outlinewidth": 0,
             "ticks": ""
            },
            "colorscale": [
             [
              0,
              "#0d0887"
             ],
             [
              0.1111111111111111,
              "#46039f"
             ],
             [
              0.2222222222222222,
              "#7201a8"
             ],
             [
              0.3333333333333333,
              "#9c179e"
             ],
             [
              0.4444444444444444,
              "#bd3786"
             ],
             [
              0.5555555555555556,
              "#d8576b"
             ],
             [
              0.6666666666666666,
              "#ed7953"
             ],
             [
              0.7777777777777778,
              "#fb9f3a"
             ],
             [
              0.8888888888888888,
              "#fdca26"
             ],
             [
              1,
              "#f0f921"
             ]
            ],
            "type": "histogram2dcontour"
           }
          ],
          "mesh3d": [
           {
            "colorbar": {
             "outlinewidth": 0,
             "ticks": ""
            },
            "type": "mesh3d"
           }
          ],
          "parcoords": [
           {
            "line": {
             "colorbar": {
              "outlinewidth": 0,
              "ticks": ""
             }
            },
            "type": "parcoords"
           }
          ],
          "pie": [
           {
            "automargin": true,
            "type": "pie"
           }
          ],
          "scatter": [
           {
            "fillpattern": {
             "fillmode": "overlay",
             "size": 10,
             "solidity": 0.2
            },
            "type": "scatter"
           }
          ],
          "scatter3d": [
           {
            "line": {
             "colorbar": {
              "outlinewidth": 0,
              "ticks": ""
             }
            },
            "marker": {
             "colorbar": {
              "outlinewidth": 0,
              "ticks": ""
             }
            },
            "type": "scatter3d"
           }
          ],
          "scattercarpet": [
           {
            "marker": {
             "colorbar": {
              "outlinewidth": 0,
              "ticks": ""
             }
            },
            "type": "scattercarpet"
           }
          ],
          "scattergeo": [
           {
            "marker": {
             "colorbar": {
              "outlinewidth": 0,
              "ticks": ""
             }
            },
            "type": "scattergeo"
           }
          ],
          "scattergl": [
           {
            "marker": {
             "colorbar": {
              "outlinewidth": 0,
              "ticks": ""
             }
            },
            "type": "scattergl"
           }
          ],
          "scattermapbox": [
           {
            "marker": {
             "colorbar": {
              "outlinewidth": 0,
              "ticks": ""
             }
            },
            "type": "scattermapbox"
           }
          ],
          "scatterpolar": [
           {
            "marker": {
             "colorbar": {
              "outlinewidth": 0,
              "ticks": ""
             }
            },
            "type": "scatterpolar"
           }
          ],
          "scatterpolargl": [
           {
            "marker": {
             "colorbar": {
              "outlinewidth": 0,
              "ticks": ""
             }
            },
            "type": "scatterpolargl"
           }
          ],
          "scatterternary": [
           {
            "marker": {
             "colorbar": {
              "outlinewidth": 0,
              "ticks": ""
             }
            },
            "type": "scatterternary"
           }
          ],
          "surface": [
           {
            "colorbar": {
             "outlinewidth": 0,
             "ticks": ""
            },
            "colorscale": [
             [
              0,
              "#0d0887"
             ],
             [
              0.1111111111111111,
              "#46039f"
             ],
             [
              0.2222222222222222,
              "#7201a8"
             ],
             [
              0.3333333333333333,
              "#9c179e"
             ],
             [
              0.4444444444444444,
              "#bd3786"
             ],
             [
              0.5555555555555556,
              "#d8576b"
             ],
             [
              0.6666666666666666,
              "#ed7953"
             ],
             [
              0.7777777777777778,
              "#fb9f3a"
             ],
             [
              0.8888888888888888,
              "#fdca26"
             ],
             [
              1,
              "#f0f921"
             ]
            ],
            "type": "surface"
           }
          ],
          "table": [
           {
            "cells": {
             "fill": {
              "color": "#EBF0F8"
             },
             "line": {
              "color": "white"
             }
            },
            "header": {
             "fill": {
              "color": "#C8D4E3"
             },
             "line": {
              "color": "white"
             }
            },
            "type": "table"
           }
          ]
         },
         "layout": {
          "annotationdefaults": {
           "arrowcolor": "#2a3f5f",
           "arrowhead": 0,
           "arrowwidth": 1
          },
          "autotypenumbers": "strict",
          "coloraxis": {
           "colorbar": {
            "outlinewidth": 0,
            "ticks": ""
           }
          },
          "colorscale": {
           "diverging": [
            [
             0,
             "#8e0152"
            ],
            [
             0.1,
             "#c51b7d"
            ],
            [
             0.2,
             "#de77ae"
            ],
            [
             0.3,
             "#f1b6da"
            ],
            [
             0.4,
             "#fde0ef"
            ],
            [
             0.5,
             "#f7f7f7"
            ],
            [
             0.6,
             "#e6f5d0"
            ],
            [
             0.7,
             "#b8e186"
            ],
            [
             0.8,
             "#7fbc41"
            ],
            [
             0.9,
             "#4d9221"
            ],
            [
             1,
             "#276419"
            ]
           ],
           "sequential": [
            [
             0,
             "#0d0887"
            ],
            [
             0.1111111111111111,
             "#46039f"
            ],
            [
             0.2222222222222222,
             "#7201a8"
            ],
            [
             0.3333333333333333,
             "#9c179e"
            ],
            [
             0.4444444444444444,
             "#bd3786"
            ],
            [
             0.5555555555555556,
             "#d8576b"
            ],
            [
             0.6666666666666666,
             "#ed7953"
            ],
            [
             0.7777777777777778,
             "#fb9f3a"
            ],
            [
             0.8888888888888888,
             "#fdca26"
            ],
            [
             1,
             "#f0f921"
            ]
           ],
           "sequentialminus": [
            [
             0,
             "#0d0887"
            ],
            [
             0.1111111111111111,
             "#46039f"
            ],
            [
             0.2222222222222222,
             "#7201a8"
            ],
            [
             0.3333333333333333,
             "#9c179e"
            ],
            [
             0.4444444444444444,
             "#bd3786"
            ],
            [
             0.5555555555555556,
             "#d8576b"
            ],
            [
             0.6666666666666666,
             "#ed7953"
            ],
            [
             0.7777777777777778,
             "#fb9f3a"
            ],
            [
             0.8888888888888888,
             "#fdca26"
            ],
            [
             1,
             "#f0f921"
            ]
           ]
          },
          "colorway": [
           "#636efa",
           "#EF553B",
           "#00cc96",
           "#ab63fa",
           "#FFA15A",
           "#19d3f3",
           "#FF6692",
           "#B6E880",
           "#FF97FF",
           "#FECB52"
          ],
          "font": {
           "color": "#2a3f5f"
          },
          "geo": {
           "bgcolor": "white",
           "lakecolor": "white",
           "landcolor": "#E5ECF6",
           "showlakes": true,
           "showland": true,
           "subunitcolor": "white"
          },
          "hoverlabel": {
           "align": "left"
          },
          "hovermode": "closest",
          "mapbox": {
           "style": "light"
          },
          "paper_bgcolor": "white",
          "plot_bgcolor": "#E5ECF6",
          "polar": {
           "angularaxis": {
            "gridcolor": "white",
            "linecolor": "white",
            "ticks": ""
           },
           "bgcolor": "#E5ECF6",
           "radialaxis": {
            "gridcolor": "white",
            "linecolor": "white",
            "ticks": ""
           }
          },
          "scene": {
           "xaxis": {
            "backgroundcolor": "#E5ECF6",
            "gridcolor": "white",
            "gridwidth": 2,
            "linecolor": "white",
            "showbackground": true,
            "ticks": "",
            "zerolinecolor": "white"
           },
           "yaxis": {
            "backgroundcolor": "#E5ECF6",
            "gridcolor": "white",
            "gridwidth": 2,
            "linecolor": "white",
            "showbackground": true,
            "ticks": "",
            "zerolinecolor": "white"
           },
           "zaxis": {
            "backgroundcolor": "#E5ECF6",
            "gridcolor": "white",
            "gridwidth": 2,
            "linecolor": "white",
            "showbackground": true,
            "ticks": "",
            "zerolinecolor": "white"
           }
          },
          "shapedefaults": {
           "line": {
            "color": "#2a3f5f"
           }
          },
          "ternary": {
           "aaxis": {
            "gridcolor": "white",
            "linecolor": "white",
            "ticks": ""
           },
           "baxis": {
            "gridcolor": "white",
            "linecolor": "white",
            "ticks": ""
           },
           "bgcolor": "#E5ECF6",
           "caxis": {
            "gridcolor": "white",
            "linecolor": "white",
            "ticks": ""
           }
          },
          "title": {
           "x": 0.05
          },
          "xaxis": {
           "automargin": true,
           "gridcolor": "white",
           "linecolor": "white",
           "ticks": "",
           "title": {
            "standoff": 15
           },
           "zerolinecolor": "white",
           "zerolinewidth": 2
          },
          "yaxis": {
           "automargin": true,
           "gridcolor": "white",
           "linecolor": "white",
           "ticks": "",
           "title": {
            "standoff": 15
           },
           "zerolinecolor": "white",
           "zerolinewidth": 2
          }
         }
        },
        "xaxis": {
         "anchor": "y",
         "domain": [
          0,
          1
         ],
         "title": {
          "text": "genres"
         }
        },
        "yaxis": {
         "anchor": "x",
         "domain": [
          0,
          1
         ],
         "title": {
          "text": "value"
         }
        }
       }
      },
      "text/html": [
       "<div>                            <div id=\"2527acc3-3c24-40e2-b513-10cff0b0e82d\" class=\"plotly-graph-div\" style=\"height:525px; width:100%;\"></div>            <script type=\"text/javascript\">                require([\"plotly\"], function(Plotly) {                    window.PLOTLYENV=window.PLOTLYENV || {};                                    if (document.getElementById(\"2527acc3-3c24-40e2-b513-10cff0b0e82d\")) {                    Plotly.newPlot(                        \"2527acc3-3c24-40e2-b513-10cff0b0e82d\",                        [{\"alignmentgroup\":\"True\",\"hovertemplate\":\"variable=valence\\u003cbr\\u003egenres=%{x}\\u003cbr\\u003evalue=%{y}\\u003cextra\\u003e\\u003c\\u002fextra\\u003e\",\"legendgroup\":\"valence\",\"marker\":{\"color\":\"#636efa\",\"pattern\":{\"shape\":\"\"}},\"name\":\"valence\",\"offsetgroup\":\"valence\",\"orientation\":\"v\",\"showlegend\":true,\"textposition\":\"auto\",\"x\":[\"basshall\",\"south african house\",\"trap venezolano\",\"turkish edm\",\"alberta hip hop\",\"chinese electropop\",\"afroswing\",\"afro soul\",\"circuit\",\"guaracha\"],\"xaxis\":\"x\",\"y\":[0.5886666666666667,0.8343333333333334,0.706,0.364,0.937,0.199,0.676625,0.743,0.556,0.556],\"yaxis\":\"y\",\"type\":\"bar\"},{\"alignmentgroup\":\"True\",\"hovertemplate\":\"variable=energy\\u003cbr\\u003egenres=%{x}\\u003cbr\\u003evalue=%{y}\\u003cextra\\u003e\\u003c\\u002fextra\\u003e\",\"legendgroup\":\"energy\",\"marker\":{\"color\":\"#EF553B\",\"pattern\":{\"shape\":\"\"}},\"name\":\"energy\",\"offsetgroup\":\"energy\",\"orientation\":\"v\",\"showlegend\":true,\"textposition\":\"auto\",\"x\":[\"basshall\",\"south african house\",\"trap venezolano\",\"turkish edm\",\"alberta hip hop\",\"chinese electropop\",\"afroswing\",\"afro soul\",\"circuit\",\"guaracha\"],\"xaxis\":\"x\",\"y\":[0.6301666666666668,0.5623333333333332,0.777,0.7190000000000001,0.685,0.787,0.5801875,0.873,0.972,0.972],\"yaxis\":\"y\",\"type\":\"bar\"},{\"alignmentgroup\":\"True\",\"hovertemplate\":\"variable=danceability\\u003cbr\\u003egenres=%{x}\\u003cbr\\u003evalue=%{y}\\u003cextra\\u003e\\u003c\\u002fextra\\u003e\",\"legendgroup\":\"danceability\",\"marker\":{\"color\":\"#00cc96\",\"pattern\":{\"shape\":\"\"}},\"name\":\"danceability\",\"offsetgroup\":\"danceability\",\"orientation\":\"v\",\"showlegend\":true,\"textposition\":\"auto\",\"x\":[\"basshall\",\"south african house\",\"trap venezolano\",\"turkish edm\",\"alberta hip hop\",\"chinese electropop\",\"afroswing\",\"afro soul\",\"circuit\",\"guaracha\"],\"xaxis\":\"x\",\"y\":[0.8180000000000001,0.847,0.877,0.698,0.885,0.66,0.71175,0.7659999999999999,0.745,0.745],\"yaxis\":\"y\",\"type\":\"bar\"},{\"alignmentgroup\":\"True\",\"hovertemplate\":\"variable=acousticness\\u003cbr\\u003egenres=%{x}\\u003cbr\\u003evalue=%{y}\\u003cextra\\u003e\\u003c\\u002fextra\\u003e\",\"legendgroup\":\"acousticness\",\"marker\":{\"color\":\"#ab63fa\",\"pattern\":{\"shape\":\"\"}},\"name\":\"acousticness\",\"offsetgroup\":\"acousticness\",\"orientation\":\"v\",\"showlegend\":true,\"textposition\":\"auto\",\"x\":[\"basshall\",\"south african house\",\"trap venezolano\",\"turkish edm\",\"alberta hip hop\",\"chinese electropop\",\"afroswing\",\"afro soul\",\"circuit\",\"guaracha\"],\"xaxis\":\"x\",\"y\":[0.2131666666666666,0.0438333333333333,0.0446,0.00829,0.33,0.00257,0.31845,0.00627,0.00903,0.00903],\"yaxis\":\"y\",\"type\":\"bar\"}],                        {\"template\":{\"data\":{\"histogram2dcontour\":[{\"type\":\"histogram2dcontour\",\"colorbar\":{\"outlinewidth\":0,\"ticks\":\"\"},\"colorscale\":[[0.0,\"#0d0887\"],[0.1111111111111111,\"#46039f\"],[0.2222222222222222,\"#7201a8\"],[0.3333333333333333,\"#9c179e\"],[0.4444444444444444,\"#bd3786\"],[0.5555555555555556,\"#d8576b\"],[0.6666666666666666,\"#ed7953\"],[0.7777777777777778,\"#fb9f3a\"],[0.8888888888888888,\"#fdca26\"],[1.0,\"#f0f921\"]]}],\"choropleth\":[{\"type\":\"choropleth\",\"colorbar\":{\"outlinewidth\":0,\"ticks\":\"\"}}],\"histogram2d\":[{\"type\":\"histogram2d\",\"colorbar\":{\"outlinewidth\":0,\"ticks\":\"\"},\"colorscale\":[[0.0,\"#0d0887\"],[0.1111111111111111,\"#46039f\"],[0.2222222222222222,\"#7201a8\"],[0.3333333333333333,\"#9c179e\"],[0.4444444444444444,\"#bd3786\"],[0.5555555555555556,\"#d8576b\"],[0.6666666666666666,\"#ed7953\"],[0.7777777777777778,\"#fb9f3a\"],[0.8888888888888888,\"#fdca26\"],[1.0,\"#f0f921\"]]}],\"heatmap\":[{\"type\":\"heatmap\",\"colorbar\":{\"outlinewidth\":0,\"ticks\":\"\"},\"colorscale\":[[0.0,\"#0d0887\"],[0.1111111111111111,\"#46039f\"],[0.2222222222222222,\"#7201a8\"],[0.3333333333333333,\"#9c179e\"],[0.4444444444444444,\"#bd3786\"],[0.5555555555555556,\"#d8576b\"],[0.6666666666666666,\"#ed7953\"],[0.7777777777777778,\"#fb9f3a\"],[0.8888888888888888,\"#fdca26\"],[1.0,\"#f0f921\"]]}],\"heatmapgl\":[{\"type\":\"heatmapgl\",\"colorbar\":{\"outlinewidth\":0,\"ticks\":\"\"},\"colorscale\":[[0.0,\"#0d0887\"],[0.1111111111111111,\"#46039f\"],[0.2222222222222222,\"#7201a8\"],[0.3333333333333333,\"#9c179e\"],[0.4444444444444444,\"#bd3786\"],[0.5555555555555556,\"#d8576b\"],[0.6666666666666666,\"#ed7953\"],[0.7777777777777778,\"#fb9f3a\"],[0.8888888888888888,\"#fdca26\"],[1.0,\"#f0f921\"]]}],\"contourcarpet\":[{\"type\":\"contourcarpet\",\"colorbar\":{\"outlinewidth\":0,\"ticks\":\"\"}}],\"contour\":[{\"type\":\"contour\",\"colorbar\":{\"outlinewidth\":0,\"ticks\":\"\"},\"colorscale\":[[0.0,\"#0d0887\"],[0.1111111111111111,\"#46039f\"],[0.2222222222222222,\"#7201a8\"],[0.3333333333333333,\"#9c179e\"],[0.4444444444444444,\"#bd3786\"],[0.5555555555555556,\"#d8576b\"],[0.6666666666666666,\"#ed7953\"],[0.7777777777777778,\"#fb9f3a\"],[0.8888888888888888,\"#fdca26\"],[1.0,\"#f0f921\"]]}],\"surface\":[{\"type\":\"surface\",\"colorbar\":{\"outlinewidth\":0,\"ticks\":\"\"},\"colorscale\":[[0.0,\"#0d0887\"],[0.1111111111111111,\"#46039f\"],[0.2222222222222222,\"#7201a8\"],[0.3333333333333333,\"#9c179e\"],[0.4444444444444444,\"#bd3786\"],[0.5555555555555556,\"#d8576b\"],[0.6666666666666666,\"#ed7953\"],[0.7777777777777778,\"#fb9f3a\"],[0.8888888888888888,\"#fdca26\"],[1.0,\"#f0f921\"]]}],\"mesh3d\":[{\"type\":\"mesh3d\",\"colorbar\":{\"outlinewidth\":0,\"ticks\":\"\"}}],\"scatter\":[{\"fillpattern\":{\"fillmode\":\"overlay\",\"size\":10,\"solidity\":0.2},\"type\":\"scatter\"}],\"parcoords\":[{\"type\":\"parcoords\",\"line\":{\"colorbar\":{\"outlinewidth\":0,\"ticks\":\"\"}}}],\"scatterpolargl\":[{\"type\":\"scatterpolargl\",\"marker\":{\"colorbar\":{\"outlinewidth\":0,\"ticks\":\"\"}}}],\"bar\":[{\"error_x\":{\"color\":\"#2a3f5f\"},\"error_y\":{\"color\":\"#2a3f5f\"},\"marker\":{\"line\":{\"color\":\"#E5ECF6\",\"width\":0.5},\"pattern\":{\"fillmode\":\"overlay\",\"size\":10,\"solidity\":0.2}},\"type\":\"bar\"}],\"scattergeo\":[{\"type\":\"scattergeo\",\"marker\":{\"colorbar\":{\"outlinewidth\":0,\"ticks\":\"\"}}}],\"scatterpolar\":[{\"type\":\"scatterpolar\",\"marker\":{\"colorbar\":{\"outlinewidth\":0,\"ticks\":\"\"}}}],\"histogram\":[{\"marker\":{\"pattern\":{\"fillmode\":\"overlay\",\"size\":10,\"solidity\":0.2}},\"type\":\"histogram\"}],\"scattergl\":[{\"type\":\"scattergl\",\"marker\":{\"colorbar\":{\"outlinewidth\":0,\"ticks\":\"\"}}}],\"scatter3d\":[{\"type\":\"scatter3d\",\"line\":{\"colorbar\":{\"outlinewidth\":0,\"ticks\":\"\"}},\"marker\":{\"colorbar\":{\"outlinewidth\":0,\"ticks\":\"\"}}}],\"scattermapbox\":[{\"type\":\"scattermapbox\",\"marker\":{\"colorbar\":{\"outlinewidth\":0,\"ticks\":\"\"}}}],\"scatterternary\":[{\"type\":\"scatterternary\",\"marker\":{\"colorbar\":{\"outlinewidth\":0,\"ticks\":\"\"}}}],\"scattercarpet\":[{\"type\":\"scattercarpet\",\"marker\":{\"colorbar\":{\"outlinewidth\":0,\"ticks\":\"\"}}}],\"carpet\":[{\"aaxis\":{\"endlinecolor\":\"#2a3f5f\",\"gridcolor\":\"white\",\"linecolor\":\"white\",\"minorgridcolor\":\"white\",\"startlinecolor\":\"#2a3f5f\"},\"baxis\":{\"endlinecolor\":\"#2a3f5f\",\"gridcolor\":\"white\",\"linecolor\":\"white\",\"minorgridcolor\":\"white\",\"startlinecolor\":\"#2a3f5f\"},\"type\":\"carpet\"}],\"table\":[{\"cells\":{\"fill\":{\"color\":\"#EBF0F8\"},\"line\":{\"color\":\"white\"}},\"header\":{\"fill\":{\"color\":\"#C8D4E3\"},\"line\":{\"color\":\"white\"}},\"type\":\"table\"}],\"barpolar\":[{\"marker\":{\"line\":{\"color\":\"#E5ECF6\",\"width\":0.5},\"pattern\":{\"fillmode\":\"overlay\",\"size\":10,\"solidity\":0.2}},\"type\":\"barpolar\"}],\"pie\":[{\"automargin\":true,\"type\":\"pie\"}]},\"layout\":{\"autotypenumbers\":\"strict\",\"colorway\":[\"#636efa\",\"#EF553B\",\"#00cc96\",\"#ab63fa\",\"#FFA15A\",\"#19d3f3\",\"#FF6692\",\"#B6E880\",\"#FF97FF\",\"#FECB52\"],\"font\":{\"color\":\"#2a3f5f\"},\"hovermode\":\"closest\",\"hoverlabel\":{\"align\":\"left\"},\"paper_bgcolor\":\"white\",\"plot_bgcolor\":\"#E5ECF6\",\"polar\":{\"bgcolor\":\"#E5ECF6\",\"angularaxis\":{\"gridcolor\":\"white\",\"linecolor\":\"white\",\"ticks\":\"\"},\"radialaxis\":{\"gridcolor\":\"white\",\"linecolor\":\"white\",\"ticks\":\"\"}},\"ternary\":{\"bgcolor\":\"#E5ECF6\",\"aaxis\":{\"gridcolor\":\"white\",\"linecolor\":\"white\",\"ticks\":\"\"},\"baxis\":{\"gridcolor\":\"white\",\"linecolor\":\"white\",\"ticks\":\"\"},\"caxis\":{\"gridcolor\":\"white\",\"linecolor\":\"white\",\"ticks\":\"\"}},\"coloraxis\":{\"colorbar\":{\"outlinewidth\":0,\"ticks\":\"\"}},\"colorscale\":{\"sequential\":[[0.0,\"#0d0887\"],[0.1111111111111111,\"#46039f\"],[0.2222222222222222,\"#7201a8\"],[0.3333333333333333,\"#9c179e\"],[0.4444444444444444,\"#bd3786\"],[0.5555555555555556,\"#d8576b\"],[0.6666666666666666,\"#ed7953\"],[0.7777777777777778,\"#fb9f3a\"],[0.8888888888888888,\"#fdca26\"],[1.0,\"#f0f921\"]],\"sequentialminus\":[[0.0,\"#0d0887\"],[0.1111111111111111,\"#46039f\"],[0.2222222222222222,\"#7201a8\"],[0.3333333333333333,\"#9c179e\"],[0.4444444444444444,\"#bd3786\"],[0.5555555555555556,\"#d8576b\"],[0.6666666666666666,\"#ed7953\"],[0.7777777777777778,\"#fb9f3a\"],[0.8888888888888888,\"#fdca26\"],[1.0,\"#f0f921\"]],\"diverging\":[[0,\"#8e0152\"],[0.1,\"#c51b7d\"],[0.2,\"#de77ae\"],[0.3,\"#f1b6da\"],[0.4,\"#fde0ef\"],[0.5,\"#f7f7f7\"],[0.6,\"#e6f5d0\"],[0.7,\"#b8e186\"],[0.8,\"#7fbc41\"],[0.9,\"#4d9221\"],[1,\"#276419\"]]},\"xaxis\":{\"gridcolor\":\"white\",\"linecolor\":\"white\",\"ticks\":\"\",\"title\":{\"standoff\":15},\"zerolinecolor\":\"white\",\"automargin\":true,\"zerolinewidth\":2},\"yaxis\":{\"gridcolor\":\"white\",\"linecolor\":\"white\",\"ticks\":\"\",\"title\":{\"standoff\":15},\"zerolinecolor\":\"white\",\"automargin\":true,\"zerolinewidth\":2},\"scene\":{\"xaxis\":{\"backgroundcolor\":\"#E5ECF6\",\"gridcolor\":\"white\",\"linecolor\":\"white\",\"showbackground\":true,\"ticks\":\"\",\"zerolinecolor\":\"white\",\"gridwidth\":2},\"yaxis\":{\"backgroundcolor\":\"#E5ECF6\",\"gridcolor\":\"white\",\"linecolor\":\"white\",\"showbackground\":true,\"ticks\":\"\",\"zerolinecolor\":\"white\",\"gridwidth\":2},\"zaxis\":{\"backgroundcolor\":\"#E5ECF6\",\"gridcolor\":\"white\",\"linecolor\":\"white\",\"showbackground\":true,\"ticks\":\"\",\"zerolinecolor\":\"white\",\"gridwidth\":2}},\"shapedefaults\":{\"line\":{\"color\":\"#2a3f5f\"}},\"annotationdefaults\":{\"arrowcolor\":\"#2a3f5f\",\"arrowhead\":0,\"arrowwidth\":1},\"geo\":{\"bgcolor\":\"white\",\"landcolor\":\"#E5ECF6\",\"subunitcolor\":\"white\",\"showland\":true,\"showlakes\":true,\"lakecolor\":\"white\"},\"title\":{\"x\":0.05},\"mapbox\":{\"style\":\"light\"}}},\"xaxis\":{\"anchor\":\"y\",\"domain\":[0.0,1.0],\"title\":{\"text\":\"genres\"}},\"yaxis\":{\"anchor\":\"x\",\"domain\":[0.0,1.0],\"title\":{\"text\":\"value\"}},\"legend\":{\"title\":{\"text\":\"variable\"},\"tracegroupgap\":0},\"margin\":{\"t\":60},\"barmode\":\"group\"},                        {\"responsive\": true}                    ).then(function(){\n",
       "                            \n",
       "var gd = document.getElementById('2527acc3-3c24-40e2-b513-10cff0b0e82d');\n",
       "var x = new MutationObserver(function (mutations, observer) {{\n",
       "        var display = window.getComputedStyle(gd).display;\n",
       "        if (!display || display === 'none') {{\n",
       "            console.log([gd, 'removed!']);\n",
       "            Plotly.purge(gd);\n",
       "            observer.disconnect();\n",
       "        }}\n",
       "}});\n",
       "\n",
       "// Listen for the removal of the full notebook cells\n",
       "var notebookContainer = gd.closest('#notebook-container');\n",
       "if (notebookContainer) {{\n",
       "    x.observe(notebookContainer, {childList: true});\n",
       "}}\n",
       "\n",
       "// Listen for the clearing of the current output cell\n",
       "var outputEl = gd.closest('.output');\n",
       "if (outputEl) {{\n",
       "    x.observe(outputEl, {childList: true});\n",
       "}}\n",
       "\n",
       "                        })                };                });            </script>        </div>"
      ]
     },
     "metadata": {},
     "output_type": "display_data"
    }
   ],
   "source": [
    "top10_genres = genre_data.nlargest(10, 'popularity')\n",
    "\n",
    "fig = px.bar(top10_genres, x='genres', y=['valence', 'energy', 'danceability', 'acousticness'], barmode='group')\n",
    "fig.show()"
   ]
  },
  {
   "cell_type": "markdown",
   "metadata": {},
   "source": [
    "# **Clustering Genres with K-Means**\n",
    "\n",
    "Here, the simple K-means clustering algorithm is used to divide the genres in this dataset into ten clusters based on the numerical audio features of each genres."
   ]
  },
  {
   "cell_type": "code",
   "execution_count": 33,
   "metadata": {
    "execution": {
     "iopub.execute_input": "2021-12-17T05:44:26.212698Z",
     "iopub.status.busy": "2021-12-17T05:44:26.212124Z",
     "iopub.status.idle": "2021-12-17T05:44:26.518808Z",
     "shell.execute_reply": "2021-12-17T05:44:26.517759Z",
     "shell.execute_reply.started": "2021-12-17T05:44:26.212632Z"
    }
   },
   "outputs": [],
   "source": [
    "from sklearn.cluster import KMeans\n",
    "from sklearn.preprocessing import StandardScaler\n",
    "from sklearn.pipeline import Pipeline\n",
    "'''\n",
    "cluster_pipeline = Pipeline([('scaler', StandardScaler()), ('kmeans', KMeans(n_clusters=10, n_jobs=-1))])\n",
    "X = genre_data.select_dtypes(np.number)\n",
    "cluster_pipeline.fit(X)\n",
    "genre_data['cluster'] = cluster_pipeline.predict(X)\n",
    "'''\n",
    "cluster_pipeline = Pipeline([('scaler', StandardScaler()), ('kmeans', KMeans(n_clusters=10))])\n",
    "X = genre_data.select_dtypes(np.number)\n",
    "cluster_pipeline.fit(X)\n",
    "genre_data['cluster'] = cluster_pipeline.predict(X)\n"
   ]
  },
  {
   "cell_type": "code",
   "execution_count": 34,
   "metadata": {
    "_kg_hide-output": false,
    "execution": {
     "iopub.execute_input": "2021-12-17T05:44:27.518738Z",
     "iopub.status.busy": "2021-12-17T05:44:27.518353Z",
     "iopub.status.idle": "2021-12-17T05:44:43.188605Z",
     "shell.execute_reply": "2021-12-17T05:44:43.187534Z",
     "shell.execute_reply.started": "2021-12-17T05:44:27.518702Z"
    }
   },
   "outputs": [
    {
     "name": "stdout",
     "output_type": "stream",
     "text": [
      "[t-SNE] Computing 91 nearest neighbors...\n",
      "[t-SNE] Indexed 2973 samples in 0.003s...\n",
      "[t-SNE] Computed neighbors for 2973 samples in 0.272s...\n",
      "[t-SNE] Computed conditional probabilities for sample 1000 / 2973\n",
      "[t-SNE] Computed conditional probabilities for sample 2000 / 2973\n",
      "[t-SNE] Computed conditional probabilities for sample 2973 / 2973\n",
      "[t-SNE] Mean sigma: 0.777516\n",
      "[t-SNE] KL divergence after 250 iterations with early exaggeration: 76.106148\n",
      "[t-SNE] KL divergence after 1000 iterations: 1.394113\n"
     ]
    },
    {
     "data": {
      "application/vnd.plotly.v1+json": {
       "config": {
        "plotlyServerURL": "https://plot.ly"
       },
       "data": [
        {
         "customdata": [
          [
           "21st century classical"
          ],
          [
           "432hz"
          ],
          [
           "8-bit"
          ],
          [
           "[]"
          ],
          [
           "a cappella"
          ],
          [
           "abstract"
          ],
          [
           "abstract beats"
          ],
          [
           "abstract hip hop"
          ],
          [
           "accordeon"
          ],
          [
           "accordion"
          ],
          [
           "acid house"
          ],
          [
           "acid rock"
          ],
          [
           "acid trance"
          ],
          [
           "acousmatic"
          ],
          [
           "acoustic blues"
          ],
          [
           "acoustic pop"
          ],
          [
           "acoustic punk"
          ],
          [
           "acoustic rock"
          ],
          [
           "action rock"
          ],
          [
           "adoracion"
          ],
          [
           "adult standards"
          ],
          [
           "adventista"
          ],
          [
           "afghan pop"
          ],
          [
           "afghan traditional"
          ],
          [
           "african percussion"
          ],
          [
           "african reggae"
          ],
          [
           "african rock"
          ],
          [
           "african-american classical"
          ],
          [
           "afro dancehall"
          ],
          [
           "afro house"
          ],
          [
           "afro psych"
          ],
          [
           "afro soul"
          ],
          [
           "afro-funk"
          ],
          [
           "afrobeat"
          ],
          [
           "afrofuturism"
          ],
          [
           "afrofuturismo brasileiro"
          ],
          [
           "afropop"
          ],
          [
           "afroswing"
          ],
          [
           "aggrotech"
          ],
          [
           "alabama indie"
          ],
          [
           "alabama metal"
          ],
          [
           "alabama rap"
          ],
          [
           "alaska indie"
          ],
          [
           "albanian pop"
          ],
          [
           "albany ny indie"
          ],
          [
           "alberta country"
          ],
          [
           "alberta hip hop"
          ],
          [
           "album rock"
          ],
          [
           "albuquerque indie"
          ],
          [
           "alt-idol"
          ],
          [
           "alte"
          ],
          [
           "alternative americana"
          ],
          [
           "alternative country"
          ],
          [
           "alternative dance"
          ],
          [
           "alternative emo"
          ],
          [
           "alternative hip hop"
          ],
          [
           "alternative metal"
          ],
          [
           "alternative pop"
          ],
          [
           "alternative pop rock"
          ],
          [
           "alternative r&b"
          ],
          [
           "alternative rock"
          ],
          [
           "alternative roots rock"
          ],
          [
           "ambeat"
          ],
          [
           "ambient"
          ],
          [
           "ambient black metal"
          ],
          [
           "ambient folk"
          ],
          [
           "ambient house"
          ],
          [
           "ambient idm"
          ],
          [
           "ambient industrial"
          ],
          [
           "ambient pop"
          ],
          [
           "ambient techno"
          ],
          [
           "ambient worship"
          ],
          [
           "american 21st century classical"
          ],
          [
           "american choir"
          ],
          [
           "american classical piano"
          ],
          [
           "american contemporary classical"
          ],
          [
           "american early music"
          ],
          [
           "american folk revival"
          ],
          [
           "american metalcore"
          ],
          [
           "american modern classical"
          ],
          [
           "american oi"
          ],
          [
           "american orchestra"
          ],
          [
           "american post-rock"
          ],
          [
           "american primitive"
          ],
          [
           "american romanticism"
          ],
          [
           "american shoegaze"
          ],
          [
           "anadolu rock"
          ],
          [
           "anarcho-punk"
          ],
          [
           "anglican liturgy"
          ],
          [
           "animal singing"
          ],
          [
           "anime"
          ],
          [
           "anime latino"
          ],
          [
           "anime rock"
          ],
          [
           "anime score"
          ],
          [
           "ann arbor indie"
          ],
          [
           "anthem emo"
          ],
          [
           "anthem worship"
          ],
          [
           "anti-folk"
          ],
          [
           "antilliaanse folklore"
          ],
          [
           "antiviral pop"
          ],
          [
           "appalachian folk"
          ],
          [
           "arab folk"
          ],
          [
           "arab groove"
          ],
          [
           "arab pop"
          ],
          [
           "arabesk"
          ],
          [
           "arabic hip hop"
          ],
          [
           "arabic jazz"
          ],
          [
           "argentine ambient"
          ],
          [
           "argentine hardcore"
          ],
          [
           "argentine heavy metal"
          ],
          [
           "argentine hip hop"
          ],
          [
           "argentine indie"
          ],
          [
           "argentine metal"
          ],
          [
           "argentine punk"
          ],
          [
           "argentine reggae"
          ],
          [
           "argentine rock"
          ],
          [
           "argentine telepop"
          ],
          [
           "arizona punk"
          ],
          [
           "arkansas country"
          ],
          [
           "arkansas hip hop"
          ],
          [
           "arkansas indie"
          ],
          [
           "armenian folk"
          ],
          [
           "art pop"
          ],
          [
           "art punk"
          ],
          [
           "art rock"
          ],
          [
           "art song"
          ],
          [
           "asbury park indie"
          ],
          [
           "asheville indie"
          ],
          [
           "asian american hip hop"
          ],
          [
           "asmr"
          ],
          [
           "athens indie"
          ],
          [
           "atl hip hop"
          ],
          [
           "atl trap"
          ],
          [
           "atlanta indie"
          ],
          [
           "atlanta metal"
          ],
          [
           "atlanta punk"
          ],
          [
           "atmosphere"
          ],
          [
           "atmospheric black metal"
          ],
          [
           "atmospheric dnb"
          ],
          [
           "atmospheric post-metal"
          ],
          [
           "atmospheric post-rock"
          ],
          [
           "atmospheric sludge"
          ],
          [
           "auckland indie"
          ],
          [
           "audiophile vocal"
          ],
          [
           "aussietronica"
          ],
          [
           "austin americana"
          ],
          [
           "austin singer-songwriter"
          ],
          [
           "austindie"
          ],
          [
           "australian alternative pop"
          ],
          [
           "australian alternative rock"
          ],
          [
           "australian ambient"
          ],
          [
           "australian children's music"
          ],
          [
           "australian choir"
          ],
          [
           "australian classical"
          ],
          [
           "australian classical piano"
          ],
          [
           "australian country"
          ],
          [
           "australian dance"
          ],
          [
           "australian electropop"
          ],
          [
           "australian garage punk"
          ],
          [
           "australian hip hop"
          ],
          [
           "australian house"
          ],
          [
           "australian indie"
          ],
          [
           "australian indie folk"
          ],
          [
           "australian indie rock"
          ],
          [
           "australian indigenous"
          ],
          [
           "australian metal"
          ],
          [
           "australian metalcore"
          ],
          [
           "australian pop"
          ],
          [
           "australian post-hardcore"
          ],
          [
           "australian post-punk"
          ],
          [
           "australian psych"
          ],
          [
           "australian r&b"
          ],
          [
           "australian reggae fusion"
          ],
          [
           "australian rock"
          ],
          [
           "australian singer-songwriter"
          ],
          [
           "australian ska"
          ],
          [
           "australian talent show"
          ],
          [
           "australian trap"
          ],
          [
           "australian underground hip hop"
          ],
          [
           "austrian choir"
          ],
          [
           "austrian classical piano"
          ],
          [
           "austrian orchestra"
          ],
          [
           "austrian pop"
          ],
          [
           "austro-german modernism"
          ],
          [
           "austropop"
          ],
          [
           "autoharp"
          ],
          [
           "autonomous black metal"
          ],
          [
           "avant-garde"
          ],
          [
           "avant-garde jazz"
          ],
          [
           "avant-garde metal"
          ],
          [
           "axe"
          ],
          [
           "azeri traditional"
          ],
          [
           "azonto"
          ],
          [
           "azontobeats"
          ],
          [
           "bachata"
          ],
          [
           "bachata dominicana"
          ],
          [
           "background music"
          ],
          [
           "background piano"
          ],
          [
           "baglama"
          ],
          [
           "bahai"
          ],
          [
           "bahamian folk"
          ],
          [
           "bahamian pop"
          ],
          [
           "baiao"
          ],
          [
           "bajki"
          ],
          [
           "bakersfield sound"
          ],
          [
           "balearic"
          ],
          [
           "balkan brass"
          ],
          [
           "balkan classical piano"
          ],
          [
           "ballet class"
          ],
          [
           "ballroom"
          ],
          [
           "baltic classical"
          ],
          [
           "baltimore hip hop"
          ],
          [
           "baltimore indie"
          ],
          [
           "banda"
          ],
          [
           "banda caliente"
          ],
          [
           "banda carnavalera"
          ],
          [
           "bandinhas"
          ],
          [
           "bandolim"
          ],
          [
           "bandoneon"
          ],
          [
           "bangla"
          ],
          [
           "banjo"
          ],
          [
           "bansuri"
          ],
          [
           "barbadian pop"
          ],
          [
           "barbershop"
          ],
          [
           "bard"
          ],
          [
           "barnmusik"
          ],
          [
           "barockinterpreten"
          ],
          [
           "baroque"
          ],
          [
           "baroque brass"
          ],
          [
           "baroque ensemble"
          ],
          [
           "baroque pop"
          ],
          [
           "baroque singing"
          ],
          [
           "baroque violin"
          ],
          [
           "baroque woodwind"
          ],
          [
           "bass house"
          ],
          [
           "bass music"
          ],
          [
           "bass trap"
          ],
          [
           "basshall"
          ],
          [
           "bassline"
          ],
          [
           "bath indie"
          ],
          [
           "baton rouge indie"
          ],
          [
           "baton rouge rap"
          ],
          [
           "battle rap"
          ],
          [
           "bay area hip hop"
          ],
          [
           "bay area indie"
          ],
          [
           "bboy"
          ],
          [
           "bc underground hip hop"
          ],
          [
           "beach music"
          ],
          [
           "beat italiano"
          ],
          [
           "beat poetry"
          ],
          [
           "beatboxing"
          ],
          [
           "beatlesque"
          ],
          [
           "bebop"
          ],
          [
           "bedroom pop"
          ],
          [
           "bedroom soul"
          ],
          [
           "belarusian indie"
          ],
          [
           "belarusian pop"
          ],
          [
           "belarusian rock"
          ],
          [
           "belgian classical piano"
          ],
          [
           "belgian contemporary classical"
          ],
          [
           "belgian dance"
          ],
          [
           "belgian edm"
          ],
          [
           "belgian hardcore"
          ],
          [
           "belgian indie"
          ],
          [
           "belgian indie rock"
          ],
          [
           "belgian jazz"
          ],
          [
           "belgian new wave"
          ],
          [
           "belgian pop"
          ],
          [
           "belgian rock"
          ],
          [
           "belgian singer-songwriter"
          ],
          [
           "belgian techno"
          ],
          [
           "belly dance"
          ],
          [
           "bengali folk"
          ],
          [
           "beninese pop"
          ],
          [
           "bergen indie"
          ],
          [
           "berlin minimal techno"
          ],
          [
           "berlin school"
          ],
          [
           "bhajan"
          ],
          [
           "bhangra"
          ],
          [
           "bible"
          ],
          [
           "big band"
          ],
          [
           "big beat"
          ],
          [
           "big room"
          ],
          [
           "binaural"
          ],
          [
           "birdsong"
          ],
          [
           "birmingham grime"
          ],
          [
           "birmingham hip hop"
          ],
          [
           "birmingham metal"
          ],
          [
           "bitpop"
          ],
          [
           "black 'n' roll"
          ],
          [
           "black comedy"
          ],
          [
           "black metal"
          ],
          [
           "black punk"
          ],
          [
           "black thrash"
          ],
          [
           "blackened crust"
          ],
          [
           "blackgaze"
          ],
          [
           "bleep techno"
          ],
          [
           "bluegrass"
          ],
          [
           "bluegrass fiddle"
          ],
          [
           "bluegrass gospel"
          ],
          [
           "blues"
          ],
          [
           "blues latinoamericano"
          ],
          [
           "blues mexicano"
          ],
          [
           "blues rock"
          ],
          [
           "bmore"
          ],
          [
           "bolero"
          ],
          [
           "bolero cubano"
          ],
          [
           "boogaloo"
          ],
          [
           "boogie"
          ],
          [
           "boogie-woogie"
          ],
          [
           "boom bap"
          ],
          [
           "boom bap brasileiro"
          ],
          [
           "bossa nova"
          ],
          [
           "bossa nova jazz"
          ],
          [
           "boston folk"
          ],
          [
           "boston hardcore"
          ],
          [
           "boston hip hop"
          ],
          [
           "boston indie"
          ],
          [
           "boston metal"
          ],
          [
           "boston punk"
          ],
          [
           "boston rock"
          ],
          [
           "bounce"
          ],
          [
           "bouncy house"
          ],
          [
           "bouzouki"
          ],
          [
           "bow pop"
          ],
          [
           "boy band"
          ],
          [
           "boy pop"
          ],
          [
           "boy soprano"
          ],
          [
           "brain waves"
          ],
          [
           "braindance"
          ],
          [
           "brass band"
          ],
          [
           "brass ensemble"
          ],
          [
           "brass quintet"
          ],
          [
           "brazilian boogie"
          ],
          [
           "brazilian classical"
          ],
          [
           "brazilian classical piano"
          ],
          [
           "brazilian contemporary classical"
          ],
          [
           "brazilian edm"
          ],
          [
           "brazilian groove metal"
          ],
          [
           "brazilian hip hop"
          ],
          [
           "brazilian indie"
          ],
          [
           "brazilian jazz"
          ],
          [
           "brazilian metal"
          ],
          [
           "brazilian modern jazz"
          ],
          [
           "brazilian percussion"
          ],
          [
           "brazilian punk"
          ],
          [
           "brazilian reggae"
          ],
          [
           "brazilian rock"
          ],
          [
           "brazilian ska"
          ],
          [
           "brazilian soul"
          ],
          [
           "brazilian thrash metal"
          ],
          [
           "breakbeat"
          ],
          [
           "breakcore"
          ],
          [
           "brega"
          ],
          [
           "breton folk"
          ],
          [
           "brighton indie"
          ],
          [
           "brill building pop"
          ],
          [
           "brisbane indie"
          ],
          [
           "bristol electronic"
          ],
          [
           "bristol indie"
          ],
          [
           "brit funk"
          ],
          [
           "british alternative rock"
          ],
          [
           "british black metal"
          ],
          [
           "british blues"
          ],
          [
           "british children's music"
          ],
          [
           "british choir"
          ],
          [
           "british classical piano"
          ],
          [
           "british comedy"
          ],
          [
           "british contemporary classical"
          ],
          [
           "british dance band"
          ],
          [
           "british death metal"
          ],
          [
           "british experimental"
          ],
          [
           "british folk"
          ],
          [
           "british grindcore"
          ],
          [
           "british indie rock"
          ],
          [
           "british industrial"
          ],
          [
           "british invasion"
          ],
          [
           "british jazz"
          ],
          [
           "british modern classical"
          ],
          [
           "british orchestra"
          ],
          [
           "british post-rock"
          ],
          [
           "british power metal"
          ],
          [
           "british singer-songwriter"
          ],
          [
           "british soul"
          ],
          [
           "british soundtrack"
          ],
          [
           "britpop"
          ],
          [
           "broadway"
          ],
          [
           "broken beat"
          ],
          [
           "bronx hip hop"
          ],
          [
           "brooklyn drill"
          ],
          [
           "brooklyn indie"
          ],
          [
           "brostep"
          ],
          [
           "brutal death metal"
          ],
          [
           "brutal deathcore"
          ],
          [
           "bubble trance"
          ],
          [
           "bubblegrunge"
          ],
          [
           "bubblegum dance"
          ],
          [
           "bubblegum pop"
          ],
          [
           "buffalo hip hop"
          ],
          [
           "buffalo ny indie"
          ],
          [
           "buffalo ny metal"
          ],
          [
           "bulgarian experimental"
          ],
          [
           "burmese traditional"
          ],
          [
           "bush ballad"
          ],
          [
           "c-pop"
          ],
          [
           "c86"
          ],
          [
           "cabaret"
          ],
          [
           "cajun"
          ],
          [
           "calgary indie"
          ],
          [
           "cali rap"
          ],
          [
           "calming instrumental"
          ],
          [
           "calypso"
          ],
          [
           "cambodian rock"
          ],
          [
           "cambridge choir"
          ],
          [
           "cambridgeshire indie"
          ],
          [
           "cameroonian pop"
          ],
          [
           "canadian americana"
          ],
          [
           "canadian blues"
          ],
          [
           "canadian ccm"
          ],
          [
           "canadian celtic"
          ],
          [
           "canadian children's music"
          ],
          [
           "canadian choir"
          ],
          [
           "canadian classical"
          ],
          [
           "canadian classical piano"
          ],
          [
           "canadian comedy"
          ],
          [
           "canadian contemporary country"
          ],
          [
           "canadian contemporary r&b"
          ],
          [
           "canadian country"
          ],
          [
           "canadian electronic"
          ],
          [
           "canadian electropop"
          ],
          [
           "canadian experimental"
          ],
          [
           "canadian folk"
          ],
          [
           "canadian hardcore"
          ],
          [
           "canadian hip hop"
          ],
          [
           "canadian house"
          ],
          [
           "canadian indie"
          ],
          [
           "canadian indie folk"
          ],
          [
           "canadian indigenous"
          ],
          [
           "canadian indigenous hip hop"
          ],
          [
           "canadian latin"
          ],
          [
           "canadian metal"
          ],
          [
           "canadian metalcore"
          ],
          [
           "canadian modern jazz"
          ],
          [
           "canadian pop"
          ],
          [
           "canadian pop punk"
          ],
          [
           "canadian post-hardcore"
          ],
          [
           "canadian post-rock"
          ],
          [
           "canadian psychedelic"
          ],
          [
           "canadian punk"
          ],
          [
           "canadian rock"
          ],
          [
           "canadian rockabilly"
          ],
          [
           "canadian singer-songwriter"
          ],
          [
           "canadian soundtrack"
          ],
          [
           "cancion melodica"
          ],
          [
           "candy pop"
          ],
          [
           "cantautor"
          ],
          [
           "cante flamenco"
          ],
          [
           "canterbury scene"
          ],
          [
           "canto popular uruguayo"
          ],
          [
           "cantopop"
          ],
          [
           "canzone d'autore"
          ],
          [
           "canzone genovese"
          ],
          [
           "canzone napoletana"
          ],
          [
           "cape town indie"
          ],
          [
           "cape verdean folk"
          ],
          [
           "capoeira"
          ],
          [
           "caracas indie"
          ],
          [
           "carnatic"
          ],
          [
           "carnatic instrumental"
          ],
          [
           "carnatic vocal"
          ],
          [
           "cartoon"
          ],
          [
           "cathedral choir"
          ],
          [
           "caucasian classical"
          ],
          [
           "caucasian classical piano"
          ],
          [
           "ccm"
          ],
          [
           "cedm"
          ],
          [
           "cello"
          ],
          [
           "celtic"
          ],
          [
           "celtic harp"
          ],
          [
           "celtic metal"
          ],
          [
           "celtic punk"
          ],
          [
           "celtic rock"
          ],
          [
           "cha-cha-cha"
          ],
          [
           "chakra"
          ],
          [
           "chamame"
          ],
          [
           "chamber choir"
          ],
          [
           "chamber ensemble"
          ],
          [
           "chamber folk"
          ],
          [
           "chamber orchestra"
          ],
          [
           "chamber pop"
          ],
          [
           "chamber psych"
          ],
          [
           "champeta"
          ],
          [
           "channel islands indie"
          ],
          [
           "channel pop"
          ],
          [
           "chanson"
          ],
          [
           "chanson paillarde"
          ],
          [
           "chaotic hardcore"
          ],
          [
           "charanga"
          ],
          [
           "charango"
          ],
          [
           "charlotte nc indie"
          ],
          [
           "charlottesville indie"
          ],
          [
           "chattanooga indie"
          ],
          [
           "chicago blues"
          ],
          [
           "chicago drill"
          ],
          [
           "chicago hardcore"
          ],
          [
           "chicago house"
          ],
          [
           "chicago indie"
          ],
          [
           "chicago pop punk"
          ],
          [
           "chicago punk"
          ],
          [
           "chicago rap"
          ],
          [
           "chicago soul"
          ],
          [
           "chicano punk"
          ],
          [
           "chicano rap"
          ],
          [
           "chicha"
          ],
          [
           "chihuahua indie"
          ],
          [
           "children's choir"
          ],
          [
           "children's folk"
          ],
          [
           "children's music"
          ],
          [
           "children's story"
          ],
          [
           "chilean hardcore"
          ],
          [
           "chilean indie"
          ],
          [
           "chilean rock"
          ],
          [
           "chilena"
          ],
          [
           "chill beats"
          ],
          [
           "chill guitar"
          ],
          [
           "chill lounge"
          ],
          [
           "chill out"
          ],
          [
           "chill pop"
          ],
          [
           "chill r&b"
          ],
          [
           "chillhop"
          ],
          [
           "chillstep"
          ],
          [
           "chillwave"
          ],
          [
           "chinese audiophile"
          ],
          [
           "chinese classical"
          ],
          [
           "chinese classical performance"
          ],
          [
           "chinese classical piano"
          ],
          [
           "chinese electropop"
          ],
          [
           "chinese hip hop"
          ],
          [
           "chinese idol pop"
          ],
          [
           "chinese indie"
          ],
          [
           "chinese indie rock"
          ],
          [
           "chinese instrumental"
          ],
          [
           "chinese jazz"
          ],
          [
           "chinese r&b"
          ],
          [
           "chinese soundtrack"
          ],
          [
           "chinese traditional"
          ],
          [
           "chiptune"
          ],
          [
           "chopped and screwed"
          ],
          [
           "choral"
          ],
          [
           "choro"
          ],
          [
           "christchurch indie"
          ],
          [
           "christelijk"
          ],
          [
           "christian a cappella"
          ],
          [
           "christian alternative rock"
          ],
          [
           "christian dance"
          ],
          [
           "christian hard rock"
          ],
          [
           "christian hardcore"
          ],
          [
           "christian hip hop"
          ],
          [
           "christian indie"
          ],
          [
           "christian metal"
          ],
          [
           "christian metalcore"
          ],
          [
           "christian music"
          ],
          [
           "christian pop"
          ],
          [
           "christian power metal"
          ],
          [
           "christian punk"
          ],
          [
           "christian relaxative"
          ],
          [
           "christian rock"
          ],
          [
           "christian trap"
          ],
          [
           "christian uplift"
          ],
          [
           "christmas instrumental"
          ],
          [
           "christmas product"
          ],
          [
           "chunchaca"
          ],
          [
           "chutney"
          ],
          [
           "cincinnati rap"
          ],
          [
           "cinematic post-rock"
          ],
          [
           "circuit"
          ],
          [
           "circus"
          ],
          [
           "classic afrobeat"
          ],
          [
           "classic arab pop"
          ],
          [
           "classic australian country"
          ],
          [
           "classic belgian pop"
          ],
          [
           "classic bhangra"
          ],
          [
           "classic bollywood"
          ],
          [
           "classic canadian rock"
          ],
          [
           "classic cantopop"
          ],
          [
           "classic colombian pop"
          ],
          [
           "classic country pop"
          ],
          [
           "classic czech pop"
          ],
          [
           "classic danish pop"
          ],
          [
           "classic dubstep"
          ],
          [
           "classic eurovision"
          ],
          [
           "classic finnish pop"
          ],
          [
           "classic french pop"
          ],
          [
           "classic garage rock"
          ],
          [
           "classic girl group"
          ],
          [
           "classic greek pop"
          ],
          [
           "classic hardstyle"
          ],
          [
           "classic icelandic pop"
          ],
          [
           "classic indo pop"
          ],
          [
           "classic iskelma"
          ],
          [
           "classic israeli pop"
          ],
          [
           "classic italian folk pop"
          ],
          [
           "classic italian pop"
          ],
          [
           "classic j-rock"
          ],
          [
           "classic japanese jazz"
          ],
          [
           "classic korean pop"
          ],
          [
           "classic latvian pop"
          ],
          [
           "classic mandopop"
          ],
          [
           "classic norwegian pop"
          ],
          [
           "classic opm"
          ],
          [
           "classic pakistani pop"
          ],
          [
           "classic persian pop"
          ],
          [
           "classic peruvian pop"
          ],
          [
           "classic polish pop"
          ],
          [
           "classic praise"
          ],
          [
           "classic psychedelic rock"
          ],
          [
           "classic punjabi pop"
          ],
          [
           "classic rock"
          ],
          [
           "classic russian pop"
          ],
          [
           "classic russian rock"
          ],
          [
           "classic schlager"
          ],
          [
           "classic soul"
          ],
          [
           "classic soundtrack"
          ],
          [
           "classic swedish pop"
          ],
          [
           "classic thai pop"
          ],
          [
           "classic tunisian pop"
          ],
          [
           "classic turkish pop"
          ],
          [
           "classic uk pop"
          ],
          [
           "classic venezuelan pop"
          ],
          [
           "classical"
          ],
          [
           "classical accordion"
          ],
          [
           "classical baritone"
          ],
          [
           "classical bass"
          ],
          [
           "classical cello"
          ],
          [
           "classical clarinet"
          ],
          [
           "classical contralto"
          ],
          [
           "classical countertenor"
          ],
          [
           "classical era"
          ],
          [
           "classical flute"
          ],
          [
           "classical guitar"
          ],
          [
           "classical harp"
          ],
          [
           "classical horn"
          ],
          [
           "classical mandolin"
          ],
          [
           "classical mezzo-soprano"
          ],
          [
           "classical oboe"
          ],
          [
           "classical organ"
          ],
          [
           "classical performance"
          ],
          [
           "classical piano"
          ],
          [
           "classical piano duo"
          ],
          [
           "classical piano trio"
          ],
          [
           "classical saxophone"
          ],
          [
           "classical soprano"
          ],
          [
           "classical tenor"
          ],
          [
           "classical trumpet"
          ],
          [
           "classify"
          ],
          [
           "clawhammer banjo"
          ],
          [
           "clean comedy"
          ],
          [
           "cleveland metal"
          ],
          [
           "coco"
          ],
          [
           "collage pop"
          ],
          [
           "college a cappella"
          ],
          [
           "colombian hip hop"
          ],
          [
           "colombian pop"
          ],
          [
           "colombian rock"
          ],
          [
           "columbus ohio indie"
          ],
          [
           "comedy"
          ],
          [
           "comedy rap"
          ],
          [
           "comedy rock"
          ],
          [
           "comic"
          ],
          [
           "comic metal"
          ],
          [
           "commons"
          ],
          [
           "complextro"
          ],
          [
           "compositional ambient"
          ],
          [
           "concepcion indie"
          ],
          [
           "concert band"
          ],
          [
           "connecticut hardcore"
          ],
          [
           "connecticut indie"
          ],
          [
           "conscious hip hop"
          ],
          [
           "contemporary choir"
          ],
          [
           "contemporary classical"
          ],
          [
           "contemporary classical piano"
          ],
          [
           "contemporary country"
          ],
          [
           "contemporary folk"
          ],
          [
           "contemporary gospel"
          ],
          [
           "contemporary jazz"
          ],
          [
           "contemporary post-bop"
          ],
          [
           "contemporary vocal jazz"
          ],
          [
           "contrabass"
          ],
          [
           "cool jazz"
          ],
          [
           "copla"
          ],
          [
           "cornish folk"
          ],
          [
           "cornwall indie"
          ],
          [
           "corrido"
          ],
          [
           "corridos cristianos"
          ],
          [
           "corridos tumbados"
          ],
          [
           "corrosion"
          ],
          [
           "cosmic american"
          ],
          [
           "cosmic post-rock"
          ],
          [
           "country"
          ],
          [
           "country blues"
          ],
          [
           "country boogie"
          ],
          [
           "country dawn"
          ],
          [
           "country gospel"
          ],
          [
           "country pop"
          ],
          [
           "country rap"
          ],
          [
           "country road"
          ],
          [
           "country rock"
          ],
          [
           "coverchill"
          ],
          [
           "cowboy western"
          ],
          [
           "cowpunk"
          ],
          [
           "crack rock steady"
          ],
          [
           "croatian folk"
          ],
          [
           "croatian pop"
          ],
          [
           "croatian rock"
          ],
          [
           "crossover thrash"
          ],
          [
           "crunk"
          ],
          [
           "crust punk"
          ],
          [
           "cuarteto"
          ],
          [
           "cuatro venezolano"
          ],
          [
           "cuban alternative"
          ],
          [
           "cuban rumba"
          ],
          [
           "cubaton"
          ],
          [
           "cumbia"
          ],
          [
           "cumbia andina mexicana"
          ],
          [
           "cumbia chilena"
          ],
          [
           "cumbia colombiana regia"
          ],
          [
           "cumbia ecuatoriana"
          ],
          [
           "cumbia funk"
          ],
          [
           "cumbia lagunera"
          ],
          [
           "cumbia paraguaya"
          ],
          [
           "cumbia peruana"
          ],
          [
           "cumbia pop"
          ],
          [
           "cumbia ranchera"
          ],
          [
           "cumbia salvadorena"
          ],
          [
           "cumbia santafesina"
          ],
          [
           "cumbia sonidera"
          ],
          [
           "cumbia villera"
          ],
          [
           "cyberpunk"
          ],
          [
           "cymraeg"
          ],
          [
           "cypriot pop"
          ],
          [
           "czech classical"
          ],
          [
           "czech classical piano"
          ],
          [
           "czech contemporary classical"
          ],
          [
           "d-beat"
          ],
          [
           "dabke"
          ],
          [
           "dakke dak"
          ],
          [
           "dallas indie"
          ],
          [
           "dance pop"
          ],
          [
           "dance rock"
          ],
          [
           "dance-punk"
          ],
          [
           "dancehall"
          ],
          [
           "dangdut"
          ],
          [
           "danish alternative rock"
          ],
          [
           "danish classical"
          ],
          [
           "danish electronic"
          ],
          [
           "danish electropop"
          ],
          [
           "danish hip hop"
          ],
          [
           "danish jazz"
          ],
          [
           "danish metal"
          ],
          [
           "danish pop"
          ],
          [
           "danish pop rock"
          ],
          [
           "danish post-punk"
          ],
          [
           "danish punk"
          ],
          [
           "danish rock"
          ],
          [
           "danish singer-songwriter"
          ],
          [
           "dansband"
          ],
          [
           "danseband"
          ],
          [
           "dansktop"
          ],
          [
           "danspunk"
          ],
          [
           "dark cabaret"
          ],
          [
           "dark clubbing"
          ],
          [
           "dark disco"
          ],
          [
           "dark hardcore"
          ],
          [
           "dark jazz"
          ],
          [
           "dark minimal techno"
          ],
          [
           "dark post-punk"
          ],
          [
           "dark techno"
          ],
          [
           "dark trap"
          ],
          [
           "dark wave"
          ],
          [
           "darksynth"
          ],
          [
           "dayton indie"
          ],
          [
           "dc hardcore"
          ],
          [
           "dc indie"
          ],
          [
           "death 'n' roll"
          ],
          [
           "death metal"
          ],
          [
           "deathcore"
          ],
          [
           "deathgrass"
          ],
          [
           "deathgrind"
          ],
          [
           "deathrash"
          ],
          [
           "deathrock"
          ],
          [
           "deathstep"
          ],
          [
           "deep acoustic pop"
          ],
          [
           "deep adult standards"
          ],
          [
           "deep big room"
          ],
          [
           "deep ccm"
          ],
          [
           "deep christian rock"
          ],
          [
           "deep classic garage rock"
          ],
          [
           "deep comedy"
          ],
          [
           "deep contemporary country"
          ],
          [
           "deep dance pop"
          ],
          [
           "deep delta blues"
          ],
          [
           "deep disco"
          ],
          [
           "deep disco house"
          ],
          [
           "deep dnb"
          ],
          [
           "deep east coast hip hop"
          ],
          [
           "deep euro house"
          ],
          [
           "deep flow"
          ],
          [
           "deep free jazz"
          ],
          [
           "deep freestyle"
          ],
          [
           "deep full on"
          ],
          [
           "deep funk"
          ],
          [
           "deep g funk"
          ],
          [
           "deep gothic post-punk"
          ],
          [
           "deep groove house"
          ],
          [
           "deep house"
          ],
          [
           "deep idm"
          ],
          [
           "deep indian pop"
          ],
          [
           "deep indie singer-songwriter"
          ],
          [
           "deep latin alternative"
          ],
          [
           "deep latin christian"
          ],
          [
           "deep melodic metalcore"
          ],
          [
           "deep minimal techno"
          ],
          [
           "deep motown"
          ],
          [
           "deep new americana"
          ],
          [
           "deep new wave"
          ],
          [
           "deep norteno"
          ],
          [
           "deep northern soul"
          ],
          [
           "deep pop edm"
          ],
          [
           "deep progressive house"
          ],
          [
           "deep psychobilly"
          ],
          [
           "deep punk rock"
          ],
          [
           "deep r&b"
          ],
          [
           "deep ragga"
          ],
          [
           "deep regional mexican"
          ],
          [
           "deep smooth jazz"
          ],
          [
           "deep soft rock"
          ],
          [
           "deep soul house"
          ],
          [
           "deep soundtrack"
          ],
          [
           "deep southern soul"
          ],
          [
           "deep southern trap"
          ],
          [
           "deep space rock"
          ],
          [
           "deep talent show"
          ],
          [
           "deep tech house"
          ],
          [
           "deep techno"
          ],
          [
           "deep tropical house"
          ],
          [
           "deep underground hip hop"
          ],
          [
           "deep uplifting trance"
          ],
          [
           "delta blues"
          ],
          [
           "dembow"
          ],
          [
           "denpa-kei"
          ],
          [
           "denton tx indie"
          ],
          [
           "denver indie"
          ],
          [
           "depressive black metal"
          ],
          [
           "derby indie"
          ],
          [
           "desert blues"
          ],
          [
           "desi hip hop"
          ],
          [
           "desi pop"
          ],
          [
           "destroy techno"
          ],
          [
           "detroit hip hop"
          ],
          [
           "detroit house"
          ],
          [
           "detroit techno"
          ],
          [
           "detroit trap"
          ],
          [
           "detske pisnicky"
          ],
          [
           "detskie pesni"
          ],
          [
           "devon indie"
          ],
          [
           "dfw rap"
          ],
          [
           "dhrupad"
          ],
          [
           "digital hardcore"
          ],
          [
           "dinner jazz"
          ],
          [
           "dirty south rap"
          ],
          [
           "dirty texas rap"
          ],
          [
           "disco"
          ],
          [
           "disco house"
          ],
          [
           "disney"
          ],
          [
           "diva house"
          ],
          [
           "dixieland"
          ],
          [
           "diy emo"
          ],
          [
           "djent"
          ],
          [
           "dmv rap"
          ],
          [
           "dominican pop"
          ],
          [
           "dong-yo"
          ],
          [
           "doo-wop"
          ],
          [
           "doom metal"
          ],
          [
           "double drumming"
          ],
          [
           "downtempo"
          ],
          [
           "drama"
          ],
          [
           "dream pop"
          ],
          [
           "dream trance"
          ],
          [
           "dreamgaze"
          ],
          [
           "dreamo"
          ],
          [
           "drift"
          ],
          [
           "drill"
          ],
          [
           "drill and bass"
          ],
          [
           "drone"
          ],
          [
           "drone folk"
          ],
          [
           "drone metal"
          ],
          [
           "drum and bass"
          ],
          [
           "dub"
          ],
          [
           "dub metal"
          ],
          [
           "dub poetry"
          ],
          [
           "dub techno"
          ],
          [
           "dubstep"
          ],
          [
           "dubsteppe"
          ],
          [
           "duduk"
          ],
          [
           "duluth indie"
          ],
          [
           "dunedin indie"
          ],
          [
           "dunedin sound"
          ],
          [
           "dungeon synth"
          ],
          [
           "duranguense"
          ],
          [
           "dusseldorf electronic"
          ],
          [
           "dutch blues"
          ],
          [
           "dutch cabaret"
          ],
          [
           "dutch classical piano"
          ],
          [
           "dutch death metal"
          ],
          [
           "dutch dnb"
          ],
          [
           "dutch edm"
          ],
          [
           "dutch folk"
          ],
          [
           "dutch hip hop"
          ],
          [
           "dutch house"
          ],
          [
           "dutch indie"
          ],
          [
           "dutch jazz"
          ],
          [
           "dutch metal"
          ],
          [
           "dutch pop"
          ],
          [
           "dutch prog"
          ],
          [
           "dutch rap pop"
          ],
          [
           "dutch rock"
          ],
          [
           "dutch trance"
          ],
          [
           "e6fi"
          ],
          [
           "early american folk"
          ],
          [
           "early avant garde"
          ],
          [
           "early modern classical"
          ],
          [
           "early music"
          ],
          [
           "early music choir"
          ],
          [
           "early music ensemble"
          ],
          [
           "early reggae"
          ],
          [
           "early romantic era"
          ],
          [
           "early synthpop"
          ],
          [
           "early us punk"
          ],
          [
           "east coast hip hop"
          ],
          [
           "east coast reggae"
          ],
          [
           "eastern bloc groove"
          ],
          [
           "easy listening"
          ],
          [
           "easycore"
          ],
          [
           "eau claire indie"
          ],
          [
           "ebm"
          ],
          [
           "ecm-style jazz"
          ],
          [
           "ectofolk"
          ],
          [
           "ecuadorian pop"
          ],
          [
           "edm"
          ],
          [
           "edmonton indie"
          ],
          [
           "egyptian pop"
          ],
          [
           "egyptian traditional"
          ],
          [
           "el paso indie"
          ],
          [
           "electra"
          ],
          [
           "electric bass"
          ],
          [
           "electric blues"
          ],
          [
           "electro"
          ],
          [
           "electro house"
          ],
          [
           "electro jazz"
          ],
          [
           "electro latino"
          ],
          [
           "electro swing"
          ],
          [
           "electro-industrial"
          ],
          [
           "electro-pop francais"
          ],
          [
           "electroclash"
          ],
          [
           "electrofox"
          ],
          [
           "electronic djent"
          ],
          [
           "electronic rock"
          ],
          [
           "electronic trap"
          ],
          [
           "electronica"
          ],
          [
           "electronica argentina"
          ],
          [
           "electropop"
          ],
          [
           "electropowerpop"
          ],
          [
           "emo"
          ],
          [
           "emo mexicano"
          ],
          [
           "emo punk"
          ],
          [
           "emo rap"
          ],
          [
           "emocore"
          ],
          [
           "english baroque"
          ],
          [
           "english indie rock"
          ],
          [
           "english renaissance"
          ],
          [
           "enka"
          ],
          [
           "entehno"
          ],
          [
           "environmental"
          ],
          [
           "epic doom"
          ],
          [
           "epicore"
          ],
          [
           "erhu"
          ],
          [
           "escape room"
          ],
          [
           "esperanto"
          ],
          [
           "essex indie"
          ],
          [
           "estonian hip hop"
          ],
          [
           "estonian pop"
          ],
          [
           "ethereal wave"
          ],
          [
           "etherpop"
          ],
          [
           "ethio-jazz"
          ],
          [
           "ethiopian pop"
          ],
          [
           "ethnomusicology"
          ],
          [
           "ethnotronica"
          ],
          [
           "eugene indie"
          ],
          [
           "euphoric hardstyle"
          ],
          [
           "eurobeat"
          ],
          [
           "eurodance"
          ],
          [
           "europop"
          ],
          [
           "euroska"
          ],
          [
           "eurovision"
          ],
          [
           "exotica"
          ],
          [
           "experimental"
          ],
          [
           "experimental ambient"
          ],
          [
           "experimental big band"
          ],
          [
           "experimental dub"
          ],
          [
           "experimental folk"
          ],
          [
           "experimental guitar"
          ],
          [
           "experimental hip hop"
          ],
          [
           "experimental house"
          ],
          [
           "experimental indie"
          ],
          [
           "experimental jazz"
          ],
          [
           "experimental pop"
          ],
          [
           "experimental rock"
          ],
          [
           "experimental vocal"
          ],
          [
           "fado"
          ],
          [
           "family gospel"
          ],
          [
           "faroese pop"
          ],
          [
           "fast melodic punk"
          ],
          [
           "fidget house"
          ],
          [
           "filmi"
          ],
          [
           "filter house"
          ],
          [
           "filthstep"
          ],
          [
           "final fantasy"
          ],
          [
           "fingerstyle"
          ],
          [
           "finnish alternative rock"
          ],
          [
           "finnish classical"
          ],
          [
           "finnish contemporary classical"
          ],
          [
           "finnish death metal"
          ],
          [
           "finnish edm"
          ],
          [
           "finnish hard rock"
          ],
          [
           "finnish heavy metal"
          ],
          [
           "finnish metal"
          ],
          [
           "finnish power metal"
          ],
          [
           "finnish soul"
          ],
          [
           "flamenco"
          ],
          [
           "flamenco guitar"
          ],
          [
           "flick hop"
          ],
          [
           "flint hip hop"
          ],
          [
           "float house"
          ],
          [
           "florida death metal"
          ],
          [
           "florida rap"
          ],
          [
           "fluxwork"
          ],
          [
           "fo jing"
          ],
          [
           "focus"
          ],
          [
           "focus beats"
          ],
          [
           "focus trance"
          ],
          [
           "folclor afrocolombiano"
          ],
          [
           "folclor colombiano"
          ],
          [
           "folclore extremeno"
          ],
          [
           "folclore jujeno"
          ],
          [
           "folclore navarra"
          ],
          [
           "folclore salteno"
          ],
          [
           "folclore tucumano"
          ],
          [
           "folk"
          ],
          [
           "folk metal"
          ],
          [
           "folk punk"
          ],
          [
           "folk rock"
          ],
          [
           "folk rock italiano"
          ],
          [
           "folk-pop"
          ],
          [
           "folklore argentino"
          ],
          [
           "folklore boliviano"
          ],
          [
           "folklore chileno"
          ],
          [
           "folklore ecuatoriano"
          ],
          [
           "folklore peruano"
          ],
          [
           "folklore venezolano"
          ],
          [
           "folklore veracruzano"
          ],
          [
           "folkmusik"
          ],
          [
           "folktronica"
          ],
          [
           "footwork"
          ],
          [
           "forro"
          ],
          [
           "forro tradicional"
          ],
          [
           "fort worth indie"
          ],
          [
           "fourth world"
          ],
          [
           "francoton"
          ],
          [
           "freak folk"
          ],
          [
           "freakbeat"
          ],
          [
           "free folk"
          ],
          [
           "free improvisation"
          ],
          [
           "free jazz"
          ],
          [
           "freestyle"
          ],
          [
           "french baroque"
          ],
          [
           "french classical piano"
          ],
          [
           "french contemporary classical"
          ],
          [
           "french death metal"
          ],
          [
           "french dnb"
          ],
          [
           "french hip hop"
          ],
          [
           "french indie folk"
          ],
          [
           "french indie pop"
          ],
          [
           "french indietronica"
          ],
          [
           "french jazz"
          ],
          [
           "french metal"
          ],
          [
           "french movie tunes"
          ],
          [
           "french opera"
          ],
          [
           "french orchestra"
          ],
          [
           "french pop"
          ],
          [
           "french post-punk"
          ],
          [
           "french psychedelic"
          ],
          [
           "french reggae"
          ],
          [
           "french rock"
          ],
          [
           "french romanticism"
          ],
          [
           "french shoegaze"
          ],
          [
           "french soundtrack"
          ],
          [
           "french synthpop"
          ],
          [
           "french techno"
          ],
          [
           "frenchcore"
          ],
          [
           "full on"
          ],
          [
           "funana"
          ],
          [
           "funeral doom"
          ],
          [
           "funk"
          ],
          [
           "funk 150 bpm"
          ],
          [
           "funk carioca"
          ],
          [
           "funk das antigas"
          ],
          [
           "funk metal"
          ],
          [
           "funk mexicano"
          ],
          [
           "funk ostentacao"
          ],
          [
           "funk paulista"
          ],
          [
           "funk pop"
          ],
          [
           "funk rock"
          ],
          [
           "funky breaks"
          ],
          [
           "funky tech house"
          ],
          [
           "future bass"
          ],
          [
           "future funk"
          ],
          [
           "future garage"
          ],
          [
           "future house"
          ],
          [
           "future rock"
          ],
          [
           "futurepop"
          ],
          [
           "g funk"
          ],
          [
           "gabba"
          ],
          [
           "gabonese pop"
          ],
          [
           "gaian doom"
          ],
          [
           "gainesville indie"
          ],
          [
           "gaita zuliana"
          ],
          [
           "galante era"
          ],
          [
           "gamelan"
          ],
          [
           "gaming dubstep"
          ],
          [
           "gaming edm"
          ],
          [
           "gangster rap"
          ],
          [
           "garage house"
          ],
          [
           "garage pop"
          ],
          [
           "garage psych"
          ],
          [
           "garage punk"
          ],
          [
           "garage punk blues"
          ],
          [
           "garage rock"
          ],
          [
           "garage rock revival"
          ],
          [
           "gauze pop"
          ],
          [
           "gbvfi"
          ],
          [
           "geek folk"
          ],
          [
           "geek rock"
          ],
          [
           "georgian folk"
          ],
          [
           "german alternative rock"
          ],
          [
           "german baroque"
          ],
          [
           "german choir"
          ],
          [
           "german classical piano"
          ],
          [
           "german country"
          ],
          [
           "german dance"
          ],
          [
           "german hard rock"
          ],
          [
           "german heavy metal"
          ],
          [
           "german house"
          ],
          [
           "german indie"
          ],
          [
           "german jazz"
          ],
          [
           "german literature"
          ],
          [
           "german metal"
          ],
          [
           "german oi"
          ],
          [
           "german opera"
          ],
          [
           "german orchestra"
          ],
          [
           "german pop"
          ],
          [
           "german pop rock"
          ],
          [
           "german post-hardcore"
          ],
          [
           "german power metal"
          ],
          [
           "german punk"
          ],
          [
           "german renaissance"
          ],
          [
           "german rock"
          ],
          [
           "german romanticism"
          ],
          [
           "german show tunes"
          ],
          [
           "german soundtrack"
          ],
          [
           "german techno"
          ],
          [
           "german thrash metal"
          ],
          [
           "german trance"
          ],
          [
           "german underground rap"
          ],
          [
           "ghanaian hip hop"
          ],
          [
           "ghanaian traditional"
          ],
          [
           "ghazal"
          ],
          [
           "ghent indie"
          ],
          [
           "girl group"
          ],
          [
           "glam metal"
          ],
          [
           "glam punk"
          ],
          [
           "glam rock"
          ],
          [
           "glee club"
          ],
          [
           "glitch"
          ],
          [
           "glitch hop"
          ],
          [
           "glitch pop"
          ],
          [
           "glitchcore"
          ],
          [
           "go-go"
          ],
          [
           "goregrind"
          ],
          [
           "gospel"
          ],
          [
           "gospel antigas"
          ],
          [
           "gospel blues"
          ],
          [
           "gospel italiano"
          ],
          [
           "gospel r&b"
          ],
          [
           "gospel rap"
          ],
          [
           "gospel singers"
          ],
          [
           "gospel soul"
          ],
          [
           "gothabilly"
          ],
          [
           "gothenburg indie"
          ],
          [
           "gothenburg metal"
          ],
          [
           "gothic alternative"
          ],
          [
           "gothic americana"
          ],
          [
           "gothic black metal"
          ],
          [
           "gothic metal"
          ],
          [
           "gothic post-punk"
          ],
          [
           "gothic rock"
          ],
          [
           "gothic symphonic metal"
          ],
          [
           "gqom"
          ],
          [
           "grand rapids indie"
          ],
          [
           "grave wave"
          ],
          [
           "greek clarinet"
          ],
          [
           "greek contemporary classical"
          ],
          [
           "greek folk"
          ],
          [
           "greek guitar"
          ],
          [
           "greek house"
          ],
          [
           "greek jazz"
          ],
          [
           "greek pop"
          ],
          [
           "greek swing"
          ],
          [
           "gregorian chant"
          ],
          [
           "grime"
          ],
          [
           "grindcore"
          ],
          [
           "griot"
          ],
          [
           "groove metal"
          ],
          [
           "groove room"
          ],
          [
           "grunge"
          ],
          [
           "grunge pop"
          ],
          [
           "grupera"
          ],
          [
           "gruperas inmortales"
          ],
          [
           "guadalajara indie"
          ],
          [
           "guam indie"
          ],
          [
           "guaracha"
          ],
          [
           "guatemalan pop"
          ],
          [
           "guidance"
          ],
          [
           "guinean pop"
          ],
          [
           "guitarra argentina"
          ],
          [
           "guitarra clasica"
          ],
          [
           "guitarra portuguesa"
          ],
          [
           "gujarati garba"
          ],
          [
           "gujarati pop"
          ],
          [
           "guzheng"
          ],
          [
           "gymcore"
          ],
          [
           "gypsy"
          ],
          [
           "gypsy jazz"
          ],
          [
           "gypsy punk"
          ],
          [
           "haitian traditional"
          ],
          [
           "halifax indie"
          ],
          [
           "halloween"
          ],
          [
           "hamburg electronic"
          ],
          [
           "hammered dulcimer"
          ],
          [
           "hammond organ"
          ],
          [
           "hands up"
          ],
          [
           "hangpan"
          ],
          [
           "happy hardcore"
          ],
          [
           "hard alternative"
          ],
          [
           "hard bop"
          ],
          [
           "hard minimal techno"
          ],
          [
           "hard rock"
          ],
          [
           "hard rock brasileiro"
          ],
          [
           "hardcore"
          ],
          [
           "hardcore hip hop"
          ],
          [
           "hardcore punk"
          ],
          [
           "hardcore techno"
          ],
          [
           "hardstyle"
          ],
          [
           "harlem hip hop"
          ],
          [
           "harlem renaissance"
          ],
          [
           "harmonica blues"
          ],
          [
           "harmonica jazz"
          ],
          [
           "harp"
          ],
          [
           "harpsichord"
          ],
          [
           "haryanvi pop"
          ],
          [
           "hauntology"
          ],
          [
           "hawaiian"
          ],
          [
           "hawaiian hip hop"
          ],
          [
           "hawaiian indie"
          ],
          [
           "healing"
          ],
          [
           "heartland rock"
          ],
          [
           "hi-nrg"
          ],
          [
           "highlife"
          ],
          [
           "hindi hip hop"
          ],
          [
           "hindi indie"
          ],
          [
           "hindustani classical"
          ],
          [
           "hindustani instrumental"
          ],
          [
           "hindustani vocal"
          ],
          [
           "hip hop"
          ],
          [
           "hip hop cubano"
          ],
          [
           "hip house"
          ],
          [
           "hip pop"
          ],
          [
           "hiplife"
          ],
          [
           "histoire pour enfants"
          ],
          [
           "historic classical performance"
          ],
          [
           "historic orchestral performance"
          ],
          [
           "historic piano performance"
          ],
          [
           "historic string quartet"
          ],
          [
           "historical keyboard"
          ],
          [
           "historically informed performance"
          ],
          [
           "hoerspiel"
          ],
          [
           "hokkien pop"
          ],
          [
           "hollywood"
          ],
          [
           "hong kong hip hop"
          ],
          [
           "hong kong indie"
          ],
          [
           "hong kong rock"
          ],
          [
           "honky tonk"
          ],
          [
           "honky-tonk piano"
          ],
          [
           "hopebeat"
          ],
          [
           "horror punk"
          ],
          [
           "horror synth"
          ],
          [
           "horrorcore"
          ],
          [
           "house"
          ],
          [
           "houston rap"
          ],
          [
           "huapango"
          ],
          [
           "huayno"
          ],
          [
           "hula"
          ],
          [
           "humppa"
          ],
          [
           "hungarian choir"
          ],
          [
           "hungarian classical performance"
          ],
          [
           "hungarian classical piano"
          ],
          [
           "hungarian contemporary classical"
          ],
          [
           "hungarian edm"
          ],
          [
           "hungarian folk"
          ],
          [
           "hungarian pop"
          ],
          [
           "hungarian rock"
          ],
          [
           "hungarian techno"
          ],
          [
           "hurdy-gurdy"
          ],
          [
           "hyperpop"
          ],
          [
           "hyphy"
          ],
          [
           "icelandic classical"
          ],
          [
           "icelandic electronic"
          ],
          [
           "icelandic experimental"
          ],
          [
           "icelandic folk"
          ],
          [
           "icelandic indie"
          ],
          [
           "icelandic jazz"
          ],
          [
           "icelandic pop"
          ],
          [
           "icelandic rock"
          ],
          [
           "idaho indie"
          ],
          [
           "idol"
          ],
          [
           "idol rock"
          ],
          [
           "ilahiler"
          ],
          [
           "ilocano pop"
          ],
          [
           "impressionism"
          ],
          [
           "indian classical"
          ],
          [
           "indian edm"
          ],
          [
           "indian folk"
          ],
          [
           "indian fusion"
          ],
          [
           "indian indie"
          ],
          [
           "indian instrumental"
          ],
          [
           "indian jazz"
          ],
          [
           "indiana hip hop"
          ],
          [
           "indie anthem-folk"
          ],
          [
           "indie cafe pop"
          ],
          [
           "indie deutschrap"
          ],
          [
           "indie dream pop"
          ],
          [
           "indie electronica"
          ],
          [
           "indie electropop"
          ],
          [
           "indie folk"
          ],
          [
           "indie game soundtrack"
          ],
          [
           "indie garage rock"
          ],
          [
           "indie hip hop"
          ],
          [
           "indie jazz"
          ],
          [
           "indie pop"
          ],
          [
           "indie pop rap"
          ],
          [
           "indie poptimism"
          ],
          [
           "indie psych-pop"
          ],
          [
           "indie punk"
          ],
          [
           "indie quebecois"
          ],
          [
           "indie r&b"
          ],
          [
           "indie rock"
          ],
          [
           "indie rock mexicano"
          ],
          [
           "indie rockism"
          ],
          [
           "indie shoegaze"
          ],
          [
           "indie singer-songwriter"
          ],
          [
           "indie soul"
          ],
          [
           "indie surf"
          ],
          [
           "indie triste"
          ],
          [
           "indiecoustica"
          ],
          [
           "indietronica"
          ],
          [
           "indonesian hip hop"
          ],
          [
           "indonesian indie"
          ],
          [
           "indonesian pop"
          ],
          [
           "indonesian r&b"
          ],
          [
           "indonesian worship"
          ],
          [
           "industrial"
          ],
          [
           "industrial hardcore"
          ],
          [
           "industrial hip hop"
          ],
          [
           "industrial metal"
          ],
          [
           "industrial rock"
          ],
          [
           "indy indie"
          ],
          [
           "instrumental acoustic guitar"
          ],
          [
           "instrumental bluegrass"
          ],
          [
           "instrumental funk"
          ],
          [
           "instrumental grime"
          ],
          [
           "instrumental math rock"
          ],
          [
           "instrumental post-rock"
          ],
          [
           "instrumental progressive metal"
          ],
          [
           "instrumental rock"
          ],
          [
           "instrumental soul"
          ],
          [
           "instrumental stoner rock"
          ],
          [
           "instrumental surf"
          ],
          [
           "intelligent dance music"
          ],
          [
           "iowa hip hop"
          ],
          [
           "irish accordion"
          ],
          [
           "irish ballad"
          ],
          [
           "irish banjo"
          ],
          [
           "irish classical"
          ],
          [
           "irish country"
          ],
          [
           "irish dance"
          ],
          [
           "irish fiddle"
          ],
          [
           "irish folk"
          ],
          [
           "irish hip hop"
          ],
          [
           "irish indie"
          ],
          [
           "irish metal"
          ],
          [
           "irish pop"
          ],
          [
           "irish pub song"
          ],
          [
           "irish rock"
          ],
          [
           "irish singer-songwriter"
          ],
          [
           "iskelma"
          ],
          [
           "islamic recitation"
          ],
          [
           "isle of wight indie"
          ],
          [
           "israeli classical"
          ],
          [
           "israeli classical piano"
          ],
          [
           "israeli folk"
          ],
          [
           "israeli hip hop"
          ],
          [
           "israeli mediterranean"
          ],
          [
           "israeli pop"
          ],
          [
           "israeli rock"
          ],
          [
           "israeli singer-songwriter"
          ],
          [
           "israeli techno"
          ],
          [
           "italian adult pop"
          ],
          [
           "italian baritone"
          ],
          [
           "italian baroque"
          ],
          [
           "italian baroque ensemble"
          ],
          [
           "italian bass"
          ],
          [
           "italian blues"
          ],
          [
           "italian classical guitar"
          ],
          [
           "italian classical piano"
          ],
          [
           "italian contemporary jazz"
          ],
          [
           "italian disco"
          ],
          [
           "italian gothic"
          ],
          [
           "italian gothic metal"
          ],
          [
           "italian indie pop"
          ],
          [
           "italian jazz"
          ],
          [
           "italian library music"
          ],
          [
           "italian mandolin"
          ],
          [
           "italian metal"
          ],
          [
           "italian mezzo-soprano"
          ],
          [
           "italian modern prog"
          ],
          [
           "italian opera"
          ],
          [
           "italian orchestra"
          ],
          [
           "italian pop rock"
          ],
          [
           "italian power metal"
          ],
          [
           "italian progressive metal"
          ],
          [
           "italian progressive rock"
          ],
          [
           "italian renaissance"
          ],
          [
           "italian romanticism"
          ],
          [
           "italian soprano"
          ],
          [
           "italian soundtrack"
          ],
          [
           "italian techno"
          ],
          [
           "italian tenor"
          ],
          [
           "italian violin"
          ],
          [
           "italo dance"
          ],
          [
           "italo house"
          ],
          [
           "j-acoustic"
          ],
          [
           "j-ambient"
          ],
          [
           "j-dance"
          ],
          [
           "j-division"
          ],
          [
           "j-idol"
          ],
          [
           "j-metal"
          ],
          [
           "j-pixie"
          ],
          [
           "j-pop"
          ],
          [
           "j-pop girl group"
          ],
          [
           "j-poprock"
          ],
          [
           "j-punk"
          ],
          [
           "j-reggae"
          ],
          [
           "j-rock"
          ],
          [
           "jacksonville indie"
          ],
          [
           "jam band"
          ],
          [
           "jamgrass"
          ],
          [
           "jamtronica"
          ],
          [
           "jangle pop"
          ],
          [
           "japanese alternative rock"
          ],
          [
           "japanese chillhop"
          ],
          [
           "japanese city pop"
          ],
          [
           "japanese classical"
          ],
          [
           "japanese classical performance"
          ],
          [
           "japanese classical piano"
          ],
          [
           "japanese concert band"
          ],
          [
           "japanese dream pop"
          ],
          [
           "japanese electronic"
          ],
          [
           "japanese electropop"
          ],
          [
           "japanese emo"
          ],
          [
           "japanese experimental"
          ],
          [
           "japanese folk"
          ],
          [
           "japanese garage rock"
          ],
          [
           "japanese girl punk"
          ],
          [
           "japanese heavy metal"
          ],
          [
           "japanese idm"
          ],
          [
           "japanese indie folk"
          ],
          [
           "japanese indie rock"
          ],
          [
           "japanese instrumental"
          ],
          [
           "japanese jazz"
          ],
          [
           "japanese jazz fusion"
          ],
          [
           "japanese jazztronica"
          ],
          [
           "japanese metalcore"
          ],
          [
           "japanese new wave"
          ],
          [
           "japanese piano"
          ],
          [
           "japanese pop punk"
          ],
          [
           "japanese post-hardcore"
          ],
          [
           "japanese power metal"
          ],
          [
           "japanese prog"
          ],
          [
           "japanese psychedelic"
          ],
          [
           "japanese punk rock"
          ],
          [
           "japanese r&b"
          ],
          [
           "japanese rockabilly"
          ],
          [
           "japanese singer-songwriter"
          ],
          [
           "japanese soundtrack"
          ],
          [
           "japanese traditional"
          ],
          [
           "japanese vgm"
          ],
          [
           "japanese vocal jazz"
          ],
          [
           "jawaiian"
          ],
          [
           "jazz"
          ],
          [
           "jazz accordion"
          ],
          [
           "jazz blues"
          ],
          [
           "jazz boom bap"
          ],
          [
           "jazz brass"
          ],
          [
           "jazz chileno"
          ],
          [
           "jazz clarinet"
          ],
          [
           "jazz colombiano"
          ],
          [
           "jazz cubano"
          ],
          [
           "jazz double bass"
          ],
          [
           "jazz drums"
          ],
          [
           "jazz flute"
          ],
          [
           "jazz funk"
          ],
          [
           "jazz fusion"
          ],
          [
           "jazz guitar"
          ],
          [
           "jazz harp"
          ],
          [
           "jazz metal"
          ],
          [
           "jazz mexicano"
          ],
          [
           "jazz orchestra"
          ],
          [
           "jazz organ"
          ],
          [
           "jazz piano"
          ],
          [
           "jazz pop"
          ],
          [
           "jazz quartet"
          ],
          [
           "jazz rap"
          ],
          [
           "jazz rock"
          ],
          [
           "jazz saxophone"
          ],
          [
           "jazz trio"
          ],
          [
           "jazz trombone"
          ],
          [
           "jazz trumpet"
          ],
          [
           "jazz tuba"
          ],
          [
           "jazz venezolano"
          ],
          [
           "jazz vibraphone"
          ],
          [
           "jazz violin"
          ],
          [
           "jazztronica"
          ],
          [
           "jewish cantorial"
          ],
          [
           "jewish hip hop"
          ],
          [
           "jig and reel"
          ],
          [
           "jordanian pop"
          ],
          [
           "joropo"
          ],
          [
           "jovem guarda"
          ],
          [
           "jug band"
          ],
          [
           "juju"
          ],
          [
           "jump blues"
          ],
          [
           "jump up"
          ],
          [
           "k-indie"
          ],
          [
           "k-pop"
          ],
          [
           "k-pop boy group"
          ],
          [
           "k-pop girl group"
          ],
          [
           "k-rap"
          ],
          [
           "kabarett"
          ],
          [
           "kabyle"
          ],
          [
           "kaneka"
          ],
          [
           "kannada bhava geethe"
          ],
          [
           "kansas city hip hop"
          ],
          [
           "kashmiri pop"
          ],
          [
           "kawaii future bass"
          ],
          [
           "kawaii metal"
          ],
          [
           "kayokyoku"
          ],
          [
           "kc indie"
          ],
          [
           "kent indie"
          ],
          [
           "kentucky hip hop"
          ],
          [
           "kentucky indie"
          ],
          [
           "kentucky metal"
          ],
          [
           "kentucky mountain folk"
          ],
          [
           "kentucky punk"
          ],
          [
           "kentucky roots"
          ],
          [
           "keroncong"
          ],
          [
           "khaleeji iraqi"
          ],
          [
           "khmer"
          ],
          [
           "kids dance party"
          ],
          [
           "kindie rock"
          ],
          [
           "kingston on indie"
          ],
          [
           "kirtan"
          ],
          [
           "kiwi rock"
          ],
          [
           "kizomba antigas"
          ],
          [
           "kleine hoerspiel"
          ],
          [
           "klezmer"
          ],
          [
           "knoxville indie"
          ],
          [
           "kodomo no ongaku"
          ],
          [
           "kolsche karneval"
          ],
          [
           "komedi"
          ],
          [
           "kompa"
          ],
          [
           "kora"
          ],
          [
           "korean classical performance"
          ],
          [
           "korean classical piano"
          ],
          [
           "korean indie rock"
          ],
          [
           "korean mask singer"
          ],
          [
           "korean pop"
          ],
          [
           "korean r&b"
          ],
          [
           "korean trap"
          ],
          [
           "koto"
          ],
          [
           "krautrock"
          ],
          [
           "kundiman"
          ],
          [
           "la indie"
          ],
          [
           "la pop"
          ],
          [
           "laboratorio"
          ],
          [
           "lafayette indie"
          ],
          [
           "laiko"
          ],
          [
           "lancashire indie"
          ],
          [
           "lancaster pa indie"
          ],
          [
           "late romantic era"
          ],
          [
           "latin"
          ],
          [
           "latin afrobeat"
          ],
          [
           "latin alternative"
          ],
          [
           "latin american classical piano"
          ],
          [
           "latin arena pop"
          ],
          [
           "latin christian"
          ],
          [
           "latin classical"
          ],
          [
           "latin funk"
          ],
          [
           "latin hip hop"
          ],
          [
           "latin house"
          ],
          [
           "latin jazz"
          ],
          [
           "latin metal"
          ],
          [
           "latin pop"
          ],
          [
           "latin rock"
          ],
          [
           "latin ska"
          ],
          [
           "latin soundtrack"
          ],
          [
           "latin talent show"
          ],
          [
           "latin tech house"
          ],
          [
           "latin viral pop"
          ],
          [
           "latin worship"
          ],
          [
           "latincore"
          ],
          [
           "latino comedy"
          ],
          [
           "latintronica"
          ],
          [
           "latinx alternative"
          ],
          [
           "latvian pop"
          ],
          [
           "lds"
          ],
          [
           "lds youth"
          ],
          [
           "lebanese pop"
          ],
          [
           "leicester indie"
          ],
          [
           "lexington ky indie"
          ],
          [
           "lgbtq+ hip hop"
          ],
          [
           "library music"
          ],
          [
           "liedermacher"
          ],
          [
           "light music"
          ],
          [
           "lilith"
          ],
          [
           "liquid funk"
          ],
          [
           "lithuanian electronic"
          ],
          [
           "liverpool indie"
          ],
          [
           "livetronica"
          ],
          [
           "lldm"
          ],
          [
           "lo star"
          ],
          [
           "lo-fi"
          ],
          [
           "lo-fi beats"
          ],
          [
           "lo-fi brasileiro"
          ],
          [
           "lo-fi chill"
          ],
          [
           "lo-fi cover"
          ],
          [
           "lo-fi emo"
          ],
          [
           "lo-fi house"
          ],
          [
           "lo-fi indie"
          ],
          [
           "lo-fi vgm"
          ],
          [
           "london rap"
          ],
          [
           "louisiana blues"
          ],
          [
           "louisiana metal"
          ],
          [
           "louisville indie"
          ],
          [
           "louisville underground"
          ],
          [
           "lounge"
          ],
          [
           "louvor"
          ],
          [
           "lovers rock"
          ],
          [
           "lullaby"
          ],
          [
           "lund indie"
          ],
          [
           "lute"
          ],
          [
           "macedonian folk"
          ],
          [
           "madchester"
          ],
          [
           "madrigal"
          ],
          [
           "magyar alternative"
          ],
          [
           "maine hip hop"
          ],
          [
           "maine indie"
          ],
          [
           "mainland chinese pop"
          ],
          [
           "makossa"
          ],
          [
           "malaysian mandopop"
          ],
          [
           "malaysian pop"
          ],
          [
           "malian blues"
          ],
          [
           "mallet"
          ],
          [
           "malmo indie"
          ],
          [
           "mambo"
          ],
          [
           "manchester hip hop"
          ],
          [
           "manchester indie"
          ],
          [
           "mande pop"
          ],
          [
           "mandolin"
          ],
          [
           "mandopop"
          ],
          [
           "manguebeat"
          ],
          [
           "manila sound"
          ],
          [
           "manitoba indie"
          ],
          [
           "mantra"
          ],
          [
           "marathi pop"
          ],
          [
           "marathi traditional"
          ],
          [
           "marching band"
          ],
          [
           "mariachi"
          ],
          [
           "mariachi cristiano"
          ],
          [
           "marimba orquesta"
          ],
          [
           "martial industrial"
          ],
          [
           "mashup"
          ],
          [
           "math rock"
          ],
          [
           "mathcore"
          ],
          [
           "mbalax"
          ],
          [
           "medieval"
          ],
          [
           "medieval folk"
          ],
          [
           "medieval rock"
          ],
          [
           "meditation"
          ],
          [
           "melancholia"
          ],
          [
           "melbourne bounce"
          ],
          [
           "melbourne bounce international"
          ],
          [
           "melbourne indie"
          ],
          [
           "mellow gold"
          ],
          [
           "melodic death metal"
          ],
          [
           "melodic deathcore"
          ],
          [
           "melodic dubstep"
          ],
          [
           "melodic groove metal"
          ],
          [
           "melodic hard rock"
          ],
          [
           "melodic hardcore"
          ],
          [
           "melodic metal"
          ],
          [
           "melodic metalcore"
          ],
          [
           "melodic power metal"
          ],
          [
           "melodic rap"
          ],
          [
           "melodic thrash"
          ],
          [
           "meme rap"
          ],
          [
           "memphis americana"
          ],
          [
           "memphis blues"
          ],
          [
           "memphis hip hop"
          ],
          [
           "memphis indie"
          ],
          [
           "memphis soul"
          ],
          [
           "mento"
          ],
          [
           "merengue"
          ],
          [
           "merengue tipico"
          ],
          [
           "merseybeat"
          ],
          [
           "messianic praise"
          ],
          [
           "metal"
          ],
          [
           "metal guitar"
          ],
          [
           "metal mineiro"
          ],
          [
           "metalcore"
          ],
          [
           "metropopolis"
          ],
          [
           "mexican classic rock"
          ],
          [
           "mexican classical"
          ],
          [
           "mexican hip hop"
          ],
          [
           "mexican indie"
          ],
          [
           "mexican pop"
          ],
          [
           "mexican pop punk"
          ],
          [
           "mexican rock"
          ],
          [
           "mexican rock-and-roll"
          ],
          [
           "mexican son"
          ],
          [
           "mexican traditional"
          ],
          [
           "miami bass"
          ],
          [
           "miami hip hop"
          ],
          [
           "miami indie"
          ],
          [
           "miami metal"
          ],
          [
           "michigan indie"
          ],
          [
           "microhouse"
          ],
          [
           "microtonal"
          ],
          [
           "middle earth"
          ],
          [
           "middle east hip hop"
          ],
          [
           "middle eastern traditional"
          ],
          [
           "midwest americana"
          ],
          [
           "midwest emo"
          ],
          [
           "military cadence"
          ],
          [
           "military rap"
          ],
          [
           "milwaukee indie"
          ],
          [
           "mindfulness"
          ],
          [
           "minecraft"
          ],
          [
           "minimal melodic techno"
          ],
          [
           "minimal tech house"
          ],
          [
           "minimal techno"
          ],
          [
           "minimal wave"
          ],
          [
           "minimalism"
          ],
          [
           "minneapolis indie"
          ],
          [
           "minneapolis metal"
          ],
          [
           "minneapolis punk"
          ],
          [
           "minneapolis sound"
          ],
          [
           "minnesota hip hop"
          ],
          [
           "mississippi hip hop"
          ],
          [
           "mississippi indie"
          ],
          [
           "mizrahi"
          ],
          [
           "mod revival"
          ],
          [
           "modern alternative pop"
          ],
          [
           "modern alternative rock"
          ],
          [
           "modern big band"
          ],
          [
           "modern blues"
          ],
          [
           "modern blues rock"
          ],
          [
           "modern bollywood"
          ],
          [
           "modern country rock"
          ],
          [
           "modern dream pop"
          ],
          [
           "modern folk rock"
          ],
          [
           "modern funk"
          ],
          [
           "modern hard rock"
          ],
          [
           "modern indie pop"
          ],
          [
           "modern jazz piano"
          ],
          [
           "modern jazz trio"
          ],
          [
           "modern old-time"
          ],
          [
           "modern performance"
          ],
          [
           "modern power pop"
          ],
          [
           "modern psychedelic folk"
          ],
          [
           "modern reggae"
          ],
          [
           "modern rock"
          ],
          [
           "modern salsa"
          ],
          [
           "modern ska punk"
          ],
          [
           "modern southern rock"
          ],
          [
           "modern string quartet"
          ],
          [
           "modern swing"
          ],
          [
           "modern uplift"
          ],
          [
           "modular synth"
          ],
          [
           "moldovan pop"
          ],
          [
           "mollywood"
          ],
          [
           "mongolian hip hop"
          ],
          [
           "mongolian pop"
          ],
          [
           "monterrey indie"
          ],
          [
           "montreal indie"
          ],
          [
           "moog"
          ],
          [
           "moombahton"
          ],
          [
           "morna"
          ],
          [
           "motivation"
          ],
          [
           "motown"
          ],
          [
           "mountain dulcimer"
          ],
          [
           "movie tunes"
          ],
          [
           "mpb"
          ],
          [
           "music box"
          ],
          [
           "music hall"
          ],
          [
           "musica afroperuana"
          ],
          [
           "musica alagoana"
          ],
          [
           "musica andina"
          ],
          [
           "musica andina colombiana"
          ],
          [
           "musica antigua"
          ],
          [
           "musica aragonesa"
          ],
          [
           "musica ayacuchana"
          ],
          [
           "musica canaria"
          ],
          [
           "musica costarricense"
          ],
          [
           "musica costena"
          ],
          [
           "musica cristiana guatemalteca"
          ],
          [
           "musica de fondo"
          ],
          [
           "musica gaucha tradicionalista"
          ],
          [
           "musica hondurena"
          ],
          [
           "musica infantil"
          ],
          [
           "musica jibara"
          ],
          [
           "musica juiz-forana"
          ],
          [
           "musica llanera"
          ],
          [
           "musica nicaraguense"
          ],
          [
           "musica para criancas"
          ],
          [
           "musica para ninos"
          ],
          [
           "musica paraibana"
          ],
          [
           "musica piemonteisa"
          ],
          [
           "musica popular colombiana"
          ],
          [
           "musica popular mineira"
          ],
          [
           "musica popular paraense"
          ],
          [
           "musica potosina"
          ],
          [
           "musica prehispanica"
          ],
          [
           "musica sarda"
          ],
          [
           "musica tradicional cubana"
          ],
          [
           "musica tropical guatemalteca"
          ],
          [
           "musical advocacy"
          ],
          [
           "musikkorps"
          ],
          [
           "musique concrete"
          ],
          [
           "musique peule"
          ],
          [
           "musique pour enfant quebecois"
          ],
          [
           "musique pour enfants"
          ],
          [
           "musique touareg"
          ],
          [
           "muzica populara"
          ],
          [
           "muzika l'yeladim"
          ],
          [
           "naija worship"
          ],
          [
           "nantes indie"
          ],
          [
           "narodna muzika"
          ],
          [
           "nashville americana"
          ],
          [
           "nashville hip hop"
          ],
          [
           "nashville indie"
          ],
          [
           "nashville singer-songwriter"
          ],
          [
           "nashville sound"
          ],
          [
           "native american"
          ],
          [
           "native american contemporary"
          ],
          [
           "native american flute"
          ],
          [
           "native american hip hop"
          ],
          [
           "native american spiritual"
          ],
          [
           "navajo"
          ],
          [
           "nederlandse hardstyle"
          ],
          [
           "nederpop"
          ],
          [
           "neo classical metal"
          ],
          [
           "neo kyma"
          ],
          [
           "neo mellow"
          ],
          [
           "neo r&b"
          ],
          [
           "neo soul"
          ],
          [
           "neo-classical"
          ],
          [
           "neo-kraut"
          ],
          [
           "neo-pagan"
          ],
          [
           "neo-progressive"
          ],
          [
           "neo-psychedelic"
          ],
          [
           "neo-rockabilly"
          ],
          [
           "neo-singer-songwriter"
          ],
          [
           "neo-synthpop"
          ],
          [
           "neo-trad metal"
          ],
          [
           "neo-traditional bluegrass"
          ],
          [
           "neo-traditional country"
          ],
          [
           "neoclassical darkwave"
          ],
          [
           "neoclassicism"
          ],
          [
           "neofolk"
          ],
          [
           "neon pop punk"
          ],
          [
           "neotango"
          ],
          [
           "nepali indie"
          ],
          [
           "nepali pop"
          ],
          [
           "nerdcore"
          ],
          [
           "neue deutsche harte"
          ],
          [
           "neue deutsche todeskunst"
          ],
          [
           "neue deutsche welle"
          ],
          [
           "neurofunk"
          ],
          [
           "new age"
          ],
          [
           "new age piano"
          ],
          [
           "new americana"
          ],
          [
           "new beat"
          ],
          [
           "new comedy"
          ],
          [
           "new england americana"
          ],
          [
           "new england emo"
          ],
          [
           "new french touch"
          ],
          [
           "new isolationism"
          ],
          [
           "new jack swing"
          ],
          [
           "new jersey hardcore"
          ],
          [
           "new jersey indie"
          ],
          [
           "new jersey punk"
          ],
          [
           "new jersey rap"
          ],
          [
           "new mexico music"
          ],
          [
           "new orleans blues"
          ],
          [
           "new orleans funk"
          ],
          [
           "new orleans indie"
          ],
          [
           "new orleans jazz"
          ],
          [
           "new orleans rap"
          ],
          [
           "new rave"
          ],
          [
           "new romantic"
          ],
          [
           "new tribe"
          ],
          [
           "new wave"
          ],
          [
           "new wave of thrash metal"
          ],
          [
           "new wave pop"
          ],
          [
           "new weird america"
          ],
          [
           "new york death metal"
          ],
          [
           "new york drill"
          ],
          [
           "new zealand classical"
          ],
          [
           "newcastle indie"
          ],
          [
           "newcastle nsw indie"
          ],
          [
           "nigerian hip hop"
          ],
          [
           "nigerian pop"
          ],
          [
           "nightcore"
          ],
          [
           "nightrun"
          ],
          [
           "ninja"
          ],
          [
           "nintendocore"
          ],
          [
           "nisiotika"
          ],
          [
           "nl folk"
          ],
          [
           "no wave"
          ],
          [
           "noise pop"
          ],
          [
           "noise punk"
          ],
          [
           "noise rock"
          ],
          [
           "nordic classical piano"
          ],
          [
           "nordic contemporary classical"
          ],
          [
           "nordic folk"
          ],
          [
           "nordic house"
          ],
          [
           "nordic orchestra"
          ],
          [
           "nordic post-rock"
          ],
          [
           "nordic soundtrack"
          ],
          [
           "norman ok indie"
          ],
          [
           "norsk lovsang"
          ],
          [
           "norteno"
          ],
          [
           "norteno-sax"
          ],
          [
           "north carolina emo"
          ],
          [
           "north carolina hip hop"
          ],
          [
           "north carolina indie"
          ],
          [
           "north carolina metal"
          ],
          [
           "north carolina roots"
          ],
          [
           "north east england indie"
          ],
          [
           "northern irish indie"
          ],
          [
           "northern irish punk"
          ],
          [
           "northern soul"
          ],
          [
           "norwegian black metal"
          ],
          [
           "norwegian choir"
          ],
          [
           "norwegian classical"
          ],
          [
           "norwegian contemporary jazz"
          ],
          [
           "norwegian death metal"
          ],
          [
           "norwegian experimental"
          ],
          [
           "norwegian hip hop"
          ],
          [
           "norwegian indie"
          ],
          [
           "norwegian jazz"
          ],
          [
           "norwegian metal"
          ],
          [
           "norwegian pop"
          ],
          [
           "norwegian pop rap"
          ],
          [
           "norwegian punk rock"
          ],
          [
           "norwegian rock"
          ],
          [
           "norwegian singer-songwriter"
          ],
          [
           "norwegian space disco"
          ],
          [
           "nottingham indie"
          ],
          [
           "nouvelle chanson francaise"
          ],
          [
           "nova canco"
          ],
          [
           "nova mpb"
          ],
          [
           "nova musica pernambucana"
          ],
          [
           "novelty"
          ],
          [
           "nu age"
          ],
          [
           "nu disco"
          ],
          [
           "nu gaze"
          ],
          [
           "nu jazz"
          ],
          [
           "nu metal"
          ],
          [
           "nu skool breaks"
          ],
          [
           "nu-cumbia"
          ],
          [
           "nu-metalcore"
          ],
          [
           "nubian traditional"
          ],
          [
           "nueva cancion"
          ],
          [
           "nueva ola chilena"
          ],
          [
           "nueva ola peruana"
          ],
          [
           "nuevo flamenco"
          ],
          [
           "nuevo folklore mexicano"
          ],
          [
           "nuevo regional mexicano"
          ],
          [
           "nuevo tango"
          ],
          [
           "nursery"
          ],
          [
           "nwobhm"
          ],
          [
           "nwothm"
          ],
          [
           "ny roots"
          ],
          [
           "nyc pop"
          ],
          [
           "nyc rap"
          ],
          [
           "nyhc"
          ],
          [
           "nz christian"
          ],
          [
           "nz folk"
          ],
          [
           "nz hardcore"
          ],
          [
           "nz indie"
          ],
          [
           "nz pop"
          ],
          [
           "nz punk"
          ],
          [
           "nz reggae"
          ],
          [
           "nz singer-songwriter"
          ],
          [
           "oakland hip hop"
          ],
          [
           "oakland indie"
          ],
          [
           "oc indie"
          ],
          [
           "oc rap"
          ],
          [
           "oceania soundtrack"
          ],
          [
           "ohio hip hop"
          ],
          [
           "ohio indie"
          ],
          [
           "oi"
          ],
          [
           "ok indie"
          ],
          [
           "okc indie"
          ],
          [
           "okinawan pop"
          ],
          [
           "oklahoma country"
          ],
          [
           "old school dancehall"
          ],
          [
           "old school hip hop"
          ],
          [
           "old school rap francais"
          ],
          [
           "old school thrash"
          ],
          [
           "old school uk hip hop"
          ],
          [
           "old west"
          ],
          [
           "old-time"
          ],
          [
           "old-time fiddle"
          ],
          [
           "olympia wa indie"
          ],
          [
           "omaha indie"
          ],
          [
           "one-person band"
          ],
          [
           "ontario indie"
          ],
          [
           "opera"
          ],
          [
           "opera chorus"
          ],
          [
           "opera metal"
          ],
          [
           "operatic pop"
          ],
          [
           "operetta"
          ],
          [
           "opm"
          ],
          [
           "oratory"
          ],
          [
           "orchestra"
          ],
          [
           "orchestral performance"
          ],
          [
           "orebro indie"
          ],
          [
           "organic ambient"
          ],
          [
           "organic electronic"
          ],
          [
           "organic house"
          ],
          [
           "orgcore"
          ],
          [
           "oriental classical"
          ],
          [
           "orkney and shetland folk"
          ],
          [
           "orlando indie"
          ],
          [
           "orquesta tipica"
          ],
          [
           "orthodox chant"
          ],
          [
           "oshare kei"
          ],
          [
           "otacore"
          ],
          [
           "oth indie"
          ],
          [
           "ottawa indie"
          ],
          [
           "ottawa rap"
          ],
          [
           "oud"
          ],
          [
           "outer hip hop"
          ],
          [
           "outlaw country"
          ],
          [
           "outsider"
          ],
          [
           "outsider house"
          ],
          [
           "oxford choir"
          ],
          [
           "oxford indie"
          ],
          [
           "p funk"
          ],
          [
           "pagan black metal"
          ],
          [
           "pagode"
          ],
          [
           "pagode baiano"
          ],
          [
           "paisley underground"
          ],
          [
           "pakistani folk"
          ],
          [
           "pakistani hip hop"
          ],
          [
           "pakistani pop"
          ],
          [
           "palestinian pop"
          ],
          [
           "palm desert scene"
          ],
          [
           "panamanian pop"
          ],
          [
           "panamanian rock"
          ],
          [
           "panpipe"
          ],
          [
           "papuri"
          ],
          [
           "parody"
          ],
          [
           "partido alto"
          ],
          [
           "partyschlager"
          ],
          [
           "pei indie"
          ],
          [
           "permanent wave"
          ],
          [
           "perreo"
          ],
          [
           "persian pop"
          ],
          [
           "persian traditional"
          ],
          [
           "perth indie"
          ],
          [
           "peruvian hip hop"
          ],
          [
           "peruvian rock"
          ],
          [
           "pet calming"
          ],
          [
           "philly indie"
          ],
          [
           "philly rap"
          ],
          [
           "philly soul"
          ],
          [
           "phoenix indie"
          ],
          [
           "phonk"
          ],
          [
           "pianissimo"
          ],
          [
           "piano blues"
          ],
          [
           "piano cover"
          ],
          [
           "piano mpb"
          ],
          [
           "piano rock"
          ],
          [
           "pibroch"
          ],
          [
           "piedmont blues"
          ],
          [
           "pinoy hip hop"
          ],
          [
           "pinoy indie"
          ],
          [
           "pinoy pop punk"
          ],
          [
           "pinoy praise"
          ],
          [
           "pinoy r&b"
          ],
          [
           "pinoy reggae"
          ],
          [
           "pinoy rock"
          ],
          [
           "pinoy traditional"
          ],
          [
           "pinoy trap"
          ],
          [
           "pirate"
          ],
          [
           "pittsburgh indie"
          ],
          [
           "pittsburgh rap"
          ],
          [
           "pittsburgh rock"
          ],
          [
           "pixie"
          ],
          [
           "plunderphonics"
          ],
          [
           "poetry"
          ],
          [
           "polca paraguaya"
          ],
          [
           "polish blues"
          ],
          [
           "polish classical"
          ],
          [
           "polish classical piano"
          ],
          [
           "polish contemporary classical"
          ],
          [
           "polish jazz"
          ],
          [
           "polish modern jazz"
          ],
          [
           "polish pop"
          ],
          [
           "polish post-rock"
          ],
          [
           "polish reggae"
          ],
          [
           "polish rock"
          ],
          [
           "political hip hop"
          ],
          [
           "polka"
          ],
          [
           "polynesian hip hop"
          ],
          [
           "polynesian pop"
          ],
          [
           "polyphony"
          ],
          [
           "pony"
          ],
          [
           "pop"
          ],
          [
           "pop argentino"
          ],
          [
           "pop chileno"
          ],
          [
           "pop dance"
          ],
          [
           "pop edm"
          ],
          [
           "pop electronico"
          ],
          [
           "pop emo"
          ],
          [
           "pop flamenco"
          ],
          [
           "pop folk"
          ],
          [
           "pop house"
          ],
          [
           "pop nacional"
          ],
          [
           "pop nacional antigas"
          ],
          [
           "pop peruano"
          ],
          [
           "pop punk"
          ],
          [
           "pop quebecois"
          ],
          [
           "pop r&b"
          ],
          [
           "pop rap"
          ],
          [
           "pop reggaeton"
          ],
          [
           "pop rock"
          ],
          [
           "pop rock brasileiro"
          ],
          [
           "pop romantico"
          ],
          [
           "pop soul"
          ],
          [
           "pop venezolano"
          ],
          [
           "pop violin"
          ],
          [
           "popgaze"
          ],
          [
           "popping"
          ],
          [
           "pops orchestra"
          ],
          [
           "popwave"
          ],
          [
           "pornogrind"
          ],
          [
           "porro"
          ],
          [
           "portland hip hop"
          ],
          [
           "portland indie"
          ],
          [
           "portland metal"
          ],
          [
           "portland punk"
          ],
          [
           "portuguese early music"
          ],
          [
           "post-disco"
          ],
          [
           "post-disco soul"
          ],
          [
           "post-doom metal"
          ],
          [
           "post-grunge"
          ],
          [
           "post-hardcore"
          ],
          [
           "post-metal"
          ],
          [
           "post-minimalism"
          ],
          [
           "post-post-hardcore"
          ],
          [
           "post-punk"
          ],
          [
           "post-punk argentina"
          ],
          [
           "post-rock"
          ],
          [
           "post-romantic era"
          ],
          [
           "post-screamo"
          ],
          [
           "post-teen pop"
          ],
          [
           "power metal"
          ],
          [
           "power pop"
          ],
          [
           "power thrash"
          ],
          [
           "power-pop punk"
          ],
          [
           "praise"
          ],
          [
           "prepared piano"
          ],
          [
           "preschool children's music"
          ],
          [
           "prog quebec"
          ],
          [
           "progressive alternative"
          ],
          [
           "progressive bluegrass"
          ],
          [
           "progressive deathcore"
          ],
          [
           "progressive electro house"
          ],
          [
           "progressive groove metal"
          ],
          [
           "progressive house"
          ],
          [
           "progressive jazz fusion"
          ],
          [
           "progressive metal"
          ],
          [
           "progressive metalcore"
          ],
          [
           "progressive post-hardcore"
          ],
          [
           "progressive power metal"
          ],
          [
           "progressive psytrance"
          ],
          [
           "progressive rock"
          ],
          [
           "progressive sludge"
          ],
          [
           "progressive trance"
          ],
          [
           "progressive trance house"
          ],
          [
           "progressive uplifting trance"
          ],
          [
           "proto-rap"
          ],
          [
           "proto-techno"
          ],
          [
           "protopunk"
          ],
          [
           "psalmen"
          ],
          [
           "psicodelia brasileira"
          ],
          [
           "psybass"
          ],
          [
           "psychedelic blues-rock"
          ],
          [
           "psychedelic doom"
          ],
          [
           "psychedelic folk"
          ],
          [
           "psychedelic folk rock"
          ],
          [
           "psychedelic hip hop"
          ],
          [
           "psychedelic pop"
          ],
          [
           "psychedelic punk"
          ],
          [
           "psychedelic rock"
          ],
          [
           "psychedelic soul"
          ],
          [
           "psychedelic trance"
          ],
          [
           "psychill"
          ],
          [
           "psychobilly"
          ],
          [
           "pub rock"
          ],
          [
           "puerto rican folk"
          ],
          [
           "puerto rican pop"
          ],
          [
           "puerto rican rock"
          ],
          [
           "punjabi folk"
          ],
          [
           "punjabi hip hop"
          ],
          [
           "punjabi pop"
          ],
          [
           "punk"
          ],
          [
           "punk 'n' roll"
          ],
          [
           "punk blues"
          ],
          [
           "punk rock italiano"
          ],
          [
           "punk rock mexicano"
          ],
          [
           "punta"
          ],
          [
           "purple sound"
          ],
          [
           "qawwali"
          ],
          [
           "quartetto d'archi"
          ],
          [
           "quatuor a cordes"
          ],
          [
           "quebec death metal"
          ],
          [
           "quebec indie"
          ],
          [
           "queens hip hop"
          ],
          [
           "queer country"
          ],
          [
           "queercore"
          ],
          [
           "quiet storm"
          ],
          [
           "quran"
          ],
          [
           "r&b"
          ],
          [
           "r&b en espanol"
          ],
          [
           "rabindra sangeet"
          ],
          [
           "radio symphony"
          ],
          [
           "ragtime"
          ],
          [
           "rai"
          ],
          [
           "ranchera"
          ],
          [
           "rap"
          ],
          [
           "rap chileno"
          ],
          [
           "rap conciencia"
          ],
          [
           "rap conscient"
          ],
          [
           "rap cristiano"
          ],
          [
           "rap dominicano"
          ],
          [
           "rap kreyol"
          ],
          [
           "rap latina"
          ],
          [
           "rap metal"
          ],
          [
           "rap nacional antigo"
          ],
          [
           "rap napoletano"
          ],
          [
           "rap rock"
          ],
          [
           "rap underground mexicano"
          ],
          [
           "rare groove"
          ],
          [
           "rave"
          ],
          [
           "rawstyle"
          ],
          [
           "reading"
          ],
          [
           "reading indie"
          ],
          [
           "rebel blues"
          ],
          [
           "rebetiko"
          ],
          [
           "recorder"
          ],
          [
           "red dirt"
          ],
          [
           "redneck"
          ],
          [
           "reggae"
          ],
          [
           "reggae en espanol"
          ],
          [
           "reggae fusion"
          ],
          [
           "reggae rock"
          ],
          [
           "reggaeton"
          ],
          [
           "reggaeton colombiano"
          ],
          [
           "reggaeton cristiano"
          ],
          [
           "reggaeton flow"
          ],
          [
           "reggaeton mexicano"
          ],
          [
           "regional mexican"
          ],
          [
           "relaxative"
          ],
          [
           "renaissance"
          ],
          [
           "rennes indie"
          ],
          [
           "retro metal"
          ],
          [
           "retro soul"
          ],
          [
           "rhode island indie"
          ],
          [
           "rhode island rap"
          ],
          [
           "rhythm and blues"
          ],
          [
           "riddim"
          ],
          [
           "rif"
          ],
          [
           "riot grrrl"
          ],
          [
           "ritmo kombina"
          ],
          [
           "rochester mn indie"
          ],
          [
           "rochester ny indie"
          ],
          [
           "rock"
          ],
          [
           "rock alternatif francais"
          ],
          [
           "rock alternativo brasileiro"
          ],
          [
           "rock andaluz"
          ],
          [
           "rock baiano"
          ],
          [
           "rock brasiliense"
          ],
          [
           "rock chapin"
          ],
          [
           "rock cristiano"
          ],
          [
           "rock drums"
          ],
          [
           "rock en espanol"
          ],
          [
           "rock gaucho"
          ],
          [
           "rock independant francais"
          ],
          [
           "rock kapak"
          ],
          [
           "rock keyboard"
          ],
          [
           "rock nacional"
          ],
          [
           "rock nacional brasileiro"
          ],
          [
           "rock pernambucano"
          ],
          [
           "rock progressif francais"
          ],
          [
           "rock steady"
          ],
          [
           "rock urbano mexicano"
          ],
          [
           "rock-and-roll"
          ],
          [
           "rockabilly"
          ],
          [
           "rockabilly en espanol"
          ],
          [
           "roda de samba"
          ],
          [
           "romanian classical piano"
          ],
          [
           "romanian electronic"
          ],
          [
           "romanian folk"
          ],
          [
           "romanian pop"
          ],
          [
           "romanian rock"
          ],
          [
           "romantico"
          ],
          [
           "roots americana"
          ],
          [
           "roots reggae"
          ],
          [
           "roots rock"
          ],
          [
           "roots worship"
          ],
          [
           "rosary"
          ],
          [
           "rumba"
          ],
          [
           "rumba congolaise"
          ],
          [
           "rune folk"
          ],
          [
           "russian alternative rock"
          ],
          [
           "russian ccm"
          ],
          [
           "russian chanson"
          ],
          [
           "russian choir"
          ],
          [
           "russian classical piano"
          ],
          [
           "russian dance"
          ],
          [
           "russian edm"
          ],
          [
           "russian folk"
          ],
          [
           "russian folk rock"
          ],
          [
           "russian jazz"
          ],
          [
           "russian metal"
          ],
          [
           "russian metalcore"
          ],
          [
           "russian modern classical"
          ],
          [
           "russian orchestra"
          ],
          [
           "russian pop"
          ],
          [
           "russian post-punk"
          ],
          [
           "russian punk"
          ],
          [
           "russian rock"
          ],
          [
           "russian romanticism"
          ],
          [
           "russian shoegaze"
          ],
          [
           "russian trance"
          ],
          [
           "rva indie"
          ],
          [
           "rwandan traditional"
          ],
          [
           "ryukyu ongaku"
          ],
          [
           "sacramento hip hop"
          ],
          [
           "sacramento indie"
          ],
          [
           "sacred steel"
          ],
          [
           "sad rap"
          ],
          [
           "salsa"
          ],
          [
           "salsa choke"
          ],
          [
           "salsa colombiana"
          ],
          [
           "salsa cubana"
          ],
          [
           "salsa international"
          ],
          [
           "salsa peruana"
          ],
          [
           "salsa puertorriquena"
          ],
          [
           "salsa venezolana"
          ],
          [
           "samba"
          ],
          [
           "samba de roda"
          ],
          [
           "samba moderno"
          ],
          [
           "samba-enredo"
          ],
          [
           "samba-jazz"
          ],
          [
           "samba-rock"
          ],
          [
           "san antonio rap"
          ],
          [
           "san diego indie"
          ],
          [
           "san diego rap"
          ],
          [
           "san marcos tx indie"
          ],
          [
           "sandalwood"
          ],
          [
           "sarod"
          ],
          [
           "saskatchewan indie"
          ],
          [
           "scam rap"
          ],
          [
           "scandinavian r&b"
          ],
          [
           "scandipop"
          ],
          [
           "schlager"
          ],
          [
           "scorecore"
          ],
          [
           "scottish electronic"
          ],
          [
           "scottish fiddle"
          ],
          [
           "scottish folk"
          ],
          [
           "scottish hip hop"
          ],
          [
           "scottish indie"
          ],
          [
           "scottish jazz"
          ],
          [
           "scottish metal"
          ],
          [
           "scottish new wave"
          ],
          [
           "scottish rock"
          ],
          [
           "scottish singer-songwriter"
          ],
          [
           "scratch"
          ],
          [
           "scream rap"
          ],
          [
           "screamo"
          ],
          [
           "seattle hip hop"
          ],
          [
           "seattle indie"
          ],
          [
           "second line"
          ],
          [
           "sefardi"
          ],
          [
           "serbian electronic"
          ],
          [
           "serialism"
          ],
          [
           "sertanejo"
          ],
          [
           "sertanejo pop"
          ],
          [
           "sertanejo tradicional"
          ],
          [
           "sertanejo universitario"
          ],
          [
           "sevdah"
          ],
          [
           "sevillanas"
          ],
          [
           "shaabi"
          ],
          [
           "shabad"
          ],
          [
           "shakuhachi"
          ],
          [
           "shamanic"
          ],
          [
           "shanty"
          ],
          [
           "sheffield indie"
          ],
          [
           "shibuya-kei"
          ],
          [
           "shimmer pop"
          ],
          [
           "shimmer psych"
          ],
          [
           "shiver pop"
          ],
          [
           "shoegaze"
          ],
          [
           "show tunes"
          ],
          [
           "shred"
          ],
          [
           "shush"
          ],
          [
           "sierreno"
          ],
          [
           "singaporean mandopop"
          ],
          [
           "singaporean pop"
          ],
          [
           "singaporean singer-songwriter"
          ],
          [
           "singer-songwriter"
          ],
          [
           "singing bowl"
          ],
          [
           "sitar"
          ],
          [
           "ska"
          ],
          [
           "ska argentino"
          ],
          [
           "ska chileno"
          ],
          [
           "ska jazz"
          ],
          [
           "ska mexicano"
          ],
          [
           "ska punk"
          ],
          [
           "ska revival"
          ],
          [
           "skate punk"
          ],
          [
           "skiffle"
          ],
          [
           "skramz"
          ],
          [
           "sky room"
          ],
          [
           "slack-key guitar"
          ],
          [
           "slam poetry"
          ],
          [
           "slamming deathcore"
          ],
          [
           "slavic folk metal"
          ],
          [
           "slayer"
          ],
          [
           "slc indie"
          ],
          [
           "sleaze rock"
          ],
          [
           "sleep"
          ],
          [
           "slovak electronic"
          ],
          [
           "slovenian electronic"
          ],
          [
           "slovenian metal"
          ],
          [
           "slow game"
          ],
          [
           "slowcore"
          ],
          [
           "sludge metal"
          ],
          [
           "small room"
          ],
          [
           "smooth jazz"
          ],
          [
           "smooth saxophone"
          ],
          [
           "smooth soul"
          ],
          [
           "soca"
          ],
          [
           "socal pop punk"
          ],
          [
           "social media pop"
          ],
          [
           "soda pop"
          ],
          [
           "soft rock"
          ],
          [
           "solipsynthm"
          ],
          [
           "son cubano"
          ],
          [
           "son cubano clasico"
          ],
          [
           "son jarocho"
          ],
          [
           "sophisti-pop"
          ],
          [
           "sotalaulut"
          ],
          [
           "soukous"
          ],
          [
           "soul"
          ],
          [
           "soul blues"
          ],
          [
           "soul flow"
          ],
          [
           "soul jazz"
          ],
          [
           "souldies"
          ],
          [
           "sound"
          ],
          [
           "sound art"
          ],
          [
           "sound effects"
          ],
          [
           "sound team"
          ],
          [
           "soundtrack"
          ],
          [
           "south african alternative"
          ],
          [
           "south african choral"
          ],
          [
           "south african country"
          ],
          [
           "south african hip hop"
          ],
          [
           "south african house"
          ],
          [
           "south african jazz"
          ],
          [
           "south african pop"
          ],
          [
           "south african pop dance"
          ],
          [
           "south african rock"
          ],
          [
           "south carolina hip hop"
          ],
          [
           "south carolina indie"
          ],
          [
           "south carolina metal"
          ],
          [
           "south dakota indie"
          ],
          [
           "southampton indie"
          ],
          [
           "southern americana"
          ],
          [
           "southern gospel"
          ],
          [
           "southern hip hop"
          ],
          [
           "southern metal"
          ],
          [
           "southern rock"
          ],
          [
           "southern soul"
          ],
          [
           "southern soul blues"
          ],
          [
           "soviet synthpop"
          ],
          [
           "sovietwave"
          ],
          [
           "spa"
          ],
          [
           "space age pop"
          ],
          [
           "space ambient"
          ],
          [
           "space rock"
          ],
          [
           "spanish baroque"
          ],
          [
           "spanish classical"
          ],
          [
           "spanish classical piano"
          ],
          [
           "spanish folk metal"
          ],
          [
           "spanish hip hop"
          ],
          [
           "spanish indie pop"
          ],
          [
           "spanish invasion"
          ],
          [
           "spanish metal"
          ],
          [
           "spanish modern rock"
          ],
          [
           "spanish new wave"
          ],
          [
           "spanish noise pop"
          ],
          [
           "spanish pop"
          ],
          [
           "spanish pop rock"
          ],
          [
           "spanish renaissance"
          ],
          [
           "spanish rock"
          ],
          [
           "spanish synthpop"
          ],
          [
           "spanish techno"
          ],
          [
           "speed garage"
          ],
          [
           "speed metal"
          ],
          [
           "speedcore"
          ],
          [
           "spiritual hip hop"
          ],
          [
           "spiritual jazz"
          ],
          [
           "spirituals"
          ],
          [
           "springfield mo indie"
          ],
          [
           "spytrack"
          ],
          [
           "st louis rap"
          ],
          [
           "steampunk"
          ],
          [
           "steel guitar"
          ],
          [
           "steelpan"
          ],
          [
           "stl indie"
          ],
          [
           "stomp and flutter"
          ],
          [
           "stomp and holler"
          ],
          [
           "stomp and whittle"
          ],
          [
           "stomp pop"
          ],
          [
           "stoner metal"
          ],
          [
           "stoner rock"
          ],
          [
           "straight edge"
          ],
          [
           "straight-ahead jazz"
          ],
          [
           "street band"
          ],
          [
           "street punk"
          ],
          [
           "streichquartett"
          ],
          [
           "stride"
          ],
          [
           "string band"
          ],
          [
           "string folk"
          ],
          [
           "string orchestra"
          ],
          [
           "string quartet"
          ],
          [
           "strut"
          ],
          [
           "substep"
          ],
          [
           "sudanese pop"
          ],
          [
           "sufi"
          ],
          [
           "sufi chant"
          ],
          [
           "sunshine pop"
          ],
          [
           "supergroup"
          ],
          [
           "surf music"
          ],
          [
           "surf punk"
          ],
          [
           "svensk progg"
          ],
          [
           "swamp blues"
          ],
          [
           "swamp pop"
          ],
          [
           "swamp rock"
          ],
          [
           "swancore"
          ],
          [
           "swedish alternative rock"
          ],
          [
           "swedish americana"
          ],
          [
           "swedish black metal"
          ],
          [
           "swedish choir"
          ],
          [
           "swedish country"
          ],
          [
           "swedish dancehall"
          ],
          [
           "swedish death metal"
          ],
          [
           "swedish doom metal"
          ],
          [
           "swedish electronic"
          ],
          [
           "swedish electropop"
          ],
          [
           "swedish eurodance"
          ],
          [
           "swedish garage rock"
          ],
          [
           "swedish hard rock"
          ],
          [
           "swedish hardcore"
          ],
          [
           "swedish heavy metal"
          ],
          [
           "swedish house"
          ],
          [
           "swedish idol pop"
          ],
          [
           "swedish indie folk"
          ],
          [
           "swedish indie pop"
          ],
          [
           "swedish indie rock"
          ],
          [
           "swedish jazz"
          ],
          [
           "swedish jazz orkester"
          ],
          [
           "swedish melodic rock"
          ],
          [
           "swedish metal"
          ],
          [
           "swedish metalcore"
          ],
          [
           "swedish pop"
          ],
          [
           "swedish post-hardcore"
          ],
          [
           "swedish power metal"
          ],
          [
           "swedish prog"
          ],
          [
           "swedish progressive metal"
          ],
          [
           "swedish rock-and-roll"
          ],
          [
           "swedish singer-songwriter"
          ],
          [
           "swedish soul"
          ],
          [
           "swedish stoner rock"
          ],
          [
           "swedish synth"
          ],
          [
           "swedish synthpop"
          ],
          [
           "swedish tropical house"
          ],
          [
           "swedish underground rap"
          ],
          [
           "swing"
          ],
          [
           "swing italiano"
          ],
          [
           "swing revival"
          ],
          [
           "swiss black metal"
          ],
          [
           "swiss classical piano"
          ],
          [
           "swiss country"
          ],
          [
           "swiss metal"
          ],
          [
           "swiss pop"
          ],
          [
           "swiss rock"
          ],
          [
           "swiss worship"
          ],
          [
           "sydney indie"
          ],
          [
           "symphonic black metal"
          ],
          [
           "symphonic metal"
          ],
          [
           "symphonic rock"
          ],
          [
           "synth funk"
          ],
          [
           "synthpop"
          ],
          [
           "synthwave"
          ],
          [
           "syrian pop"
          ],
          [
           "tabla"
          ],
          [
           "tagalog rap"
          ],
          [
           "tagalog worship"
          ],
          [
           "taiwan campus folk"
          ],
          [
           "taiwan classical performance"
          ],
          [
           "taiwan hip hop"
          ],
          [
           "taiwan indie"
          ],
          [
           "taiwan pop"
          ],
          [
           "taiwan singer-songwriter"
          ],
          [
           "tajik pop"
          ],
          [
           "talent show"
          ],
          [
           "tamaulipas indie"
          ],
          [
           "tamaulipas rap"
          ],
          [
           "tamborazo"
          ],
          [
           "tamil hip hop"
          ],
          [
           "tamil pop"
          ],
          [
           "tamil worship"
          ],
          [
           "tampa indie"
          ],
          [
           "tango"
          ],
          [
           "tango cancion"
          ],
          [
           "tape club"
          ],
          [
           "tech house"
          ],
          [
           "technical death metal"
          ],
          [
           "technical deathcore"
          ],
          [
           "technical groove metal"
          ],
          [
           "technical melodic death metal"
          ],
          [
           "technical thrash"
          ],
          [
           "techno"
          ],
          [
           "techno kayo"
          ],
          [
           "tecnobanda"
          ],
          [
           "teen pop"
          ],
          [
           "tejano"
          ],
          [
           "tempe indie"
          ],
          [
           "tennessee hip hop"
          ],
          [
           "tennessee metal"
          ],
          [
           "tex-mex"
          ],
          [
           "texas blues"
          ],
          [
           "texas country"
          ],
          [
           "texas latin rap"
          ],
          [
           "texas pop punk"
          ],
          [
           "texas punk"
          ],
          [
           "thai folk"
          ],
          [
           "thai folk rock"
          ],
          [
           "thai idol"
          ],
          [
           "thai indie rock"
          ],
          [
           "thai pop"
          ],
          [
           "thall"
          ],
          [
           "theme"
          ],
          [
           "theremin"
          ],
          [
           "thrash core"
          ],
          [
           "thrash metal"
          ],
          [
           "timba"
          ],
          [
           "tin pan alley"
          ],
          [
           "tipico"
          ],
          [
           "tolkien metal"
          ],
          [
           "tollywood"
          ],
          [
           "tone"
          ],
          [
           "torch song"
          ],
          [
           "toronto indie"
          ],
          [
           "toronto rap"
          ],
          [
           "trad jazz catala"
          ],
          [
           "traditional bluegrass"
          ],
          [
           "traditional blues"
          ],
          [
           "traditional british folk"
          ],
          [
           "traditional country"
          ],
          [
           "traditional folk"
          ],
          [
           "traditional funk"
          ],
          [
           "traditional rockabilly"
          ],
          [
           "traditional ska"
          ],
          [
           "traditional soul"
          ],
          [
           "trance"
          ],
          [
           "trance mexicano"
          ],
          [
           "trancecore"
          ],
          [
           "transpop"
          ],
          [
           "trap"
          ],
          [
           "trap argentino"
          ],
          [
           "trap chileno"
          ],
          [
           "trap dominicano"
          ],
          [
           "trap latino"
          ],
          [
           "trap mexicano"
          ],
          [
           "trap queen"
          ],
          [
           "trap soul"
          ],
          [
           "trap triste"
          ],
          [
           "trap venezolano"
          ],
          [
           "traprun"
          ],
          [
           "trash rock"
          ],
          [
           "triangle indie"
          ],
          [
           "tribal house"
          ],
          [
           "trinidadian reggae"
          ],
          [
           "trio cubano"
          ],
          [
           "trip hop"
          ],
          [
           "trival"
          ],
          [
           "tropical"
          ],
          [
           "tropical house"
          ],
          [
           "tropicalia"
          ],
          [
           "trova"
          ],
          [
           "trova mexicana"
          ],
          [
           "truck-driving country"
          ],
          [
           "tuareg guitar"
          ],
          [
           "tucson indie"
          ],
          [
           "tulsa indie"
          ],
          [
           "tuna estudiantil"
          ],
          [
           "tunisian pop"
          ],
          [
           "turbo folk"
          ],
          [
           "turkish classical"
          ],
          [
           "turkish classical performance"
          ],
          [
           "turkish edm"
          ],
          [
           "turkish experimental"
          ],
          [
           "turkish folk"
          ],
          [
           "turkish jazz"
          ],
          [
           "turkish modern jazz"
          ],
          [
           "turkish pop"
          ],
          [
           "turkish psych"
          ],
          [
           "turkish trap"
          ],
          [
           "turkish trap pop"
          ],
          [
           "turntablism"
          ],
          [
           "twee pop"
          ],
          [
           "twoubadou"
          ],
          [
           "tzadik"
          ],
          [
           "ugandan pop"
          ],
          [
           "uilleann pipes"
          ],
          [
           "uk alternative hip hop"
          ],
          [
           "uk alternative pop"
          ],
          [
           "uk americana"
          ],
          [
           "uk contemporary jazz"
          ],
          [
           "uk contemporary r&b"
          ],
          [
           "uk dance"
          ],
          [
           "uk dancehall"
          ],
          [
           "uk diy punk"
          ],
          [
           "uk dnb"
          ],
          [
           "uk doom metal"
          ],
          [
           "uk dub"
          ],
          [
           "uk experimental electronic"
          ],
          [
           "uk funky"
          ],
          [
           "uk garage"
          ],
          [
           "uk hip hop"
          ],
          [
           "uk house"
          ],
          [
           "uk metalcore"
          ],
          [
           "uk noise rock"
          ],
          [
           "uk pop"
          ],
          [
           "uk pop punk"
          ],
          [
           "uk post-hardcore"
          ],
          [
           "uk post-punk"
          ],
          [
           "uk reggae"
          ],
          [
           "uk rockabilly"
          ],
          [
           "uk stoner rock"
          ],
          [
           "uk worship"
          ],
          [
           "uk82"
          ],
          [
           "ukrainian choir"
          ],
          [
           "ukrainian classical"
          ],
          [
           "ukrainian classical piano"
          ],
          [
           "ukrainian electronic"
          ],
          [
           "ukrainian pop"
          ],
          [
           "ukulele"
          ],
          [
           "umbanda"
          ],
          [
           "underground hip hop"
          ],
          [
           "underground power pop"
          ],
          [
           "underground rap"
          ],
          [
           "university choir"
          ],
          [
           "uplifting trance"
          ],
          [
           "uptempo hardcore"
          ],
          [
           "urban contemporary"
          ],
          [
           "urbano espanol"
          ],
          [
           "us power metal"
          ],
          [
           "utah indie"
          ],
          [
           "uzbek pop"
          ],
          [
           "uzbek traditional"
          ],
          [
           "v-pop"
          ],
          [
           "vallenato"
          ],
          [
           "vallenato moderno"
          ],
          [
           "vancouver indie"
          ],
          [
           "vancouver metal"
          ],
          [
           "vancouver punk"
          ],
          [
           "vapor pop"
          ],
          [
           "vapor soul"
          ],
          [
           "vapor trap"
          ],
          [
           "vapor twitch"
          ],
          [
           "vaporwave"
          ],
          [
           "variete francaise"
          ],
          [
           "vaudeville"
          ],
          [
           "vbs"
          ],
          [
           "veena"
          ],
          [
           "vegan straight edge"
          ],
          [
           "vegas indie"
          ],
          [
           "velha guarda"
          ],
          [
           "venezuelan hip hop"
          ],
          [
           "venezuelan indie"
          ],
          [
           "venezuelan rock"
          ],
          [
           "veracruz indie"
          ],
          [
           "vermont indie"
          ],
          [
           "vgm instrumental"
          ],
          [
           "vgm remix"
          ],
          [
           "victoria bc indie"
          ],
          [
           "victorian britain"
          ],
          [
           "video game music"
          ],
          [
           "vienna indie"
          ],
          [
           "vietnamese bolero"
          ],
          [
           "vietnamese pop"
          ],
          [
           "viking black metal"
          ],
          [
           "viking folk"
          ],
          [
           "viking metal"
          ],
          [
           "villancicos"
          ],
          [
           "vintage chanson"
          ],
          [
           "vintage chinese pop"
          ],
          [
           "vintage classical singing"
          ],
          [
           "vintage country folk"
          ],
          [
           "vintage dutch pop"
          ],
          [
           "vintage french electronic"
          ],
          [
           "vintage gospel"
          ],
          [
           "vintage hollywood"
          ],
          [
           "vintage italian pop"
          ],
          [
           "vintage italian soundtrack"
          ],
          [
           "vintage jazz"
          ],
          [
           "vintage old-time"
          ],
          [
           "vintage rockabilly"
          ],
          [
           "vintage schlager"
          ],
          [
           "vintage spanish pop"
          ],
          [
           "vintage swedish pop"
          ],
          [
           "vintage swing"
          ],
          [
           "vintage tango"
          ],
          [
           "viola"
          ],
          [
           "violao"
          ],
          [
           "violao classico"
          ],
          [
           "violin"
          ],
          [
           "viral pop"
          ],
          [
           "viral rap"
          ],
          [
           "viral trap"
          ],
          [
           "virgin islands reggae"
          ],
          [
           "virginia hip hop"
          ],
          [
           "virginia metal"
          ],
          [
           "virginia punk"
          ],
          [
           "visor"
          ],
          [
           "visual kei"
          ],
          [
           "vocal ensemble"
          ],
          [
           "vocal harmony group"
          ],
          [
           "vocal house"
          ],
          [
           "vocal jazz"
          ],
          [
           "vocal trance"
          ],
          [
           "vocaloid"
          ],
          [
           "vogue"
          ],
          [
           "volksmusik"
          ],
          [
           "warm drone"
          ],
          [
           "washboard"
          ],
          [
           "washington indie"
          ],
          [
           "wassoulou"
          ],
          [
           "water"
          ],
          [
           "wave"
          ],
          [
           "welsh folk"
          ],
          [
           "welsh indie"
          ],
          [
           "welsh metal"
          ],
          [
           "welsh rock"
          ],
          [
           "west african jazz"
          ],
          [
           "west australian hip hop"
          ],
          [
           "west coast rap"
          ],
          [
           "west coast reggae"
          ],
          [
           "west coast trap"
          ],
          [
           "west end"
          ],
          [
           "west virginia indie"
          ],
          [
           "western americana"
          ],
          [
           "western mass indie"
          ],
          [
           "western saharan folk"
          ],
          [
           "western swing"
          ],
          [
           "white noise"
          ],
          [
           "wind ensemble"
          ],
          [
           "wind quintet"
          ],
          [
           "wisconsin indie"
          ],
          [
           "witch house"
          ],
          [
           "women's choir"
          ],
          [
           "women's music"
          ],
          [
           "wonky"
          ],
          [
           "worcester ma indie"
          ],
          [
           "world"
          ],
          [
           "world fusion"
          ],
          [
           "world meditation"
          ],
          [
           "world worship"
          ],
          [
           "worship"
          ],
          [
           "wrestling"
          ],
          [
           "wu fam"
          ],
          [
           "wyoming indie"
          ],
          [
           "wyoming roots"
          ],
          [
           "xhosa"
          ],
          [
           "xtra raw"
          ],
          [
           "yacht rock"
          ],
          [
           "ye ye"
          ],
          [
           "yiddish folk"
          ],
          [
           "yodeling"
          ],
          [
           "yoga"
          ],
          [
           "yoik"
          ],
          [
           "york indie"
          ],
          [
           "yorkshire folk"
          ],
          [
           "yugoslav new wave"
          ],
          [
           "yugoslav rock"
          ],
          [
           "zambian pop"
          ],
          [
           "zeuhl"
          ],
          [
           "zhongguo feng"
          ],
          [
           "zimdancehall"
          ],
          [
           "zolo"
          ],
          [
           "zouglou"
          ],
          [
           "zouk"
          ],
          [
           "zurich indie"
          ],
          [
           "zydeco"
          ]
         ],
         "hovertemplate": "x=%{x}<br>y=%{y}<br>genres=%{customdata[0]}<br>cluster=%{marker.color}<extra></extra>",
         "legendgroup": "",
         "marker": {
          "color": [
           3,
           4,
           1,
           8,
           8,
           9,
           1,
           6,
           0,
           8,
           0,
           6,
           1,
           3,
           8,
           1,
           1,
           1,
           0,
           2,
           8,
           8,
           1,
           8,
           0,
           1,
           1,
           3,
           0,
           1,
           1,
           0,
           6,
           6,
           1,
           0,
           1,
           0,
           6,
           1,
           2,
           6,
           1,
           0,
           9,
           6,
           0,
           1,
           1,
           2,
           6,
           1,
           1,
           6,
           2,
           6,
           6,
           2,
           1,
           1,
           2,
           1,
           0,
           3,
           9,
           8,
           0,
           9,
           9,
           3,
           0,
           9,
           3,
           3,
           3,
           3,
           3,
           8,
           2,
           8,
           0,
           3,
           9,
           3,
           3,
           9,
           0,
           2,
           3,
           8,
           6,
           6,
           2,
           2,
           1,
           2,
           2,
           1,
           8,
           6,
           8,
           8,
           0,
           0,
           1,
           7,
           3,
           0,
           1,
           2,
           6,
           1,
           6,
           1,
           1,
           1,
           1,
           2,
           1,
           0,
           6,
           3,
           1,
           1,
           1,
           3,
           6,
           6,
           6,
           3,
           1,
           6,
           6,
           1,
           6,
           1,
           3,
           9,
           6,
           7,
           0,
           7,
           6,
           8,
           0,
           1,
           1,
           1,
           1,
           6,
           3,
           1,
           3,
           3,
           3,
           6,
           0,
           0,
           1,
           1,
           6,
           1,
           6,
           6,
           6,
           2,
           2,
           6,
           1,
           9,
           6,
           6,
           0,
           1,
           1,
           2,
           1,
           6,
           6,
           3,
           3,
           3,
           0,
           8,
           0,
           7,
           9,
           3,
           8,
           2,
           1,
           8,
           0,
           1,
           1,
           1,
           3,
           3,
           8,
           8,
           8,
           0,
           8,
           8,
           8,
           9,
           1,
           3,
           3,
           8,
           3,
           6,
           2,
           1,
           1,
           6,
           8,
           8,
           8,
           8,
           8,
           3,
           1,
           8,
           8,
           7,
           3,
           3,
           3,
           3,
           1,
           3,
           3,
           8,
           6,
           9,
           2,
           6,
           0,
           6,
           1,
           6,
           6,
           0,
           1,
           1,
           0,
           8,
           6,
           8,
           1,
           1,
           8,
           1,
           1,
           6,
           2,
           2,
           3,
           9,
           0,
           0,
           6,
           1,
           9,
           8,
           9,
           0,
           9,
           0,
           9,
           1,
           8,
           1,
           1,
           9,
           3,
           8,
           6,
           3,
           8,
           1,
           0,
           3,
           7,
           0,
           6,
           2,
           0,
           2,
           5,
           2,
           2,
           2,
           2,
           9,
           0,
           8,
           8,
           1,
           8,
           2,
           2,
           1,
           6,
           8,
           8,
           6,
           0,
           8,
           0,
           0,
           8,
           0,
           1,
           1,
           1,
           1,
           2,
           2,
           6,
           1,
           2,
           8,
           9,
           6,
           6,
           3,
           3,
           9,
           8,
           3,
           3,
           1,
           3,
           3,
           3,
           1,
           2,
           1,
           1,
           8,
           2,
           8,
           8,
           6,
           1,
           1,
           2,
           0,
           2,
           2,
           1,
           8,
           3,
           1,
           8,
           6,
           0,
           2,
           1,
           1,
           2,
           1,
           1,
           3,
           3,
           1,
           3,
           8,
           9,
           9,
           8,
           2,
           6,
           9,
           1,
           9,
           3,
           3,
           9,
           2,
           8,
           1,
           3,
           1,
           8,
           1,
           6,
           6,
           1,
           6,
           9,
           1,
           9,
           6,
           1,
           1,
           0,
           0,
           2,
           4,
           8,
           8,
           8,
           2,
           8,
           1,
           0,
           6,
           3,
           8,
           6,
           3,
           0,
           1,
           8,
           1,
           6,
           1,
           8,
           3,
           3,
           3,
           8,
           1,
           1,
           1,
           6,
           0,
           3,
           8,
           2,
           6,
           7,
           1,
           8,
           6,
           0,
           1,
           2,
           2,
           0,
           6,
           2,
           2,
           9,
           1,
           2,
           2,
           0,
           1,
           3,
           1,
           1,
           1,
           1,
           9,
           8,
           1,
           1,
           8,
           8,
           2,
           1,
           1,
           6,
           8,
           8,
           8,
           1,
           3,
           3,
           3,
           1,
           6,
           8,
           8,
           3,
           0,
           1,
           1,
           8,
           3,
           8,
           3,
           3,
           1,
           3,
           1,
           1,
           1,
           1,
           1,
           8,
           0,
           6,
           8,
           0,
           6,
           2,
           8,
           8,
           6,
           0,
           0,
           6,
           2,
           2,
           6,
           1,
           2,
           6,
           0,
           1,
           8,
           6,
           6,
           5,
           1,
           0,
           0,
           6,
           9,
           3,
           8,
           9,
           1,
           1,
           1,
           2,
           1,
           8,
           3,
           3,
           3,
           0,
           1,
           0,
           1,
           2,
           3,
           6,
           1,
           3,
           3,
           9,
           1,
           3,
           8,
           9,
           8,
           1,
           1,
           0,
           2,
           6,
           6,
           6,
           2,
           2,
           6,
           6,
           2,
           6,
           3,
           2,
           6,
           1,
           3,
           8,
           1,
           1,
           6,
           9,
           2,
           0,
           6,
           8,
           8,
           1,
           0,
           8,
           6,
           8,
           0,
           1,
           8,
           8,
           2,
           8,
           0,
           0,
           1,
           1,
           8,
           0,
           7,
           2,
           0,
           1,
           8,
           8,
           9,
           8,
           8,
           8,
           1,
           1,
           6,
           8,
           0,
           1,
           0,
           8,
           2,
           1,
           1,
           8,
           2,
           8,
           1,
           3,
           6,
           2,
           6,
           0,
           1,
           1,
           3,
           6,
           3,
           3,
           3,
           3,
           3,
           3,
           3,
           3,
           3,
           3,
           3,
           8,
           3,
           3,
           3,
           3,
           3,
           3,
           3,
           9,
           3,
           3,
           3,
           8,
           8,
           5,
           2,
           1,
           1,
           0,
           6,
           1,
           6,
           1,
           5,
           1,
           6,
           1,
           6,
           8,
           2,
           3,
           0,
           7,
           2,
           1,
           6,
           3,
           3,
           3,
           1,
           8,
           6,
           3,
           8,
           8,
           3,
           8,
           8,
           8,
           2,
           1,
           1,
           0,
           2,
           8,
           9,
           1,
           8,
           8,
           1,
           8,
           1,
           1,
           1,
           1,
           8,
           8,
           1,
           2,
           8,
           1,
           1,
           2,
           6,
           2,
           1,
           1,
           0,
           8,
           1,
           1,
           1,
           1,
           1,
           0,
           0,
           1,
           1,
           8,
           1,
           8,
           1,
           0,
           1,
           1,
           9,
           6,
           8,
           3,
           3,
           8,
           2,
           8,
           0,
           6,
           1,
           1,
           2,
           6,
           2,
           2,
           3,
           2,
           3,
           0,
           3,
           2,
           0,
           7,
           9,
           1,
           6,
           9,
           8,
           2,
           8,
           1,
           2,
           9,
           0,
           2,
           3,
           9,
           2,
           9,
           6,
           9,
           9,
           2,
           2,
           0,
           2,
           2,
           2,
           1,
           9,
           2,
           2,
           0,
           2,
           8,
           0,
           2,
           8,
           6,
           5,
           1,
           6,
           8,
           0,
           6,
           2,
           0,
           1,
           6,
           8,
           1,
           9,
           6,
           0,
           9,
           1,
           1,
           9,
           8,
           2,
           8,
           0,
           2,
           9,
           8,
           1,
           6,
           1,
           8,
           1,
           7,
           9,
           6,
           2,
           1,
           1,
           0,
           1,
           9,
           3,
           1,
           1,
           9,
           1,
           9,
           9,
           0,
           6,
           9,
           8,
           6,
           1,
           6,
           6,
           9,
           0,
           1,
           0,
           1,
           1,
           6,
           6,
           9,
           0,
           8,
           8,
           1,
           6,
           8,
           0,
           3,
           6,
           6,
           1,
           0,
           8,
           1,
           8,
           2,
           2,
           0,
           1,
           6,
           8,
           2,
           2,
           9,
           8,
           9,
           2,
           2,
           2,
           3,
           6,
           9,
           3,
           3,
           9,
           2,
           1,
           9,
           0,
           9,
           2,
           9,
           3,
           1,
           8,
           6,
           9,
           1,
           9,
           2,
           5,
           3,
           2,
           2,
           1,
           8,
           1,
           6,
           8,
           7,
           2,
           0,
           0,
           0,
           1,
           0,
           1,
           8,
           5,
           3,
           3,
           3,
           3,
           1,
           3,
           6,
           2,
           6,
           1,
           9,
           8,
           2,
           1,
           9,
           3,
           1,
           1,
           1,
           6,
           0,
           8,
           0,
           1,
           8,
           1,
           1,
           1,
           1,
           1,
           1,
           2,
           1,
           2,
           1,
           9,
           0,
           6,
           1,
           0,
           1,
           2,
           2,
           2,
           2,
           6,
           2,
           3,
           0,
           3,
           0,
           8,
           7,
           2,
           0,
           8,
           6,
           3,
           9,
           8,
           2,
           9,
           0,
           9,
           3,
           8,
           9,
           6,
           0,
           2,
           0,
           1,
           2,
           0,
           8,
           9,
           3,
           9,
           0,
           7,
           3,
           1,
           0,
           9,
           3,
           1,
           9,
           3,
           8,
           8,
           8,
           2,
           0,
           8,
           6,
           6,
           9,
           3,
           0,
           3,
           3,
           2,
           0,
           6,
           6,
           2,
           0,
           6,
           1,
           0,
           3,
           6,
           9,
           2,
           1,
           9,
           0,
           3,
           1,
           9,
           0,
           6,
           8,
           0,
           8,
           8,
           6,
           1,
           2,
           6,
           1,
           1,
           6,
           8,
           0,
           8,
           8,
           1,
           1,
           1,
           3,
           1,
           6,
           1,
           1,
           2,
           3,
           6,
           1,
           1,
           9,
           3,
           8,
           1,
           3,
           3,
           8,
           2,
           2,
           6,
           9,
           1,
           9,
           8,
           2,
           0,
           3,
           3,
           1,
           0,
           2,
           1,
           1,
           3,
           2,
           8,
           1,
           0,
           2,
           9,
           0,
           6,
           1,
           8,
           0,
           0,
           2,
           6,
           8,
           6,
           0,
           1,
           0,
           9,
           6,
           1,
           0,
           6,
           2,
           1,
           6,
           2,
           9,
           9,
           6,
           1,
           8,
           3,
           2,
           0,
           6,
           1,
           2,
           2,
           2,
           2,
           2,
           1,
           0,
           1,
           1,
           1,
           6,
           2,
           3,
           3,
           3,
           1,
           0,
           0,
           2,
           0,
           6,
           3,
           5,
           0,
           2,
           3,
           3,
           1,
           6,
           1,
           2,
           1,
           3,
           6,
           3,
           3,
           3,
           1,
           2,
           1,
           6,
           0,
           5,
           8,
           9,
           1,
           2,
           2,
           1,
           1,
           9,
           2,
           9,
           1,
           0,
           2,
           6,
           8,
           8,
           5,
           6,
           7,
           8,
           1,
           2,
           6,
           2,
           0,
           1,
           0,
           0,
           0,
           2,
           0,
           1,
           6,
           1,
           8,
           3,
           8,
           8,
           7,
           8,
           0,
           8,
           8,
           1,
           9,
           0,
           2,
           1,
           2,
           2,
           1,
           1,
           0,
           0,
           2,
           6,
           5,
           0,
           8,
           3,
           8,
           7,
           6,
           3,
           6,
           8,
           8,
           1,
           8,
           2,
           1,
           0,
           3,
           6,
           1,
           3,
           2,
           2,
           8,
           9,
           2,
           1,
           2,
           6,
           2,
           2,
           2,
           1,
           8,
           8,
           8,
           3,
           3,
           8,
           3,
           8,
           6,
           6,
           3,
           1,
           1,
           1,
           9,
           0,
           8,
           3,
           8,
           6,
           2,
           1,
           6,
           0,
           4,
           3,
           3,
           3,
           3,
           3,
           3,
           5,
           7,
           1,
           0,
           1,
           1,
           8,
           8,
           1,
           2,
           9,
           0,
           1,
           6,
           1,
           1,
           8,
           0,
           3,
           3,
           3,
           3,
           9,
           5,
           8,
           8,
           9,
           9,
           1,
           6,
           3,
           9,
           3,
           8,
           8,
           9,
           9,
           9,
           9,
           1,
           2,
           0,
           8,
           3,
           8,
           0,
           6,
           3,
           1,
           8,
           0,
           6,
           1,
           6,
           0,
           9,
           9,
           1,
           1,
           9,
           6,
           1,
           1,
           1,
           6,
           1,
           6,
           6,
           1,
           1,
           1,
           2,
           1,
           2,
           6,
           1,
           6,
           6,
           1,
           1,
           6,
           2,
           0,
           1,
           3,
           9,
           0,
           1,
           6,
           6,
           1,
           8,
           8,
           6,
           0,
           2,
           9,
           2,
           9,
           9,
           9,
           2,
           9,
           7,
           6,
           8,
           7,
           8,
           1,
           9,
           8,
           8,
           1,
           3,
           9,
           1,
           8,
           6,
           8,
           0,
           8,
           8,
           8,
           3,
           8,
           1,
           2,
           6,
           6,
           8,
           9,
           1,
           8,
           3,
           3,
           8,
           6,
           3,
           3,
           6,
           0,
           0,
           0,
           6,
           3,
           9,
           3,
           0,
           8,
           9,
           3,
           3,
           1,
           0,
           9,
           9,
           3,
           8,
           3,
           3,
           9,
           8,
           8,
           1,
           0,
           7,
           3,
           1,
           2,
           6,
           2,
           2,
           2,
           1,
           6,
           2,
           0,
           2,
           2,
           1,
           1,
           0,
           2,
           1,
           1,
           1,
           3,
           3,
           3,
           3,
           9,
           3,
           1,
           2,
           9,
           6,
           7,
           2,
           0,
           3,
           8,
           2,
           8,
           9,
           9,
           2,
           2,
           0,
           9,
           2,
           2,
           2,
           2,
           9,
           6,
           0,
           7,
           2,
           0,
           3,
           9,
           9,
           1,
           8,
           8,
           8,
           1,
           8,
           8,
           8,
           0,
           8,
           3,
           8,
           8,
           9,
           9,
           8,
           8,
           2,
           3,
           8,
           9,
           8,
           8,
           8,
           1,
           2,
           8,
           3,
           8,
           8,
           8,
           8,
           8,
           8,
           9,
           3,
           0,
           8,
           0,
           1,
           1,
           8,
           0,
           8,
           2,
           6,
           1,
           0,
           0,
           6,
           8,
           8,
           1,
           8,
           6,
           8,
           6,
           2,
           1,
           2,
           6,
           1,
           1,
           0,
           8,
           0,
           1,
           8,
           7,
           6,
           1,
           6,
           1,
           3,
           1,
           9,
           5,
           8,
           6,
           3,
           8,
           3,
           0,
           3,
           3,
           3,
           0,
           6,
           1,
           6,
           6,
           3,
           9,
           8,
           1,
           1,
           8,
           0,
           0,
           0,
           6,
           3,
           1,
           1,
           1,
           3,
           6,
           1,
           8,
           1,
           6,
           1,
           1,
           2,
           6,
           1,
           1,
           8,
           1,
           7,
           6,
           2,
           1,
           5,
           1,
           6,
           8,
           3,
           1,
           0,
           2,
           1,
           1,
           8,
           7,
           3,
           1,
           2,
           9,
           8,
           9,
           8,
           6,
           1,
           8,
           1,
           1,
           0,
           1,
           9,
           9,
           9,
           1,
           8,
           2,
           6,
           9,
           8,
           1,
           1,
           3,
           8,
           3,
           8,
           1,
           3,
           5,
           7,
           1,
           1,
           1,
           1,
           0,
           1,
           3,
           9,
           8,
           1,
           2,
           1,
           1,
           6,
           1,
           8,
           1,
           8,
           6,
           8,
           8,
           6,
           1,
           1,
           0,
           1,
           9,
           2,
           0,
           3,
           8,
           2,
           3,
           1,
           6,
           1,
           6,
           1,
           2,
           2,
           2,
           2,
           2,
           2,
           0,
           2,
           2,
           6,
           2,
           6,
           6,
           8,
           0,
           0,
           6,
           8,
           1,
           1,
           1,
           8,
           2,
           9,
           2,
           2,
           6,
           1,
           3,
           1,
           6,
           1,
           2,
           1,
           8,
           7,
           1,
           1,
           6,
           1,
           0,
           6,
           9,
           4,
           3,
           7,
           7,
           0,
           2,
           8,
           1,
           1,
           7,
           1,
           9,
           1,
           9,
           9,
           3,
           1,
           2,
           2,
           1,
           1,
           6,
           1,
           3,
           2,
           0,
           6,
           1,
           1,
           1,
           1,
           1,
           6,
           1,
           6,
           1,
           6,
           3,
           3,
           1,
           3,
           2,
           0,
           0,
           1,
           0,
           2,
           1,
           3,
           2,
           2,
           7,
           6,
           8,
           9,
           9,
           0,
           1,
           3,
           6,
           1,
           5,
           6,
           8,
           8,
           1,
           8,
           8,
           0,
           1,
           0,
           6,
           3,
           0,
           1,
           1,
           6,
           6,
           1,
           3,
           8,
           6,
           1,
           1,
           1,
           1,
           0,
           6,
           8,
           7,
           8,
           1,
           0,
           6,
           1,
           8,
           0,
           8,
           7,
           6,
           8,
           0,
           0,
           1,
           4,
           8,
           8,
           8,
           7,
           7,
           0,
           6,
           1,
           1,
           1,
           8,
           3,
           1,
           3,
           1,
           3,
           8,
           2,
           1,
           2,
           8,
           6,
           0,
           1,
           3,
           9,
           8,
           9,
           1,
           1,
           1,
           1,
           2,
           1,
           7,
           9,
           3,
           0,
           6,
           0,
           8,
           8,
           6,
           6,
           0,
           1,
           2,
           3,
           3,
           1,
           0,
           5,
           8,
           6,
           6,
           3,
           1,
           2,
           1,
           2,
           1,
           1,
           8,
           1,
           1,
           8,
           6,
           1,
           1,
           9,
           1,
           2,
           1,
           8,
           9,
           1,
           3,
           2,
           2,
           0,
           1,
           2,
           0,
           9,
           0,
           8,
           1,
           1,
           2,
           2,
           2,
           3,
           7,
           9,
           0,
           3,
           9,
           3,
           8,
           2,
           1,
           1,
           2,
           1,
           1,
           2,
           1,
           2,
           6,
           2,
           6,
           2,
           3,
           3,
           3,
           2,
           3,
           0,
           1,
           3,
           2,
           0,
           0,
           2,
           2,
           0,
           7,
           0,
           1,
           1,
           6,
           1,
           1,
           3,
           6,
           2,
           1,
           6,
           2,
           6,
           2,
           8,
           1,
           8,
           1,
           1,
           8,
           1,
           8,
           8,
           2,
           2,
           6,
           1,
           6,
           2,
           3,
           1,
           2,
           6,
           6,
           2,
           6,
           6,
           1,
           1,
           2,
           1,
           3,
           6,
           1,
           2,
           0,
           0,
           1,
           1,
           1,
           1,
           6,
           2,
           1,
           0,
           8,
           8,
           6,
           2,
           1,
           1,
           3,
           8,
           2,
           3,
           8,
           1,
           4,
           3,
           3,
           9,
           9,
           7,
           9,
           2,
           8,
           8,
           0,
           8,
           3,
           2,
           6,
           9,
           0,
           6,
           8,
           0,
           1,
           8,
           9,
           3,
           2,
           1,
           9,
           1,
           0,
           2,
           8,
           0,
           8,
           7,
           9,
           1,
           1,
           3,
           8,
           1,
           6,
           6,
           8,
           1,
           6,
           1,
           0,
           0,
           1,
           1,
           7,
           2,
           6,
           6,
           1,
           6,
           6,
           8,
           3,
           0,
           1,
           3,
           8,
           1,
           2,
           6,
           2,
           8,
           1,
           1,
           0,
           1,
           1,
           1,
           6,
           6,
           2,
           2,
           5,
           3,
           0,
           3,
           3,
           3,
           7,
           3,
           0,
           2,
           8,
           0,
           6,
           8,
           0,
           1,
           3,
           0,
           6,
           1,
           6,
           1,
           2,
           0,
           2,
           6,
           8,
           0,
           0,
           1,
           6,
           6,
           6,
           1,
           6,
           1,
           1,
           1,
           6,
           6,
           6,
           1,
           1,
           1,
           3,
           1,
           8,
           0,
           1,
           1,
           2,
           1,
           3,
           1,
           1,
           9,
           2,
           2,
           9,
           3,
           2,
           1,
           1,
           9,
           3,
           2,
           1,
           2,
           6,
           2,
           2,
           6,
           3,
           1,
           8,
           6,
           1,
           2,
           2,
           2,
           0,
           9,
           2,
           6,
           2,
           2,
           9,
           9,
           2,
           0,
           9,
           9,
           0,
           9,
           1,
           8,
           8,
           7,
           2,
           9,
           8,
           1,
           6,
           1,
           2,
           6,
           6,
           9,
           9,
           2,
           1,
           8,
           1,
           7,
           8,
           0,
           0,
           2,
           2,
           2,
           2,
           2,
           6,
           6,
           8,
           8,
           3,
           2,
           1,
           6,
           1,
           1,
           1,
           8,
           6,
           1,
           8,
           3,
           8,
           9,
           6,
           6,
           1,
           6,
           1,
           6,
           1,
           6,
           6,
           2,
           0,
           8,
           6,
           1,
           1,
           2,
           2,
           5,
           9,
           0,
           8,
           8,
           1,
           1,
           1,
           6,
           6,
           1,
           6,
           1,
           2,
           0,
           6,
           1,
           1,
           3,
           1,
           9,
           1,
           1,
           0,
           8,
           6,
           0,
           2,
           0,
           1,
           0,
           1,
           0,
           1,
           1,
           1,
           1,
           6,
           2,
           1,
           1,
           1,
           2,
           0,
           2,
           1,
           1,
           1,
           9,
           1,
           6,
           1,
           1,
           8,
           1,
           3,
           9,
           3,
           6,
           8,
           8,
           1,
           1,
           1,
           1,
           8,
           0,
           6,
           9,
           0,
           2,
           0,
           3,
           3,
           2,
           6,
           0,
           0,
           0,
           6,
           6,
           3,
           3,
           0,
           6,
           8,
           0,
           3,
           9,
           9,
           6,
           3,
           8,
           1,
           2,
           6,
           1,
           1,
           6,
           6,
           6,
           1,
           1,
           1,
           1,
           8,
           8,
           1,
           7,
           8,
           0,
           1,
           2,
           1,
           1,
           8,
           3,
           1,
           1,
           0,
           1,
           6,
           3,
           1,
           3,
           8,
           6,
           2,
           8,
           2,
           1,
           1,
           1,
           6,
           6,
           2,
           6,
           6,
           1,
           0,
           0,
           3,
           1,
           8,
           8,
           1,
           0,
           0,
           6,
           8,
           3,
           3,
           8,
           2,
           6,
           1,
           0,
           0,
           9,
           1,
           2,
           3,
           1,
           6,
           1,
           2,
           1,
           3,
           3,
           1,
           1,
           1,
           0,
           0,
           2,
           1,
           2,
           8,
           8,
           9,
           8,
           6,
           2,
           2,
           2,
           2,
           2,
           3,
           9,
           1,
           2,
           6,
           9,
           2,
           1,
           9,
           0,
           1,
           6,
           6,
           1,
           8,
           1,
           1,
           1,
           8,
           1,
           1,
           0,
           6,
           6,
           1,
           0,
           8,
           8,
           3,
           3,
           7,
           6,
           3,
           1,
           8,
           6,
           1,
           6,
           8,
           6,
           0,
           2,
           0,
           1,
           9,
           6,
           2,
           1,
           8,
           6,
           2,
           1,
           1,
           1,
           0,
           6,
           7,
           8,
           3,
           9,
           3,
           8,
           3,
           0,
           1,
           1,
           6,
           0,
           0,
           1,
           0,
           6,
           1,
           3,
           1,
           1,
           9,
           7,
           2,
           0,
           0,
           8,
           8,
           0,
           8,
           1,
           1,
           8,
           0,
           1,
           8,
           1,
           0,
           1,
           9,
           2,
           2,
           3,
           6,
           2,
           3,
           8,
           8,
           3,
           3,
           3,
           1,
           0,
           9,
           6,
           0,
           1,
           1,
           1,
           2,
           2,
           1,
           6,
           1,
           2,
           6,
           1,
           9,
           3,
           1,
           1,
           2,
           2,
           0,
           1,
           0,
           2,
           2,
           1,
           9,
           0,
           6,
           6,
           1,
           6,
           3,
           8,
           2,
           2,
           2,
           6,
           1,
           0,
           2,
           9,
           6,
           1,
           1,
           9,
           9,
           1,
           1,
           0,
           8,
           8,
           0,
           2,
           3,
           3,
           2,
           1,
           1,
           3,
           1,
           0,
           0,
           6,
           1,
           1,
           1,
           8,
           8,
           1,
           7,
           8,
           3,
           8,
           1,
           1,
           6,
           8,
           1,
           1,
           1,
           6,
           8,
           8,
           8,
           2,
           8,
           8,
           2,
           9,
           9,
           1,
           2,
           9,
           2,
           9,
           6,
           1,
           6,
           1,
           1,
           1,
           2,
           1,
           6,
           1,
           1,
           1,
           1,
           1,
           1,
           8,
           8,
           1,
           2,
           8,
           3,
           2,
           2,
           1,
           8,
           0,
           9,
           8,
           3,
           8,
           1,
           0,
           8,
           8,
           8,
           8,
           8,
           8,
           8,
           1,
           6,
           1,
           0,
           7,
           2,
           1,
           6,
           1,
           6,
           1,
           6,
           1,
           6,
           6,
           1,
           6,
           0,
           2,
           2,
           6,
           8,
           8,
           6,
           1,
           1,
           1,
           6,
           1,
           8,
           8,
           8,
           1,
           7,
           1,
           6,
           0,
           7,
           3,
           0,
           0,
           8,
           8,
           9,
           0,
           8,
           7,
           0,
           6,
           1,
           0,
           3,
           9,
           8,
           1,
           6,
           6,
           1,
           6,
           6,
           0,
           7,
           2,
           2,
           0,
           9,
           1,
           0,
           1,
           1,
           0,
           0,
           1,
           2,
           6,
           1,
           1,
           2,
           9,
           6,
           2,
           3,
           3,
           3,
           9,
           6,
           8,
           1,
           6,
           6,
           1,
           3,
           9,
           0,
           6,
           6,
           2,
           8,
           8,
           8,
           0,
           1,
           6,
           1,
           2,
           1,
           1,
           1,
           6,
           6,
           0,
           1,
           7,
           1,
           8,
           2,
           2,
           8,
           1,
           1,
           1,
           6,
           1,
           3,
           9,
           1,
           3,
           9,
           0,
           0,
           0,
           9,
           9,
           2,
           1,
           8,
           8,
           8,
           8,
           5,
           1,
           8,
           8,
           8,
           3,
           8,
           8,
           0,
           8,
           8,
           8,
           8,
           8,
           3,
           8,
           8,
           3,
           1,
           6,
           6,
           6,
           1,
           2,
           2,
           3,
           2,
           3,
           8,
           1,
           8,
           0,
           0,
           6,
           8,
           3,
           8,
           1,
           1,
           7,
           0,
           3,
           6,
           6,
           6,
           0,
           7,
           6,
           0,
           6,
           8,
           0,
           1,
           1,
           8,
           8,
           3,
           3,
           3,
           3,
           1,
           2,
           1,
           1,
           2,
           1,
           9,
           3,
           2,
           1,
           2,
           6,
           2,
           1,
           8,
           2,
           1,
           8,
           8,
           8,
           3,
           3,
           1,
           8,
           1,
           1,
           0,
           2,
           1,
           0,
           1,
           0,
           1,
           8,
           1
          ],
          "coloraxis": "coloraxis",
          "symbol": "circle"
         },
         "mode": "markers",
         "name": "",
         "showlegend": false,
         "type": "scattergl",
         "x": [
          47.172607421875,
          41.84767532348633,
          -5.255589008331299,
          29.38274574279785,
          12.36035442352295,
          13.364001274108887,
          -18.02518653869629,
          -53.88222122192383,
          20.630857467651367,
          14.256701469421387,
          6.730274677276611,
          7.163463115692139,
          -6.337538242340088,
          48.48752212524414,
          18.82990264892578,
          3.9955883026123047,
          2.304335355758667,
          7.511734485626221,
          8.531935691833496,
          -10.224109649658203,
          13.9630708694458,
          17.586843490600586,
          -10.087347030639648,
          36.29648971557617,
          6.009571075439453,
          -16.606586456298828,
          -12.294262886047363,
          41.73469924926758,
          8.552632331848145,
          -14.069404602050781,
          -11.609539031982422,
          13.924186706542969,
          -22.245634078979492,
          8.488198280334473,
          -28.5263729095459,
          -2.015794277191162,
          -8.473231315612793,
          13.220231056213379,
          -49.636600494384766,
          -18.51519012451172,
          -36.28144454956055,
          -49.952789306640625,
          -16.742046356201172,
          17.256946563720703,
          -0.6871986389160156,
          -34.28680419921875,
          15.000335693359375,
          -16.641508102416992,
          -12.658663749694824,
          -52.14889144897461,
          -26.19806480407715,
          -4.720583438873291,
          7.532408714294434,
          -47.47863006591797,
          -33.220035552978516,
          -51.27357864379883,
          -47.30387496948242,
          -17.816116333007812,
          -24.419397354125977,
          -29.659793853759766,
          -20.31420135498047,
          -15.756659507751465,
          20.364952087402344,
          32.60987091064453,
          -17.812976837158203,
          11.50645637512207,
          6.221404075622559,
          11.265238761901855,
          9.401320457458496,
          40.41994857788086,
          18.461334228515625,
          13.698014259338379,
          52.142578125,
          44.444374084472656,
          51.893272399902344,
          50.106475830078125,
          41.241153717041016,
          33.09508514404297,
          -1.3445771932601929,
          34.2050666809082,
          30.88538360595703,
          44.13111877441406,
          13.38183307647705,
          31.00906753540039,
          47.01231002807617,
          -19.33942222595215,
          25.877483367919922,
          -39.36251449584961,
          45.7099723815918,
          17.665603637695312,
          -48.04496383666992,
          -49.62838363647461,
          -39.83040237426758,
          -6.353999137878418,
          -1.8137949705123901,
          -33.347408294677734,
          -12.700860977172852,
          -4.267126083374023,
          34.721866607666016,
          -45.29167556762695,
          21.544857025146484,
          32.935855865478516,
          22.91629981994629,
          22.132156372070312,
          3.081260919570923,
          21.941864013671875,
          37.547584533691406,
          15.885313034057617,
          -18.60254669189453,
          -29.6889705657959,
          -47.529052734375,
          -13.250984191894531,
          -56.31129455566406,
          -18.66115951538086,
          -16.888364791870117,
          -14.664039611816406,
          -22.974336624145508,
          -27.008895874023438,
          4.387410640716553,
          8.923726081848145,
          0.2253486067056656,
          49.09065628051758,
          -5.180031776428223,
          -16.574710845947266,
          -13.851303100585938,
          41.684059143066406,
          -40.48736572265625,
          -1.142728328704834,
          -46.13038635253906,
          43.38861083984375,
          -15.615131378173828,
          -51.1568717956543,
          -52.77169418334961,
          -20.52346420288086,
          -47.47631072998047,
          -48.841617584228516,
          52.51689147949219,
          -17.812976837158203,
          -21.068897247314453,
          21.65298080444336,
          20.73013687133789,
          21.65298080444336,
          -27.489046096801758,
          18.961931228637695,
          12.442391395568848,
          -11.961471557617188,
          -13.403716087341309,
          -13.813730239868164,
          1.237783670425415,
          -44.21603775024414,
          48.565711975097656,
          -2.61342453956604,
          40.870849609375,
          40.78445053100586,
          36.74123764038086,
          7.037844657897949,
          6.116841793060303,
          5.968717575073242,
          -24.642065048217773,
          -29.033958435058594,
          -48.57193374633789,
          -24.036062240600586,
          -8.133249282836914,
          -54.329261779785156,
          -43.73902130126953,
          -30.087282180786133,
          -29.032732009887695,
          -43.81611633300781,
          -17.25376319885254,
          -13.461481094360352,
          -48.82782745361328,
          -2.6424431800842285,
          13.301420211791992,
          -20.338449478149414,
          -16.10213851928711,
          -1.2983297109603882,
          -20.73810577392578,
          -55.77488327026367,
          -48.388031005859375,
          50.564849853515625,
          52.85336685180664,
          53.41082000732422,
          14.974102973937988,
          48.866031646728516,
          16.55946159362793,
          0.7235938310623169,
          -21.335474014282227,
          49.5681037902832,
          31.33222770690918,
          -19.9512882232666,
          -20.09238052368164,
          26.984703063964844,
          9.229390144348145,
          -5.2766642570495605,
          -13.622444152832031,
          -13.850750923156738,
          54.78139877319336,
          31.568819046020508,
          37.83415985107422,
          17.548185348510742,
          24.90131378173828,
          14.424918174743652,
          27.26511573791504,
          16.154462814331055,
          17.293371200561523,
          6.920012950897217,
          -1.8981387615203857,
          40.84231185913086,
          35.55650329589844,
          34.495967864990234,
          45.64177703857422,
          -41.746036529541016,
          -24.5222225189209,
          -13.39199161529541,
          -12.260640144348145,
          -18.473848342895508,
          33.882450103759766,
          24.98488998413086,
          28.969026565551758,
          38.6579704284668,
          9.20750617980957,
          50.449554443359375,
          -20.320768356323242,
          21.99231719970703,
          16.25197982788086,
          2.7483928203582764,
          38.80752182006836,
          45.261173248291016,
          34.06806564331055,
          37.367408752441406,
          -11.821050643920898,
          43.966796875,
          35.543067932128906,
          29.657276153564453,
          -30.054418563842773,
          -7.243296146392822,
          -27.25783920288086,
          -42.4886474609375,
          9.728865623474121,
          -48.03633499145508,
          -20.279775619506836,
          -50.950965881347656,
          -50.31180953979492,
          8.62618350982666,
          -20.647567749023438,
          -23.818422317504883,
          10.16884994506836,
          16.911794662475586,
          6.498184680938721,
          27.264820098876953,
          -35.97248458862305,
          -17.29429054260254,
          30.897829055786133,
          -15.429884910583496,
          -14.80880355834961,
          -39.40978240966797,
          -5.311663627624512,
          -5.311663627624512,
          54.786136627197266,
          30.584144592285156,
          5.060059547424316,
          5.599212646484375,
          -40.56159591674805,
          -10.914388656616211,
          5.944230079650879,
          38.16878128051758,
          -14.309248924255371,
          10.721534729003906,
          17.11223793029785,
          26.974754333496094,
          0.38924750685691833,
          -7.864647388458252,
          37.34627914428711,
          -18.707860946655273,
          -16.327322006225586,
          0.695912778377533,
          16.431364059448242,
          30.401508331298828,
          -24.05983543395996,
          37.516597747802734,
          30.64281463623047,
          -11.204882621765137,
          4.885095119476318,
          55.17182540893555,
          22.637577056884766,
          12.93759822845459,
          -56.797611236572266,
          -23.97593879699707,
          0.2912557125091553,
          -1.053866982460022,
          23.039716720581055,
          -23.728904724121094,
          -39.876399993896484,
          -23.217897415161133,
          -1.053866982460022,
          15.053719520568848,
          1.3052424192428589,
          8.425742149353027,
          13.199359893798828,
          8.752936363220215,
          13.188940048217773,
          -0.7526743412017822,
          -45.25162124633789,
          -15.543848037719727,
          -30.138507843017578,
          15.114229202270508,
          17.44607162475586,
          10.863369941711426,
          18.569011688232422,
          25.55804443359375,
          3.9754576683044434,
          4.44284725189209,
          14.472436904907227,
          30.614398956298828,
          12.94443416595459,
          -23.347087860107422,
          -30.440868377685547,
          -26.591083526611328,
          -32.62230682373047,
          -31.790550231933594,
          -44.163795471191406,
          -32.851322174072266,
          -45.5815315246582,
          25.549264907836914,
          11.699323654174805,
          -45.028926849365234,
          -42.45289611816406,
          51.248863220214844,
          55.17182540893555,
          19.35350799560547,
          26.42934226989746,
          45.71678161621094,
          51.496795654296875,
          -8.708281517028809,
          39.10704040527344,
          50.65523910522461,
          36.059627532958984,
          -23.422670364379883,
          -28.74844741821289,
          -35.663612365722656,
          4.161725997924805,
          25.953340530395508,
          -28.748659133911133,
          14.940085411071777,
          12.22780990600586,
          -48.60602569580078,
          -27.08294105529785,
          -11.524864196777344,
          -2.659297466278076,
          23.858535766601562,
          -28.748138427734375,
          -26.096187591552734,
          -30.99974822998047,
          4.0117669105529785,
          38.331077575683594,
          -16.45200538635254,
          6.589144706726074,
          -52.849117279052734,
          13.382039070129395,
          -17.000070571899414,
          -14.468527793884277,
          -11.68911075592041,
          -25.715185165405273,
          -15.097414016723633,
          -21.768465042114258,
          44.26884460449219,
          50.89503479003906,
          -4.835648536682129,
          47.251094818115234,
          35.77268981933594,
          -22.346820831298828,
          6.035262584686279,
          14.41015911102295,
          -24.455671310424805,
          -35.72212600708008,
          6.0915141105651855,
          2.9621388912200928,
          9.764823913574219,
          47.59333801269531,
          48.73114013671875,
          26.492395401000977,
          -49.034244537353516,
          -0.08670102059841156,
          -27.89463233947754,
          40.1460075378418,
          -22.048646926879883,
          10.83033561706543,
          -9.928110122680664,
          -52.22120666503906,
          -35.445655822753906,
          -23.242414474487305,
          -49.90277099609375,
          -22.60832405090332,
          -17.587629318237305,
          -10.702095985412598,
          -15.357650756835938,
          -24.91196632385254,
          4.897058010101318,
          3.475668430328369,
          17.83864402770996,
          -23.31853675842285,
          40.65392303466797,
          34.43294143676758,
          18.940099716186523,
          5.572103977203369,
          -18.182771682739258,
          33.837371826171875,
          1.5811638832092285,
          6.008146286010742,
          -54.42129898071289,
          33.50035095214844,
          28.4632511138916,
          -42.1845588684082,
          47.00629425048828,
          14.775077819824219,
          -5.888387680053711,
          25.750221252441406,
          -14.51613998413086,
          -37.76324462890625,
          -2.481015682220459,
          14.922778129577637,
          44.936614990234375,
          37.167457580566406,
          52.410186767578125,
          11.455145835876465,
          -22.305566787719727,
          8.740861892700195,
          7.726152420043945,
          -49.11395263671875,
          15.385759353637695,
          31.8250789642334,
          12.978944778442383,
          -28.86203956604004,
          -51.666961669921875,
          1.3682564496994019,
          -12.128535270690918,
          15.979366302490234,
          6.419072151184082,
          11.028141021728516,
          -23.40549087524414,
          -45.955665588378906,
          -32.28995132446289,
          17.01776123046875,
          -43.6170539855957,
          -44.05937194824219,
          -35.97969436645508,
          42.689727783203125,
          -3.7441511154174805,
          -31.078187942504883,
          -28.22999382019043,
          23.075096130371094,
          10.110244750976562,
          30.483213424682617,
          8.512906074523926,
          -30.289474487304688,
          -11.755817413330078,
          8.997367858886719,
          -10.459851264953613,
          13.06965160369873,
          4.926515579223633,
          9.729540824890137,
          21.61791229248047,
          48.55644989013672,
          -30.211225509643555,
          2.9654223918914795,
          -5.804675102233887,
          -19.866769790649414,
          30.520858764648438,
          29.097579956054688,
          30.527128219604492,
          -3.8743417263031006,
          46.42420959472656,
          54.263973236083984,
          54.25087356567383,
          -12.947197914123535,
          -47.51337432861328,
          30.288223266601562,
          10.883415222167969,
          35.72075653076172,
          2.6860384941101074,
          -9.066018104553223,
          -19.08085823059082,
          20.150693893432617,
          40.23198699951172,
          14.488819122314453,
          44.71432113647461,
          36.23478317260742,
          2.4719972610473633,
          48.88503646850586,
          7.7409772872924805,
          -5.9164934158325195,
          -29.563552856445312,
          -25.101226806640625,
          4.899003982543945,
          10.165938377380371,
          24.497608184814453,
          -48.47682189941406,
          3.315842866897583,
          20.67709732055664,
          -52.42146301269531,
          -26.2760066986084,
          1.3724483251571655,
          13.743619918823242,
          -51.29448699951172,
          1.2796143293380737,
          17.38629150390625,
          -45.51626205444336,
          -30.708358764648438,
          -36.07600402832031,
          -52.473384857177734,
          7.278582572937012,
          -33.14338684082031,
          -53.97182846069336,
          21.25872039794922,
          1.435525894165039,
          14.275636672973633,
          10.54476261138916,
          10.103204727172852,
          27.41329574584961,
          -30.334457397460938,
          19.744186401367188,
          18.999374389648438,
          -19.207094192504883,
          -10.429322242736816,
          51.907249450683594,
          25.05290412902832,
          -11.39610767364502,
          1.7804399728775024,
          -31.179210662841797,
          -5.753731727600098,
          -39.186546325683594,
          -12.219512939453125,
          15.713873863220215,
          41.92170333862305,
          54.11549758911133,
          52.80270004272461,
          8.79063606262207,
          -3.762477159500122,
          13.24486255645752,
          5.043839931488037,
          -45.82862854003906,
          42.81869125366211,
          2.6441142559051514,
          4.395265102386475,
          41.92170333862305,
          38.894508361816406,
          29.519176483154297,
          -32.175086975097656,
          44.41895294189453,
          21.613855361938477,
          -8.294569969177246,
          51.66140365600586,
          11.297518730163574,
          -13.996271133422852,
          11.686101913452148,
          -33.584903717041016,
          -45.14981460571289,
          -48.84099197387695,
          -5.193096160888672,
          -27.5795955657959,
          -29.016063690185547,
          -4.918397426605225,
          -40.993831634521484,
          -20.912246704101562,
          -42.1171760559082,
          31.060482025146484,
          -33.45957565307617,
          -50.51701736450195,
          2.1941206455230713,
          37.811283111572266,
          17.692842483520508,
          -14.99571418762207,
          -10.553607940673828,
          -54.681610107421875,
          2.4763453006744385,
          -32.37816619873047,
          14.508779525756836,
          -24.4752140045166,
          28.837244033813477,
          10.78610610961914,
          -19.02161407470703,
          19.563507080078125,
          27.844680786132812,
          -39.37416076660156,
          5.782271385192871,
          30.42171287536621,
          6.5247883796691895,
          41.42649459838867,
          16.906888961791992,
          -39.20271301269531,
          40.54457473754883,
          27.39632225036621,
          11.827316284179688,
          2.6724343299865723,
          4.503110408782959,
          29.58771324157715,
          -0.56720370054245,
          1.6469218730926514,
          -10.671507835388184,
          27.96297836303711,
          9.28393840789795,
          38.99220657348633,
          10.225065231323242,
          -10.319076538085938,
          27.631162643432617,
          19.317750930786133,
          51.39826583862305,
          5.329700469970703,
          -9.120552062988281,
          -1.9430073499679565,
          27.726573944091797,
          25.641563415527344,
          1.1872730255126953,
          26.649038314819336,
          21.719058990478516,
          -2.0792317390441895,
          4.540091514587402,
          -15.692590713500977,
          28.551904678344727,
          -21.403682708740234,
          9.214984893798828,
          3.016186237335205,
          48.99201202392578,
          9.082172393798828,
          -8.504249572753906,
          -24.02430534362793,
          26.922019958496094,
          1.8454395532608032,
          -0.8478636741638184,
          50.98908615112305,
          -2.9278621673583984,
          49.240596771240234,
          48.96314239501953,
          51.00429153442383,
          43.93363952636719,
          53.3205451965332,
          36.51106262207031,
          49.05937957763672,
          45.22134017944336,
          53.8379020690918,
          53.615379333496094,
          49.31721878051758,
          25.065006256103516,
          49.83839797973633,
          47.55166244506836,
          48.532630920410156,
          43.73149490356445,
          50.409732818603516,
          54.94608688354492,
          39.409671783447266,
          12.20141887664795,
          49.70295333862305,
          49.75682830810547,
          41.155517578125,
          25.13764190673828,
          26.434663772583008,
          23.47970199584961,
          -29.381534576416016,
          10.426661491394043,
          -21.46112060546875,
          10.434365272521973,
          -33.944732666015625,
          -23.630882263183594,
          -20.856937408447266,
          -20.07769775390625,
          23.29009437561035,
          -30.745624542236328,
          15.797028541564941,
          -5.759791374206543,
          -48.648406982421875,
          30.6789608001709,
          -27.285993576049805,
          41.323787689208984,
          18.827972412109375,
          34.790748596191406,
          -34.46555709838867,
          -27.134279251098633,
          -51.2334098815918,
          52.14264678955078,
          50.52548599243164,
          39.56743240356445,
          -23.16860580444336,
          12.25759220123291,
          5.074498176574707,
          33.091617584228516,
          31.0740909576416,
          14.077702522277832,
          42.56028747558594,
          31.10344123840332,
          16.263254165649414,
          19.038555145263672,
          -4.341963768005371,
          -14.8555326461792,
          -20.276384353637695,
          14.131938934326172,
          -16.583148956298828,
          10.766315460205078,
          14.77258014678955,
          -17.615055084228516,
          15.675897598266602,
          18.654802322387695,
          -18.539440155029297,
          15.675435066223145,
          -23.607894897460938,
          -28.969411849975586,
          -21.796863555908203,
          2.2458696365356445,
          38.04581832885742,
          18.84311866760254,
          -17.240476608276367,
          -10.291900634765625,
          48.59995651245117,
          -19.4561767578125,
          -19.455989837646484,
          -24.442659378051758,
          -51.56889343261719,
          -32.633689880371094,
          -21.582120895385742,
          -1.015720248222351,
          9.11950969696045,
          21.92098617553711,
          -23.54053497314453,
          -12.821678161621094,
          -13.342228889465332,
          -20.39979362487793,
          -17.90415382385254,
          26.1894474029541,
          18.413965225219727,
          -14.243184089660645,
          -19.871856689453125,
          16.613208770751953,
          -24.40692138671875,
          7.135439395904541,
          -14.887920379638672,
          15.806350708007812,
          -14.310853004455566,
          -20.026878356933594,
          -15.692391395568848,
          -54.71709442138672,
          34.42525863647461,
          52.7821159362793,
          52.303714752197266,
          36.842018127441406,
          -33.816837310791016,
          48.06726837158203,
          7.282866477966309,
          -43.159423828125,
          -26.69447898864746,
          -11.528072357177734,
          -30.2380313873291,
          -50.199737548828125,
          -10.671507835388184,
          -20.165834426879883,
          52.52194595336914,
          -13.911843299865723,
          35.16575241088867,
          11.770153045654297,
          32.9195671081543,
          -23.64042091369629,
          9.713396072387695,
          2.629236936569214,
          -11.67941665649414,
          -29.1877384185791,
          -47.01401901245117,
          -11.67941665649414,
          11.96618366241455,
          -8.341533660888672,
          37.69844055175781,
          -24.464340209960938,
          -27.8714542388916,
          8.646714210510254,
          18.20578384399414,
          -2.714784622192383,
          42.23672103881836,
          -2.552022933959961,
          -14.685135841369629,
          -1.1842228174209595,
          -51.65774917602539,
          4.533935070037842,
          -9.770262718200684,
          -31.533294677734375,
          -32.36258316040039,
          13.62220573425293,
          -23.890398025512695,
          -24.74739646911621,
          -29.38994026184082,
          -16.58626365661621,
          -22.33243751525879,
          -23.589597702026367,
          -17.564043045043945,
          1.6465238332748413,
          -25.677013397216797,
          16.282917022705078,
          5.161099910736084,
          -7.850950241088867,
          6.1586384773254395,
          -27.576383590698242,
          23.396183013916016,
          3.3941032886505127,
          -53.822235107421875,
          39.86086654663086,
          18.733654022216797,
          3.6407735347747803,
          -42.05176544189453,
          9.027876853942871,
          -23.485923767089844,
          -26.250804901123047,
          21.634042739868164,
          -13.910821914672852,
          -0.782291054725647,
          -18.49826431274414,
          8.217557907104492,
          -16.007436752319336,
          -29.9265079498291,
          -24.066524505615234,
          35.09465026855469,
          16.40538787841797,
          -0.04779975116252899,
          6.467251300811768,
          14.90401554107666,
          -35.90645980834961,
          0.05982764810323715,
          16.615413665771484,
          4.7170281410217285,
          -13.956171989440918,
          -12.434937477111816,
          18.70048713684082,
          -10.869691848754883,
          3.988581657409668,
          -1.5522136688232422,
          -40.909698486328125,
          -44.839298248291016,
          -29.233476638793945,
          -13.818928718566895,
          22.31840705871582,
          -2.181328535079956,
          17.976375579833984,
          52.76545333862305,
          4.299641132354736,
          -33.565574645996094,
          28.724563598632812,
          -19.052722930908203,
          18.696914672851562,
          0.38924750685691833,
          13.402316093444824,
          -52.44716262817383,
          -0.7723773717880249,
          21.26539421081543,
          -43.22235107421875,
          -20.270633697509766,
          -43.190975189208984,
          -43.362361907958984,
          0.9832322001457214,
          17.694114685058594,
          11.11628532409668,
          13.297470092773438,
          -8.453150749206543,
          -28.087074279785156,
          -49.66807174682617,
          6.967399597167969,
          -12.133257865905762,
          9.346176147460938,
          18.628324508666992,
          28.947250366210938,
          -1.3629709482192993,
          -55.111595153808594,
          37.88115310668945,
          3.225168466567993,
          37.06822967529297,
          -51.80626678466797,
          -53.09086227416992,
          -10.29515552520752,
          11.09747314453125,
          13.339815139770508,
          -16.62246322631836,
          26.447134017944336,
          -21.350223541259766,
          -46.6121711730957,
          9.946267127990723,
          -14.04675006866455,
          -45.02340316772461,
          6.855296611785889,
          -23.844635009765625,
          -21.577884674072266,
          -7.372224807739258,
          27.7780818939209,
          -5.795009136199951,
          -11.50641918182373,
          -26.18620491027832,
          -26.372337341308594,
          46.49285888671875,
          -51.244773864746094,
          -9.805439949035645,
          41.80834197998047,
          30.169105529785156,
          -16.30525779724121,
          -46.41412353515625,
          -28.042831420898438,
          -19.56733512878418,
          9.872206687927246,
          25.166555404663086,
          -27.13628578186035,
          0.0813509002327919,
          49.0904541015625,
          -10.459929466247559,
          13.52933120727539,
          10.556184768676758,
          -17.811742782592773,
          -12.94992446899414,
          5.8442463874816895,
          -5.098541736602783,
          24.5762939453125,
          54.073123931884766,
          -27.130916595458984,
          -42.2180290222168,
          -25.878841400146484,
          37.861976623535156,
          -26.42714500427246,
          -49.584381103515625,
          14.450053215026855,
          20.208608627319336,
          -27.936851501464844,
          16.542512893676758,
          18.846675872802734,
          14.564327239990234,
          21.38894271850586,
          2.896016836166382,
          -15.435280799865723,
          15.315523147583008,
          27.289810180664062,
          50.32061004638672,
          48.791419982910156,
          42.730953216552734,
          43.75783920288086,
          1.9098447561264038,
          50.767982482910156,
          5.12108039855957,
          -37.70869445800781,
          -51.9880256652832,
          -15.99319839477539,
          9.188627243041992,
          32.00271224975586,
          -36.572269439697266,
          8.790815353393555,
          -13.84192943572998,
          41.496803283691406,
          11.91843318939209,
          -18.271461486816406,
          -26.169225692749023,
          -29.504396438598633,
          15.195474624633789,
          19.02261734008789,
          1.5990301370620728,
          -29.00617790222168,
          27.55577278137207,
          -14.498835563659668,
          -29.718181610107422,
          -26.2329044342041,
          -6.535590648651123,
          -26.920610427856445,
          -23.524585723876953,
          -13.931317329406738,
          -34.95371627807617,
          -29.51651954650879,
          -15.752975463867188,
          9.304393768310547,
          4.7810893058776855,
          -50.11343002319336,
          -9.999731063842773,
          12.171850204467773,
          -26.566062927246094,
          -30.998838424682617,
          -28.41986083984375,
          -44.37470626831055,
          -27.183977127075195,
          -50.108646392822266,
          -31.331012725830078,
          46.0537223815918,
          -3.0300095081329346,
          44.99906921386719,
          26.962753295898438,
          28.332489013671875,
          25.36910629272461,
          -26.397891998291016,
          16.62833023071289,
          47.7579231262207,
          -50.63788986206055,
          46.96561050415039,
          -16.007436752319336,
          18.647226333618164,
          -33.23255157470703,
          -5.840620040893555,
          14.93195915222168,
          10.11562728881836,
          41.56245422363281,
          32.60539627075195,
          2.7885148525238037,
          -37.86328887939453,
          -1.0374873876571655,
          -41.71579360961914,
          7.2999043464660645,
          -24.321216583251953,
          -49.080345153808594,
          21.028213500976562,
          32.6756706237793,
          9.311201095581055,
          47.694252014160156,
          36.620609283447266,
          9.865996360778809,
          0.14033545553684235,
          34.33674240112305,
          -19.156522750854492,
          13.572944641113281,
          -0.8849244117736816,
          13.152020454406738,
          -5.63809871673584,
          -7.454371452331543,
          26.0688419342041,
          17.50312614440918,
          6.262463569641113,
          16.782176971435547,
          -5.2852325439453125,
          6.0223822593688965,
          16.234731674194336,
          -48.49867248535156,
          -48.03374099731445,
          6.880337715148926,
          35.66777420043945,
          13.166335105895996,
          52.071956634521484,
          48.50857162475586,
          -17.501056671142578,
          16.578187942504883,
          -40.31092071533203,
          -40.153263092041016,
          -45.266395568847656,
          3.667548418045044,
          -21.884979248046875,
          -0.7294055819511414,
          23.14806365966797,
          45.67442321777344,
          -51.084861755371094,
          -7.554968357086182,
          -25.55219268798828,
          -29.060998916625977,
          26.201583862304688,
          27.896106719970703,
          54.79667282104492,
          -7.276655673980713,
          -1.4781183004379272,
          26.161409378051758,
          -22.440271377563477,
          28.441835403442383,
          28.543275833129883,
          41.73899841308594,
          32.98891067504883,
          4.311646461486816,
          10.031159400939941,
          -21.23076820373535,
          -44.81801986694336,
          2.8378045558929443,
          8.666315078735352,
          -4.14829158782959,
          8.309650421142578,
          20.677043914794922,
          40.09278106689453,
          30.23672103881836,
          -11.183806419372559,
          -1.1225990056991577,
          10.135453224182129,
          36.65203094482422,
          -12.13134479522705,
          -41.48569107055664,
          11.76219367980957,
          11.737296104431152,
          -33.722198486328125,
          41.726985931396484,
          -27.734865188598633,
          -4.938736438751221,
          2.7752487659454346,
          -7.533993721008301,
          32.424930572509766,
          31.325010299682617,
          -14.130379676818848,
          39.795352935791016,
          53.53885269165039,
          16.17158317565918,
          -26.65914535522461,
          -33.39564514160156,
          -44.56012725830078,
          13.718006134033203,
          -14.33751392364502,
          -6.066320896148682,
          32.83211898803711,
          -26.65914535522461,
          27.55389404296875,
          48.08934783935547,
          43.681034088134766,
          5.809177875518799,
          7.547340393066406,
          -11.471820831298828,
          -14.269597053527832,
          -12.550457000732422,
          48.25515365600586,
          -25.948030471801758,
          35.32621383666992,
          -18.123939514160156,
          5.959315776824951,
          -35.633731842041016,
          -0.8081045150756836,
          16.9180965423584,
          -33.86260223388672,
          -9.291524887084961,
          28.467313766479492,
          10.735485076904297,
          6.7081828117370605,
          -23.78641128540039,
          -38.81197738647461,
          23.01883316040039,
          -46.243839263916016,
          6.708135604858398,
          -19.331249237060547,
          8.055838584899902,
          -2.146691083908081,
          -26.91123390197754,
          -25.516742706298828,
          12.970846176147461,
          -27.30683135986328,
          -36.530311584472656,
          -8.623539924621582,
          -52.232643127441406,
          -35.84438705444336,
          8.984030723571777,
          -19.500059127807617,
          -41.240814208984375,
          -11.199102401733398,
          36.45085525512695,
          45.829811096191406,
          -55.59752655029297,
          5.59289026260376,
          -51.993019104003906,
          -16.304561614990234,
          -36.63441467285156,
          -18.95716094970703,
          -33.27293014526367,
          -22.663366317749023,
          -28.53818702697754,
          -23.692644119262695,
          14.109575271606445,
          -17.34096908569336,
          2.97774600982666,
          -9.336051940917969,
          8.04602336883545,
          -35.88644027709961,
          45.46818542480469,
          43.07015609741211,
          50.68667221069336,
          3.6644997596740723,
          12.568331718444824,
          1.251488447189331,
          -22.956329345703125,
          14.457184791564941,
          -20.68233871459961,
          32.30886459350586,
          25.518463134765625,
          2.912285804748535,
          -40.453697204589844,
          50.480628967285156,
          51.98758316040039,
          -14.520437240600586,
          -42.90418243408203,
          -19.076181411743164,
          0.9362452626228333,
          -20.8061466217041,
          50.64527893066406,
          -44.93239212036133,
          50.919532775878906,
          51.49147415161133,
          30.670215606689453,
          -24.989748001098633,
          -24.807191848754883,
          -6.407318592071533,
          -46.77701187133789,
          13.101225852966309,
          27.25712776184082,
          28.028987884521484,
          5.944230079650879,
          -25.384706497192383,
          -22.893352508544922,
          -36.517452239990234,
          -17.841819763183594,
          -21.674880981445312,
          -7.51645040512085,
          -13.960532188415527,
          8.59896183013916,
          -29.568294525146484,
          12.52674388885498,
          -24.652767181396484,
          5.029505252838135,
          40.763309478759766,
          20.358436584472656,
          25.52108383178711,
          3.9997565746307373,
          -2.001319646835327,
          15.032925605773926,
          4.060662746429443,
          -19.058002471923828,
          -6.256932258605957,
          -21.247896194458008,
          11.668977737426758,
          -20.898357391357422,
          2.322366952896118,
          1.3289496898651123,
          0.8809987306594849,
          -15.777353286743164,
          -2.374429225921631,
          -26.38496208190918,
          -33.14717483520508,
          -11.930743217468262,
          34.65787887573242,
          34.83369827270508,
          35.5794792175293,
          32.71522903442383,
          4.053329944610596,
          54.66594696044922,
          30.02350425720215,
          31.702199935913086,
          37.507957458496094,
          -28.326019287109375,
          -21.802949905395508,
          23.91636848449707,
          -28.89232063293457,
          -4.535040378570557,
          -20.218692779541016,
          -27.224842071533203,
          -10.681939125061035,
          -10.912988662719727,
          15.807833671569824,
          13.972651481628418,
          -32.37816619873047,
          -12.02225112915039,
          25.725215911865234,
          21.330989837646484,
          38.936546325683594,
          40.108882904052734,
          31.95953941345215,
          20.852867126464844,
          2.739522695541382,
          39.809722900390625,
          -47.67815399169922,
          34.91512680053711,
          22.33120346069336,
          -10.291557312011719,
          31.655263900756836,
          -48.954288482666016,
          -5.683231353759766,
          14.796100616455078,
          38.30923843383789,
          9.317767143249512,
          -29.82866859436035,
          36.015323638916016,
          -35.886077880859375,
          -32.50129699707031,
          30.54780387878418,
          -0.9823877811431885,
          -22.599821090698242,
          1.2443935871124268,
          -49.04003143310547,
          -51.91102600097656,
          -32.82421112060547,
          -17.030927658081055,
          -1.8992531299591064,
          -31.479434967041016,
          33.543392181396484,
          20.294321060180664,
          38.168800354003906,
          34.6543083190918,
          39.600215911865234,
          41.32075119018555,
          43.952850341796875,
          19.638032913208008,
          -36.103065490722656,
          -20.105937957763672,
          45.68952178955078,
          -17.118526458740234,
          -15.485568046569824,
          -11.433304786682129,
          -4.513422012329102,
          17.716032028198242,
          33.123573303222656,
          32.371734619140625,
          37.272674560546875,
          -51.674991607666016,
          -37.9649543762207,
          -15.235605239868164,
          -49.33797836303711,
          2.253722906112671,
          40.93231201171875,
          52.56536102294922,
          51.48954772949219,
          49.9889030456543,
          54.38254165649414,
          49.621559143066406,
          37.192176818847656,
          25.97645378112793,
          2.8478524684906006,
          9.692609786987305,
          10.361767768859863,
          -0.03604231774806976,
          -0.03604231774806976,
          17.696714401245117,
          33.85073471069336,
          -23.939205169677734,
          -34.14609909057617,
          27.370546340942383,
          4.8727898597717285,
          -25.048812866210938,
          -52.588165283203125,
          -18.874950408935547,
          -11.020673751831055,
          22.618383407592773,
          27.39632225036621,
          48.1100959777832,
          48.85881042480469,
          50.11521530151367,
          54.760589599609375,
          -0.312813937664032,
          26.502487182617188,
          34.79698181152344,
          34.7970085144043,
          -0.312813937664032,
          -7.554952144622803,
          -30.081085205078125,
          -53.26667404174805,
          55.17454528808594,
          17.946815490722656,
          31.25972557067871,
          5.041313171386719,
          14.419181823730469,
          8.471683502197266,
          4.868343830108643,
          13.689598083496094,
          -7.0483174324035645,
          -15.75560474395752,
          -40.826210021972656,
          33.07647705078125,
          22.278987884521484,
          50.6739387512207,
          32.74684524536133,
          17.66127586364746,
          -46.08489990234375,
          40.54286193847656,
          -14.596423149108887,
          28.64883804321289,
          25.172746658325195,
          -53.62778091430664,
          2.779050350189209,
          -3.261631727218628,
          19.87771987915039,
          9.234893798828125,
          24.840702056884766,
          -27.72173500061035,
          4.581871032714844,
          -8.646687507629395,
          -15.470610618591309,
          -35.838218688964844,
          12.794977188110352,
          -20.847293853759766,
          -52.136878967285156,
          -26.139873504638672,
          -1.1024385690689087,
          -44.47303771972656,
          -6.474380970001221,
          -29.745590209960938,
          -20.450572967529297,
          -43.612491607666016,
          -24.407245635986328,
          -26.66695785522461,
          -0.18877379596233368,
          -29.670766830444336,
          -45.44968795776367,
          6.088611602783203,
          3.821702241897583,
          -23.70291519165039,
          -45.763031005859375,
          -10.671507835388184,
          14.25548267364502,
          -32.27496337890625,
          45.38888931274414,
          4.748760223388672,
          2.7183709144592285,
          -30.679901123046875,
          -46.51063537597656,
          -45.335357666015625,
          6.663896560668945,
          25.786773681640625,
          12.661433219909668,
          8.977298736572266,
          13.765557289123535,
          -5.468297958374023,
          14.983689308166504,
          -40.865928649902344,
          -15.676348686218262,
          27.213722229003906,
          -17.118499755859375,
          -18.1052188873291,
          12.737223625183105,
          21.813390731811523,
          -26.91128158569336,
          41.29584884643555,
          -0.35193854570388794,
          40.57056427001953,
          5.636544227600098,
          13.802826881408691,
          25.482059478759766,
          10.725801467895508,
          -32.170021057128906,
          24.677509307861328,
          4.531342029571533,
          3.8316454887390137,
          -1.0734130144119263,
          -4.769139766693115,
          -0.5828530788421631,
          27.39632225036621,
          21.957477569580078,
          17.972028732299805,
          28.3968563079834,
          50.105674743652344,
          40.792083740234375,
          -20.711355209350586,
          -46.07886505126953,
          -40.63080596923828,
          7.133139133453369,
          6.7918171882629395,
          0.7308207750320435,
          7.95272159576416,
          49.47441864013672,
          49.06209182739258,
          33.17610168457031,
          49.67939376831055,
          -39.59082794189453,
          54.481292724609375,
          50.460205078125,
          -2.9278621673583984,
          17.971588134765625,
          1.0466936826705933,
          1.0466936826705933,
          -45.30928039550781,
          45.496177673339844,
          20.100343704223633,
          32.53856658935547,
          1.0466936826705933,
          49.46464157104492,
          -26.32345199584961,
          44.628238677978516,
          44.50218963623047,
          -0.03674627095460892,
          10.812614440917969,
          19.333717346191406,
          9.44400405883789,
          49.15708541870117,
          48.50230026245117,
          49.66608428955078,
          30.272035598754883,
          -0.2840927839279175,
          49.08358383178711,
          37.37495803833008,
          -24.675079345703125,
          17.103954315185547,
          -12.85356616973877,
          43.936283111572266,
          -4.8408894538879395,
          -35.90837478637695,
          -33.324188232421875,
          -41.85340118408203,
          -43.87282180786133,
          -39.63107681274414,
          -20.798521041870117,
          -47.99448013305664,
          -39.98323059082031,
          18.45074462890625,
          -34.31638717651367,
          -27.004798889160156,
          -7.606417655944824,
          -7.16321325302124,
          10.362404823303223,
          -17.904773712158203,
          -32.65874099731445,
          -5.886143207550049,
          -12.014214515686035,
          33.39230728149414,
          50.75469207763672,
          52.39405059814453,
          45.01200485229492,
          -8.631847381591797,
          31.679302215576172,
          -25.96335220336914,
          -28.359683990478516,
          11.385693550109863,
          3.7195305824279785,
          -2.082242012023926,
          -51.51279067993164,
          0.007326851598918438,
          31.679302215576172,
          16.706220626831055,
          -43.6989631652832,
          27.566923141479492,
          28.45718002319336,
          -5.4949774742126465,
          -40.5233154296875,
          -40.75191116333008,
          4.671108245849609,
          -12.524980545043945,
          -50.574459075927734,
          -40.92089080810547,
          -42.63640594482422,
          -17.768569946289062,
          3.540907621383667,
          -51.17327880859375,
          18.45071792602539,
          16.953384399414062,
          -19.275754928588867,
          17.258047103881836,
          50.071468353271484,
          28.99339485168457,
          9.058393478393555,
          -4.154531955718994,
          30.713682174682617,
          23.41251564025879,
          18.591218948364258,
          -29.550251007080078,
          31.629547119140625,
          17.975139617919922,
          32.05945587158203,
          24.258180618286133,
          23.384105682373047,
          36.889915466308594,
          30.72337532043457,
          29.660249710083008,
          26.85517120361328,
          29.15117835998535,
          29.346303939819336,
          30.206680297851562,
          -16.58359146118164,
          34.995521545410156,
          24.857404708862305,
          26.238401412963867,
          31.516796112060547,
          1.9865726232528687,
          29.774681091308594,
          -30.042152404785156,
          -11.775355339050293,
          30.14619255065918,
          38.01013946533203,
          33.739891052246094,
          30.810955047607422,
          39.3859748840332,
          11.947698593139648,
          30.670522689819336,
          28.839153289794922,
          -8.929570198059082,
          28.662052154541016,
          8.55475902557373,
          -4.02462911605835,
          14.598810195922852,
          -2.486088752746582,
          -11.782849311828613,
          22.576549530029297,
          18.78487205505371,
          17.523685455322266,
          -33.39564514160156,
          -31.45391082763672,
          -24.805706024169922,
          12.08227252960205,
          11.691692352294922,
          -49.37846374511719,
          31.136974334716797,
          27.367183685302734,
          -21.653676986694336,
          36.32354736328125,
          -53.62348556518555,
          38.01271438598633,
          -49.7523193359375,
          -52.14889144897461,
          8.55988597869873,
          4.968295097351074,
          -2.280846118927002,
          -34.99129104614258,
          7.320165634155273,
          8.926138877868652,
          22.586326599121094,
          8.950148582458496,
          -12.91602611541748,
          18.127178192138672,
          21.842041015625,
          -42.18865203857422,
          -29.21143913269043,
          10.707340240478516,
          -11.241170883178711,
          43.82966232299805,
          -12.63333797454834,
          8.98402214050293,
          25.212953567504883,
          16.96146583557129,
          -43.28300476074219,
          42.752899169921875,
          50.02997589111328,
          50.820743560791016,
          21.809465408325195,
          36.55942916870117,
          39.41934585571289,
          55.181915283203125,
          6.206350326538086,
          -45.5145263671875,
          -14.675066947937012,
          -30.69480323791504,
          -52.22109603881836,
          37.23087692260742,
          16.26640510559082,
          12.167646408081055,
          -22.132797241210938,
          -27.622093200683594,
          33.53284454345703,
          17.017011642456055,
          30.10996437072754,
          13.319479942321777,
          -5.224521636962891,
          51.71852111816406,
          -23.32015609741211,
          -20.456613540649414,
          -22.994779586791992,
          51.90153121948242,
          -44.305328369140625,
          -10.35994815826416,
          35.789588928222656,
          -19.51715660095215,
          -47.68128204345703,
          -18.528657913208008,
          -1.6497368812561035,
          -25.0386962890625,
          -44.91531753540039,
          -21.974637985229492,
          -21.62786865234375,
          18.631444931030273,
          -32.06456756591797,
          3.0345680713653564,
          -45.165855407714844,
          -10.591370582580566,
          -34.3937873840332,
          22.250139236450195,
          -22.279455184936523,
          -23.061283111572266,
          51.39826583862305,
          41.27477264404297,
          2.447091817855835,
          25.744831085205078,
          -25.739912033081055,
          -20.965858459472656,
          -30.944721221923828,
          34.33926010131836,
          3.1745152473449707,
          50.05657958984375,
          7.206490516662598,
          -24.81865119934082,
          -41.4384651184082,
          6.3413519859313965,
          -6.878664493560791,
          17.263933181762695,
          -41.81475067138672,
          -6.658336162567139,
          -5.589978218078613,
          -7.276655673980713,
          -5.2927703857421875,
          27.621463775634766,
          -4.755594253540039,
          21.03375244140625,
          12.037467002868652,
          17.754932403564453,
          -27.01252555847168,
          10.784669876098633,
          -24.808000564575195,
          -49.64868927001953,
          -17.402469635009766,
          31.77793312072754,
          10.305161476135254,
          -28.673891067504883,
          37.99723815917969,
          8.28317928314209,
          39.35380554199219,
          9.688706398010254,
          -21.543609619140625,
          42.72228240966797,
          26.502487182617188,
          -2.3902530670166016,
          -0.22479690611362457,
          -9.668203353881836,
          -10.24749755859375,
          0.8800955414772034,
          4.321785926818848,
          11.870867729187012,
          37.41156768798828,
          -8.63117504119873,
          22.564838409423828,
          -23.00434112548828,
          -45.447418212890625,
          11.480085372924805,
          8.171669960021973,
          -2.4025113582611084,
          -5.992883682250977,
          6.589910507202148,
          5.643960475921631,
          31.216651916503906,
          -18.147951126098633,
          36.3814697265625,
          33.875389099121094,
          12.367105484008789,
          -16.86215591430664,
          -49.374656677246094,
          17.611875534057617,
          -31.996063232421875,
          -6.553666114807129,
          -0.9437440037727356,
          24.215747833251953,
          46.23260498046875,
          12.074871063232422,
          -13.182411193847656,
          45.78418731689453,
          8.217537879943848,
          -31.358076095581055,
          -23.7637882232666,
          -41.45390701293945,
          1.6030826568603516,
          -27.577543258666992,
          -29.509796142578125,
          -25.57862663269043,
          -31.203100204467773,
          -23.746572494506836,
          -34.552040100097656,
          3.4133448600769043,
          -29.375486373901367,
          -42.515560150146484,
          -50.69454574584961,
          -31.96053695678711,
          -54.14475631713867,
          -1.0630266666412354,
          18.931180953979492,
          9.240104675292969,
          8.531935691833496,
          12.237275123596191,
          28.50173568725586,
          -11.091764450073242,
          -10.6816987991333,
          5.2024688720703125,
          21.457616806030273,
          -25.059856414794922,
          -20.840055465698242,
          -28.748659133911133,
          -47.827083587646484,
          -25.302886962890625,
          4.244411945343018,
          46.243255615234375,
          -29.596439361572266,
          -24.821748733520508,
          -23.108537673950195,
          -39.74668884277344,
          -29.49131202697754,
          6.82381534576416,
          -0.573654055595398,
          -0.4740053713321686,
          -31.676362991333008,
          -52.12004470825195,
          -23.913362503051758,
          3.9822654724121094,
          -44.24256134033203,
          25.0717716217041,
          41.76873779296875,
          46.19279861450195,
          21.94207000732422,
          21.842041015625,
          13.524361610412598,
          -30.3597412109375,
          13.365365028381348,
          -29.693531036376953,
          -0.8307422995567322,
          23.53908920288086,
          -17.970722198486328,
          -0.24013370275497437,
          -24.166606903076172,
          11.262174606323242,
          -12.41664981842041,
          43.29993438720703,
          -15.73608684539795,
          -17.156225204467773,
          -38.988426208496094,
          -14.436644554138184,
          -29.46308135986328,
          -48.04334259033203,
          -18.324247360229492,
          37.71001052856445,
          -37.23310089111328,
          16.105627059936523,
          -46.325294494628906,
          -11.165728569030762,
          -13.825814247131348,
          -20.29616928100586,
          -8.447981834411621,
          -22.880929946899414,
          7.251544952392578,
          -14.481882095336914,
          8.499333381652832,
          -22.082481384277344,
          -47.973915100097656,
          42.22454833984375,
          38.24199295043945,
          -2.413795232772827,
          53.533546447753906,
          -31.6279296875,
          17.285558700561523,
          9.509195327758789,
          -23.506349563598633,
          21.538686752319336,
          -37.42356872558594,
          -21.914722442626953,
          32.35796356201172,
          -36.64381790161133,
          -44.02830123901367,
          20.449045181274414,
          -45.630287170410156,
          38.76832962036133,
          -7.266273021697998,
          -7.266273021697998,
          7.119195461273193,
          -32.81818771362305,
          33.3066520690918,
          -49.309513092041016,
          2.9654223918914795,
          25.725215911865234,
          10.677485466003418,
          42.846466064453125,
          13.436893463134766,
          8.354659080505371,
          23.82008171081543,
          37.950679779052734,
          15.791213989257812,
          -11.444361686706543,
          24.450328826904297,
          -22.440271377563477,
          45.7746467590332,
          2.4963130950927734,
          -11.020715713500977,
          -22.240060806274414,
          -1.901077389717102,
          -19.540977478027344,
          -1.8453878164291382,
          51.88703918457031,
          33.882450103759766,
          -22.57500648498535,
          7.974625587463379,
          2.1612064838409424,
          -3.316683530807495,
          -0.7522441744804382,
          28.93692970275879,
          4.176339149475098,
          12.708829879760742,
          1.9137659072875977,
          24.687042236328125,
          -11.614372253417969,
          25.737871170043945,
          9.60579776763916,
          -19.437397003173828,
          31.559629440307617,
          28.82793617248535,
          18.968969345092773,
          7.151378154754639,
          -2.826162099838257,
          15.400259017944336,
          8.116409301757812,
          -3.930635690689087,
          -1.8347218036651611,
          40.93231201171875,
          20.876516342163086,
          38.194759368896484,
          11.854081153869629,
          -9.563597679138184,
          -9.768881797790527,
          23.918947219848633,
          -0.6150596737861633,
          -29.81739616394043,
          -22.48516082763672,
          6.311054706573486,
          18.21481704711914,
          37.997406005859375,
          -2.3353068828582764,
          38.734519958496094,
          -36.210880279541016,
          35.45686340332031,
          30.63348388671875,
          -3.575392961502075,
          -17.671606063842773,
          -24.27336311340332,
          31.69562339782715,
          -4.52706241607666,
          10.203194618225098,
          -15.869913101196289,
          38.219417572021484,
          28.724563598632812,
          19.2598819732666,
          9.697824478149414,
          -23.056703567504883,
          -1.7616621255874634,
          4.762821197509766,
          -24.77633285522461,
          -35.29629898071289,
          2.254352569580078,
          -0.9971652626991272,
          28.659687042236328,
          50.28643035888672,
          17.611839294433594,
          -46.63261795043945,
          16.881099700927734,
          33.961883544921875,
          33.961883544921875,
          -0.586793839931488,
          -45.576778411865234,
          4.542210102081299,
          -13.39409065246582,
          -42.05176544189453,
          32.48101043701172,
          32.565792083740234,
          4.888782978057861,
          6.8949785232543945,
          23.415468215942383,
          7.211600303649902,
          -36.966529846191406,
          -29.53179931640625,
          44.28488540649414,
          -15.294355392456055,
          -29.60024070739746,
          -19.83888816833496,
          -29.728242874145508,
          -33.40959930419922,
          7.890885353088379,
          14.444499969482422,
          -9.092494010925293,
          -22.932222366333008,
          25.925962448120117,
          -33.322021484375,
          -25.203554153442383,
          -11.869698524475098,
          15.67530632019043,
          -11.471474647521973,
          -32.9178466796875,
          -12.151371955871582,
          10.843299865722656,
          -19.224292755126953,
          -32.23755645751953,
          40.58732223510742,
          -44.44440841674805,
          -24.240144729614258,
          8.254725456237793,
          -26.94074058532715,
          -55.35361862182617,
          12.8365478515625,
          9.175257682800293,
          2.7554376125335693,
          31.685089111328125,
          6.403809547424316,
          -14.073452949523926,
          -20.075944900512695,
          -21.063356399536133,
          -21.302017211914062,
          54.013736724853516,
          22.661563873291016,
          18.8510684967041,
          13.708453178405762,
          46.51661682128906,
          2.801811933517456,
          47.260311126708984,
          35.64235305786133,
          -46.069679260253906,
          -14.2177734375,
          -19.32166290283203,
          -31.708629608154297,
          -34.75407028198242,
          6.134391784667969,
          -36.755252838134766,
          5.859115123748779,
          -44.451175689697266,
          -47.179901123046875,
          -36.90488815307617,
          10.261634826660156,
          -22.473711013793945,
          39.62063217163086,
          49.00244140625,
          37.87373352050781,
          -1.053866982460022,
          40.082828521728516,
          12.093193054199219,
          -15.446189880371094,
          39.938751220703125,
          -0.49695855379104614,
          14.525766372680664,
          -4.4888529777526855,
          -42.391021728515625,
          -38.69874954223633,
          14.928049087524414,
          6.472202777862549,
          13.763070106506348,
          -5.592434406280518,
          7.943069934844971,
          7.28800106048584,
          -18.360042572021484,
          6.623069763183594,
          47.209617614746094,
          -48.43512725830078,
          -13.322895050048828,
          -6.716649055480957,
          -47.46715545654297,
          -13.609553337097168,
          -23.515825271606445,
          -28.441043853759766,
          19.02231788635254,
          9.947051048278809,
          13.815017700195312,
          4.116811752319336,
          -0.4439322054386139,
          18.92011833190918,
          -15.194280624389648,
          32.2428092956543,
          11.125061988830566,
          -25.34429168701172,
          -35.62112045288086,
          -22.672718048095703,
          -28.562030792236328,
          -54.59618377685547,
          -30.91041374206543,
          43.00920867919922,
          -1.2585992813110352,
          -41.15053176879883,
          7.528623580932617,
          -42.961788177490234,
          -41.150455474853516,
          -24.518877029418945,
          4.702106475830078,
          -30.60354995727539,
          -25.50462532043457,
          -39.938804626464844,
          -19.36768341064453,
          40.96636962890625,
          -52.9305305480957,
          -16.671703338623047,
          -37.04071807861328,
          21.764820098876953,
          23.552698135375977,
          -38.58890914916992,
          5.506070613861084,
          -29.74241828918457,
          -30.161495208740234,
          -44.56012725830078,
          -25.257783889770508,
          -24.163747787475586,
          17.01168441772461,
          20.310056686401367,
          41.901336669921875,
          -14.319759368896484,
          -21.610515594482422,
          -14.767500877380371,
          -16.729469299316406,
          49.863433837890625,
          42.91329574584961,
          -26.377471923828125,
          41.18677520751953,
          48.20920181274414,
          3.544466018676758,
          26.887502670288086,
          51.69624710083008,
          43.81360626220703,
          -17.80289649963379,
          30.030820846557617,
          4.053329944610596,
          -3.021542549133301,
          -38.532527923583984,
          28.483867645263672,
          45.373199462890625,
          19.59332847595215,
          29.02300453186035,
          46.8097038269043,
          -19.67449188232422,
          -46.39632034301758,
          -6.116946220397949,
          21.432239532470703,
          -46.70038604736328,
          29.50738525390625,
          1.2432963848114014,
          1.8753563165664673,
          14.22803783416748,
          35.50917053222656,
          44.51006317138672,
          -24.603290557861328,
          -13.869382858276367,
          -21.335474014282227,
          -6.0436177253723145,
          11.152920722961426,
          -16.965545654296875,
          24.854719161987305,
          10.848980903625488,
          28.325273513793945,
          21.94207000732422,
          7.142890453338623,
          -26.000280380249023,
          -49.99257278442383,
          40.0662956237793,
          6.696534633636475,
          -4.633833885192871,
          -26.24839973449707,
          -45.6820182800293,
          15.862607955932617,
          -19.49740982055664,
          -48.345584869384766,
          7.516082286834717,
          22.515810012817383,
          4.884074687957764,
          -34.00450897216797,
          -20.04228973388672,
          24.004587173461914,
          -42.42932891845703,
          -34.138648986816406,
          10.624762535095215,
          -16.55126190185547,
          -50.497169494628906,
          -24.030187606811523,
          25.416250228881836,
          34.60978698730469,
          25.920137405395508,
          -14.106749534606934,
          38.27775573730469,
          15.926090240478516,
          -12.895611763000488,
          -9.903755187988281,
          -39.62599563598633,
          -8.814562797546387,
          31.94549560546875,
          2.7094461917877197,
          -7.24818754196167,
          30.859071731567383,
          4.4956159591674805,
          -19.06493377685547,
          -29.94028091430664,
          -49.173194885253906,
          -43.49169921875,
          -33.558746337890625,
          -10.23926067352295,
          26.025135040283203,
          38.36477279663086,
          24.988943099975586,
          48.84007263183594,
          51.05338668823242,
          40.41625213623047,
          24.78374481201172,
          48.25448226928711,
          26.777507781982422,
          -30.886741638183594,
          6.288169860839844,
          24.988937377929688,
          -50.957828521728516,
          20.862075805664062,
          9.851388931274414,
          -18.150508880615234,
          44.30158233642578,
          16.328048706054688,
          -43.384063720703125,
          -32.506229400634766,
          -2.706965923309326,
          -26.899507522583008,
          -26.548442840576172,
          13.50193977355957,
          -33.525691986083984,
          0.3562215268611908,
          0.060604728758335114,
          6.091045379638672,
          11.88672924041748,
          -6.363280773162842,
          -17.709575653076172,
          -46.81121063232422,
          -4.5480241775512695,
          -29.320409774780273,
          -50.23897933959961,
          -19.07200813293457,
          -21.466217041015625,
          -28.02696418762207,
          8.791252136230469,
          -41.71401596069336,
          -36.93941116333008,
          -8.743531227111816,
          -16.781164169311523,
          -18.180492401123047,
          39.76082229614258,
          -12.688385009765625,
          18.77260398864746,
          25.472734451293945,
          -17.35382843017578,
          -8.886220932006836,
          -26.13888931274414,
          -18.765731811523438,
          44.88853073120117,
          -11.820291519165039,
          -12.937590599060059,
          -15.71476936340332,
          -27.460899353027344,
          -27.24186134338379,
          -15.794445037841797,
          54.99745178222656,
          -27.742328643798828,
          -16.214263916015625,
          -14.107192039489746,
          14.38299560546875,
          50.67134475708008,
          -33.327842712402344,
          -26.403675079345703,
          -28.539772033691406,
          -40.21006774902344,
          -27.58810806274414,
          -37.51655960083008,
          5.190585613250732,
          46.869510650634766,
          -3.3067097663879395,
          9.449674606323242,
          6.626927852630615,
          8.205686569213867,
          -4.915159225463867,
          -26.26155662536621,
          -25.9285945892334,
          3.2764039039611816,
          -12.155579566955566,
          -24.25476837158203,
          -48.23162078857422,
          -28.015655517578125,
          -2.025970458984375,
          -2.715014934539795,
          9.079963684082031,
          -22.186038970947266,
          5.233628749847412,
          -2.7617926597595215,
          -0.7219924926757812,
          11.233648300170898,
          4.786865711212158,
          -17.183942794799805,
          51.66140365600586,
          8.50356674194336,
          -15.055264472961426,
          -12.191560745239258,
          -18.123184204101562,
          23.323598861694336,
          3.11568546295166,
          -49.582210540771484,
          -12.881365776062012,
          -24.70009422302246,
          6.944930553436279,
          6.3591227531433105,
          -3.2088427543640137,
          -6.491320610046387,
          -37.128135681152344,
          -17.27655792236328,
          6.504241943359375,
          -10.845174789428711,
          -0.9320592880249023,
          35.0277099609375,
          14.387566566467285,
          22.496854782104492,
          -37.08733367919922,
          -35.783233642578125,
          -35.77198791503906,
          -31.04914665222168,
          -44.374698638916016,
          -22.574691772460938,
          -57.63918685913086,
          24.935876846313477,
          36.740013122558594,
          36.89419937133789,
          -22.06696128845215,
          -3.4585702419281006,
          -51.95830535888672,
          -17.545080184936523,
          -18.614147186279297,
          -14.999419212341309,
          21.957422256469727,
          -46.3118896484375,
          -32.98985290527344,
          39.953182220458984,
          43.64199447631836,
          27.6064453125,
          22.207521438598633,
          12.387937545776367,
          -51.78701400756836,
          -5.592233180999756,
          -48.06580352783203,
          -31.954072952270508,
          -4.064446449279785,
          -21.025121688842773,
          -50.298011779785156,
          -46.789573669433594,
          -34.653385162353516,
          4.44284725189209,
          42.143341064453125,
          -47.471805572509766,
          -29.28310775756836,
          -9.255830764770508,
          -26.066577911376953,
          -39.88309097290039,
          25.72527313232422,
          -17.96318817138672,
          12.213475227355957,
          34.48111343383789,
          18.39388084411621,
          -19.904592514038086,
          -26.565235137939453,
          -28.11223793029785,
          -46.66341781616211,
          -49.53201675415039,
          -16.413766860961914,
          -47.34425735473633,
          -26.561643600463867,
          -34.8121337890625,
          9.768401145935059,
          -56.79593276977539,
          -14.592687606811523,
          12.750238418579102,
          45.37459182739258,
          -17.009811401367188,
          -18.423263549804688,
          -20.415206909179688,
          2.5385262966156006,
          9.912628173828125,
          7.099274158477783,
          -52.555419921875,
          25.0975284576416,
          -36.312828063964844,
          11.341887474060059,
          -29.71331024169922,
          15.302763938903809,
          -20.094791412353516,
          21.829198837280273,
          1.2443907260894775,
          -8.82351303100586,
          -2.3195886611938477,
          -14.516629219055176,
          -12.02225112915039,
          -10.646256446838379,
          -14.357820510864258,
          -22.135711669921875,
          -28.02696418762207,
          -23.879592895507812,
          24.338661193847656,
          -14.805191993713379,
          -14.038965225219727,
          -19.644763946533203,
          4.3897624015808105,
          19.75743865966797,
          -3.7680113315582275,
          -37.78958511352539,
          5.93528413772583,
          4.867534637451172,
          10.928913116455078,
          -4.639411449432373,
          50.957088470458984,
          1.2007085084915161,
          40.0662956237793,
          -18.735376358032227,
          30.450511932373047,
          30.877378463745117,
          -11.701852798461914,
          -28.59222412109375,
          1.4567937850952148,
          7.033350467681885,
          22.206714630126953,
          23.026498794555664,
          8.146263122558594,
          27.506975173950195,
          3.892901659011841,
          -10.6170654296875,
          26.303062438964844,
          54.3272590637207,
          50.28853225708008,
          -15.767484664916992,
          -50.658790588378906,
          28.17615509033203,
          24.412628173828125,
          29.160200119018555,
          -49.652503967285156,
          -49.65312576293945,
          50.818275451660156,
          51.50495147705078,
          17.373641967773438,
          -38.737701416015625,
          10.190255165100098,
          25.093338012695312,
          51.21247863769531,
          -10.762345314025879,
          -0.22019962966442108,
          -21.81906509399414,
          47.49763870239258,
          34.23427200317383,
          -31.124588012695312,
          -22.50780487060547,
          2.6580162048339844,
          -31.565916061401367,
          -2.4128191471099854,
          -31.99104881286621,
          -17.628570556640625,
          -23.912452697753906,
          -2.191497802734375,
          -10.091934204101562,
          -2.5212485790252686,
          -1.1619932651519775,
          10.892232894897461,
          19.976551055908203,
          -2.5056285858154297,
          -0.6289591789245605,
          14.393766403198242,
          23.854991912841797,
          -35.294158935546875,
          -13.499297142028809,
          -30.193492889404297,
          -10.428753852844238,
          36.98661422729492,
          42.36959457397461,
          1.4020518064498901,
          -21.10913848876953,
          16.215457916259766,
          -27.50789451599121,
          7.3044633865356445,
          29.836030960083008,
          -22.699987411499023,
          38.47571563720703,
          10.336164474487305,
          -57.63918685913086,
          -19.8231258392334,
          16.84050941467285,
          -38.164947509765625,
          -11.868146896362305,
          -20.192100524902344,
          -25.391347885131836,
          -54.02946472167969,
          -55.185768127441406,
          -29.187694549560547,
          -35.13172149658203,
          -4.89832878112793,
          -26.161649703979492,
          23.44044303894043,
          0.5802189707756042,
          49.4532470703125,
          0.945915162563324,
          -3.938062906265259,
          18.486133575439453,
          -0.453514963388443,
          23.685752868652344,
          21.135456085205078,
          -36.296268463134766,
          40.9890022277832,
          48.5699462890625,
          32.1098747253418,
          13.690643310546875,
          -25.721511840820312,
          8.225770950317383,
          -23.87250518798828,
          18.771167755126953,
          13.79125690460205,
          -6.029857158660889,
          10.205177307128906,
          -16.09709930419922,
          26.210920333862305,
          -15.646284103393555,
          -2.852832317352295,
          5.220277309417725,
          -8.376158714294434,
          9.879838943481445,
          46.34897994995117,
          49.49081802368164,
          -10.352727890014648,
          -22.700090408325195,
          -30.33445167541504,
          11.239116668701172,
          7.431999683380127,
          -37.257877349853516,
          -11.099274635314941,
          -34.6339111328125,
          9.997761726379395,
          19.395593643188477,
          -3.168130397796631,
          23.66781997680664,
          -51.133365631103516,
          -46.34955978393555,
          -43.25532531738281,
          -29.108224868774414,
          11.408220291137695,
          -23.968355178833008,
          26.153335571289062,
          0.984713077545166,
          -23.54259490966797,
          -4.915159225463867,
          -33.03984451293945,
          11.693513870239258,
          -23.96611976623535,
          7.265878200531006,
          10.614856719970703,
          17.777950286865234,
          -0.432495653629303,
          -31.380285263061523,
          -46.809242248535156,
          -29.362842559814453,
          13.28188419342041,
          1.3613951206207275,
          -25.999164581298828,
          -1.5941532850265503,
          18.849111557006836,
          -6.566005706787109,
          -12.250112533569336,
          27.39632225036621,
          15.040641784667969,
          10.621231079101562,
          6.550022125244141,
          4.569065570831299,
          28.869888305664062,
          8.18329906463623,
          25.602882385253906,
          48.979976654052734,
          25.368717193603516,
          -44.162864685058594,
          30.809892654418945,
          -30.326425552368164,
          19.246585845947266,
          -22.60918617248535,
          -31.0810546875,
          -27.130123138427734,
          12.149426460266113,
          -44.5284423828125,
          14.226397514343262,
          -26.7643985748291,
          10.335140228271484,
          8.587484359741211,
          1.937820553779602,
          -40.3158073425293,
          -11.070423126220703,
          -14.674684524536133,
          9.018989562988281,
          -51.746665954589844,
          -27.43995475769043,
          -16.227643966674805,
          3.6549389362335205,
          -9.306647300720215,
          15.725465774536133,
          -39.40978240966797,
          25.32277488708496,
          32.662391662597656,
          40.22224044799805,
          -10.209151268005371,
          32.802711486816406,
          47.69576644897461,
          44.79477310180664,
          2.457321882247925,
          -33.9721565246582,
          1.840837836265564,
          9.182503700256348,
          3.47186017036438,
          11.713424682617188,
          -19.91912078857422,
          11.713424682617188,
          -44.96620178222656,
          -13.450325965881348,
          44.51703643798828,
          -20.931907653808594,
          -28.44548797607422,
          0.07032527774572372,
          -0.23629878461360931,
          -25.69153594970703,
          2.7183709144592285,
          7.189028739929199,
          28.459508895874023,
          40.259639739990234,
          15.09085464477539,
          34.685630798339844,
          -29.93853759765625,
          -27.911447525024414,
          33.39521026611328,
          25.461673736572266,
          -21.07366943359375,
          0.1829124093055725,
          4.287700653076172,
          25.921091079711914,
          -27.036283493041992,
          -20.426416397094727,
          -20.352092742919922,
          -32.43312072753906,
          33.74150466918945,
          -25.508577346801758,
          -36.953433990478516,
          44.13616943359375,
          31.749847412109375,
          20.64051055908203,
          38.856998443603516,
          47.42911148071289,
          53.583797454833984,
          -15.590723037719727,
          13.59056282043457,
          19.839208602905273,
          10.175416946411133,
          33.077877044677734,
          4.32452392578125,
          -19.84134292602539,
          -17.434207916259766,
          -44.70485305786133,
          -45.2404670715332,
          1.8893793821334839,
          11.362868309020996,
          0.8442502021789551,
          -30.788196563720703,
          -46.12163162231445,
          1.3962081670761108,
          -21.889162063598633,
          43.74544906616211,
          -24.685991287231445,
          -20.893417358398438,
          -27.298492431640625,
          -26.397891998291016,
          18.596189498901367,
          -25.39547348022461,
          6.495527267456055,
          -38.615028381347656,
          -23.040630340576172,
          -21.912126541137695,
          -7.34607458114624,
          18.596189498901367,
          -39.23313522338867,
          -1.867669939994812,
          -23.435636520385742,
          -46.072147369384766,
          34.61565399169922,
          33.01765060424805,
          -16.806896209716797,
          -25.170005798339844,
          2.398716926574707,
          -43.972564697265625,
          -21.912126541137695,
          2.0750186443328857,
          -45.24058151245117,
          -26.5344295501709,
          -42.71883773803711,
          3.1742818355560303,
          1.8780573606491089,
          9.873682022094727,
          34.92930221557617,
          -22.661800384521484,
          -11.738601684570312,
          3.189417839050293,
          30.538166046142578,
          24.587282180786133,
          3.6456620693206787,
          -4.687573432922363,
          49.20612716674805,
          37.71733856201172,
          2.0844807624816895,
          -30.638065338134766,
          -15.1288423538208,
          42.333160400390625,
          14.593832015991211,
          2.1775872707366943,
          1.3951947689056396,
          8.677435874938965,
          -14.551214218139648,
          -11.781026840209961,
          -12.250767707824707,
          32.75072479248047,
          29.444536209106445,
          4.4956159591674805,
          2.5913238525390625,
          11.484530448913574,
          37.8636360168457,
          21.668514251708984,
          1.7870100736618042,
          4.6038923263549805,
          -1.5979665517807007,
          28.583274841308594,
          -25.612323760986328,
          -34.3937873840332,
          -34.546142578125,
          -19.030744552612305,
          26.83184051513672,
          16.4261474609375,
          28.621204376220703,
          -51.95917510986328,
          30.495342254638672,
          29.56306266784668,
          -18.154233932495117,
          4.699789047241211,
          -22.87143325805664,
          -15.749791145324707,
          0.005535234231501818,
          -21.90292739868164,
          -23.414958953857422,
          5.712066173553467,
          3.298527717590332,
          -12.21222972869873,
          -44.57594680786133,
          -11.468984603881836,
          -40.43789291381836,
          -29.745861053466797,
          -29.43772315979004,
          -13.449034690856934,
          10.865504264831543,
          -19.216272354125977,
          -29.058313369750977,
          -38.426414489746094,
          -17.73832130432129,
          -3.993887186050415,
          -3.274103879928589,
          30.30661964416504,
          7.473596572875977,
          -3.409984588623047,
          -40.865928649902344,
          34.61716842651367,
          48.287776947021484,
          -32.701873779296875,
          -24.20616912841797,
          -5.361009120941162,
          37.02376174926758,
          20.88072967529297,
          -18.11566734313965,
          38.51240539550781,
          44.983558654785156,
          38.15595245361328,
          3.01385498046875,
          9.775909423828125,
          25.759262084960938,
          24.095666885375977,
          15.212472915649414,
          17.112157821655273,
          21.683984756469727,
          19.422657012939453,
          17.569456100463867,
          17.31548309326172,
          -20.22127342224121,
          1.6446059942245483,
          -0.6933491230010986,
          4.487555503845215,
          -33.19462203979492,
          -9.787666320800781,
          -51.61103439331055,
          -32.86243438720703,
          -53.83344650268555,
          -10.050280570983887,
          -47.45772171020508,
          -32.944854736328125,
          -53.944068908691406,
          -49.638710021972656,
          -26.931814193725586,
          -42.896644592285156,
          6.755478382110596,
          -37.0485725402832,
          -18.641820907592773,
          -17.343198776245117,
          4.522518157958984,
          31.63152313232422,
          8.353395462036133,
          -32.21484375,
          -15.753986358642578,
          -26.149463653564453,
          9.15833568572998,
          10.456576347351074,
          16.291183471679688,
          13.365301132202148,
          20.876516342163086,
          -11.765034675598145,
          16.968645095825195,
          -2.662470817565918,
          -24.023773193359375,
          23.753551483154297,
          32.04705047607422,
          52.58445739746094,
          8.930450439453125,
          8.116409301757812,
          13.164997100830078,
          47.996299743652344,
          31.844411849975586,
          25.459619522094727,
          16.077180862426758,
          0.03929361328482628,
          0.31714218854904175,
          -52.7886962890625,
          -16.675729751586914,
          21.05767822265625,
          39.94173049926758,
          8.984030723571777,
          32.711585998535156,
          -32.60630798339844,
          -44.37049102783203,
          -1.254701018333435,
          10.713499069213867,
          -31.178348541259766,
          -28.960498809814453,
          11.642760276794434,
          -12.735710144042969,
          -24.787256240844727,
          -25.99786949157715,
          10.18896198272705,
          12.28950023651123,
          -30.6684513092041,
          9.054317474365234,
          -30.492103576660156,
          -14.562320709228516,
          2.8670599460601807,
          5.784673690795898,
          -27.436538696289062,
          -28.567626953125,
          -48.992794036865234,
          -16.313331604003906,
          -27.1754207611084,
          -39.29654312133789,
          -18.453481674194336,
          -3.7579755783081055,
          -36.69858169555664,
          43.55044174194336,
          47.332740783691406,
          51.76375198364258,
          -2.141627550125122,
          -19.777055740356445,
          35.10664367675781,
          -5.072937965393066,
          -52.00929260253906,
          -40.26873016357422,
          -31.67909049987793,
          44.51006317138672,
          5.1528730392456055,
          -2.551583766937256,
          -46.2767333984375,
          -42.54706573486328,
          -34.979736328125,
          2.46293306350708,
          28.583274841308594,
          37.74921417236328,
          22.519330978393555,
          -12.055620193481445,
          -17.21788215637207,
          4.22184944152832,
          -20.106689453125,
          -20.953079223632812,
          -15.63870620727539,
          -27.110254287719727,
          -53.3021125793457,
          -41.870384216308594,
          5.880070686340332,
          2.537709951400757,
          29.70359992980957,
          -1.3882979154586792,
          35.3841552734375,
          -23.68738555908203,
          -43.7721061706543,
          19.786651611328125,
          -27.67548179626465,
          -18.734424591064453,
          -12.847579956054688,
          -45.6347770690918,
          -30.782997131347656,
          36.22761154174805,
          -9.798457145690918,
          2.6145544052124023,
          53.0606689453125,
          12.297914505004883,
          16.156885147094727,
          22.518943786621094,
          22.519479751586914,
          -21.889162063598633,
          18.85120391845703,
          -21.689788818359375,
          -6.383244514465332,
          38.0188102722168,
          12.32203197479248,
          48.28077697753906,
          33.44466018676758,
          24.379718780517578,
          -15.53732967376709,
          39.19966125488281,
          37.49940490722656,
          34.37149429321289,
          39.70197677612305,
          26.558095932006836,
          39.17525863647461,
          25.802377700805664,
          37.00019836425781,
          26.74441146850586,
          37.9487419128418,
          25.472503662109375,
          34.19346618652344,
          52.860008239746094,
          29.251237869262695,
          19.024921417236328,
          52.489540100097656,
          -16.597171783447266,
          -54.023094177246094,
          -54.94667053222656,
          -49.208492279052734,
          -30.137189865112305,
          -47.35002517700195,
          -34.6522216796875,
          41.60960006713867,
          -42.233760833740234,
          42.68856430053711,
          19.27297592163086,
          -16.767499923706055,
          24.29848289489746,
          5.759757995605469,
          5.659052848815918,
          -21.84915542602539,
          30.9765625,
          36.384376525878906,
          23.065858840942383,
          -18.59379005432129,
          -3.157111167907715,
          25.19317626953125,
          12.354593276977539,
          38.91925811767578,
          -45.86665344238281,
          -48.186100006103516,
          -47.76447677612305,
          24.947458267211914,
          -2.3370697498321533,
          -52.413482666015625,
          17.528568267822266,
          -53.327693939208984,
          12.049348831176758,
          12.03110408782959,
          8.069292068481445,
          -17.049612045288086,
          20.876516342163086,
          18.06434440612793,
          52.46607971191406,
          36.469451904296875,
          44.0892448425293,
          28.384689331054688,
          -19.75942039489746,
          -44.83060073852539,
          10.17701244354248,
          -18.315509796142578,
          -33.54217529296875,
          11.984274864196777,
          29.68863868713379,
          44.30220031738281,
          -7.9471049308776855,
          -7.773256778717041,
          -34.76128387451172,
          -37.44502639770508,
          -38.69389724731445,
          -6.4197797775268555,
          7.3695454597473145,
          -34.64944839477539,
          -3.5547120571136475,
          10.707051277160645,
          24.91888999938965,
          21.49112892150879,
          50.19017028808594,
          39.62063217163086,
          1.5188813209533691,
          8.879300117492676,
          -11.56379508972168,
          -19.432153701782227,
          28.71257972717285,
          -0.901033878326416,
          -9.73127555847168,
          10.384657859802246,
          -15.333147048950195,
          14.747920989990234,
          -21.199508666992188,
          39.22333908081055,
          6.367645740509033
         ],
         "xaxis": "x",
         "y": [
          2.0162298679351807,
          17.262544631958008,
          20.015514373779297,
          -25.207965850830078,
          -10.624383926391602,
          14.344733238220215,
          -21.087223052978516,
          -28.8687744140625,
          43.09580612182617,
          -23.91497230529785,
          56.4101448059082,
          8.345009803771973,
          19.357030868530273,
          -4.401610374450684,
          -31.57967758178711,
          -7.978756904602051,
          -34.232322692871094,
          -1.3941750526428223,
          46.73756408691406,
          -2.1074752807617188,
          -20.282346725463867,
          -27.666040420532227,
          -35.574317932128906,
          -29.595754623413086,
          44.24332809448242,
          -39.328365325927734,
          -28.877161026000977,
          1.1183936595916748,
          62.54187774658203,
          -38.45011901855469,
          -32.29222869873047,
          61.63684844970703,
          -49.63447570800781,
          18.806453704833984,
          -20.75074005126953,
          53.934173583984375,
          -32.807315826416016,
          63.69623565673828,
          -6.850759983062744,
          -13.96838665008545,
          4.380415916442871,
          -22.20489501953125,
          -42.4975700378418,
          57.711673736572266,
          29.2531681060791,
          -13.44571304321289,
          62.48432159423828,
          4.808909893035889,
          -18.783390045166016,
          3.489471912384033,
          -44.1107063293457,
          1.8116251230239868,
          -7.138967990875244,
          -5.512021064758301,
          5.210142135620117,
          -29.02837371826172,
          2.70661997795105,
          9.05911922454834,
          -27.271209716796875,
          -19.996173858642578,
          7.965904712677002,
          -4.23991060256958,
          52.573238372802734,
          8.51351261138916,
          27.687835693359375,
          -6.955374717712402,
          55.68899154663086,
          3.281252145767212,
          22.099349975585938,
          10.248222351074219,
          50.19929122924805,
          8.780263900756836,
          16.024002075195312,
          -15.544227600097656,
          7.5544586181640625,
          5.496854305267334,
          1.7300165891647339,
          -25.96308708190918,
          50.60553741455078,
          -7.222570896148682,
          42.0256233215332,
          5.759552478790283,
          13.08244514465332,
          8.078177452087402,
          -7.61949348449707,
          29.64544105529785,
          47.098899841308594,
          18.205339431762695,
          -8.550795555114746,
          -37.573795318603516,
          -1.0527980327606201,
          -0.5712975859642029,
          9.532196044921875,
          2.129509687423706,
          -15.28764533996582,
          5.254996299743652,
          -3.008709669113159,
          1.5225094556808472,
          -34.2588996887207,
          -15.91813850402832,
          -30.1573486328125,
          -6.0353007316589355,
          41.71525955200195,
          46.900474548339844,
          -0.7644971609115601,
          14.216089248657227,
          28.852201461791992,
          40.850624084472656,
          -5.111395835876465,
          -1.1082459688186646,
          -21.913257598876953,
          -14.336132049560547,
          -11.366165161132812,
          -4.917064189910889,
          -42.01803970336914,
          -14.800333976745605,
          -23.840011596679688,
          8.963769912719727,
          -34.981719970703125,
          56.13491439819336,
          -14.314436912536621,
          9.657464981079102,
          2.3628013134002686,
          7.495584487915039,
          4.992807865142822,
          -17.36741828918457,
          -9.669151306152344,
          -2.5979480743408203,
          -20.37042808532715,
          24.851661682128906,
          9.843032836914062,
          -23.518375396728516,
          -22.86705207824707,
          1.831591248512268,
          2.978107452392578,
          13.415369033813477,
          13.272632598876953,
          27.687835693359375,
          -51.73351287841797,
          22.90979766845703,
          62.46125030517578,
          22.90979766845703,
          -9.397335052490234,
          -15.019991874694824,
          46.877315521240234,
          -15.241509437561035,
          -0.1318366974592209,
          -21.576818466186523,
          -9.198953628540039,
          -4.362296104431152,
          14.508569717407227,
          -45.82761764526367,
          -17.560222625732422,
          4.078886032104492,
          7.509566307067871,
          -20.33405876159668,
          52.247947692871094,
          50.94261169433594,
          -12.813799858093262,
          -17.068466186523438,
          -7.124557971954346,
          -10.90776538848877,
          -6.794928550720215,
          -8.666047096252441,
          -0.6246996521949768,
          20.47468376159668,
          11.631988525390625,
          -12.632333755493164,
          -16.020788192749023,
          7.722823143005371,
          -2.3311281204223633,
          -12.49374771118164,
          46.0316162109375,
          3.3233273029327393,
          -18.25425910949707,
          50.64890670776367,
          -20.694263458251953,
          -20.92747688293457,
          -29.914939880371094,
          -8.992839813232422,
          6.084407329559326,
          1.680924654006958,
          43.39487838745117,
          -4.428214073181152,
          59.730308532714844,
          11.740784645080566,
          24.411785125732422,
          4.861710071563721,
          -4.970286846160889,
          20.912275314331055,
          -34.105838775634766,
          46.71691131591797,
          63.52323532104492,
          -29.738096237182617,
          -42.71664047241211,
          -41.96535873413086,
          11.711666107177734,
          5.1884379386901855,
          -20.321758270263672,
          0.5951169729232788,
          -35.99696731567383,
          60.4187126159668,
          -34.055198669433594,
          -3.5621840953826904,
          -34.623477935791016,
          27.407920837402344,
          -17.41545867919922,
          25.5745906829834,
          -0.3684225082397461,
          -13.193787574768066,
          15.36795425415039,
          -23.756511688232422,
          14.438643455505371,
          -44.22566604614258,
          -45.05192184448242,
          -47.68381118774414,
          -37.984596252441406,
          -34.74101638793945,
          -30.33343505859375,
          -22.795597076416016,
          -31.73485565185547,
          11.693000793457031,
          -39.10108947753906,
          -26.61518096923828,
          -21.035696029663086,
          12.102607727050781,
          -0.5127155780792236,
          -6.55241060256958,
          4.953888893127441,
          -0.5160000324249268,
          -17.823217391967773,
          1.7800371646881104,
          -0.5932847261428833,
          49.79167175292969,
          -12.710039138793945,
          2.507878541946411,
          -12.084519386291504,
          -23.91099739074707,
          56.712188720703125,
          -5.002844333648682,
          -25.71170425415039,
          -24.003446578979492,
          -29.510929107666016,
          64.93516540527344,
          -8.900158882141113,
          -35.569618225097656,
          52.32069396972656,
          -29.621644973754883,
          6.439323902130127,
          -20.936250686645508,
          -34.596343994140625,
          3.836747407913208,
          -6.739938259124756,
          -20.784435272216797,
          -20.985036849975586,
          1.0131220817565918,
          53.91267395019531,
          53.91267395019531,
          7.976225852966309,
          9.85516357421875,
          58.42536544799805,
          58.30257797241211,
          26.816207885742188,
          13.179315567016602,
          39.506378173828125,
          -10.660722732543945,
          20.850887298583984,
          52.185874938964844,
          42.991783142089844,
          43.982147216796875,
          36.13542938232422,
          -32.09757614135742,
          -23.71433448791504,
          -26.580665588378906,
          -43.69337844848633,
          26.230802536010742,
          14.122876167297363,
          -24.310665130615234,
          -47.55146026611328,
          24.322002410888672,
          -26.546236038208008,
          14.823524475097656,
          57.369258880615234,
          14.739153861999512,
          22.28297233581543,
          54.65491485595703,
          -12.459399223327637,
          20.54310417175293,
          52.18655014038086,
          47.7248420715332,
          -19.483924865722656,
          23.779434204101562,
          12.622023582458496,
          23.690858840942383,
          47.7248420715332,
          14.317963600158691,
          55.75089645385742,
          -31.113964080810547,
          -30.605005264282227,
          -31.85340118408203,
          -22.567657470703125,
          52.51951217651367,
          19.788602828979492,
          4.252281188964844,
          -8.38949203491211,
          -27.369482040405273,
          -33.0838623046875,
          -23.35844612121582,
          58.537784576416016,
          -26.899307250976562,
          63.49079895019531,
          64.98455810546875,
          -27.881105422973633,
          47.463741302490234,
          -6.113326072692871,
          6.698253154754639,
          -31.111154556274414,
          -3.6566741466522217,
          18.697540283203125,
          13.814163208007812,
          -2.490748643875122,
          -34.7806282043457,
          16.12278175354004,
          -33.55989074707031,
          11.262240409851074,
          -12.065716743469238,
          -3.1890523433685303,
          5.342051982879639,
          14.739153861999512,
          41.4547004699707,
          -7.5630202293396,
          -4.635230541229248,
          7.936110496520996,
          -29.228599548339844,
          -2.300931930541992,
          8.477675437927246,
          8.567054748535156,
          -0.6818803548812866,
          22.557382583618164,
          -35.495643615722656,
          -35.7010498046875,
          -10.944808006286621,
          22.55792236328125,
          -9.194528579711914,
          -40.796173095703125,
          -30.22954750061035,
          -34.21706008911133,
          -21.28481674194336,
          42.6591796875,
          52.5877571105957,
          22.558147430419922,
          1.1673709154129028,
          -0.27092981338500977,
          -27.07362937927246,
          31.254961013793945,
          -1.8912967443466187,
          -32.67863464355469,
          -9.018234252929688,
          41.6384391784668,
          13.319343566894531,
          -28.018177032470703,
          0.3984450101852417,
          31.50983428955078,
          3.4522740840911865,
          -41.389076232910156,
          3.5749683380126953,
          14.282770156860352,
          -42.34107971191406,
          4.324328899383545,
          -24.040599822998047,
          29.26628303527832,
          16.17498779296875,
          -20.36670684814453,
          24.39394187927246,
          -3.3604819774627686,
          16.360530853271484,
          -33.6794548034668,
          10.447491645812988,
          -8.166561126708984,
          5.9782280921936035,
          8.378222465515137,
          0.9347972869873047,
          -11.7008638381958,
          -19.670196533203125,
          10.122579574584961,
          4.2041192054748535,
          -13.284605026245117,
          -30.973499298095703,
          -29.197181701660156,
          -31.674190521240234,
          3.1236841678619385,
          -4.843408107757568,
          31.23986053466797,
          1.2916615009307861,
          18.192628860473633,
          -8.163472175598145,
          -22.54039192199707,
          -32.43696212768555,
          64.0374984741211,
          55.02779769897461,
          31.265968322753906,
          18.19965171813965,
          -19.59857177734375,
          -11.550607681274414,
          -10.181036949157715,
          11.278108596801758,
          -26.79303741455078,
          -27.071552276611328,
          53.9864387512207,
          -26.68143653869629,
          6.45364236831665,
          -36.03709411621094,
          1.3259133100509644,
          4.190415382385254,
          44.90501403808594,
          -49.64727020263672,
          -0.5107791423797607,
          -24.729679107666016,
          -6.713747501373291,
          -28.50356674194336,
          -34.71830749511719,
          2.3842453956604004,
          27.639007568359375,
          14.459678649902344,
          -14.727686882019043,
          -13.555769920349121,
          -12.89234733581543,
          -19.858478546142578,
          -4.622102737426758,
          52.083065032958984,
          3.6114375591278076,
          -6.140838623046875,
          24.55681800842285,
          -22.18753433227539,
          8.807265281677246,
          -18.23227882385254,
          -1.9751588106155396,
          -21.02465057373047,
          53.24748229980469,
          -29.181360244750977,
          4.612937927246094,
          20.463008880615234,
          52.377376556396484,
          -12.56240463256836,
          14.751218795776367,
          6.8052520751953125,
          15.525426864624023,
          2.8584134578704834,
          5.996072292327881,
          6.746187210083008,
          53.83705520629883,
          -9.042628288269043,
          6.186606407165527,
          -9.21960163116455,
          4.514170169830322,
          -15.19074535369873,
          -34.03467559814453,
          7.378003120422363,
          -7.184603214263916,
          -9.333020210266113,
          -7.686750888824463,
          -28.135955810546875,
          -14.504396438598633,
          9.866681098937988,
          -18.32401466369629,
          -52.49805450439453,
          -51.2003288269043,
          -20.843242645263672,
          -31.93065071105957,
          -20.815723419189453,
          -46.061527252197266,
          3.280115842819214,
          -2.5964152812957764,
          16.717914581298828,
          -2.97759747505188,
          -2.779459238052368,
          2.9730584621429443,
          -11.464778900146484,
          23.887170791625977,
          53.10619354248047,
          -38.65024185180664,
          -16.736953735351562,
          -33.70272445678711,
          22.68095588684082,
          -9.451602935791016,
          4.291310787200928,
          6.891246318817139,
          -5.281773090362549,
          6.992900371551514,
          -3.5893309116363525,
          3.783860921859741,
          0.7290155291557312,
          -31.02713966369629,
          -3.9472298622131348,
          -11.455700874328613,
          53.23554229736328,
          5.7713847160339355,
          -42.786075592041016,
          59.699920654296875,
          -20.498218536376953,
          -9.262694358825684,
          -17.965869903564453,
          -22.63707160949707,
          -21.457033157348633,
          53.7486457824707,
          49.7816276550293,
          -3.481435537338257,
          9.550042152404785,
          14.52253532409668,
          -23.146015167236328,
          -33.48044204711914,
          13.069918632507324,
          -28.07302474975586,
          52.64845275878906,
          -24.94907569885254,
          -17.692819595336914,
          -25.86042594909668,
          -25.797439575195312,
          -21.72809600830078,
          -2.5831997394561768,
          55.4536018371582,
          55.42885971069336,
          -48.424072265625,
          17.102550506591797,
          12.675461769104004,
          -36.177940368652344,
          23.2450008392334,
          -43.58136749267578,
          -19.472354888916016,
          -20.822097778320312,
          21.956729888916016,
          12.740267753601074,
          -2.154204845428467,
          -6.3757147789001465,
          11.164830207824707,
          14.807394981384277,
          49.716026306152344,
          -15.682268142700195,
          51.79438781738281,
          -3.357051372528076,
          20.2535343170166,
          7.057343006134033,
          -22.04047966003418,
          -3.5401036739349365,
          -6.3757147789001465,
          0.8202368021011353,
          6.850732803344727,
          -30.9324951171875,
          3.0786900520324707,
          -33.55616760253906,
          8.52793025970459,
          -16.566246032714844,
          -5.653951168060303,
          -2.963141918182373,
          52.758705139160156,
          7.8470540046691895,
          -6.695436000823975,
          -23.287443161010742,
          -8.232261657714844,
          11.540844917297363,
          15.487956047058105,
          -7.449983596801758,
          -8.301985740661621,
          9.917771339416504,
          -2.673552989959717,
          4.044493675231934,
          6.914490222930908,
          -24.674667358398438,
          -8.310741424560547,
          4.978569984436035,
          1.0953996181488037,
          -36.351436614990234,
          -42.2983512878418,
          -16.5821475982666,
          18.04469108581543,
          -6.8080878257751465,
          46.898399353027344,
          -47.41331100463867,
          -9.567429542541504,
          -19.462923049926758,
          -17.963743209838867,
          52.74465560913086,
          -26.62212371826172,
          -3.1633174419403076,
          -10.333645820617676,
          47.69009017944336,
          -31.424137115478516,
          -21.517547607421875,
          -31.206140518188477,
          22.0419921875,
          -21.438405990600586,
          56.666568756103516,
          59.43465042114258,
          -33.43480682373047,
          -34.69443130493164,
          46.05529022216797,
          40.96486282348633,
          9.014396667480469,
          32.72493362426758,
          53.054664611816406,
          -11.254629135131836,
          -21.678552627563477,
          -10.145817756652832,
          14.964884757995605,
          -2.8985249996185303,
          -8.389939308166504,
          -15.364686012268066,
          -10.758124351501465,
          -11.020683288574219,
          -9.095179557800293,
          -26.547266006469727,
          44.64870071411133,
          -27.279085159301758,
          49.06465530395508,
          -9.845226287841797,
          2.7868590354919434,
          -36.62152862548828,
          4.460174083709717,
          48.87595748901367,
          12.25836181640625,
          -19.434425354003906,
          -30.919443130493164,
          -2.842221736907959,
          -21.910293579101562,
          -13.528406143188477,
          -50.43478775024414,
          43.534915924072266,
          -30.560762405395508,
          -41.59943389892578,
          -0.06531188637018204,
          -5.090933799743652,
          -11.995594024658203,
          -10.57397174835205,
          8.123686790466309,
          7.041975498199463,
          -1.5288372039794922,
          23.831275939941406,
          -1.6203150749206543,
          8.36988639831543,
          9.438301086425781,
          10.917454719543457,
          12.798842430114746,
          -2.8728668689727783,
          -10.756596565246582,
          7.465468406677246,
          5.514751434326172,
          6.703900337219238,
          13.475189208984375,
          13.712858200073242,
          25.04044532775879,
          3.748538017272949,
          -11.417895317077637,
          -11.388190269470215,
          -3.8083250522613525,
          -2.438307046890259,
          -30.347776412963867,
          -18.850996017456055,
          22.987945556640625,
          -40.48434066772461,
          -1.3553460836410522,
          63.516517639160156,
          -38.69243621826172,
          -28.729251861572266,
          -45.136905670166016,
          0.9103320837020874,
          -19.214967727661133,
          -37.198631286621094,
          -19.284040451049805,
          -35.55342102050781,
          2.194476842880249,
          -32.77745056152344,
          -0.767837643623352,
          8.653404235839844,
          57.019615173339844,
          23.82404899597168,
          15.74687385559082,
          -11.057602882385254,
          -28.714284896850586,
          16.02385711669922,
          5.878199577331543,
          24.540742874145508,
          -13.109724044799805,
          -20.770217895507812,
          4.4514665603637695,
          1.5257912874221802,
          -5.593085289001465,
          -8.570918083190918,
          10.431211471557617,
          -6.776535987854004,
          -21.842315673828125,
          -0.2908562123775482,
          51.6590690612793,
          -43.33195495605469,
          -36.599971771240234,
          57.753570556640625,
          14.55866527557373,
          -29.76064109802246,
          12.492208480834961,
          -13.989751815795898,
          -23.542930603027344,
          -36.23173904418945,
          -13.048323631286621,
          -24.058624267578125,
          -13.404852867126465,
          -29.092906951904297,
          -12.947112083435059,
          -30.30930519104004,
          -31.63018226623535,
          -29.325864791870117,
          2.5199193954467773,
          2.3774805068969727,
          -16.996889114379883,
          -14.77035903930664,
          -14.770227432250977,
          29.973127365112305,
          -25.407459259033203,
          16.307891845703125,
          -29.137226104736328,
          -41.75295639038086,
          66.10782623291016,
          -35.28144454956055,
          -40.14430236816406,
          -40.8326530456543,
          -43.917232513427734,
          -40.59990692138672,
          -31.663713455200195,
          54.26432800292969,
          50.18791961669922,
          -40.00734329223633,
          -40.082557678222656,
          -16.885055541992188,
          -24.584671020507812,
          -41.83030319213867,
          -41.006591796875,
          60.70983123779297,
          -42.27301788330078,
          -39.92793655395508,
          27.543006896972656,
          -8.613242149353027,
          -31.096860885620117,
          -1.351167917251587,
          -0.9618111848831177,
          -12.788612365722656,
          16.638334274291992,
          -17.805686950683594,
          58.962547302246094,
          -4.129424571990967,
          -15.72219181060791,
          -26.175132751464844,
          5.452184677124023,
          -26.195009231567383,
          32.72493362426758,
          16.62569236755371,
          -3.922172784805298,
          17.896020889282227,
          27.498870849609375,
          62.03852462768555,
          -2.098189115524292,
          20.566024780273438,
          58.2413215637207,
          9.64179515838623,
          23.78775978088379,
          -5.829859256744385,
          2.3908495903015137,
          23.78775978088379,
          -39.66920852661133,
          -11.636016845703125,
          -26.900291442871094,
          -24.299087524414062,
          4.785468578338623,
          14.813721656799316,
          56.575618743896484,
          42.04573059082031,
          10.809435844421387,
          25.970489501953125,
          12.685619354248047,
          28.4771728515625,
          -20.62358283996582,
          15.77761459350586,
          19.16799545288086,
          7.808431625366211,
          15.69510555267334,
          43.99681854248047,
          23.674453735351562,
          23.025911331176758,
          18.457494735717773,
          -1.6925305128097534,
          29.275907516479492,
          30.200366973876953,
          14.604875564575195,
          49.71251678466797,
          5.08112907409668,
          -23.79012107849121,
          57.64832305908203,
          -2.2253835201263428,
          -14.038114547729492,
          -48.03665542602539,
          -18.958553314208984,
          -32.72031021118164,
          -16.325428009033203,
          -21.531219482421875,
          59.896976470947266,
          7.190808296203613,
          22.19994354248047,
          65.32861328125,
          -17.11634063720703,
          -44.600616455078125,
          -12.118720054626465,
          -34.799259185791016,
          26.377792358398438,
          -46.875911712646484,
          54.616641998291016,
          33.155609130859375,
          -12.950247764587402,
          -34.900413513183594,
          29.180160522460938,
          -30.820148468017578,
          51.32172393798828,
          -24.39215087890625,
          45.830928802490234,
          2.9625308513641357,
          26.18233299255371,
          -33.41810989379883,
          -7.5021071434021,
          -35.6396484375,
          -40.197593688964844,
          2.4395604133605957,
          -8.915411949157715,
          30.013486862182617,
          27.272218704223633,
          4.369576930999756,
          17.145597457885742,
          -37.21235656738281,
          -44.214698791503906,
          41.480682373046875,
          -33.08024978637695,
          37.70759201049805,
          12.755701065063477,
          -43.3900032043457,
          -33.083534240722656,
          37.45396041870117,
          -13.681873321533203,
          41.22671127319336,
          36.13542938232422,
          50.345733642578125,
          -21.945858001708984,
          39.16269302368164,
          -29.871742248535156,
          -25.1671199798584,
          -22.46537208557129,
          -7.627363204956055,
          -6.921291351318359,
          27.467430114746094,
          46.87099075317383,
          2.453371047973633,
          57.31941604614258,
          -33.54472351074219,
          -11.19648265838623,
          -29.23102569580078,
          19.385984420776367,
          20.85350227355957,
          63.128658294677734,
          2.435264825820923,
          49.19973373413086,
          -15.184565544128418,
          -22.329965591430664,
          -28.377771377563477,
          58.2845573425293,
          26.56584358215332,
          -25.325729370117188,
          -26.016326904296875,
          -33.198246002197266,
          57.37126922607422,
          -18.34436798095703,
          -34.74241256713867,
          -32.142356872558594,
          13.184038162231445,
          4.435150146484375,
          51.82248306274414,
          -41.67203140258789,
          -22.042104721069336,
          -32.53048324584961,
          22.405624389648438,
          12.12622356414795,
          12.446669578552246,
          -21.6361083984375,
          5.897520542144775,
          16.2134952545166,
          25.484973907470703,
          10.083333969116211,
          12.164947509765625,
          -21.791332244873047,
          12.802136421203613,
          8.623711585998535,
          2.387237310409546,
          28.671268463134766,
          4.452121734619141,
          -37.838722229003906,
          23.963857650756836,
          66.8370590209961,
          6.160783290863037,
          -0.4003390371799469,
          27.150388717651367,
          9.65758228302002,
          -20.328136444091797,
          -17.612396240234375,
          -26.654386520385742,
          27.68710708618164,
          -44.93156814575195,
          18.476057052612305,
          53.3638916015625,
          -19.828590393066406,
          6.772645950317383,
          31.620969772338867,
          21.2552490234375,
          -1.5923881530761719,
          -32.68018341064453,
          -31.145288467407227,
          -5.840518474578857,
          -10.982157707214355,
          21.262130737304688,
          22.295177459716797,
          53.37057113647461,
          54.84004592895508,
          61.6415901184082,
          -36.263370513916016,
          57.751197814941406,
          2.4589874744415283,
          -34.473182678222656,
          -21.045669555664062,
          -1.2963156700134277,
          -0.08802574127912521,
          1.2872157096862793,
          2.7987751960754395,
          -43.304134368896484,
          -2.8329360485076904,
          7.780851364135742,
          14.356138229370117,
          -29.027132034301758,
          -27.5023193359375,
          16.583881378173828,
          -14.4155855178833,
          9.571091651916504,
          -2.0790209770202637,
          19.98847007751465,
          7.706735134124756,
          -6.220193386077881,
          -30.228910446166992,
          -1.1280884742736816,
          -16.13011932373047,
          57.2780876159668,
          -12.770917892456055,
          52.59242630004883,
          -11.01418685913086,
          -6.75625467300415,
          4.137826442718506,
          -35.5453987121582,
          -1.280408263206482,
          13.776371955871582,
          -23.28461265563965,
          -35.75425338745117,
          20.22700309753418,
          -18.154020309448242,
          0.8621423244476318,
          -46.693153381347656,
          13.18928050994873,
          56.37517547607422,
          -4.91699743270874,
          13.628249168395996,
          55.44275665283203,
          -13.817710876464844,
          3.914766788482666,
          11.414236068725586,
          16.30638885498047,
          14.839057922363281,
          -19.61417007446289,
          15.139388084411621,
          -7.259921073913574,
          53.877262115478516,
          -7.574504852294922,
          43.42108917236328,
          -27.828100204467773,
          20.818588256835938,
          33.689327239990234,
          42.67023849487305,
          -18.62229347229004,
          -21.44294548034668,
          -4.268204689025879,
          33.155609130859375,
          -15.544541358947754,
          1.639970064163208,
          6.099208354949951,
          50.29463577270508,
          17.312990188598633,
          11.22772216796875,
          -34.4191780090332,
          32.672279357910156,
          -6.412644863128662,
          41.267982482910156,
          -1.0542854070663452,
          58.678524017333984,
          -21.49604034423828,
          15.221721649169922,
          51.7198600769043,
          -13.701231956481934,
          9.627330780029297,
          9.432787895202637,
          30.444358825683594,
          66.84485626220703,
          7.108695983886719,
          7.889236927032471,
          -21.8762264251709,
          53.581626892089844,
          27.845781326293945,
          3.327070951461792,
          2.603342056274414,
          5.22891902923584,
          -0.49873632192611694,
          -27.571392059326172,
          -14.364349365234375,
          -7.089081764221191,
          54.192901611328125,
          59.238346099853516,
          -30.939189910888672,
          -8.075603485107422,
          4.247694492340088,
          14.886011123657227,
          4.308575630187988,
          48.11202621459961,
          -6.4532084465026855,
          -6.494379997253418,
          25.158193588256836,
          48.222557067871094,
          -4.781850337982178,
          -5.8937482833862305,
          4.320254325866699,
          46.97836685180664,
          -51.560813903808594,
          -37.44108963012695,
          40.596675872802734,
          -9.95542049407959,
          -30.464954376220703,
          14.57113265991211,
          22.89028549194336,
          -30.41836166381836,
          8.52635669708252,
          43.65790939331055,
          11.338891983032227,
          -44.83408737182617,
          25.998741149902344,
          55.03852081298828,
          -48.83112335205078,
          -36.739410400390625,
          47.135501861572266,
          -21.890275955200195,
          -25.24456024169922,
          3.111335277557373,
          -9.760523796081543,
          19.559730529785156,
          -1.8328015804290771,
          -30.47290802001953,
          -7.8650312423706055,
          -10.51932430267334,
          -16.129070281982422,
          59.69992446899414,
          -23.27374839782715,
          45.31098556518555,
          -48.617828369140625,
          -41.310054779052734,
          -40.18839645385742,
          -2.5029330253601074,
          1.2036551237106323,
          -19.822832107543945,
          -40.431785583496094,
          -40.42315673828125,
          -0.05924263224005699,
          8.333248138427734,
          -16.03602409362793,
          2.7306485176086426,
          -33.35599136352539,
          16.439105987548828,
          -4.240503787994385,
          -5.093662261962891,
          -34.70659255981445,
          -8.717591285705566,
          10.78217887878418,
          -3.528341054916382,
          31.76985740661621,
          29.979629516601562,
          -28.73139190673828,
          10.73914909362793,
          -16.098148345947266,
          12.920022964477539,
          -12.985930442810059,
          31.76985740661621,
          44.258644104003906,
          -8.658552169799805,
          5.22011661529541,
          -8.321391105651855,
          61.10361099243164,
          -1.5344922542572021,
          -39.72622299194336,
          -22.36448097229004,
          -8.848807334899902,
          11.380114555358887,
          -14.045843124389648,
          -34.61479949951172,
          39.81874465942383,
          25.856014251708984,
          37.88840866088867,
          62.21876907348633,
          24.242340087890625,
          -32.90822982788086,
          31.339563369750977,
          56.3093376159668,
          69.44673156738281,
          8.820944786071777,
          -7.084336757659912,
          46.342979431152344,
          -22.476285934448242,
          69.4331283569336,
          3.6627562046051025,
          59.84510803222656,
          28.610065460205078,
          -9.813863754272461,
          -3.1384506225585938,
          45.743492126464844,
          -23.54339599609375,
          6.75935173034668,
          -26.476640701293945,
          -28.564409255981445,
          25.93729019165039,
          21.705734252929688,
          30.51655387878418,
          -12.13846492767334,
          -45.36604309082031,
          -12.996309280395508,
          -4.247041702270508,
          -16.47239112854004,
          51.351375579833984,
          -27.49591064453125,
          -35.856605529785156,
          13.400127410888672,
          8.54111385345459,
          11.885008811950684,
          15.890451431274414,
          7.566374778747559,
          3.107771396636963,
          49.918487548828125,
          8.873552322387695,
          -7.928272247314453,
          -40.3568000793457,
          4.6563639640808105,
          3.202481746673584,
          -6.819799423217773,
          -15.353878021240234,
          13.623491287231445,
          -5.1089863777160645,
          56.002471923828125,
          53.726722717285156,
          10.095590591430664,
          54.62075424194336,
          -51.935829162597656,
          6.410268306732178,
          -19.337539672851562,
          48.66377258300781,
          26.85961151123047,
          -9.849089622497559,
          -1.866041660308838,
          -20.98524284362793,
          -14.74605655670166,
          -26.114294052124023,
          52.07523727416992,
          -1.7159398794174194,
          9.91951847076416,
          0.6530234813690186,
          -2.920578956604004,
          -11.358358383178711,
          5.650196075439453,
          0.9062598347663879,
          31.182239532470703,
          19.340421676635742,
          -26.48933219909668,
          57.2783088684082,
          -19.759185791015625,
          -26.653690338134766,
          39.506378173828125,
          -20.931306838989258,
          9.782382011413574,
          14.918811798095703,
          4.4344801902771,
          -11.361663818359375,
          11.24916934967041,
          18.369659423828125,
          14.475894927978516,
          -17.16884994506836,
          59.051414489746094,
          24.080211639404297,
          4.373142242431641,
          -22.04401969909668,
          -28.748947143554688,
          -19.965688705444336,
          3.9094107151031494,
          7.788622856140137,
          -32.5223503112793,
          -28.69705581665039,
          14.931368827819824,
          -8.160350799560547,
          19.58268165588379,
          57.82044982910156,
          -26.156511306762695,
          46.465087890625,
          51.455902099609375,
          55.174739837646484,
          10.651653289794922,
          53.61408615112305,
          -27.030254364013672,
          4.451938629150391,
          14.716662406921387,
          -30.481491088867188,
          -10.829657554626465,
          -30.85623550415039,
          -11.719465255737305,
          30.804092407226562,
          -2.9237170219421387,
          46.46308135986328,
          45.90670394897461,
          -14.67007827758789,
          -23.585010528564453,
          30.927942276000977,
          43.566898345947266,
          16.874744415283203,
          -25.57276725769043,
          9.151029586791992,
          12.662553787231445,
          -40.95900344848633,
          -40.938148498535156,
          58.14530944824219,
          53.69770431518555,
          -6.8080878257751465,
          -10.576430320739746,
          -18.05243682861328,
          45.87692642211914,
          -9.909649848937988,
          26.03510284423828,
          45.98896789550781,
          16.181089401245117,
          -17.202762603759766,
          22.131587982177734,
          0.3054806590080261,
          -25.5709285736084,
          -39.21234130859375,
          -18.495824813842773,
          -31.079389572143555,
          15.657626152038574,
          -35.55704879760742,
          56.05661392211914,
          1.946065068244934,
          18.749170303344727,
          -0.4168098270893097,
          11.584753036499023,
          26.40688133239746,
          9.965734481811523,
          -6.79853630065918,
          28.05099868774414,
          9.838020324707031,
          -38.11272048950195,
          6.478639602661133,
          -29.505741119384766,
          13.420583724975586,
          18.624866485595703,
          41.552894592285156,
          -31.40349578857422,
          -27.311588287353516,
          -31.815473556518555,
          -10.660757064819336,
          2.2362287044525146,
          -3.9305312633514404,
          -24.099626541137695,
          10.980561256408691,
          -27.208898544311523,
          -31.656963348388672,
          -51.282310485839844,
          12.099245071411133,
          4.095425128936768,
          -35.160579681396484,
          -33.82972717285156,
          15.973653793334961,
          59.26313018798828,
          -6.8108134269714355,
          -3.091585874557495,
          -27.86319923400879,
          -27.64507293701172,
          -32.4210090637207,
          -29.23593521118164,
          -24.586824417114258,
          40.23243713378906,
          17.952133178710938,
          -2.416233539581299,
          -7.452445983886719,
          -0.5787382125854492,
          0.2214074730873108,
          3.676112413406372,
          -0.7820432186126709,
          -18.91417121887207,
          11.263426780700684,
          -12.87911319732666,
          59.82622528076172,
          -20.840545654296875,
          -20.840545654296875,
          -34.68208312988281,
          -17.063060760498047,
          -13.696810722351074,
          11.664229393005371,
          7.941098213195801,
          62.38494110107422,
          -0.885084867477417,
          -25.85865592956543,
          -43.68431091308594,
          -48.75453567504883,
          -11.941171646118164,
          56.666568756103516,
          7.752264499664307,
          7.004481792449951,
          13.262097358703613,
          14.495723724365234,
          35.076969146728516,
          -17.640106201171875,
          -34.18775939941406,
          -34.18779754638672,
          35.076969146728516,
          9.37186050415039,
          -17.228761672973633,
          -28.368154525756836,
          11.077381134033203,
          37.755043029785156,
          5.28425407409668,
          -11.669320106506348,
          -7.821497917175293,
          21.832780838012695,
          -12.27427864074707,
          9.287628173828125,
          9.023760795593262,
          -8.083819389343262,
          15.357643127441406,
          44.2396125793457,
          -39.19131851196289,
          -6.5398077964782715,
          -7.545474529266357,
          57.10204315185547,
          -14.488656997680664,
          9.425785064697266,
          -22.61891746520996,
          -28.187402725219727,
          41.43312454223633,
          -23.136070251464844,
          -9.866568565368652,
          -10.723610877990723,
          47.534542083740234,
          14.643065452575684,
          6.165060997009277,
          -13.045256614685059,
          -8.176106452941895,
          17.282222747802734,
          -7.786484718322754,
          -33.94834518432617,
          -1.895880103111267,
          -10.905694007873535,
          -22.40083122253418,
          -13.517531394958496,
          -12.477750778198242,
          -2.6113903522491455,
          -15.001632690429688,
          -19.827993392944336,
          -9.349552154541016,
          17.96021842956543,
          -15.040562629699707,
          26.737895965576172,
          -1.3495852947235107,
          -20.255756378173828,
          -3.3273205757141113,
          -16.5224666595459,
          -7.248447895050049,
          -3.555196762084961,
          -19.576030731201172,
          32.72493362426758,
          43.66353988647461,
          -22.4129581451416,
          -10.693681716918945,
          16.3791561126709,
          38.886966705322266,
          -30.348966598510742,
          2.2920682430267334,
          2.570558786392212,
          -4.560080051422119,
          -5.190475940704346,
          -30.822107315063477,
          18.20567512512207,
          61.808223724365234,
          49.285484313964844,
          13.10767650604248,
          4.569246768951416,
          14.90865707397461,
          -2.7472610473632812,
          32.43124771118164,
          12.278285026550293,
          13.843074798583984,
          -19.983322143554688,
          -47.90438461303711,
          -21.19832420349121,
          10.617108345031738,
          -14.931600570678711,
          -19.414913177490234,
          11.147909164428711,
          -34.43246078491211,
          -32.42314910888672,
          -22.347980499267578,
          1.4358561038970947,
          46.79029083251953,
          -2.7942283153533936,
          11.8087797164917,
          -6.8366875648498535,
          -11.05029296875,
          56.666568756103516,
          -25.67753028869629,
          -8.106353759765625,
          31.443796157836914,
          14.25204849243164,
          -18.26820182800293,
          -26.743824005126953,
          20.442251205444336,
          -15.087986946105957,
          -20.832685470581055,
          -22.58832359313965,
          25.449583053588867,
          -7.724082946777344,
          -13.3993501663208,
          -0.26968762278556824,
          4.9959306716918945,
          -12.944404602050781,
          27.751708984375,
          16.717439651489258,
          14.130311012268066,
          -5.090933799743652,
          59.89595031738281,
          51.13397979736328,
          51.13397979736328,
          -12.972033500671387,
          9.653491020202637,
          42.26752471923828,
          38.488494873046875,
          51.13397979736328,
          -12.946601867675781,
          34.455318450927734,
          -13.526152610778809,
          -14.409605026245117,
          -19.691579818725586,
          47.53192901611328,
          3.8821401596069336,
          7.61140775680542,
          1.0955508947372437,
          -13.135077476501465,
          -12.639214515686035,
          5.013618469238281,
          26.54151153564453,
          -14.046270370483398,
          -1.247367262840271,
          -23.339340209960938,
          59.41291427612305,
          44.016563415527344,
          12.112892150878906,
          -16.425132751464844,
          2.926679849624634,
          -14.801469802856445,
          14.959856033325195,
          15.108219146728516,
          9.215668678283691,
          -30.841283798217773,
          -0.7183591723442078,
          13.95454216003418,
          55.73295211791992,
          6.323808670043945,
          3.8517861366271973,
          -26.96987533569336,
          -26.94289779663086,
          61.33987808227539,
          6.554889678955078,
          -10.167407035827637,
          -21.035722732543945,
          -27.896053314208984,
          2.374544620513916,
          0.8855892419815063,
          8.732409477233887,
          13.672333717346191,
          14.471657752990723,
          9.348334312438965,
          -22.249797821044922,
          7.8697662353515625,
          15.651934623718262,
          6.218873023986816,
          14.199941635131836,
          -0.01714431680738926,
          53.08198928833008,
          9.348334312438965,
          -11.933425903320312,
          12.142949104309082,
          2.457038402557373,
          -3.220547676086426,
          17.346525192260742,
          14.585796356201172,
          16.435537338256836,
          55.869136810302734,
          21.066097259521484,
          -0.07617585361003876,
          16.411792755126953,
          16.45272445678711,
          0.07659805566072464,
          17.933561325073242,
          -0.027982385829091072,
          55.73289489746094,
          30.66448402404785,
          -2.6075005531311035,
          42.01031494140625,
          2.749415874481201,
          6.954679489135742,
          20.98155403137207,
          -32.813655853271484,
          -6.61008882522583,
          -12.149059295654297,
          -30.948341369628906,
          -32.60349655151367,
          -7.482490062713623,
          -36.50889587402344,
          -9.217339515686035,
          51.16801071166992,
          -34.22659683227539,
          28.243656158447266,
          -5.878535747528076,
          -4.014627456665039,
          -6.964093208312988,
          -5.464775562286377,
          -3.1079111099243164,
          -4.893395900726318,
          15.792411804199219,
          1.2821871042251587,
          -10.409442901611328,
          -6.957572937011719,
          -6.415782928466797,
          -11.12739372253418,
          -7.874910831451416,
          -34.67454528808594,
          6.961890697479248,
          -7.274435520172119,
          -2.979907274246216,
          -28.508075714111328,
          -8.483153343200684,
          -23.807329177856445,
          -35.43505096435547,
          -8.037759780883789,
          -30.446514129638672,
          13.883097648620605,
          31.001535415649414,
          64.91949462890625,
          9.807718276977539,
          55.65584945678711,
          -39.89516067504883,
          -6.195943832397461,
          -29.676881790161133,
          58.66413879394531,
          -33.227203369140625,
          29.979629516601562,
          -19.40805435180664,
          -27.433130264282227,
          55.93300247192383,
          56.432952880859375,
          -21.458049774169922,
          44.76274490356445,
          47.71536636352539,
          -39.704715728759766,
          -27.746015548706055,
          -24.54544448852539,
          -31.572433471679688,
          -6.6586594581604,
          3.489471912384033,
          -17.943979263305664,
          -1.4200268983840942,
          -6.461536407470703,
          -27.811548233032227,
          -10.30415153503418,
          68.80027770996094,
          -28.617412567138672,
          68.73583221435547,
          -19.551090240478516,
          -23.564027786254883,
          15.797544479370117,
          1.361865758895874,
          -38.299739837646484,
          -25.5858097076416,
          -38.30044937133789,
          13.76407241821289,
          0.3473998010158539,
          21.70571517944336,
          -19.036338806152344,
          -23.7021541595459,
          -3.8167500495910645,
          -0.7735969424247742,
          -13.753335952758789,
          -14.358962059020996,
          54.855525970458984,
          -2.2992441654205322,
          25.560874938964844,
          13.928319931030273,
          48.14347457885742,
          -19.496782302856445,
          -21.945049285888672,
          -19.70703887939453,
          -19.46520233154297,
          29.339834213256836,
          14.062045097351074,
          -23.643512725830078,
          -12.415104866027832,
          -12.976027488708496,
          -4.01735258102417,
          61.96953201293945,
          46.50644302368164,
          41.491004943847656,
          -5.867359161376953,
          -1.5567470788955688,
          -28.036571502685547,
          -34.20228576660156,
          -26.829002380371094,
          7.231011390686035,
          -12.984465599060059,
          -2.0030508041381836,
          -12.573253631591797,
          -39.609092712402344,
          -24.262897491455078,
          -38.88717269897461,
          -38.918941497802734,
          7.286713123321533,
          -13.156758308410645,
          -16.799198150634766,
          -30.851512908935547,
          42.85711669921875,
          -14.82487678527832,
          32.54287338256836,
          -15.934796333312988,
          -1.7847684621810913,
          -10.442718505859375,
          -19.82960319519043,
          -35.88608169555664,
          -35.809024810791016,
          -15.364686012268066,
          -1.0943617820739746,
          -9.108930587768555,
          46.14767074584961,
          8.311895370483398,
          -20.43836212158203,
          -26.116924285888672,
          -12.11484432220459,
          11.27940559387207,
          -3.4027135372161865,
          -6.810728073120117,
          14.486459732055664,
          -19.806529998779297,
          9.111245155334473,
          12.56946849822998,
          -12.760872840881348,
          -4.0929460525512695,
          4.210766792297363,
          -20.735294342041016,
          -44.83408737182617,
          -20.47194480895996,
          42.40526580810547,
          4.392777442932129,
          7.309242248535156,
          11.643338203430176,
          44.11874008178711,
          -30.70770263671875,
          -33.31797409057617,
          21.056427001953125,
          -3.001765251159668,
          29.34218406677246,
          -14.430312156677246,
          -4.965095043182373,
          -37.69850158691406,
          5.422756671905518,
          -2.218404769897461,
          -8.289633750915527,
          -36.014278411865234,
          3.766977310180664,
          -12.615501403808594,
          -17.640106201171875,
          6.819952011108398,
          -8.787666320800781,
          -8.781582832336426,
          -31.196868896484375,
          -8.56947135925293,
          50.936668395996094,
          -1.961309552192688,
          30.29208755493164,
          17.344030380249023,
          -34.404850006103516,
          -18.27471351623535,
          8.248847007751465,
          -2.246793270111084,
          -29.70559310913086,
          -8.967775344848633,
          -41.28050231933594,
          -24.65563201904297,
          -2.7991344928741455,
          -22.990232467651367,
          -49.24021530151367,
          -28.830991744995117,
          -14.093986511230469,
          -21.696086883544922,
          -12.571643829345703,
          13.536029815673828,
          41.62936782836914,
          -10.561071395874023,
          4.859683036804199,
          50.69533157348633,
          43.62626266479492,
          -1.9709687232971191,
          0.7576591968536377,
          13.546679496765137,
          11.138195991516113,
          -3.1913816928863525,
          -15.037038803100586,
          -0.5981411337852478,
          -6.4142022132873535,
          -30.07868194580078,
          17.776763916015625,
          18.92484474182129,
          13.734781265258789,
          18.68502426147461,
          11.82294750213623,
          10.90824031829834,
          47.65660858154297,
          17.18912696838379,
          20.73926544189453,
          -20.25485610961914,
          19.03541374206543,
          -21.29205322265625,
          -7.627123832702637,
          -32.77161407470703,
          52.824493408203125,
          46.73756408691406,
          -22.55376625061035,
          -37.33979034423828,
          -43.67410659790039,
          -44.687129974365234,
          -32.55491638183594,
          -9.402263641357422,
          20.09773826599121,
          28.507118225097656,
          22.55792236328125,
          5.110638618469238,
          -10.296182632446289,
          -30.747875213623047,
          -2.1934704780578613,
          -31.297985076904297,
          -9.888081550598145,
          -16.677488327026367,
          8.848711967468262,
          2.549546718597412,
          -31.964235305786133,
          10.285322189331055,
          -44.30704116821289,
          -35.55406188964844,
          -23.680753707885742,
          -41.7178840637207,
          54.218475341796875,
          -9.80381965637207,
          4.71065092086792,
          17.341434478759766,
          3.4018194675445557,
          14.216351509094238,
          15.797544479370117,
          47.41560745239258,
          7.309676647186279,
          -13.679101943969727,
          -23.557676315307617,
          -17.426551818847656,
          22.06458282470703,
          -21.12981605529785,
          36.679656982421875,
          -8.926715850830078,
          14.060511589050293,
          16.26214027404785,
          7.836574077606201,
          6.294304847717285,
          20.5086669921875,
          16.801498413085938,
          -27.978490829467773,
          -29.79672622680664,
          -25.635896682739258,
          -22.586139678955078,
          26.95419692993164,
          17.311248779296875,
          51.9065055847168,
          -4.143924713134766,
          4.810052871704102,
          4.027853012084961,
          -9.669053077697754,
          -33.605979919433594,
          -12.984381675720215,
          14.573195457458496,
          -15.556808471679688,
          18.675243377685547,
          3.1050937175750732,
          -18.949338912963867,
          9.907353401184082,
          4.741969585418701,
          -28.445972442626953,
          2.7261950969696045,
          6.417116641998291,
          60.471858978271484,
          64.21051025390625,
          -11.55904769897461,
          53.649559020996094,
          11.614058494567871,
          2.997002363204956,
          8.051247596740723,
          25.636241912841797,
          14.304823875427246,
          21.507001876831055,
          -8.666008949279785,
          -27.56236457824707,
          24.837230682373047,
          24.837230682373047,
          43.34959411621094,
          -18.763864517211914,
          0.1871282309293747,
          -6.378586292266846,
          -18.32401466369629,
          -18.05243682861328,
          -22.201702117919922,
          -17.41357421875,
          -18.409299850463867,
          -21.061565399169922,
          -13.179596900939941,
          -31.881376266479492,
          55.772491455078125,
          -23.133752822875977,
          46.36088180541992,
          -48.83112335205078,
          -3.1250102519989014,
          54.04792022705078,
          -48.754493713378906,
          -38.53470993041992,
          -7.820566654205322,
          -48.0705451965332,
          -17.615995407104492,
          16.23401641845703,
          -37.984596252441406,
          -45.53559112548828,
          -25.977867126464844,
          -42.588035583496094,
          -33.36113357543945,
          -41.54057693481445,
          46.40376663208008,
          -23.391538619995117,
          -18.733043670654297,
          11.610321998596191,
          -30.046754837036133,
          -42.97525405883789,
          48.681610107421875,
          -25.66333770751953,
          -43.56844711303711,
          -31.37525749206543,
          47.93562316894531,
          -33.62843704223633,
          28.051044464111328,
          -14.106403350830078,
          -25.310686111450195,
          30.831026077270508,
          51.417320251464844,
          -46.4851188659668,
          17.952133178710938,
          -4.654956817626953,
          -23.543935775756836,
          -26.684419631958008,
          1.1372499465942383,
          2.749361038208008,
          49.80072021484375,
          -10.579366683959961,
          -31.55760383605957,
          -10.63757038116455,
          -6.320225238800049,
          -29.308887481689453,
          26.785154342651367,
          -33.06635284423828,
          26.18768310546875,
          -35.11341094970703,
          21.290634155273438,
          44.52958679199219,
          41.793235778808594,
          -14.72111701965332,
          19.39154052734375,
          38.98048400878906,
          -9.504657745361328,
          64.14866638183594,
          -25.351268768310547,
          5.486620903015137,
          37.45396041870117,
          -8.385655403137207,
          7.553512096405029,
          4.309906482696533,
          13.805130004882812,
          -4.473842144012451,
          -10.825085639953613,
          21.254384994506836,
          -25.727542877197266,
          11.461573600769043,
          5.134552001953125,
          -6.9506001472473145,
          41.62937545776367,
          -1.6948004961013794,
          48.110939025878906,
          46.94034194946289,
          46.94034194946289,
          0.722484827041626,
          2.3729002475738525,
          55.304874420166016,
          -27.148164749145508,
          22.19994354248047,
          6.92590856552124,
          7.607250213623047,
          -7.815313816070557,
          58.016807556152344,
          -18.640331268310547,
          -16.631038665771484,
          -6.843329906463623,
          -11.515413284301758,
          3.4080891609191895,
          -26.530296325683594,
          14.74566650390625,
          -8.745737075805664,
          15.192741394042969,
          -32.909263610839844,
          -33.85028076171875,
          -23.46059799194336,
          -29.317623138427734,
          -30.425189971923828,
          -32.63948059082031,
          -34.457427978515625,
          -0.003527638502418995,
          -26.7098388671875,
          13.313668251037598,
          -26.299179077148438,
          21.54820442199707,
          -26.29813575744629,
          -9.027059555053711,
          32.01508331298828,
          -29.095090866088867,
          21.671222686767578,
          17.634191513061523,
          -15.199941635131836,
          62.26681137084961,
          -28.28700065612793,
          -8.010972023010254,
          48.47993087768555,
          15.241082191467285,
          49.74947738647461,
          42.48134231567383,
          -37.28947067260742,
          9.580435752868652,
          8.3038969039917,
          17.632699966430664,
          15.65608024597168,
          11.649188995361328,
          17.09035873413086,
          39.493934631347656,
          51.79373550415039,
          10.610441207885742,
          18.07200813293457,
          9.223851203918457,
          -24.19455909729004,
          9.729730606079102,
          -43.05502700805664,
          -43.70018768310547,
          8.939696311950684,
          -32.17667770385742,
          -5.29710578918457,
          4.941988945007324,
          -9.58708667755127,
          18.740224838256836,
          -2.2002830505371094,
          16.90152931213379,
          -22.833059310913086,
          25.619970321655273,
          32.34440231323242,
          9.701257705688477,
          -3.0609982013702393,
          47.7248420715332,
          23.808837890625,
          53.18314743041992,
          -10.4636812210083,
          7.701467990875244,
          47.95609664916992,
          51.65049743652344,
          51.786983489990234,
          17.722545623779297,
          21.57466697692871,
          50.225955963134766,
          27.926916122436523,
          42.386512756347656,
          -38.36615753173828,
          -9.915895462036133,
          -20.529285430908203,
          -28.981861114501953,
          -37.25699234008789,
          12.877894401550293,
          -8.462170600891113,
          13.65957260131836,
          13.274443626403809,
          2.4402034282684326,
          18.784488677978516,
          -47.556949615478516,
          10.394489288330078,
          -12.770737648010254,
          -8.778603553771973,
          -21.388235092163086,
          -28.81719207763672,
          -36.6646842956543,
          -0.028237465769052505,
          -43.494266510009766,
          39.06803512573242,
          -18.59371566772461,
          19.834779739379883,
          21.52725601196289,
          -47.909793853759766,
          -18.623302459716797,
          -23.77118492126465,
          14.913192749023438,
          -2.839357852935791,
          -15.110169410705566,
          11.645171165466309,
          8.798259735107422,
          -13.462640762329102,
          11.645172119140625,
          -7.576594829559326,
          -15.597600936889648,
          -31.53957176208496,
          -18.587575912475586,
          2.182863712310791,
          -22.1875057220459,
          4.102850914001465,
          -23.920198440551758,
          -0.50246262550354,
          15.927640914916992,
          50.11896896362305,
          44.05006408691406,
          9.845611572265625,
          -31.20717430114746,
          -37.360843658447266,
          -35.27427673339844,
          -28.73139190673828,
          22.6462459564209,
          -1.5218868255615234,
          40.56013870239258,
          -31.002269744873047,
          -12.935779571533203,
          -7.523138046264648,
          16.398611068725586,
          1.1597648859024048,
          -14.416443824768066,
          -11.516317367553711,
          -15.906784057617188,
          33.34550094604492,
          -1.186490535736084,
          -14.072640419006348,
          -9.00395679473877,
          -16.911155700683594,
          0.4041944146156311,
          6.122400283813477,
          31.67232894897461,
          0.5229408144950867,
          30.804092407226562,
          26.201005935668945,
          14.469708442687988,
          31.311386108398438,
          -13.452314376831055,
          47.95902633666992,
          -32.406002044677734,
          12.530244827270508,
          -3.9541208744049072,
          -3.7766706943511963,
          18.07036018371582,
          50.9522819519043,
          -16.243282318115234,
          -9.982892990112305,
          41.56938171386719,
          -31.309398651123047,
          -22.11224937438965,
          29.456493377685547,
          24.247390747070312,
          7.367300510406494,
          -31.517667770385742,
          24.411785125732422,
          -41.37725067138672,
          55.239253997802734,
          9.461686134338379,
          -26.644392013549805,
          54.61573028564453,
          -10.166988372802734,
          14.216351509094238,
          14.892674446105957,
          -29.05292320251465,
          13.892194747924805,
          11.620566368103027,
          -12.149971961975098,
          -29.629150390625,
          -47.81283950805664,
          -8.810186386108398,
          -6.796695232391357,
          4.636321067810059,
          -23.251161575317383,
          -26.007221221923828,
          46.46906280517578,
          52.9662971496582,
          -29.5367374420166,
          -31.065998077392578,
          37.83842468261719,
          -1.8279082775115967,
          -33.5764045715332,
          -21.974294662475586,
          -37.29852294921875,
          -20.804710388183594,
          -42.70404052734375,
          -26.992393493652344,
          7.595031261444092,
          48.28594207763672,
          -3.1508421897888184,
          1.8909926414489746,
          -26.57332420349121,
          -43.047122955322266,
          -9.029213905334473,
          -8.202509880065918,
          -3.5754916667938232,
          46.341148376464844,
          -3.718714714050293,
          -3.9832026958465576,
          40.987876892089844,
          -42.01329803466797,
          -2.500014305114746,
          -27.59544563293457,
          -19.706953048706055,
          -9.016253471374512,
          7.04817008972168,
          1.9085395336151123,
          -19.572620391845703,
          28.5748291015625,
          57.89339065551758,
          -1.9750322103500366,
          -6.038795471191406,
          22.298885345458984,
          36.70514678955078,
          10.776354789733887,
          48.697391510009766,
          11.276314735412598,
          -28.464534759521484,
          57.89337158203125,
          -28.899839401245117,
          -32.72222137451172,
          55.413421630859375,
          -29.783063888549805,
          1.9057831764221191,
          53.393829345703125,
          -13.77519416809082,
          -14.65866756439209,
          -7.418202877044678,
          -14.643122673034668,
          -11.95995044708252,
          55.98374557495117,
          6.74558687210083,
          5.980339050292969,
          -11.381257057189941,
          45.10413360595703,
          56.13262176513672,
          -15.981254577636719,
          -46.265071868896484,
          -1.1650094985961914,
          -10.515791893005371,
          -19.768526077270508,
          -22.56761360168457,
          -30.39218521118164,
          -11.967548370361328,
          -6.949347496032715,
          -19.219823837280273,
          -14.119169235229492,
          -13.102663040161133,
          6.892549514770508,
          -30.559289932250977,
          -29.130334854125977,
          -1.1043034791946411,
          -3.7332236766815186,
          -8.203164100646973,
          53.963523864746094,
          -23.907432556152344,
          -21.596769332885742,
          21.55636215209961,
          -8.459230422973633,
          -11.90372085571289,
          -34.13475036621094,
          -34.35441207885742,
          28.016136169433594,
          9.784133911132812,
          14.94454574584961,
          28.507946014404297,
          10.086371421813965,
          12.944883346557617,
          8.326035499572754,
          -14.63931941986084,
          12.92082405090332,
          -1.2791770696640015,
          8.830000877380371,
          -15.051450729370117,
          16.68790626525879,
          -2.9117205142974854,
          22.633657455444336,
          15.645720481872559,
          4.435976982116699,
          -2.7589054107666016,
          -45.88212966918945,
          1.2474119663238525,
          -16.59741973876953,
          -30.369544982910156,
          48.72175216674805,
          -0.8657488226890564,
          31.615163803100586,
          56.928428649902344,
          14.359251976013184,
          19.61140251159668,
          4.291224002838135,
          13.71662712097168,
          46.6560173034668,
          26.64952850341797,
          8.112789154052734,
          20.888565063476562,
          44.12828063964844,
          28.58605194091797,
          38.83026885986328,
          65.04280853271484,
          17.42864990234375,
          6.691455364227295,
          -16.566246032714844,
          -14.137826919555664,
          25.577775955200195,
          7.021000385284424,
          31.560977935791016,
          -10.884663581848145,
          -26.911190032958984,
          -27.91216468811035,
          0.9524344205856323,
          18.5423526763916,
          8.119704246520996,
          7.357217311859131,
          26.511587142944336,
          11.583483695983887,
          13.430882453918457,
          6.28587007522583,
          -41.78496170043945,
          -17.078519821166992,
          8.481414794921875,
          -28.79758071899414,
          55.89922332763672,
          52.656944274902344,
          13.886615753173828,
          14.681063652038574,
          13.398510932922363,
          13.851720809936523,
          16.306360244750977,
          -45.535614013671875,
          -14.553152084350586,
          -1.6029932498931885,
          -6.811129093170166,
          8.990620613098145,
          25.933774948120117,
          -16.358293533325195,
          -29.59987449645996,
          -12.622747421264648,
          -15.8497314453125,
          -26.717308044433594,
          -25.677488327026367,
          -12.322763442993164,
          -27.852556228637695,
          -22.43207359313965,
          6.078903675079346,
          -32.8836784362793,
          -3.740269899368286,
          -21.535120010375977,
          -24.67400550842285,
          -50.33128356933594,
          -27.03624725341797,
          -28.1156005859375,
          -8.934853553771973,
          -39.233821868896484,
          -23.159509658813477,
          -23.331649780273438,
          7.941184997558594,
          64.98455810546875,
          -17.205984115600586,
          1.2525207996368408,
          -33.48471450805664,
          -29.945232391357422,
          1.0997412204742432,
          27.277666091918945,
          -18.862619400024414,
          29.56104850769043,
          48.06159210205078,
          -30.103878021240234,
          -15.9329252243042,
          -11.486202239990234,
          -16.060327529907227,
          -37.82172775268555,
          -24.525163650512695,
          -24.54447364807129,
          -38.40066146850586,
          -23.298030853271484,
          -27.973093032836914,
          -0.45531517267227173,
          52.611690521240234,
          -12.566774368286133,
          -43.215293884277344,
          -7.8760762214660645,
          -7.395744800567627,
          -31.493755340576172,
          33.807674407958984,
          -16.45250129699707,
          -26.187828063964844,
          51.38239669799805,
          -32.78099060058594,
          -30.468828201293945,
          44.322811126708984,
          14.16911506652832,
          54.03188705444336,
          -10.177334785461426,
          58.3488883972168,
          4.892226219177246,
          53.53402328491211,
          -38.11280822753906,
          -38.264461517333984,
          -28.41240882873535,
          -12.86981201171875,
          -10.576430320739746,
          -1.562991976737976,
          6.280399799346924,
          -16.82763671875,
          -6.949347496032715,
          5.096560955047607,
          51.72512435913086,
          6.334260940551758,
          -14.69438362121582,
          -17.248323440551758,
          -44.57282638549805,
          41.856956481933594,
          -43.931095123291016,
          -5.8895134925842285,
          -32.9428825378418,
          -33.84345245361328,
          -39.23292541503906,
          -42.59114074707031,
          2.1492297649383545,
          35.79616165161133,
          11.620566368103027,
          -37.21537780761719,
          -24.17620849609375,
          -12.285499572753906,
          -18.093833923339844,
          -37.62691879272461,
          -29.863971710205078,
          -4.502966403961182,
          -10.129220008850098,
          40.768577575683594,
          4.600686550140381,
          4.876151084899902,
          52.04581069946289,
          32.63636016845703,
          47.176700592041016,
          8.037687301635742,
          14.007392883300781,
          22.58681869506836,
          2.134556531906128,
          45.909278869628906,
          48.33548355102539,
          49.17478561401367,
          2.6069581508636475,
          2.606919765472412,
          -7.011379241943359,
          7.006280422210693,
          53.821022033691406,
          1.0839835405349731,
          -14.115452766418457,
          47.406959533691406,
          -0.27547892928123474,
          11.575112342834473,
          36.94801712036133,
          -47.867103576660156,
          -0.3998127281665802,
          46.7148551940918,
          -32.28291320800781,
          6.280151844024658,
          3.351670503616333,
          -21.751388549804688,
          -38.98078155517578,
          -37.8257942199707,
          -48.07522201538086,
          -49.573951721191406,
          -39.078121185302734,
          -35.67755126953125,
          -38.9088020324707,
          -37.485107421875,
          -32.90019226074219,
          -14.505903244018555,
          -43.017250061035156,
          9.807283401489258,
          -28.35906982421875,
          52.71162414550781,
          -27.372095108032227,
          15.248973846435547,
          -28.376813888549805,
          -17.29130744934082,
          -26.62537384033203,
          6.38602876663208,
          -16.872873306274414,
          -22.653024673461914,
          51.231563568115234,
          -17.715717315673828,
          -18.937992095947266,
          6.184502601623535,
          -8.574478149414062,
          1.3145602941513062,
          0.544685423374176,
          -14.553152084350586,
          8.034748077392578,
          -11.903308868408203,
          10.41738510131836,
          -26.06426429748535,
          4.013204574584961,
          -18.643470764160156,
          -29.476987838745117,
          -23.382356643676758,
          13.989080429077148,
          -31.892580032348633,
          -9.010758399963379,
          -36.75486373901367,
          54.2769660949707,
          34.859493255615234,
          -0.42686742544174194,
          -32.343570709228516,
          9.862503051757812,
          -31.497941970825195,
          -33.9272575378418,
          49.090267181396484,
          49.669036865234375,
          -17.991355895996094,
          -24.06511688232422,
          5.792385578155518,
          1.7689299583435059,
          -35.135562896728516,
          10.75603199005127,
          18.904373168945312,
          -11.947861671447754,
          47.05860900878906,
          49.587615966796875,
          6.457431316375732,
          -13.268017768859863,
          15.075943946838379,
          21.21787452697754,
          -43.62716293334961,
          -9.313493728637695,
          -4.768502712249756,
          -4.509315490722656,
          -9.25672721862793,
          14.477940559387207,
          3.3490841388702393,
          -39.501983642578125,
          -26.92824363708496,
          -2.5831873416900635,
          67.75225830078125,
          59.78269958496094,
          11.495421409606934,
          -40.216915130615234,
          10.996732711791992,
          -17.675413131713867,
          1.4328460693359375,
          28.537260055541992,
          -11.094220161437988,
          -3.847923994064331,
          5.25620698928833,
          17.16156768798828,
          11.951044082641602,
          3.4949545860290527,
          10.892583847045898,
          21.055387496948242,
          35.207305908203125,
          -39.92937088012695,
          48.72175216674805,
          -17.278858184814453,
          0.9495909810066223,
          22.056325912475586,
          -2.4154555797576904,
          17.41742706298828,
          48.194576263427734,
          -30.437673568725586,
          -37.86458969116211,
          -0.8036240339279175,
          -18.277101516723633,
          -40.291404724121094,
          -30.09256362915039,
          -3.4335529804229736,
          -33.652740478515625,
          -35.10947036743164,
          -40.225242614746094,
          -27.50302505493164,
          56.666568756103516,
          6.2110915184021,
          -21.87691879272461,
          -26.70909881591797,
          62.90581512451172,
          -6.497918128967285,
          -32.878971099853516,
          21.002788543701172,
          11.295185089111328,
          21.243988037109375,
          -4.433557510375977,
          5.929087162017822,
          -22.366674423217773,
          -13.3316068649292,
          -47.14659118652344,
          -29.322118759155273,
          -43.77076721191406,
          -31.48430061340332,
          -16.849931716918945,
          61.500282287597656,
          -7.6864013671875,
          52.656105041503906,
          -4.509355545043945,
          45.69391632080078,
          -5.924369812011719,
          -2.5136892795562744,
          -39.196109771728516,
          -10.022199630737305,
          -24.7688045501709,
          17.621028900146484,
          3.6417455673217773,
          -31.198657989501953,
          -33.58563232421875,
          56.97043228149414,
          1.0131220817565918,
          21.870710372924805,
          -13.885523796081543,
          11.453462600708008,
          9.416851043701172,
          38.245941162109375,
          -14.6666841506958,
          12.71823501586914,
          54.122222900390625,
          -29.5183162689209,
          -6.060814380645752,
          -23.190200805664062,
          48.74005889892578,
          42.9406852722168,
          -2.9199204444885254,
          42.9406852722168,
          -13.530303001403809,
          -21.4773006439209,
          -6.030330657958984,
          -16.199630737304688,
          -6.603653430938721,
          26.672637939453125,
          8.509207725524902,
          22.11747169494629,
          38.886966705322266,
          64.82425689697266,
          -5.3366923332214355,
          -19.936656951904297,
          47.258277893066406,
          -11.522601127624512,
          -23.891984939575195,
          5.332544803619385,
          -12.565144538879395,
          49.75631332397461,
          -14.392582893371582,
          -11.039369583129883,
          -7.282855987548828,
          57.335052490234375,
          -14.380110740661621,
          29.09449005126953,
          29.077205657958984,
          13.846789360046387,
          1.277234673500061,
          -36.408870697021484,
          16.137144088745117,
          8.303162574768066,
          -8.04980754852295,
          -30.57581901550293,
          -0.005629257299005985,
          9.275607109069824,
          2.2538692951202393,
          -34.14897155761719,
          42.03627395629883,
          39.08171463012695,
          -21.015226364135742,
          44.23805618286133,
          -33.205223083496094,
          6.592230796813965,
          12.055686950683594,
          4.679437160491943,
          7.658259391784668,
          -40.653419494628906,
          -23.134584426879883,
          -30.796579360961914,
          8.498042106628418,
          -1.9123867750167847,
          -12.407072067260742,
          24.562129974365234,
          24.807880401611328,
          -14.136249542236328,
          -39.976383209228516,
          18.236249923706055,
          33.689327239990234,
          46.06443405151367,
          -11.940604209899902,
          48.802181243896484,
          11.966621398925781,
          12.279814720153809,
          -5.4742960929870605,
          3.7059319019317627,
          46.06443405151367,
          -7.21491003036499,
          -11.85252857208252,
          -3.8796606063842773,
          -0.7881535291671753,
          1.421207308769226,
          38.10011672973633,
          18.607318878173828,
          21.82122230529785,
          48.069671630859375,
          -13.995171546936035,
          -5.4742960929870605,
          50.74594497680664,
          7.658322811126709,
          26.592599868774414,
          -5.052802562713623,
          -10.592340469360352,
          -5.244367599487305,
          9.529669761657715,
          8.34439754486084,
          -8.796433448791504,
          -8.886724472045898,
          59.2217903137207,
          -26.59132957458496,
          -30.35407829284668,
          56.24712371826172,
          48.50840759277344,
          -1.1537789106369019,
          3.8759186267852783,
          47.7829704284668,
          -12.25733470916748,
          8.079296112060547,
          -0.4285639822483063,
          -6.4324188232421875,
          46.38836669921875,
          52.03413772583008,
          8.304521560668945,
          -29.221187591552734,
          -26.9320068359375,
          14.107081413269043,
          -21.618656158447266,
          -31.818729400634766,
          -42.01329803466797,
          10.338387489318848,
          -9.414347648620605,
          12.857522010803223,
          -10.193374633789062,
          -3.5475122928619385,
          -8.954558372497559,
          -9.38012981414795,
          -38.22234344482422,
          -14.859742164611816,
          -10.442718505859375,
          -29.919225692749023,
          -47.23403549194336,
          -31.369991302490234,
          -30.677274703979492,
          -35.83890151977539,
          -3.3101370334625244,
          -29.808433532714844,
          -30.21741485595703,
          11.394607543945312,
          19.369905471801758,
          31.2650146484375,
          0.9920381903648376,
          49.204376220703125,
          26.492835998535156,
          24.616222381591797,
          18.807796478271484,
          4.796073913574219,
          -44.286216735839844,
          -14.508370399475098,
          -41.42616653442383,
          -2.8987245559692383,
          -29.744876861572266,
          21.454086303710938,
          -41.302085876464844,
          -22.12102508544922,
          -11.933679580688477,
          -34.932708740234375,
          9.50753402709961,
          0.821760356426239,
          -25.362939834594727,
          -24.747093200683594,
          -23.512958526611328,
          -42.077049255371094,
          -24.9166202545166,
          4.569246768951416,
          -13.474665641784668,
          -6.486939907073975,
          16.365009307861328,
          30.253835678100586,
          -50.41895294189453,
          -24.768821716308594,
          56.01382064819336,
          29.473094940185547,
          -27.341909408569336,
          14.300207138061523,
          -21.686317443847656,
          -11.225800514221191,
          52.30137252807617,
          -36.2104377746582,
          -34.1436653137207,
          -23.323932647705078,
          0.16965624690055847,
          -30.901546478271484,
          -27.594087600708008,
          1.253699779510498,
          -37.9498405456543,
          -48.628807067871094,
          -34.347957611083984,
          40.229766845703125,
          30.91548728942871,
          9.242582321166992,
          -38.60063171386719,
          -23.200931549072266,
          -26.828670501708984,
          -8.77860164642334,
          1.200682282447815,
          -22.7607421875,
          -37.09025192260742,
          -21.6104793548584,
          -18.860563278198242,
          -26.778472900390625,
          -24.808839797973633,
          50.93214416503906,
          17.962265014648438,
          9.52658748626709,
          -35.3523063659668,
          -44.465423583984375,
          48.030025482177734,
          15.803400993347168,
          -35.40115737915039,
          -40.40453338623047,
          -2.5216128826141357,
          -20.90484619140625,
          -7.425597190856934,
          -1.7386412620544434,
          -34.122955322265625,
          -4.654956817626953,
          -37.40546798706055,
          30.681764602661133,
          -43.309532165527344,
          -50.43480682373047,
          49.96527099609375,
          42.31430435180664,
          7.678182125091553,
          49.75630569458008,
          30.831026077270508,
          -12.805804252624512,
          -17.99054527282715,
          35.9964599609375,
          47.00480270385742,
          -17.053543090820312,
          8.739545822143555,
          41.341094970703125,
          -28.831409454345703,
          10.385011672973633,
          56.284095764160156,
          24.013534545898438,
          21.705734252929688,
          -11.11747932434082,
          -27.483003616333008,
          -11.311197280883789,
          -9.587456703186035,
          -2.2544565200805664,
          -16.668546676635742,
          -15.314122200012207,
          59.52183532714844,
          44.16653060913086,
          14.596792221069336,
          25.115741729736328,
          66.45059204101562,
          14.828706741333008,
          -15.390063285827637,
          53.43658447265625,
          -25.224472045898438,
          -11.995014190673828,
          48.15985107421875,
          64.92656707763672,
          -17.771875381469727,
          4.310818195343018,
          5.07762336730957,
          8.494338035583496,
          -38.14627456665039,
          18.373218536376953,
          31.78407096862793,
          -6.849147319793701,
          16.11189842224121,
          14.555034637451172,
          1.3806519508361816,
          9.001486778259277,
          27.511558532714844,
          -51.124855041503906,
          -11.693331718444824,
          -41.370521545410156,
          -21.566814422607422,
          -2.79702091217041,
          -31.914873123168945,
          24.247390747070312,
          44.07688522338867,
          41.914615631103516,
          -12.216163635253906,
          -23.94001007080078,
          21.040937423706055,
          -9.890412330627441,
          -38.22234344482422,
          -19.878890991210938,
          58.97807312011719,
          -43.43302917480469,
          -48.45393371582031,
          -10.979942321777344,
          20.778549194335938,
          7.3008294105529785,
          -10.110366821289062,
          -18.856277465820312,
          -21.002840042114258,
          -13.072867393493652,
          56.54205322265625,
          -5.191456317901611,
          -34.22827911376953,
          13.557756423950195,
          -28.43153953552246,
          6.838601112365723,
          14.346396446228027,
          -32.92466735839844,
          -27.702943801879883,
          -39.15097427368164,
          -41.664920806884766,
          -13.732549667358398,
          -20.902822494506836,
          26.15374755859375,
          19.156965255737305,
          -22.127471923828125,
          -0.5495922565460205,
          11.60759449005127,
          42.476806640625,
          58.97807693481445,
          58.97877883911133,
          24.562129974365234,
          39.49401092529297,
          17.151809692382812,
          -44.34727478027344,
          -25.81083106994629,
          -12.400876998901367,
          -12.561383247375488,
          -29.24567222595215,
          -19.92708396911621,
          9.28010082244873,
          -21.025959014892578,
          -21.89195442199707,
          -27.237892150878906,
          -2.8942883014678955,
          -31.973608016967773,
          -24.984752655029297,
          54.00587844848633,
          -22.063325881958008,
          -36.32151794433594,
          -21.334138870239258,
          -31.33055877685547,
          -29.192014694213867,
          1.5095850229263306,
          45.21070861816406,
          -11.448747634887695,
          3.014240026473999,
          -10.467170715332031,
          -21.000288009643555,
          -16.554134368896484,
          -17.636577606201172,
          -29.618318557739258,
          5.633159160614014,
          11.724421501159668,
          -9.964505195617676,
          15.15902042388916,
          1.2712128162384033,
          -28.887746810913086,
          -34.4063720703125,
          -11.270560264587402,
          44.21281814575195,
          53.38435363769531,
          -50.856842041015625,
          -29.120115280151367,
          23.672746658325195,
          -33.4547119140625,
          -12.176071166992188,
          -36.060752868652344,
          20.724210739135742,
          64.01646423339844,
          28.431142807006836,
          0.5728439688682556,
          1.1102066040039062,
          1.7416746616363525,
          44.260555267333984,
          7.027828216552734,
          -28.141172409057617,
          58.53675842285156,
          -28.050212860107422,
          -13.076810836791992,
          49.057003021240234,
          -5.3523640632629395,
          -34.860233306884766,
          -4.654956817626953,
          -34.91837692260742,
          16.804710388183594,
          5.488679885864258,
          26.751047134399414,
          3.0698413848876953,
          -22.26032257080078,
          19.505760192871094,
          -7.591007709503174,
          -20.06416130065918,
          1.3377107381820679,
          -2.1237595081329346,
          1.1438783407211304,
          12.329654693603516,
          -2.575223445892334,
          -2.6839237213134766,
          7.738331317901611,
          -32.51359176635742,
          12.138343811035156,
          -16.0621280670166,
          -36.951412200927734,
          25.306640625,
          -32.282196044921875,
          -11.822875022888184,
          36.54330825805664,
          -30.754976272583008,
          17.430328369140625,
          32.34440231323242,
          -17.469789505004883,
          1.0535849332809448,
          -37.984352111816406,
          -15.055932998657227,
          56.47319030761719,
          2.9184610843658447,
          -9.271282196044922,
          60.29832458496094,
          5.1733078956604,
          59.5880241394043,
          -44.42774963378906,
          -30.211990356445312,
          -34.96539306640625
         ],
         "yaxis": "y"
        }
       ],
       "layout": {
        "coloraxis": {
         "colorbar": {
          "title": {
           "text": "cluster"
          }
         },
         "colorscale": [
          [
           0,
           "#0d0887"
          ],
          [
           0.1111111111111111,
           "#46039f"
          ],
          [
           0.2222222222222222,
           "#7201a8"
          ],
          [
           0.3333333333333333,
           "#9c179e"
          ],
          [
           0.4444444444444444,
           "#bd3786"
          ],
          [
           0.5555555555555556,
           "#d8576b"
          ],
          [
           0.6666666666666666,
           "#ed7953"
          ],
          [
           0.7777777777777778,
           "#fb9f3a"
          ],
          [
           0.8888888888888888,
           "#fdca26"
          ],
          [
           1,
           "#f0f921"
          ]
         ]
        },
        "legend": {
         "tracegroupgap": 0
        },
        "margin": {
         "t": 60
        },
        "template": {
         "data": {
          "bar": [
           {
            "error_x": {
             "color": "#2a3f5f"
            },
            "error_y": {
             "color": "#2a3f5f"
            },
            "marker": {
             "line": {
              "color": "#E5ECF6",
              "width": 0.5
             },
             "pattern": {
              "fillmode": "overlay",
              "size": 10,
              "solidity": 0.2
             }
            },
            "type": "bar"
           }
          ],
          "barpolar": [
           {
            "marker": {
             "line": {
              "color": "#E5ECF6",
              "width": 0.5
             },
             "pattern": {
              "fillmode": "overlay",
              "size": 10,
              "solidity": 0.2
             }
            },
            "type": "barpolar"
           }
          ],
          "carpet": [
           {
            "aaxis": {
             "endlinecolor": "#2a3f5f",
             "gridcolor": "white",
             "linecolor": "white",
             "minorgridcolor": "white",
             "startlinecolor": "#2a3f5f"
            },
            "baxis": {
             "endlinecolor": "#2a3f5f",
             "gridcolor": "white",
             "linecolor": "white",
             "minorgridcolor": "white",
             "startlinecolor": "#2a3f5f"
            },
            "type": "carpet"
           }
          ],
          "choropleth": [
           {
            "colorbar": {
             "outlinewidth": 0,
             "ticks": ""
            },
            "type": "choropleth"
           }
          ],
          "contour": [
           {
            "colorbar": {
             "outlinewidth": 0,
             "ticks": ""
            },
            "colorscale": [
             [
              0,
              "#0d0887"
             ],
             [
              0.1111111111111111,
              "#46039f"
             ],
             [
              0.2222222222222222,
              "#7201a8"
             ],
             [
              0.3333333333333333,
              "#9c179e"
             ],
             [
              0.4444444444444444,
              "#bd3786"
             ],
             [
              0.5555555555555556,
              "#d8576b"
             ],
             [
              0.6666666666666666,
              "#ed7953"
             ],
             [
              0.7777777777777778,
              "#fb9f3a"
             ],
             [
              0.8888888888888888,
              "#fdca26"
             ],
             [
              1,
              "#f0f921"
             ]
            ],
            "type": "contour"
           }
          ],
          "contourcarpet": [
           {
            "colorbar": {
             "outlinewidth": 0,
             "ticks": ""
            },
            "type": "contourcarpet"
           }
          ],
          "heatmap": [
           {
            "colorbar": {
             "outlinewidth": 0,
             "ticks": ""
            },
            "colorscale": [
             [
              0,
              "#0d0887"
             ],
             [
              0.1111111111111111,
              "#46039f"
             ],
             [
              0.2222222222222222,
              "#7201a8"
             ],
             [
              0.3333333333333333,
              "#9c179e"
             ],
             [
              0.4444444444444444,
              "#bd3786"
             ],
             [
              0.5555555555555556,
              "#d8576b"
             ],
             [
              0.6666666666666666,
              "#ed7953"
             ],
             [
              0.7777777777777778,
              "#fb9f3a"
             ],
             [
              0.8888888888888888,
              "#fdca26"
             ],
             [
              1,
              "#f0f921"
             ]
            ],
            "type": "heatmap"
           }
          ],
          "heatmapgl": [
           {
            "colorbar": {
             "outlinewidth": 0,
             "ticks": ""
            },
            "colorscale": [
             [
              0,
              "#0d0887"
             ],
             [
              0.1111111111111111,
              "#46039f"
             ],
             [
              0.2222222222222222,
              "#7201a8"
             ],
             [
              0.3333333333333333,
              "#9c179e"
             ],
             [
              0.4444444444444444,
              "#bd3786"
             ],
             [
              0.5555555555555556,
              "#d8576b"
             ],
             [
              0.6666666666666666,
              "#ed7953"
             ],
             [
              0.7777777777777778,
              "#fb9f3a"
             ],
             [
              0.8888888888888888,
              "#fdca26"
             ],
             [
              1,
              "#f0f921"
             ]
            ],
            "type": "heatmapgl"
           }
          ],
          "histogram": [
           {
            "marker": {
             "pattern": {
              "fillmode": "overlay",
              "size": 10,
              "solidity": 0.2
             }
            },
            "type": "histogram"
           }
          ],
          "histogram2d": [
           {
            "colorbar": {
             "outlinewidth": 0,
             "ticks": ""
            },
            "colorscale": [
             [
              0,
              "#0d0887"
             ],
             [
              0.1111111111111111,
              "#46039f"
             ],
             [
              0.2222222222222222,
              "#7201a8"
             ],
             [
              0.3333333333333333,
              "#9c179e"
             ],
             [
              0.4444444444444444,
              "#bd3786"
             ],
             [
              0.5555555555555556,
              "#d8576b"
             ],
             [
              0.6666666666666666,
              "#ed7953"
             ],
             [
              0.7777777777777778,
              "#fb9f3a"
             ],
             [
              0.8888888888888888,
              "#fdca26"
             ],
             [
              1,
              "#f0f921"
             ]
            ],
            "type": "histogram2d"
           }
          ],
          "histogram2dcontour": [
           {
            "colorbar": {
             "outlinewidth": 0,
             "ticks": ""
            },
            "colorscale": [
             [
              0,
              "#0d0887"
             ],
             [
              0.1111111111111111,
              "#46039f"
             ],
             [
              0.2222222222222222,
              "#7201a8"
             ],
             [
              0.3333333333333333,
              "#9c179e"
             ],
             [
              0.4444444444444444,
              "#bd3786"
             ],
             [
              0.5555555555555556,
              "#d8576b"
             ],
             [
              0.6666666666666666,
              "#ed7953"
             ],
             [
              0.7777777777777778,
              "#fb9f3a"
             ],
             [
              0.8888888888888888,
              "#fdca26"
             ],
             [
              1,
              "#f0f921"
             ]
            ],
            "type": "histogram2dcontour"
           }
          ],
          "mesh3d": [
           {
            "colorbar": {
             "outlinewidth": 0,
             "ticks": ""
            },
            "type": "mesh3d"
           }
          ],
          "parcoords": [
           {
            "line": {
             "colorbar": {
              "outlinewidth": 0,
              "ticks": ""
             }
            },
            "type": "parcoords"
           }
          ],
          "pie": [
           {
            "automargin": true,
            "type": "pie"
           }
          ],
          "scatter": [
           {
            "fillpattern": {
             "fillmode": "overlay",
             "size": 10,
             "solidity": 0.2
            },
            "type": "scatter"
           }
          ],
          "scatter3d": [
           {
            "line": {
             "colorbar": {
              "outlinewidth": 0,
              "ticks": ""
             }
            },
            "marker": {
             "colorbar": {
              "outlinewidth": 0,
              "ticks": ""
             }
            },
            "type": "scatter3d"
           }
          ],
          "scattercarpet": [
           {
            "marker": {
             "colorbar": {
              "outlinewidth": 0,
              "ticks": ""
             }
            },
            "type": "scattercarpet"
           }
          ],
          "scattergeo": [
           {
            "marker": {
             "colorbar": {
              "outlinewidth": 0,
              "ticks": ""
             }
            },
            "type": "scattergeo"
           }
          ],
          "scattergl": [
           {
            "marker": {
             "colorbar": {
              "outlinewidth": 0,
              "ticks": ""
             }
            },
            "type": "scattergl"
           }
          ],
          "scattermapbox": [
           {
            "marker": {
             "colorbar": {
              "outlinewidth": 0,
              "ticks": ""
             }
            },
            "type": "scattermapbox"
           }
          ],
          "scatterpolar": [
           {
            "marker": {
             "colorbar": {
              "outlinewidth": 0,
              "ticks": ""
             }
            },
            "type": "scatterpolar"
           }
          ],
          "scatterpolargl": [
           {
            "marker": {
             "colorbar": {
              "outlinewidth": 0,
              "ticks": ""
             }
            },
            "type": "scatterpolargl"
           }
          ],
          "scatterternary": [
           {
            "marker": {
             "colorbar": {
              "outlinewidth": 0,
              "ticks": ""
             }
            },
            "type": "scatterternary"
           }
          ],
          "surface": [
           {
            "colorbar": {
             "outlinewidth": 0,
             "ticks": ""
            },
            "colorscale": [
             [
              0,
              "#0d0887"
             ],
             [
              0.1111111111111111,
              "#46039f"
             ],
             [
              0.2222222222222222,
              "#7201a8"
             ],
             [
              0.3333333333333333,
              "#9c179e"
             ],
             [
              0.4444444444444444,
              "#bd3786"
             ],
             [
              0.5555555555555556,
              "#d8576b"
             ],
             [
              0.6666666666666666,
              "#ed7953"
             ],
             [
              0.7777777777777778,
              "#fb9f3a"
             ],
             [
              0.8888888888888888,
              "#fdca26"
             ],
             [
              1,
              "#f0f921"
             ]
            ],
            "type": "surface"
           }
          ],
          "table": [
           {
            "cells": {
             "fill": {
              "color": "#EBF0F8"
             },
             "line": {
              "color": "white"
             }
            },
            "header": {
             "fill": {
              "color": "#C8D4E3"
             },
             "line": {
              "color": "white"
             }
            },
            "type": "table"
           }
          ]
         },
         "layout": {
          "annotationdefaults": {
           "arrowcolor": "#2a3f5f",
           "arrowhead": 0,
           "arrowwidth": 1
          },
          "autotypenumbers": "strict",
          "coloraxis": {
           "colorbar": {
            "outlinewidth": 0,
            "ticks": ""
           }
          },
          "colorscale": {
           "diverging": [
            [
             0,
             "#8e0152"
            ],
            [
             0.1,
             "#c51b7d"
            ],
            [
             0.2,
             "#de77ae"
            ],
            [
             0.3,
             "#f1b6da"
            ],
            [
             0.4,
             "#fde0ef"
            ],
            [
             0.5,
             "#f7f7f7"
            ],
            [
             0.6,
             "#e6f5d0"
            ],
            [
             0.7,
             "#b8e186"
            ],
            [
             0.8,
             "#7fbc41"
            ],
            [
             0.9,
             "#4d9221"
            ],
            [
             1,
             "#276419"
            ]
           ],
           "sequential": [
            [
             0,
             "#0d0887"
            ],
            [
             0.1111111111111111,
             "#46039f"
            ],
            [
             0.2222222222222222,
             "#7201a8"
            ],
            [
             0.3333333333333333,
             "#9c179e"
            ],
            [
             0.4444444444444444,
             "#bd3786"
            ],
            [
             0.5555555555555556,
             "#d8576b"
            ],
            [
             0.6666666666666666,
             "#ed7953"
            ],
            [
             0.7777777777777778,
             "#fb9f3a"
            ],
            [
             0.8888888888888888,
             "#fdca26"
            ],
            [
             1,
             "#f0f921"
            ]
           ],
           "sequentialminus": [
            [
             0,
             "#0d0887"
            ],
            [
             0.1111111111111111,
             "#46039f"
            ],
            [
             0.2222222222222222,
             "#7201a8"
            ],
            [
             0.3333333333333333,
             "#9c179e"
            ],
            [
             0.4444444444444444,
             "#bd3786"
            ],
            [
             0.5555555555555556,
             "#d8576b"
            ],
            [
             0.6666666666666666,
             "#ed7953"
            ],
            [
             0.7777777777777778,
             "#fb9f3a"
            ],
            [
             0.8888888888888888,
             "#fdca26"
            ],
            [
             1,
             "#f0f921"
            ]
           ]
          },
          "colorway": [
           "#636efa",
           "#EF553B",
           "#00cc96",
           "#ab63fa",
           "#FFA15A",
           "#19d3f3",
           "#FF6692",
           "#B6E880",
           "#FF97FF",
           "#FECB52"
          ],
          "font": {
           "color": "#2a3f5f"
          },
          "geo": {
           "bgcolor": "white",
           "lakecolor": "white",
           "landcolor": "#E5ECF6",
           "showlakes": true,
           "showland": true,
           "subunitcolor": "white"
          },
          "hoverlabel": {
           "align": "left"
          },
          "hovermode": "closest",
          "mapbox": {
           "style": "light"
          },
          "paper_bgcolor": "white",
          "plot_bgcolor": "#E5ECF6",
          "polar": {
           "angularaxis": {
            "gridcolor": "white",
            "linecolor": "white",
            "ticks": ""
           },
           "bgcolor": "#E5ECF6",
           "radialaxis": {
            "gridcolor": "white",
            "linecolor": "white",
            "ticks": ""
           }
          },
          "scene": {
           "xaxis": {
            "backgroundcolor": "#E5ECF6",
            "gridcolor": "white",
            "gridwidth": 2,
            "linecolor": "white",
            "showbackground": true,
            "ticks": "",
            "zerolinecolor": "white"
           },
           "yaxis": {
            "backgroundcolor": "#E5ECF6",
            "gridcolor": "white",
            "gridwidth": 2,
            "linecolor": "white",
            "showbackground": true,
            "ticks": "",
            "zerolinecolor": "white"
           },
           "zaxis": {
            "backgroundcolor": "#E5ECF6",
            "gridcolor": "white",
            "gridwidth": 2,
            "linecolor": "white",
            "showbackground": true,
            "ticks": "",
            "zerolinecolor": "white"
           }
          },
          "shapedefaults": {
           "line": {
            "color": "#2a3f5f"
           }
          },
          "ternary": {
           "aaxis": {
            "gridcolor": "white",
            "linecolor": "white",
            "ticks": ""
           },
           "baxis": {
            "gridcolor": "white",
            "linecolor": "white",
            "ticks": ""
           },
           "bgcolor": "#E5ECF6",
           "caxis": {
            "gridcolor": "white",
            "linecolor": "white",
            "ticks": ""
           }
          },
          "title": {
           "x": 0.05
          },
          "xaxis": {
           "automargin": true,
           "gridcolor": "white",
           "linecolor": "white",
           "ticks": "",
           "title": {
            "standoff": 15
           },
           "zerolinecolor": "white",
           "zerolinewidth": 2
          },
          "yaxis": {
           "automargin": true,
           "gridcolor": "white",
           "linecolor": "white",
           "ticks": "",
           "title": {
            "standoff": 15
           },
           "zerolinecolor": "white",
           "zerolinewidth": 2
          }
         }
        },
        "xaxis": {
         "anchor": "y",
         "domain": [
          0,
          1
         ],
         "title": {
          "text": "x"
         }
        },
        "yaxis": {
         "anchor": "x",
         "domain": [
          0,
          1
         ],
         "title": {
          "text": "y"
         }
        }
       }
      },
      "text/html": [
       "<div>                            <div id=\"0cb91870-8af9-4cae-a45a-a11b0d5185c8\" class=\"plotly-graph-div\" style=\"height:525px; width:100%;\"></div>            <script type=\"text/javascript\">                require([\"plotly\"], function(Plotly) {                    window.PLOTLYENV=window.PLOTLYENV || {};                                    if (document.getElementById(\"0cb91870-8af9-4cae-a45a-a11b0d5185c8\")) {                    Plotly.newPlot(                        \"0cb91870-8af9-4cae-a45a-a11b0d5185c8\",                        [{\"customdata\":[[\"21st century classical\"],[\"432hz\"],[\"8-bit\"],[\"[]\"],[\"a cappella\"],[\"abstract\"],[\"abstract beats\"],[\"abstract hip hop\"],[\"accordeon\"],[\"accordion\"],[\"acid house\"],[\"acid rock\"],[\"acid trance\"],[\"acousmatic\"],[\"acoustic blues\"],[\"acoustic pop\"],[\"acoustic punk\"],[\"acoustic rock\"],[\"action rock\"],[\"adoracion\"],[\"adult standards\"],[\"adventista\"],[\"afghan pop\"],[\"afghan traditional\"],[\"african percussion\"],[\"african reggae\"],[\"african rock\"],[\"african-american classical\"],[\"afro dancehall\"],[\"afro house\"],[\"afro psych\"],[\"afro soul\"],[\"afro-funk\"],[\"afrobeat\"],[\"afrofuturism\"],[\"afrofuturismo brasileiro\"],[\"afropop\"],[\"afroswing\"],[\"aggrotech\"],[\"alabama indie\"],[\"alabama metal\"],[\"alabama rap\"],[\"alaska indie\"],[\"albanian pop\"],[\"albany ny indie\"],[\"alberta country\"],[\"alberta hip hop\"],[\"album rock\"],[\"albuquerque indie\"],[\"alt-idol\"],[\"alte\"],[\"alternative americana\"],[\"alternative country\"],[\"alternative dance\"],[\"alternative emo\"],[\"alternative hip hop\"],[\"alternative metal\"],[\"alternative pop\"],[\"alternative pop rock\"],[\"alternative r&b\"],[\"alternative rock\"],[\"alternative roots rock\"],[\"ambeat\"],[\"ambient\"],[\"ambient black metal\"],[\"ambient folk\"],[\"ambient house\"],[\"ambient idm\"],[\"ambient industrial\"],[\"ambient pop\"],[\"ambient techno\"],[\"ambient worship\"],[\"american 21st century classical\"],[\"american choir\"],[\"american classical piano\"],[\"american contemporary classical\"],[\"american early music\"],[\"american folk revival\"],[\"american metalcore\"],[\"american modern classical\"],[\"american oi\"],[\"american orchestra\"],[\"american post-rock\"],[\"american primitive\"],[\"american romanticism\"],[\"american shoegaze\"],[\"anadolu rock\"],[\"anarcho-punk\"],[\"anglican liturgy\"],[\"animal singing\"],[\"anime\"],[\"anime latino\"],[\"anime rock\"],[\"anime score\"],[\"ann arbor indie\"],[\"anthem emo\"],[\"anthem worship\"],[\"anti-folk\"],[\"antilliaanse folklore\"],[\"antiviral pop\"],[\"appalachian folk\"],[\"arab folk\"],[\"arab groove\"],[\"arab pop\"],[\"arabesk\"],[\"arabic hip hop\"],[\"arabic jazz\"],[\"argentine ambient\"],[\"argentine hardcore\"],[\"argentine heavy metal\"],[\"argentine hip hop\"],[\"argentine indie\"],[\"argentine metal\"],[\"argentine punk\"],[\"argentine reggae\"],[\"argentine rock\"],[\"argentine telepop\"],[\"arizona punk\"],[\"arkansas country\"],[\"arkansas hip hop\"],[\"arkansas indie\"],[\"armenian folk\"],[\"art pop\"],[\"art punk\"],[\"art rock\"],[\"art song\"],[\"asbury park indie\"],[\"asheville indie\"],[\"asian american hip hop\"],[\"asmr\"],[\"athens indie\"],[\"atl hip hop\"],[\"atl trap\"],[\"atlanta indie\"],[\"atlanta metal\"],[\"atlanta punk\"],[\"atmosphere\"],[\"atmospheric black metal\"],[\"atmospheric dnb\"],[\"atmospheric post-metal\"],[\"atmospheric post-rock\"],[\"atmospheric sludge\"],[\"auckland indie\"],[\"audiophile vocal\"],[\"aussietronica\"],[\"austin americana\"],[\"austin singer-songwriter\"],[\"austindie\"],[\"australian alternative pop\"],[\"australian alternative rock\"],[\"australian ambient\"],[\"australian children's music\"],[\"australian choir\"],[\"australian classical\"],[\"australian classical piano\"],[\"australian country\"],[\"australian dance\"],[\"australian electropop\"],[\"australian garage punk\"],[\"australian hip hop\"],[\"australian house\"],[\"australian indie\"],[\"australian indie folk\"],[\"australian indie rock\"],[\"australian indigenous\"],[\"australian metal\"],[\"australian metalcore\"],[\"australian pop\"],[\"australian post-hardcore\"],[\"australian post-punk\"],[\"australian psych\"],[\"australian r&b\"],[\"australian reggae fusion\"],[\"australian rock\"],[\"australian singer-songwriter\"],[\"australian ska\"],[\"australian talent show\"],[\"australian trap\"],[\"australian underground hip hop\"],[\"austrian choir\"],[\"austrian classical piano\"],[\"austrian orchestra\"],[\"austrian pop\"],[\"austro-german modernism\"],[\"austropop\"],[\"autoharp\"],[\"autonomous black metal\"],[\"avant-garde\"],[\"avant-garde jazz\"],[\"avant-garde metal\"],[\"axe\"],[\"azeri traditional\"],[\"azonto\"],[\"azontobeats\"],[\"bachata\"],[\"bachata dominicana\"],[\"background music\"],[\"background piano\"],[\"baglama\"],[\"bahai\"],[\"bahamian folk\"],[\"bahamian pop\"],[\"baiao\"],[\"bajki\"],[\"bakersfield sound\"],[\"balearic\"],[\"balkan brass\"],[\"balkan classical piano\"],[\"ballet class\"],[\"ballroom\"],[\"baltic classical\"],[\"baltimore hip hop\"],[\"baltimore indie\"],[\"banda\"],[\"banda caliente\"],[\"banda carnavalera\"],[\"bandinhas\"],[\"bandolim\"],[\"bandoneon\"],[\"bangla\"],[\"banjo\"],[\"bansuri\"],[\"barbadian pop\"],[\"barbershop\"],[\"bard\"],[\"barnmusik\"],[\"barockinterpreten\"],[\"baroque\"],[\"baroque brass\"],[\"baroque ensemble\"],[\"baroque pop\"],[\"baroque singing\"],[\"baroque violin\"],[\"baroque woodwind\"],[\"bass house\"],[\"bass music\"],[\"bass trap\"],[\"basshall\"],[\"bassline\"],[\"bath indie\"],[\"baton rouge indie\"],[\"baton rouge rap\"],[\"battle rap\"],[\"bay area hip hop\"],[\"bay area indie\"],[\"bboy\"],[\"bc underground hip hop\"],[\"beach music\"],[\"beat italiano\"],[\"beat poetry\"],[\"beatboxing\"],[\"beatlesque\"],[\"bebop\"],[\"bedroom pop\"],[\"bedroom soul\"],[\"belarusian indie\"],[\"belarusian pop\"],[\"belarusian rock\"],[\"belgian classical piano\"],[\"belgian contemporary classical\"],[\"belgian dance\"],[\"belgian edm\"],[\"belgian hardcore\"],[\"belgian indie\"],[\"belgian indie rock\"],[\"belgian jazz\"],[\"belgian new wave\"],[\"belgian pop\"],[\"belgian rock\"],[\"belgian singer-songwriter\"],[\"belgian techno\"],[\"belly dance\"],[\"bengali folk\"],[\"beninese pop\"],[\"bergen indie\"],[\"berlin minimal techno\"],[\"berlin school\"],[\"bhajan\"],[\"bhangra\"],[\"bible\"],[\"big band\"],[\"big beat\"],[\"big room\"],[\"binaural\"],[\"birdsong\"],[\"birmingham grime\"],[\"birmingham hip hop\"],[\"birmingham metal\"],[\"bitpop\"],[\"black 'n' roll\"],[\"black comedy\"],[\"black metal\"],[\"black punk\"],[\"black thrash\"],[\"blackened crust\"],[\"blackgaze\"],[\"bleep techno\"],[\"bluegrass\"],[\"bluegrass fiddle\"],[\"bluegrass gospel\"],[\"blues\"],[\"blues latinoamericano\"],[\"blues mexicano\"],[\"blues rock\"],[\"bmore\"],[\"bolero\"],[\"bolero cubano\"],[\"boogaloo\"],[\"boogie\"],[\"boogie-woogie\"],[\"boom bap\"],[\"boom bap brasileiro\"],[\"bossa nova\"],[\"bossa nova jazz\"],[\"boston folk\"],[\"boston hardcore\"],[\"boston hip hop\"],[\"boston indie\"],[\"boston metal\"],[\"boston punk\"],[\"boston rock\"],[\"bounce\"],[\"bouncy house\"],[\"bouzouki\"],[\"bow pop\"],[\"boy band\"],[\"boy pop\"],[\"boy soprano\"],[\"brain waves\"],[\"braindance\"],[\"brass band\"],[\"brass ensemble\"],[\"brass quintet\"],[\"brazilian boogie\"],[\"brazilian classical\"],[\"brazilian classical piano\"],[\"brazilian contemporary classical\"],[\"brazilian edm\"],[\"brazilian groove metal\"],[\"brazilian hip hop\"],[\"brazilian indie\"],[\"brazilian jazz\"],[\"brazilian metal\"],[\"brazilian modern jazz\"],[\"brazilian percussion\"],[\"brazilian punk\"],[\"brazilian reggae\"],[\"brazilian rock\"],[\"brazilian ska\"],[\"brazilian soul\"],[\"brazilian thrash metal\"],[\"breakbeat\"],[\"breakcore\"],[\"brega\"],[\"breton folk\"],[\"brighton indie\"],[\"brill building pop\"],[\"brisbane indie\"],[\"bristol electronic\"],[\"bristol indie\"],[\"brit funk\"],[\"british alternative rock\"],[\"british black metal\"],[\"british blues\"],[\"british children's music\"],[\"british choir\"],[\"british classical piano\"],[\"british comedy\"],[\"british contemporary classical\"],[\"british dance band\"],[\"british death metal\"],[\"british experimental\"],[\"british folk\"],[\"british grindcore\"],[\"british indie rock\"],[\"british industrial\"],[\"british invasion\"],[\"british jazz\"],[\"british modern classical\"],[\"british orchestra\"],[\"british post-rock\"],[\"british power metal\"],[\"british singer-songwriter\"],[\"british soul\"],[\"british soundtrack\"],[\"britpop\"],[\"broadway\"],[\"broken beat\"],[\"bronx hip hop\"],[\"brooklyn drill\"],[\"brooklyn indie\"],[\"brostep\"],[\"brutal death metal\"],[\"brutal deathcore\"],[\"bubble trance\"],[\"bubblegrunge\"],[\"bubblegum dance\"],[\"bubblegum pop\"],[\"buffalo hip hop\"],[\"buffalo ny indie\"],[\"buffalo ny metal\"],[\"bulgarian experimental\"],[\"burmese traditional\"],[\"bush ballad\"],[\"c-pop\"],[\"c86\"],[\"cabaret\"],[\"cajun\"],[\"calgary indie\"],[\"cali rap\"],[\"calming instrumental\"],[\"calypso\"],[\"cambodian rock\"],[\"cambridge choir\"],[\"cambridgeshire indie\"],[\"cameroonian pop\"],[\"canadian americana\"],[\"canadian blues\"],[\"canadian ccm\"],[\"canadian celtic\"],[\"canadian children's music\"],[\"canadian choir\"],[\"canadian classical\"],[\"canadian classical piano\"],[\"canadian comedy\"],[\"canadian contemporary country\"],[\"canadian contemporary r&b\"],[\"canadian country\"],[\"canadian electronic\"],[\"canadian electropop\"],[\"canadian experimental\"],[\"canadian folk\"],[\"canadian hardcore\"],[\"canadian hip hop\"],[\"canadian house\"],[\"canadian indie\"],[\"canadian indie folk\"],[\"canadian indigenous\"],[\"canadian indigenous hip hop\"],[\"canadian latin\"],[\"canadian metal\"],[\"canadian metalcore\"],[\"canadian modern jazz\"],[\"canadian pop\"],[\"canadian pop punk\"],[\"canadian post-hardcore\"],[\"canadian post-rock\"],[\"canadian psychedelic\"],[\"canadian punk\"],[\"canadian rock\"],[\"canadian rockabilly\"],[\"canadian singer-songwriter\"],[\"canadian soundtrack\"],[\"cancion melodica\"],[\"candy pop\"],[\"cantautor\"],[\"cante flamenco\"],[\"canterbury scene\"],[\"canto popular uruguayo\"],[\"cantopop\"],[\"canzone d'autore\"],[\"canzone genovese\"],[\"canzone napoletana\"],[\"cape town indie\"],[\"cape verdean folk\"],[\"capoeira\"],[\"caracas indie\"],[\"carnatic\"],[\"carnatic instrumental\"],[\"carnatic vocal\"],[\"cartoon\"],[\"cathedral choir\"],[\"caucasian classical\"],[\"caucasian classical piano\"],[\"ccm\"],[\"cedm\"],[\"cello\"],[\"celtic\"],[\"celtic harp\"],[\"celtic metal\"],[\"celtic punk\"],[\"celtic rock\"],[\"cha-cha-cha\"],[\"chakra\"],[\"chamame\"],[\"chamber choir\"],[\"chamber ensemble\"],[\"chamber folk\"],[\"chamber orchestra\"],[\"chamber pop\"],[\"chamber psych\"],[\"champeta\"],[\"channel islands indie\"],[\"channel pop\"],[\"chanson\"],[\"chanson paillarde\"],[\"chaotic hardcore\"],[\"charanga\"],[\"charango\"],[\"charlotte nc indie\"],[\"charlottesville indie\"],[\"chattanooga indie\"],[\"chicago blues\"],[\"chicago drill\"],[\"chicago hardcore\"],[\"chicago house\"],[\"chicago indie\"],[\"chicago pop punk\"],[\"chicago punk\"],[\"chicago rap\"],[\"chicago soul\"],[\"chicano punk\"],[\"chicano rap\"],[\"chicha\"],[\"chihuahua indie\"],[\"children's choir\"],[\"children's folk\"],[\"children's music\"],[\"children's story\"],[\"chilean hardcore\"],[\"chilean indie\"],[\"chilean rock\"],[\"chilena\"],[\"chill beats\"],[\"chill guitar\"],[\"chill lounge\"],[\"chill out\"],[\"chill pop\"],[\"chill r&b\"],[\"chillhop\"],[\"chillstep\"],[\"chillwave\"],[\"chinese audiophile\"],[\"chinese classical\"],[\"chinese classical performance\"],[\"chinese classical piano\"],[\"chinese electropop\"],[\"chinese hip hop\"],[\"chinese idol pop\"],[\"chinese indie\"],[\"chinese indie rock\"],[\"chinese instrumental\"],[\"chinese jazz\"],[\"chinese r&b\"],[\"chinese soundtrack\"],[\"chinese traditional\"],[\"chiptune\"],[\"chopped and screwed\"],[\"choral\"],[\"choro\"],[\"christchurch indie\"],[\"christelijk\"],[\"christian a cappella\"],[\"christian alternative rock\"],[\"christian dance\"],[\"christian hard rock\"],[\"christian hardcore\"],[\"christian hip hop\"],[\"christian indie\"],[\"christian metal\"],[\"christian metalcore\"],[\"christian music\"],[\"christian pop\"],[\"christian power metal\"],[\"christian punk\"],[\"christian relaxative\"],[\"christian rock\"],[\"christian trap\"],[\"christian uplift\"],[\"christmas instrumental\"],[\"christmas product\"],[\"chunchaca\"],[\"chutney\"],[\"cincinnati rap\"],[\"cinematic post-rock\"],[\"circuit\"],[\"circus\"],[\"classic afrobeat\"],[\"classic arab pop\"],[\"classic australian country\"],[\"classic belgian pop\"],[\"classic bhangra\"],[\"classic bollywood\"],[\"classic canadian rock\"],[\"classic cantopop\"],[\"classic colombian pop\"],[\"classic country pop\"],[\"classic czech pop\"],[\"classic danish pop\"],[\"classic dubstep\"],[\"classic eurovision\"],[\"classic finnish pop\"],[\"classic french pop\"],[\"classic garage rock\"],[\"classic girl group\"],[\"classic greek pop\"],[\"classic hardstyle\"],[\"classic icelandic pop\"],[\"classic indo pop\"],[\"classic iskelma\"],[\"classic israeli pop\"],[\"classic italian folk pop\"],[\"classic italian pop\"],[\"classic j-rock\"],[\"classic japanese jazz\"],[\"classic korean pop\"],[\"classic latvian pop\"],[\"classic mandopop\"],[\"classic norwegian pop\"],[\"classic opm\"],[\"classic pakistani pop\"],[\"classic persian pop\"],[\"classic peruvian pop\"],[\"classic polish pop\"],[\"classic praise\"],[\"classic psychedelic rock\"],[\"classic punjabi pop\"],[\"classic rock\"],[\"classic russian pop\"],[\"classic russian rock\"],[\"classic schlager\"],[\"classic soul\"],[\"classic soundtrack\"],[\"classic swedish pop\"],[\"classic thai pop\"],[\"classic tunisian pop\"],[\"classic turkish pop\"],[\"classic uk pop\"],[\"classic venezuelan pop\"],[\"classical\"],[\"classical accordion\"],[\"classical baritone\"],[\"classical bass\"],[\"classical cello\"],[\"classical clarinet\"],[\"classical contralto\"],[\"classical countertenor\"],[\"classical era\"],[\"classical flute\"],[\"classical guitar\"],[\"classical harp\"],[\"classical horn\"],[\"classical mandolin\"],[\"classical mezzo-soprano\"],[\"classical oboe\"],[\"classical organ\"],[\"classical performance\"],[\"classical piano\"],[\"classical piano duo\"],[\"classical piano trio\"],[\"classical saxophone\"],[\"classical soprano\"],[\"classical tenor\"],[\"classical trumpet\"],[\"classify\"],[\"clawhammer banjo\"],[\"clean comedy\"],[\"cleveland metal\"],[\"coco\"],[\"collage pop\"],[\"college a cappella\"],[\"colombian hip hop\"],[\"colombian pop\"],[\"colombian rock\"],[\"columbus ohio indie\"],[\"comedy\"],[\"comedy rap\"],[\"comedy rock\"],[\"comic\"],[\"comic metal\"],[\"commons\"],[\"complextro\"],[\"compositional ambient\"],[\"concepcion indie\"],[\"concert band\"],[\"connecticut hardcore\"],[\"connecticut indie\"],[\"conscious hip hop\"],[\"contemporary choir\"],[\"contemporary classical\"],[\"contemporary classical piano\"],[\"contemporary country\"],[\"contemporary folk\"],[\"contemporary gospel\"],[\"contemporary jazz\"],[\"contemporary post-bop\"],[\"contemporary vocal jazz\"],[\"contrabass\"],[\"cool jazz\"],[\"copla\"],[\"cornish folk\"],[\"cornwall indie\"],[\"corrido\"],[\"corridos cristianos\"],[\"corridos tumbados\"],[\"corrosion\"],[\"cosmic american\"],[\"cosmic post-rock\"],[\"country\"],[\"country blues\"],[\"country boogie\"],[\"country dawn\"],[\"country gospel\"],[\"country pop\"],[\"country rap\"],[\"country road\"],[\"country rock\"],[\"coverchill\"],[\"cowboy western\"],[\"cowpunk\"],[\"crack rock steady\"],[\"croatian folk\"],[\"croatian pop\"],[\"croatian rock\"],[\"crossover thrash\"],[\"crunk\"],[\"crust punk\"],[\"cuarteto\"],[\"cuatro venezolano\"],[\"cuban alternative\"],[\"cuban rumba\"],[\"cubaton\"],[\"cumbia\"],[\"cumbia andina mexicana\"],[\"cumbia chilena\"],[\"cumbia colombiana regia\"],[\"cumbia ecuatoriana\"],[\"cumbia funk\"],[\"cumbia lagunera\"],[\"cumbia paraguaya\"],[\"cumbia peruana\"],[\"cumbia pop\"],[\"cumbia ranchera\"],[\"cumbia salvadorena\"],[\"cumbia santafesina\"],[\"cumbia sonidera\"],[\"cumbia villera\"],[\"cyberpunk\"],[\"cymraeg\"],[\"cypriot pop\"],[\"czech classical\"],[\"czech classical piano\"],[\"czech contemporary classical\"],[\"d-beat\"],[\"dabke\"],[\"dakke dak\"],[\"dallas indie\"],[\"dance pop\"],[\"dance rock\"],[\"dance-punk\"],[\"dancehall\"],[\"dangdut\"],[\"danish alternative rock\"],[\"danish classical\"],[\"danish electronic\"],[\"danish electropop\"],[\"danish hip hop\"],[\"danish jazz\"],[\"danish metal\"],[\"danish pop\"],[\"danish pop rock\"],[\"danish post-punk\"],[\"danish punk\"],[\"danish rock\"],[\"danish singer-songwriter\"],[\"dansband\"],[\"danseband\"],[\"dansktop\"],[\"danspunk\"],[\"dark cabaret\"],[\"dark clubbing\"],[\"dark disco\"],[\"dark hardcore\"],[\"dark jazz\"],[\"dark minimal techno\"],[\"dark post-punk\"],[\"dark techno\"],[\"dark trap\"],[\"dark wave\"],[\"darksynth\"],[\"dayton indie\"],[\"dc hardcore\"],[\"dc indie\"],[\"death 'n' roll\"],[\"death metal\"],[\"deathcore\"],[\"deathgrass\"],[\"deathgrind\"],[\"deathrash\"],[\"deathrock\"],[\"deathstep\"],[\"deep acoustic pop\"],[\"deep adult standards\"],[\"deep big room\"],[\"deep ccm\"],[\"deep christian rock\"],[\"deep classic garage rock\"],[\"deep comedy\"],[\"deep contemporary country\"],[\"deep dance pop\"],[\"deep delta blues\"],[\"deep disco\"],[\"deep disco house\"],[\"deep dnb\"],[\"deep east coast hip hop\"],[\"deep euro house\"],[\"deep flow\"],[\"deep free jazz\"],[\"deep freestyle\"],[\"deep full on\"],[\"deep funk\"],[\"deep g funk\"],[\"deep gothic post-punk\"],[\"deep groove house\"],[\"deep house\"],[\"deep idm\"],[\"deep indian pop\"],[\"deep indie singer-songwriter\"],[\"deep latin alternative\"],[\"deep latin christian\"],[\"deep melodic metalcore\"],[\"deep minimal techno\"],[\"deep motown\"],[\"deep new americana\"],[\"deep new wave\"],[\"deep norteno\"],[\"deep northern soul\"],[\"deep pop edm\"],[\"deep progressive house\"],[\"deep psychobilly\"],[\"deep punk rock\"],[\"deep r&b\"],[\"deep ragga\"],[\"deep regional mexican\"],[\"deep smooth jazz\"],[\"deep soft rock\"],[\"deep soul house\"],[\"deep soundtrack\"],[\"deep southern soul\"],[\"deep southern trap\"],[\"deep space rock\"],[\"deep talent show\"],[\"deep tech house\"],[\"deep techno\"],[\"deep tropical house\"],[\"deep underground hip hop\"],[\"deep uplifting trance\"],[\"delta blues\"],[\"dembow\"],[\"denpa-kei\"],[\"denton tx indie\"],[\"denver indie\"],[\"depressive black metal\"],[\"derby indie\"],[\"desert blues\"],[\"desi hip hop\"],[\"desi pop\"],[\"destroy techno\"],[\"detroit hip hop\"],[\"detroit house\"],[\"detroit techno\"],[\"detroit trap\"],[\"detske pisnicky\"],[\"detskie pesni\"],[\"devon indie\"],[\"dfw rap\"],[\"dhrupad\"],[\"digital hardcore\"],[\"dinner jazz\"],[\"dirty south rap\"],[\"dirty texas rap\"],[\"disco\"],[\"disco house\"],[\"disney\"],[\"diva house\"],[\"dixieland\"],[\"diy emo\"],[\"djent\"],[\"dmv rap\"],[\"dominican pop\"],[\"dong-yo\"],[\"doo-wop\"],[\"doom metal\"],[\"double drumming\"],[\"downtempo\"],[\"drama\"],[\"dream pop\"],[\"dream trance\"],[\"dreamgaze\"],[\"dreamo\"],[\"drift\"],[\"drill\"],[\"drill and bass\"],[\"drone\"],[\"drone folk\"],[\"drone metal\"],[\"drum and bass\"],[\"dub\"],[\"dub metal\"],[\"dub poetry\"],[\"dub techno\"],[\"dubstep\"],[\"dubsteppe\"],[\"duduk\"],[\"duluth indie\"],[\"dunedin indie\"],[\"dunedin sound\"],[\"dungeon synth\"],[\"duranguense\"],[\"dusseldorf electronic\"],[\"dutch blues\"],[\"dutch cabaret\"],[\"dutch classical piano\"],[\"dutch death metal\"],[\"dutch dnb\"],[\"dutch edm\"],[\"dutch folk\"],[\"dutch hip hop\"],[\"dutch house\"],[\"dutch indie\"],[\"dutch jazz\"],[\"dutch metal\"],[\"dutch pop\"],[\"dutch prog\"],[\"dutch rap pop\"],[\"dutch rock\"],[\"dutch trance\"],[\"e6fi\"],[\"early american folk\"],[\"early avant garde\"],[\"early modern classical\"],[\"early music\"],[\"early music choir\"],[\"early music ensemble\"],[\"early reggae\"],[\"early romantic era\"],[\"early synthpop\"],[\"early us punk\"],[\"east coast hip hop\"],[\"east coast reggae\"],[\"eastern bloc groove\"],[\"easy listening\"],[\"easycore\"],[\"eau claire indie\"],[\"ebm\"],[\"ecm-style jazz\"],[\"ectofolk\"],[\"ecuadorian pop\"],[\"edm\"],[\"edmonton indie\"],[\"egyptian pop\"],[\"egyptian traditional\"],[\"el paso indie\"],[\"electra\"],[\"electric bass\"],[\"electric blues\"],[\"electro\"],[\"electro house\"],[\"electro jazz\"],[\"electro latino\"],[\"electro swing\"],[\"electro-industrial\"],[\"electro-pop francais\"],[\"electroclash\"],[\"electrofox\"],[\"electronic djent\"],[\"electronic rock\"],[\"electronic trap\"],[\"electronica\"],[\"electronica argentina\"],[\"electropop\"],[\"electropowerpop\"],[\"emo\"],[\"emo mexicano\"],[\"emo punk\"],[\"emo rap\"],[\"emocore\"],[\"english baroque\"],[\"english indie rock\"],[\"english renaissance\"],[\"enka\"],[\"entehno\"],[\"environmental\"],[\"epic doom\"],[\"epicore\"],[\"erhu\"],[\"escape room\"],[\"esperanto\"],[\"essex indie\"],[\"estonian hip hop\"],[\"estonian pop\"],[\"ethereal wave\"],[\"etherpop\"],[\"ethio-jazz\"],[\"ethiopian pop\"],[\"ethnomusicology\"],[\"ethnotronica\"],[\"eugene indie\"],[\"euphoric hardstyle\"],[\"eurobeat\"],[\"eurodance\"],[\"europop\"],[\"euroska\"],[\"eurovision\"],[\"exotica\"],[\"experimental\"],[\"experimental ambient\"],[\"experimental big band\"],[\"experimental dub\"],[\"experimental folk\"],[\"experimental guitar\"],[\"experimental hip hop\"],[\"experimental house\"],[\"experimental indie\"],[\"experimental jazz\"],[\"experimental pop\"],[\"experimental rock\"],[\"experimental vocal\"],[\"fado\"],[\"family gospel\"],[\"faroese pop\"],[\"fast melodic punk\"],[\"fidget house\"],[\"filmi\"],[\"filter house\"],[\"filthstep\"],[\"final fantasy\"],[\"fingerstyle\"],[\"finnish alternative rock\"],[\"finnish classical\"],[\"finnish contemporary classical\"],[\"finnish death metal\"],[\"finnish edm\"],[\"finnish hard rock\"],[\"finnish heavy metal\"],[\"finnish metal\"],[\"finnish power metal\"],[\"finnish soul\"],[\"flamenco\"],[\"flamenco guitar\"],[\"flick hop\"],[\"flint hip hop\"],[\"float house\"],[\"florida death metal\"],[\"florida rap\"],[\"fluxwork\"],[\"fo jing\"],[\"focus\"],[\"focus beats\"],[\"focus trance\"],[\"folclor afrocolombiano\"],[\"folclor colombiano\"],[\"folclore extremeno\"],[\"folclore jujeno\"],[\"folclore navarra\"],[\"folclore salteno\"],[\"folclore tucumano\"],[\"folk\"],[\"folk metal\"],[\"folk punk\"],[\"folk rock\"],[\"folk rock italiano\"],[\"folk-pop\"],[\"folklore argentino\"],[\"folklore boliviano\"],[\"folklore chileno\"],[\"folklore ecuatoriano\"],[\"folklore peruano\"],[\"folklore venezolano\"],[\"folklore veracruzano\"],[\"folkmusik\"],[\"folktronica\"],[\"footwork\"],[\"forro\"],[\"forro tradicional\"],[\"fort worth indie\"],[\"fourth world\"],[\"francoton\"],[\"freak folk\"],[\"freakbeat\"],[\"free folk\"],[\"free improvisation\"],[\"free jazz\"],[\"freestyle\"],[\"french baroque\"],[\"french classical piano\"],[\"french contemporary classical\"],[\"french death metal\"],[\"french dnb\"],[\"french hip hop\"],[\"french indie folk\"],[\"french indie pop\"],[\"french indietronica\"],[\"french jazz\"],[\"french metal\"],[\"french movie tunes\"],[\"french opera\"],[\"french orchestra\"],[\"french pop\"],[\"french post-punk\"],[\"french psychedelic\"],[\"french reggae\"],[\"french rock\"],[\"french romanticism\"],[\"french shoegaze\"],[\"french soundtrack\"],[\"french synthpop\"],[\"french techno\"],[\"frenchcore\"],[\"full on\"],[\"funana\"],[\"funeral doom\"],[\"funk\"],[\"funk 150 bpm\"],[\"funk carioca\"],[\"funk das antigas\"],[\"funk metal\"],[\"funk mexicano\"],[\"funk ostentacao\"],[\"funk paulista\"],[\"funk pop\"],[\"funk rock\"],[\"funky breaks\"],[\"funky tech house\"],[\"future bass\"],[\"future funk\"],[\"future garage\"],[\"future house\"],[\"future rock\"],[\"futurepop\"],[\"g funk\"],[\"gabba\"],[\"gabonese pop\"],[\"gaian doom\"],[\"gainesville indie\"],[\"gaita zuliana\"],[\"galante era\"],[\"gamelan\"],[\"gaming dubstep\"],[\"gaming edm\"],[\"gangster rap\"],[\"garage house\"],[\"garage pop\"],[\"garage psych\"],[\"garage punk\"],[\"garage punk blues\"],[\"garage rock\"],[\"garage rock revival\"],[\"gauze pop\"],[\"gbvfi\"],[\"geek folk\"],[\"geek rock\"],[\"georgian folk\"],[\"german alternative rock\"],[\"german baroque\"],[\"german choir\"],[\"german classical piano\"],[\"german country\"],[\"german dance\"],[\"german hard rock\"],[\"german heavy metal\"],[\"german house\"],[\"german indie\"],[\"german jazz\"],[\"german literature\"],[\"german metal\"],[\"german oi\"],[\"german opera\"],[\"german orchestra\"],[\"german pop\"],[\"german pop rock\"],[\"german post-hardcore\"],[\"german power metal\"],[\"german punk\"],[\"german renaissance\"],[\"german rock\"],[\"german romanticism\"],[\"german show tunes\"],[\"german soundtrack\"],[\"german techno\"],[\"german thrash metal\"],[\"german trance\"],[\"german underground rap\"],[\"ghanaian hip hop\"],[\"ghanaian traditional\"],[\"ghazal\"],[\"ghent indie\"],[\"girl group\"],[\"glam metal\"],[\"glam punk\"],[\"glam rock\"],[\"glee club\"],[\"glitch\"],[\"glitch hop\"],[\"glitch pop\"],[\"glitchcore\"],[\"go-go\"],[\"goregrind\"],[\"gospel\"],[\"gospel antigas\"],[\"gospel blues\"],[\"gospel italiano\"],[\"gospel r&b\"],[\"gospel rap\"],[\"gospel singers\"],[\"gospel soul\"],[\"gothabilly\"],[\"gothenburg indie\"],[\"gothenburg metal\"],[\"gothic alternative\"],[\"gothic americana\"],[\"gothic black metal\"],[\"gothic metal\"],[\"gothic post-punk\"],[\"gothic rock\"],[\"gothic symphonic metal\"],[\"gqom\"],[\"grand rapids indie\"],[\"grave wave\"],[\"greek clarinet\"],[\"greek contemporary classical\"],[\"greek folk\"],[\"greek guitar\"],[\"greek house\"],[\"greek jazz\"],[\"greek pop\"],[\"greek swing\"],[\"gregorian chant\"],[\"grime\"],[\"grindcore\"],[\"griot\"],[\"groove metal\"],[\"groove room\"],[\"grunge\"],[\"grunge pop\"],[\"grupera\"],[\"gruperas inmortales\"],[\"guadalajara indie\"],[\"guam indie\"],[\"guaracha\"],[\"guatemalan pop\"],[\"guidance\"],[\"guinean pop\"],[\"guitarra argentina\"],[\"guitarra clasica\"],[\"guitarra portuguesa\"],[\"gujarati garba\"],[\"gujarati pop\"],[\"guzheng\"],[\"gymcore\"],[\"gypsy\"],[\"gypsy jazz\"],[\"gypsy punk\"],[\"haitian traditional\"],[\"halifax indie\"],[\"halloween\"],[\"hamburg electronic\"],[\"hammered dulcimer\"],[\"hammond organ\"],[\"hands up\"],[\"hangpan\"],[\"happy hardcore\"],[\"hard alternative\"],[\"hard bop\"],[\"hard minimal techno\"],[\"hard rock\"],[\"hard rock brasileiro\"],[\"hardcore\"],[\"hardcore hip hop\"],[\"hardcore punk\"],[\"hardcore techno\"],[\"hardstyle\"],[\"harlem hip hop\"],[\"harlem renaissance\"],[\"harmonica blues\"],[\"harmonica jazz\"],[\"harp\"],[\"harpsichord\"],[\"haryanvi pop\"],[\"hauntology\"],[\"hawaiian\"],[\"hawaiian hip hop\"],[\"hawaiian indie\"],[\"healing\"],[\"heartland rock\"],[\"hi-nrg\"],[\"highlife\"],[\"hindi hip hop\"],[\"hindi indie\"],[\"hindustani classical\"],[\"hindustani instrumental\"],[\"hindustani vocal\"],[\"hip hop\"],[\"hip hop cubano\"],[\"hip house\"],[\"hip pop\"],[\"hiplife\"],[\"histoire pour enfants\"],[\"historic classical performance\"],[\"historic orchestral performance\"],[\"historic piano performance\"],[\"historic string quartet\"],[\"historical keyboard\"],[\"historically informed performance\"],[\"hoerspiel\"],[\"hokkien pop\"],[\"hollywood\"],[\"hong kong hip hop\"],[\"hong kong indie\"],[\"hong kong rock\"],[\"honky tonk\"],[\"honky-tonk piano\"],[\"hopebeat\"],[\"horror punk\"],[\"horror synth\"],[\"horrorcore\"],[\"house\"],[\"houston rap\"],[\"huapango\"],[\"huayno\"],[\"hula\"],[\"humppa\"],[\"hungarian choir\"],[\"hungarian classical performance\"],[\"hungarian classical piano\"],[\"hungarian contemporary classical\"],[\"hungarian edm\"],[\"hungarian folk\"],[\"hungarian pop\"],[\"hungarian rock\"],[\"hungarian techno\"],[\"hurdy-gurdy\"],[\"hyperpop\"],[\"hyphy\"],[\"icelandic classical\"],[\"icelandic electronic\"],[\"icelandic experimental\"],[\"icelandic folk\"],[\"icelandic indie\"],[\"icelandic jazz\"],[\"icelandic pop\"],[\"icelandic rock\"],[\"idaho indie\"],[\"idol\"],[\"idol rock\"],[\"ilahiler\"],[\"ilocano pop\"],[\"impressionism\"],[\"indian classical\"],[\"indian edm\"],[\"indian folk\"],[\"indian fusion\"],[\"indian indie\"],[\"indian instrumental\"],[\"indian jazz\"],[\"indiana hip hop\"],[\"indie anthem-folk\"],[\"indie cafe pop\"],[\"indie deutschrap\"],[\"indie dream pop\"],[\"indie electronica\"],[\"indie electropop\"],[\"indie folk\"],[\"indie game soundtrack\"],[\"indie garage rock\"],[\"indie hip hop\"],[\"indie jazz\"],[\"indie pop\"],[\"indie pop rap\"],[\"indie poptimism\"],[\"indie psych-pop\"],[\"indie punk\"],[\"indie quebecois\"],[\"indie r&b\"],[\"indie rock\"],[\"indie rock mexicano\"],[\"indie rockism\"],[\"indie shoegaze\"],[\"indie singer-songwriter\"],[\"indie soul\"],[\"indie surf\"],[\"indie triste\"],[\"indiecoustica\"],[\"indietronica\"],[\"indonesian hip hop\"],[\"indonesian indie\"],[\"indonesian pop\"],[\"indonesian r&b\"],[\"indonesian worship\"],[\"industrial\"],[\"industrial hardcore\"],[\"industrial hip hop\"],[\"industrial metal\"],[\"industrial rock\"],[\"indy indie\"],[\"instrumental acoustic guitar\"],[\"instrumental bluegrass\"],[\"instrumental funk\"],[\"instrumental grime\"],[\"instrumental math rock\"],[\"instrumental post-rock\"],[\"instrumental progressive metal\"],[\"instrumental rock\"],[\"instrumental soul\"],[\"instrumental stoner rock\"],[\"instrumental surf\"],[\"intelligent dance music\"],[\"iowa hip hop\"],[\"irish accordion\"],[\"irish ballad\"],[\"irish banjo\"],[\"irish classical\"],[\"irish country\"],[\"irish dance\"],[\"irish fiddle\"],[\"irish folk\"],[\"irish hip hop\"],[\"irish indie\"],[\"irish metal\"],[\"irish pop\"],[\"irish pub song\"],[\"irish rock\"],[\"irish singer-songwriter\"],[\"iskelma\"],[\"islamic recitation\"],[\"isle of wight indie\"],[\"israeli classical\"],[\"israeli classical piano\"],[\"israeli folk\"],[\"israeli hip hop\"],[\"israeli mediterranean\"],[\"israeli pop\"],[\"israeli rock\"],[\"israeli singer-songwriter\"],[\"israeli techno\"],[\"italian adult pop\"],[\"italian baritone\"],[\"italian baroque\"],[\"italian baroque ensemble\"],[\"italian bass\"],[\"italian blues\"],[\"italian classical guitar\"],[\"italian classical piano\"],[\"italian contemporary jazz\"],[\"italian disco\"],[\"italian gothic\"],[\"italian gothic metal\"],[\"italian indie pop\"],[\"italian jazz\"],[\"italian library music\"],[\"italian mandolin\"],[\"italian metal\"],[\"italian mezzo-soprano\"],[\"italian modern prog\"],[\"italian opera\"],[\"italian orchestra\"],[\"italian pop rock\"],[\"italian power metal\"],[\"italian progressive metal\"],[\"italian progressive rock\"],[\"italian renaissance\"],[\"italian romanticism\"],[\"italian soprano\"],[\"italian soundtrack\"],[\"italian techno\"],[\"italian tenor\"],[\"italian violin\"],[\"italo dance\"],[\"italo house\"],[\"j-acoustic\"],[\"j-ambient\"],[\"j-dance\"],[\"j-division\"],[\"j-idol\"],[\"j-metal\"],[\"j-pixie\"],[\"j-pop\"],[\"j-pop girl group\"],[\"j-poprock\"],[\"j-punk\"],[\"j-reggae\"],[\"j-rock\"],[\"jacksonville indie\"],[\"jam band\"],[\"jamgrass\"],[\"jamtronica\"],[\"jangle pop\"],[\"japanese alternative rock\"],[\"japanese chillhop\"],[\"japanese city pop\"],[\"japanese classical\"],[\"japanese classical performance\"],[\"japanese classical piano\"],[\"japanese concert band\"],[\"japanese dream pop\"],[\"japanese electronic\"],[\"japanese electropop\"],[\"japanese emo\"],[\"japanese experimental\"],[\"japanese folk\"],[\"japanese garage rock\"],[\"japanese girl punk\"],[\"japanese heavy metal\"],[\"japanese idm\"],[\"japanese indie folk\"],[\"japanese indie rock\"],[\"japanese instrumental\"],[\"japanese jazz\"],[\"japanese jazz fusion\"],[\"japanese jazztronica\"],[\"japanese metalcore\"],[\"japanese new wave\"],[\"japanese piano\"],[\"japanese pop punk\"],[\"japanese post-hardcore\"],[\"japanese power metal\"],[\"japanese prog\"],[\"japanese psychedelic\"],[\"japanese punk rock\"],[\"japanese r&b\"],[\"japanese rockabilly\"],[\"japanese singer-songwriter\"],[\"japanese soundtrack\"],[\"japanese traditional\"],[\"japanese vgm\"],[\"japanese vocal jazz\"],[\"jawaiian\"],[\"jazz\"],[\"jazz accordion\"],[\"jazz blues\"],[\"jazz boom bap\"],[\"jazz brass\"],[\"jazz chileno\"],[\"jazz clarinet\"],[\"jazz colombiano\"],[\"jazz cubano\"],[\"jazz double bass\"],[\"jazz drums\"],[\"jazz flute\"],[\"jazz funk\"],[\"jazz fusion\"],[\"jazz guitar\"],[\"jazz harp\"],[\"jazz metal\"],[\"jazz mexicano\"],[\"jazz orchestra\"],[\"jazz organ\"],[\"jazz piano\"],[\"jazz pop\"],[\"jazz quartet\"],[\"jazz rap\"],[\"jazz rock\"],[\"jazz saxophone\"],[\"jazz trio\"],[\"jazz trombone\"],[\"jazz trumpet\"],[\"jazz tuba\"],[\"jazz venezolano\"],[\"jazz vibraphone\"],[\"jazz violin\"],[\"jazztronica\"],[\"jewish cantorial\"],[\"jewish hip hop\"],[\"jig and reel\"],[\"jordanian pop\"],[\"joropo\"],[\"jovem guarda\"],[\"jug band\"],[\"juju\"],[\"jump blues\"],[\"jump up\"],[\"k-indie\"],[\"k-pop\"],[\"k-pop boy group\"],[\"k-pop girl group\"],[\"k-rap\"],[\"kabarett\"],[\"kabyle\"],[\"kaneka\"],[\"kannada bhava geethe\"],[\"kansas city hip hop\"],[\"kashmiri pop\"],[\"kawaii future bass\"],[\"kawaii metal\"],[\"kayokyoku\"],[\"kc indie\"],[\"kent indie\"],[\"kentucky hip hop\"],[\"kentucky indie\"],[\"kentucky metal\"],[\"kentucky mountain folk\"],[\"kentucky punk\"],[\"kentucky roots\"],[\"keroncong\"],[\"khaleeji iraqi\"],[\"khmer\"],[\"kids dance party\"],[\"kindie rock\"],[\"kingston on indie\"],[\"kirtan\"],[\"kiwi rock\"],[\"kizomba antigas\"],[\"kleine hoerspiel\"],[\"klezmer\"],[\"knoxville indie\"],[\"kodomo no ongaku\"],[\"kolsche karneval\"],[\"komedi\"],[\"kompa\"],[\"kora\"],[\"korean classical performance\"],[\"korean classical piano\"],[\"korean indie rock\"],[\"korean mask singer\"],[\"korean pop\"],[\"korean r&b\"],[\"korean trap\"],[\"koto\"],[\"krautrock\"],[\"kundiman\"],[\"la indie\"],[\"la pop\"],[\"laboratorio\"],[\"lafayette indie\"],[\"laiko\"],[\"lancashire indie\"],[\"lancaster pa indie\"],[\"late romantic era\"],[\"latin\"],[\"latin afrobeat\"],[\"latin alternative\"],[\"latin american classical piano\"],[\"latin arena pop\"],[\"latin christian\"],[\"latin classical\"],[\"latin funk\"],[\"latin hip hop\"],[\"latin house\"],[\"latin jazz\"],[\"latin metal\"],[\"latin pop\"],[\"latin rock\"],[\"latin ska\"],[\"latin soundtrack\"],[\"latin talent show\"],[\"latin tech house\"],[\"latin viral pop\"],[\"latin worship\"],[\"latincore\"],[\"latino comedy\"],[\"latintronica\"],[\"latinx alternative\"],[\"latvian pop\"],[\"lds\"],[\"lds youth\"],[\"lebanese pop\"],[\"leicester indie\"],[\"lexington ky indie\"],[\"lgbtq+ hip hop\"],[\"library music\"],[\"liedermacher\"],[\"light music\"],[\"lilith\"],[\"liquid funk\"],[\"lithuanian electronic\"],[\"liverpool indie\"],[\"livetronica\"],[\"lldm\"],[\"lo star\"],[\"lo-fi\"],[\"lo-fi beats\"],[\"lo-fi brasileiro\"],[\"lo-fi chill\"],[\"lo-fi cover\"],[\"lo-fi emo\"],[\"lo-fi house\"],[\"lo-fi indie\"],[\"lo-fi vgm\"],[\"london rap\"],[\"louisiana blues\"],[\"louisiana metal\"],[\"louisville indie\"],[\"louisville underground\"],[\"lounge\"],[\"louvor\"],[\"lovers rock\"],[\"lullaby\"],[\"lund indie\"],[\"lute\"],[\"macedonian folk\"],[\"madchester\"],[\"madrigal\"],[\"magyar alternative\"],[\"maine hip hop\"],[\"maine indie\"],[\"mainland chinese pop\"],[\"makossa\"],[\"malaysian mandopop\"],[\"malaysian pop\"],[\"malian blues\"],[\"mallet\"],[\"malmo indie\"],[\"mambo\"],[\"manchester hip hop\"],[\"manchester indie\"],[\"mande pop\"],[\"mandolin\"],[\"mandopop\"],[\"manguebeat\"],[\"manila sound\"],[\"manitoba indie\"],[\"mantra\"],[\"marathi pop\"],[\"marathi traditional\"],[\"marching band\"],[\"mariachi\"],[\"mariachi cristiano\"],[\"marimba orquesta\"],[\"martial industrial\"],[\"mashup\"],[\"math rock\"],[\"mathcore\"],[\"mbalax\"],[\"medieval\"],[\"medieval folk\"],[\"medieval rock\"],[\"meditation\"],[\"melancholia\"],[\"melbourne bounce\"],[\"melbourne bounce international\"],[\"melbourne indie\"],[\"mellow gold\"],[\"melodic death metal\"],[\"melodic deathcore\"],[\"melodic dubstep\"],[\"melodic groove metal\"],[\"melodic hard rock\"],[\"melodic hardcore\"],[\"melodic metal\"],[\"melodic metalcore\"],[\"melodic power metal\"],[\"melodic rap\"],[\"melodic thrash\"],[\"meme rap\"],[\"memphis americana\"],[\"memphis blues\"],[\"memphis hip hop\"],[\"memphis indie\"],[\"memphis soul\"],[\"mento\"],[\"merengue\"],[\"merengue tipico\"],[\"merseybeat\"],[\"messianic praise\"],[\"metal\"],[\"metal guitar\"],[\"metal mineiro\"],[\"metalcore\"],[\"metropopolis\"],[\"mexican classic rock\"],[\"mexican classical\"],[\"mexican hip hop\"],[\"mexican indie\"],[\"mexican pop\"],[\"mexican pop punk\"],[\"mexican rock\"],[\"mexican rock-and-roll\"],[\"mexican son\"],[\"mexican traditional\"],[\"miami bass\"],[\"miami hip hop\"],[\"miami indie\"],[\"miami metal\"],[\"michigan indie\"],[\"microhouse\"],[\"microtonal\"],[\"middle earth\"],[\"middle east hip hop\"],[\"middle eastern traditional\"],[\"midwest americana\"],[\"midwest emo\"],[\"military cadence\"],[\"military rap\"],[\"milwaukee indie\"],[\"mindfulness\"],[\"minecraft\"],[\"minimal melodic techno\"],[\"minimal tech house\"],[\"minimal techno\"],[\"minimal wave\"],[\"minimalism\"],[\"minneapolis indie\"],[\"minneapolis metal\"],[\"minneapolis punk\"],[\"minneapolis sound\"],[\"minnesota hip hop\"],[\"mississippi hip hop\"],[\"mississippi indie\"],[\"mizrahi\"],[\"mod revival\"],[\"modern alternative pop\"],[\"modern alternative rock\"],[\"modern big band\"],[\"modern blues\"],[\"modern blues rock\"],[\"modern bollywood\"],[\"modern country rock\"],[\"modern dream pop\"],[\"modern folk rock\"],[\"modern funk\"],[\"modern hard rock\"],[\"modern indie pop\"],[\"modern jazz piano\"],[\"modern jazz trio\"],[\"modern old-time\"],[\"modern performance\"],[\"modern power pop\"],[\"modern psychedelic folk\"],[\"modern reggae\"],[\"modern rock\"],[\"modern salsa\"],[\"modern ska punk\"],[\"modern southern rock\"],[\"modern string quartet\"],[\"modern swing\"],[\"modern uplift\"],[\"modular synth\"],[\"moldovan pop\"],[\"mollywood\"],[\"mongolian hip hop\"],[\"mongolian pop\"],[\"monterrey indie\"],[\"montreal indie\"],[\"moog\"],[\"moombahton\"],[\"morna\"],[\"motivation\"],[\"motown\"],[\"mountain dulcimer\"],[\"movie tunes\"],[\"mpb\"],[\"music box\"],[\"music hall\"],[\"musica afroperuana\"],[\"musica alagoana\"],[\"musica andina\"],[\"musica andina colombiana\"],[\"musica antigua\"],[\"musica aragonesa\"],[\"musica ayacuchana\"],[\"musica canaria\"],[\"musica costarricense\"],[\"musica costena\"],[\"musica cristiana guatemalteca\"],[\"musica de fondo\"],[\"musica gaucha tradicionalista\"],[\"musica hondurena\"],[\"musica infantil\"],[\"musica jibara\"],[\"musica juiz-forana\"],[\"musica llanera\"],[\"musica nicaraguense\"],[\"musica para criancas\"],[\"musica para ninos\"],[\"musica paraibana\"],[\"musica piemonteisa\"],[\"musica popular colombiana\"],[\"musica popular mineira\"],[\"musica popular paraense\"],[\"musica potosina\"],[\"musica prehispanica\"],[\"musica sarda\"],[\"musica tradicional cubana\"],[\"musica tropical guatemalteca\"],[\"musical advocacy\"],[\"musikkorps\"],[\"musique concrete\"],[\"musique peule\"],[\"musique pour enfant quebecois\"],[\"musique pour enfants\"],[\"musique touareg\"],[\"muzica populara\"],[\"muzika l'yeladim\"],[\"naija worship\"],[\"nantes indie\"],[\"narodna muzika\"],[\"nashville americana\"],[\"nashville hip hop\"],[\"nashville indie\"],[\"nashville singer-songwriter\"],[\"nashville sound\"],[\"native american\"],[\"native american contemporary\"],[\"native american flute\"],[\"native american hip hop\"],[\"native american spiritual\"],[\"navajo\"],[\"nederlandse hardstyle\"],[\"nederpop\"],[\"neo classical metal\"],[\"neo kyma\"],[\"neo mellow\"],[\"neo r&b\"],[\"neo soul\"],[\"neo-classical\"],[\"neo-kraut\"],[\"neo-pagan\"],[\"neo-progressive\"],[\"neo-psychedelic\"],[\"neo-rockabilly\"],[\"neo-singer-songwriter\"],[\"neo-synthpop\"],[\"neo-trad metal\"],[\"neo-traditional bluegrass\"],[\"neo-traditional country\"],[\"neoclassical darkwave\"],[\"neoclassicism\"],[\"neofolk\"],[\"neon pop punk\"],[\"neotango\"],[\"nepali indie\"],[\"nepali pop\"],[\"nerdcore\"],[\"neue deutsche harte\"],[\"neue deutsche todeskunst\"],[\"neue deutsche welle\"],[\"neurofunk\"],[\"new age\"],[\"new age piano\"],[\"new americana\"],[\"new beat\"],[\"new comedy\"],[\"new england americana\"],[\"new england emo\"],[\"new french touch\"],[\"new isolationism\"],[\"new jack swing\"],[\"new jersey hardcore\"],[\"new jersey indie\"],[\"new jersey punk\"],[\"new jersey rap\"],[\"new mexico music\"],[\"new orleans blues\"],[\"new orleans funk\"],[\"new orleans indie\"],[\"new orleans jazz\"],[\"new orleans rap\"],[\"new rave\"],[\"new romantic\"],[\"new tribe\"],[\"new wave\"],[\"new wave of thrash metal\"],[\"new wave pop\"],[\"new weird america\"],[\"new york death metal\"],[\"new york drill\"],[\"new zealand classical\"],[\"newcastle indie\"],[\"newcastle nsw indie\"],[\"nigerian hip hop\"],[\"nigerian pop\"],[\"nightcore\"],[\"nightrun\"],[\"ninja\"],[\"nintendocore\"],[\"nisiotika\"],[\"nl folk\"],[\"no wave\"],[\"noise pop\"],[\"noise punk\"],[\"noise rock\"],[\"nordic classical piano\"],[\"nordic contemporary classical\"],[\"nordic folk\"],[\"nordic house\"],[\"nordic orchestra\"],[\"nordic post-rock\"],[\"nordic soundtrack\"],[\"norman ok indie\"],[\"norsk lovsang\"],[\"norteno\"],[\"norteno-sax\"],[\"north carolina emo\"],[\"north carolina hip hop\"],[\"north carolina indie\"],[\"north carolina metal\"],[\"north carolina roots\"],[\"north east england indie\"],[\"northern irish indie\"],[\"northern irish punk\"],[\"northern soul\"],[\"norwegian black metal\"],[\"norwegian choir\"],[\"norwegian classical\"],[\"norwegian contemporary jazz\"],[\"norwegian death metal\"],[\"norwegian experimental\"],[\"norwegian hip hop\"],[\"norwegian indie\"],[\"norwegian jazz\"],[\"norwegian metal\"],[\"norwegian pop\"],[\"norwegian pop rap\"],[\"norwegian punk rock\"],[\"norwegian rock\"],[\"norwegian singer-songwriter\"],[\"norwegian space disco\"],[\"nottingham indie\"],[\"nouvelle chanson francaise\"],[\"nova canco\"],[\"nova mpb\"],[\"nova musica pernambucana\"],[\"novelty\"],[\"nu age\"],[\"nu disco\"],[\"nu gaze\"],[\"nu jazz\"],[\"nu metal\"],[\"nu skool breaks\"],[\"nu-cumbia\"],[\"nu-metalcore\"],[\"nubian traditional\"],[\"nueva cancion\"],[\"nueva ola chilena\"],[\"nueva ola peruana\"],[\"nuevo flamenco\"],[\"nuevo folklore mexicano\"],[\"nuevo regional mexicano\"],[\"nuevo tango\"],[\"nursery\"],[\"nwobhm\"],[\"nwothm\"],[\"ny roots\"],[\"nyc pop\"],[\"nyc rap\"],[\"nyhc\"],[\"nz christian\"],[\"nz folk\"],[\"nz hardcore\"],[\"nz indie\"],[\"nz pop\"],[\"nz punk\"],[\"nz reggae\"],[\"nz singer-songwriter\"],[\"oakland hip hop\"],[\"oakland indie\"],[\"oc indie\"],[\"oc rap\"],[\"oceania soundtrack\"],[\"ohio hip hop\"],[\"ohio indie\"],[\"oi\"],[\"ok indie\"],[\"okc indie\"],[\"okinawan pop\"],[\"oklahoma country\"],[\"old school dancehall\"],[\"old school hip hop\"],[\"old school rap francais\"],[\"old school thrash\"],[\"old school uk hip hop\"],[\"old west\"],[\"old-time\"],[\"old-time fiddle\"],[\"olympia wa indie\"],[\"omaha indie\"],[\"one-person band\"],[\"ontario indie\"],[\"opera\"],[\"opera chorus\"],[\"opera metal\"],[\"operatic pop\"],[\"operetta\"],[\"opm\"],[\"oratory\"],[\"orchestra\"],[\"orchestral performance\"],[\"orebro indie\"],[\"organic ambient\"],[\"organic electronic\"],[\"organic house\"],[\"orgcore\"],[\"oriental classical\"],[\"orkney and shetland folk\"],[\"orlando indie\"],[\"orquesta tipica\"],[\"orthodox chant\"],[\"oshare kei\"],[\"otacore\"],[\"oth indie\"],[\"ottawa indie\"],[\"ottawa rap\"],[\"oud\"],[\"outer hip hop\"],[\"outlaw country\"],[\"outsider\"],[\"outsider house\"],[\"oxford choir\"],[\"oxford indie\"],[\"p funk\"],[\"pagan black metal\"],[\"pagode\"],[\"pagode baiano\"],[\"paisley underground\"],[\"pakistani folk\"],[\"pakistani hip hop\"],[\"pakistani pop\"],[\"palestinian pop\"],[\"palm desert scene\"],[\"panamanian pop\"],[\"panamanian rock\"],[\"panpipe\"],[\"papuri\"],[\"parody\"],[\"partido alto\"],[\"partyschlager\"],[\"pei indie\"],[\"permanent wave\"],[\"perreo\"],[\"persian pop\"],[\"persian traditional\"],[\"perth indie\"],[\"peruvian hip hop\"],[\"peruvian rock\"],[\"pet calming\"],[\"philly indie\"],[\"philly rap\"],[\"philly soul\"],[\"phoenix indie\"],[\"phonk\"],[\"pianissimo\"],[\"piano blues\"],[\"piano cover\"],[\"piano mpb\"],[\"piano rock\"],[\"pibroch\"],[\"piedmont blues\"],[\"pinoy hip hop\"],[\"pinoy indie\"],[\"pinoy pop punk\"],[\"pinoy praise\"],[\"pinoy r&b\"],[\"pinoy reggae\"],[\"pinoy rock\"],[\"pinoy traditional\"],[\"pinoy trap\"],[\"pirate\"],[\"pittsburgh indie\"],[\"pittsburgh rap\"],[\"pittsburgh rock\"],[\"pixie\"],[\"plunderphonics\"],[\"poetry\"],[\"polca paraguaya\"],[\"polish blues\"],[\"polish classical\"],[\"polish classical piano\"],[\"polish contemporary classical\"],[\"polish jazz\"],[\"polish modern jazz\"],[\"polish pop\"],[\"polish post-rock\"],[\"polish reggae\"],[\"polish rock\"],[\"political hip hop\"],[\"polka\"],[\"polynesian hip hop\"],[\"polynesian pop\"],[\"polyphony\"],[\"pony\"],[\"pop\"],[\"pop argentino\"],[\"pop chileno\"],[\"pop dance\"],[\"pop edm\"],[\"pop electronico\"],[\"pop emo\"],[\"pop flamenco\"],[\"pop folk\"],[\"pop house\"],[\"pop nacional\"],[\"pop nacional antigas\"],[\"pop peruano\"],[\"pop punk\"],[\"pop quebecois\"],[\"pop r&b\"],[\"pop rap\"],[\"pop reggaeton\"],[\"pop rock\"],[\"pop rock brasileiro\"],[\"pop romantico\"],[\"pop soul\"],[\"pop venezolano\"],[\"pop violin\"],[\"popgaze\"],[\"popping\"],[\"pops orchestra\"],[\"popwave\"],[\"pornogrind\"],[\"porro\"],[\"portland hip hop\"],[\"portland indie\"],[\"portland metal\"],[\"portland punk\"],[\"portuguese early music\"],[\"post-disco\"],[\"post-disco soul\"],[\"post-doom metal\"],[\"post-grunge\"],[\"post-hardcore\"],[\"post-metal\"],[\"post-minimalism\"],[\"post-post-hardcore\"],[\"post-punk\"],[\"post-punk argentina\"],[\"post-rock\"],[\"post-romantic era\"],[\"post-screamo\"],[\"post-teen pop\"],[\"power metal\"],[\"power pop\"],[\"power thrash\"],[\"power-pop punk\"],[\"praise\"],[\"prepared piano\"],[\"preschool children's music\"],[\"prog quebec\"],[\"progressive alternative\"],[\"progressive bluegrass\"],[\"progressive deathcore\"],[\"progressive electro house\"],[\"progressive groove metal\"],[\"progressive house\"],[\"progressive jazz fusion\"],[\"progressive metal\"],[\"progressive metalcore\"],[\"progressive post-hardcore\"],[\"progressive power metal\"],[\"progressive psytrance\"],[\"progressive rock\"],[\"progressive sludge\"],[\"progressive trance\"],[\"progressive trance house\"],[\"progressive uplifting trance\"],[\"proto-rap\"],[\"proto-techno\"],[\"protopunk\"],[\"psalmen\"],[\"psicodelia brasileira\"],[\"psybass\"],[\"psychedelic blues-rock\"],[\"psychedelic doom\"],[\"psychedelic folk\"],[\"psychedelic folk rock\"],[\"psychedelic hip hop\"],[\"psychedelic pop\"],[\"psychedelic punk\"],[\"psychedelic rock\"],[\"psychedelic soul\"],[\"psychedelic trance\"],[\"psychill\"],[\"psychobilly\"],[\"pub rock\"],[\"puerto rican folk\"],[\"puerto rican pop\"],[\"puerto rican rock\"],[\"punjabi folk\"],[\"punjabi hip hop\"],[\"punjabi pop\"],[\"punk\"],[\"punk 'n' roll\"],[\"punk blues\"],[\"punk rock italiano\"],[\"punk rock mexicano\"],[\"punta\"],[\"purple sound\"],[\"qawwali\"],[\"quartetto d'archi\"],[\"quatuor a cordes\"],[\"quebec death metal\"],[\"quebec indie\"],[\"queens hip hop\"],[\"queer country\"],[\"queercore\"],[\"quiet storm\"],[\"quran\"],[\"r&b\"],[\"r&b en espanol\"],[\"rabindra sangeet\"],[\"radio symphony\"],[\"ragtime\"],[\"rai\"],[\"ranchera\"],[\"rap\"],[\"rap chileno\"],[\"rap conciencia\"],[\"rap conscient\"],[\"rap cristiano\"],[\"rap dominicano\"],[\"rap kreyol\"],[\"rap latina\"],[\"rap metal\"],[\"rap nacional antigo\"],[\"rap napoletano\"],[\"rap rock\"],[\"rap underground mexicano\"],[\"rare groove\"],[\"rave\"],[\"rawstyle\"],[\"reading\"],[\"reading indie\"],[\"rebel blues\"],[\"rebetiko\"],[\"recorder\"],[\"red dirt\"],[\"redneck\"],[\"reggae\"],[\"reggae en espanol\"],[\"reggae fusion\"],[\"reggae rock\"],[\"reggaeton\"],[\"reggaeton colombiano\"],[\"reggaeton cristiano\"],[\"reggaeton flow\"],[\"reggaeton mexicano\"],[\"regional mexican\"],[\"relaxative\"],[\"renaissance\"],[\"rennes indie\"],[\"retro metal\"],[\"retro soul\"],[\"rhode island indie\"],[\"rhode island rap\"],[\"rhythm and blues\"],[\"riddim\"],[\"rif\"],[\"riot grrrl\"],[\"ritmo kombina\"],[\"rochester mn indie\"],[\"rochester ny indie\"],[\"rock\"],[\"rock alternatif francais\"],[\"rock alternativo brasileiro\"],[\"rock andaluz\"],[\"rock baiano\"],[\"rock brasiliense\"],[\"rock chapin\"],[\"rock cristiano\"],[\"rock drums\"],[\"rock en espanol\"],[\"rock gaucho\"],[\"rock independant francais\"],[\"rock kapak\"],[\"rock keyboard\"],[\"rock nacional\"],[\"rock nacional brasileiro\"],[\"rock pernambucano\"],[\"rock progressif francais\"],[\"rock steady\"],[\"rock urbano mexicano\"],[\"rock-and-roll\"],[\"rockabilly\"],[\"rockabilly en espanol\"],[\"roda de samba\"],[\"romanian classical piano\"],[\"romanian electronic\"],[\"romanian folk\"],[\"romanian pop\"],[\"romanian rock\"],[\"romantico\"],[\"roots americana\"],[\"roots reggae\"],[\"roots rock\"],[\"roots worship\"],[\"rosary\"],[\"rumba\"],[\"rumba congolaise\"],[\"rune folk\"],[\"russian alternative rock\"],[\"russian ccm\"],[\"russian chanson\"],[\"russian choir\"],[\"russian classical piano\"],[\"russian dance\"],[\"russian edm\"],[\"russian folk\"],[\"russian folk rock\"],[\"russian jazz\"],[\"russian metal\"],[\"russian metalcore\"],[\"russian modern classical\"],[\"russian orchestra\"],[\"russian pop\"],[\"russian post-punk\"],[\"russian punk\"],[\"russian rock\"],[\"russian romanticism\"],[\"russian shoegaze\"],[\"russian trance\"],[\"rva indie\"],[\"rwandan traditional\"],[\"ryukyu ongaku\"],[\"sacramento hip hop\"],[\"sacramento indie\"],[\"sacred steel\"],[\"sad rap\"],[\"salsa\"],[\"salsa choke\"],[\"salsa colombiana\"],[\"salsa cubana\"],[\"salsa international\"],[\"salsa peruana\"],[\"salsa puertorriquena\"],[\"salsa venezolana\"],[\"samba\"],[\"samba de roda\"],[\"samba moderno\"],[\"samba-enredo\"],[\"samba-jazz\"],[\"samba-rock\"],[\"san antonio rap\"],[\"san diego indie\"],[\"san diego rap\"],[\"san marcos tx indie\"],[\"sandalwood\"],[\"sarod\"],[\"saskatchewan indie\"],[\"scam rap\"],[\"scandinavian r&b\"],[\"scandipop\"],[\"schlager\"],[\"scorecore\"],[\"scottish electronic\"],[\"scottish fiddle\"],[\"scottish folk\"],[\"scottish hip hop\"],[\"scottish indie\"],[\"scottish jazz\"],[\"scottish metal\"],[\"scottish new wave\"],[\"scottish rock\"],[\"scottish singer-songwriter\"],[\"scratch\"],[\"scream rap\"],[\"screamo\"],[\"seattle hip hop\"],[\"seattle indie\"],[\"second line\"],[\"sefardi\"],[\"serbian electronic\"],[\"serialism\"],[\"sertanejo\"],[\"sertanejo pop\"],[\"sertanejo tradicional\"],[\"sertanejo universitario\"],[\"sevdah\"],[\"sevillanas\"],[\"shaabi\"],[\"shabad\"],[\"shakuhachi\"],[\"shamanic\"],[\"shanty\"],[\"sheffield indie\"],[\"shibuya-kei\"],[\"shimmer pop\"],[\"shimmer psych\"],[\"shiver pop\"],[\"shoegaze\"],[\"show tunes\"],[\"shred\"],[\"shush\"],[\"sierreno\"],[\"singaporean mandopop\"],[\"singaporean pop\"],[\"singaporean singer-songwriter\"],[\"singer-songwriter\"],[\"singing bowl\"],[\"sitar\"],[\"ska\"],[\"ska argentino\"],[\"ska chileno\"],[\"ska jazz\"],[\"ska mexicano\"],[\"ska punk\"],[\"ska revival\"],[\"skate punk\"],[\"skiffle\"],[\"skramz\"],[\"sky room\"],[\"slack-key guitar\"],[\"slam poetry\"],[\"slamming deathcore\"],[\"slavic folk metal\"],[\"slayer\"],[\"slc indie\"],[\"sleaze rock\"],[\"sleep\"],[\"slovak electronic\"],[\"slovenian electronic\"],[\"slovenian metal\"],[\"slow game\"],[\"slowcore\"],[\"sludge metal\"],[\"small room\"],[\"smooth jazz\"],[\"smooth saxophone\"],[\"smooth soul\"],[\"soca\"],[\"socal pop punk\"],[\"social media pop\"],[\"soda pop\"],[\"soft rock\"],[\"solipsynthm\"],[\"son cubano\"],[\"son cubano clasico\"],[\"son jarocho\"],[\"sophisti-pop\"],[\"sotalaulut\"],[\"soukous\"],[\"soul\"],[\"soul blues\"],[\"soul flow\"],[\"soul jazz\"],[\"souldies\"],[\"sound\"],[\"sound art\"],[\"sound effects\"],[\"sound team\"],[\"soundtrack\"],[\"south african alternative\"],[\"south african choral\"],[\"south african country\"],[\"south african hip hop\"],[\"south african house\"],[\"south african jazz\"],[\"south african pop\"],[\"south african pop dance\"],[\"south african rock\"],[\"south carolina hip hop\"],[\"south carolina indie\"],[\"south carolina metal\"],[\"south dakota indie\"],[\"southampton indie\"],[\"southern americana\"],[\"southern gospel\"],[\"southern hip hop\"],[\"southern metal\"],[\"southern rock\"],[\"southern soul\"],[\"southern soul blues\"],[\"soviet synthpop\"],[\"sovietwave\"],[\"spa\"],[\"space age pop\"],[\"space ambient\"],[\"space rock\"],[\"spanish baroque\"],[\"spanish classical\"],[\"spanish classical piano\"],[\"spanish folk metal\"],[\"spanish hip hop\"],[\"spanish indie pop\"],[\"spanish invasion\"],[\"spanish metal\"],[\"spanish modern rock\"],[\"spanish new wave\"],[\"spanish noise pop\"],[\"spanish pop\"],[\"spanish pop rock\"],[\"spanish renaissance\"],[\"spanish rock\"],[\"spanish synthpop\"],[\"spanish techno\"],[\"speed garage\"],[\"speed metal\"],[\"speedcore\"],[\"spiritual hip hop\"],[\"spiritual jazz\"],[\"spirituals\"],[\"springfield mo indie\"],[\"spytrack\"],[\"st louis rap\"],[\"steampunk\"],[\"steel guitar\"],[\"steelpan\"],[\"stl indie\"],[\"stomp and flutter\"],[\"stomp and holler\"],[\"stomp and whittle\"],[\"stomp pop\"],[\"stoner metal\"],[\"stoner rock\"],[\"straight edge\"],[\"straight-ahead jazz\"],[\"street band\"],[\"street punk\"],[\"streichquartett\"],[\"stride\"],[\"string band\"],[\"string folk\"],[\"string orchestra\"],[\"string quartet\"],[\"strut\"],[\"substep\"],[\"sudanese pop\"],[\"sufi\"],[\"sufi chant\"],[\"sunshine pop\"],[\"supergroup\"],[\"surf music\"],[\"surf punk\"],[\"svensk progg\"],[\"swamp blues\"],[\"swamp pop\"],[\"swamp rock\"],[\"swancore\"],[\"swedish alternative rock\"],[\"swedish americana\"],[\"swedish black metal\"],[\"swedish choir\"],[\"swedish country\"],[\"swedish dancehall\"],[\"swedish death metal\"],[\"swedish doom metal\"],[\"swedish electronic\"],[\"swedish electropop\"],[\"swedish eurodance\"],[\"swedish garage rock\"],[\"swedish hard rock\"],[\"swedish hardcore\"],[\"swedish heavy metal\"],[\"swedish house\"],[\"swedish idol pop\"],[\"swedish indie folk\"],[\"swedish indie pop\"],[\"swedish indie rock\"],[\"swedish jazz\"],[\"swedish jazz orkester\"],[\"swedish melodic rock\"],[\"swedish metal\"],[\"swedish metalcore\"],[\"swedish pop\"],[\"swedish post-hardcore\"],[\"swedish power metal\"],[\"swedish prog\"],[\"swedish progressive metal\"],[\"swedish rock-and-roll\"],[\"swedish singer-songwriter\"],[\"swedish soul\"],[\"swedish stoner rock\"],[\"swedish synth\"],[\"swedish synthpop\"],[\"swedish tropical house\"],[\"swedish underground rap\"],[\"swing\"],[\"swing italiano\"],[\"swing revival\"],[\"swiss black metal\"],[\"swiss classical piano\"],[\"swiss country\"],[\"swiss metal\"],[\"swiss pop\"],[\"swiss rock\"],[\"swiss worship\"],[\"sydney indie\"],[\"symphonic black metal\"],[\"symphonic metal\"],[\"symphonic rock\"],[\"synth funk\"],[\"synthpop\"],[\"synthwave\"],[\"syrian pop\"],[\"tabla\"],[\"tagalog rap\"],[\"tagalog worship\"],[\"taiwan campus folk\"],[\"taiwan classical performance\"],[\"taiwan hip hop\"],[\"taiwan indie\"],[\"taiwan pop\"],[\"taiwan singer-songwriter\"],[\"tajik pop\"],[\"talent show\"],[\"tamaulipas indie\"],[\"tamaulipas rap\"],[\"tamborazo\"],[\"tamil hip hop\"],[\"tamil pop\"],[\"tamil worship\"],[\"tampa indie\"],[\"tango\"],[\"tango cancion\"],[\"tape club\"],[\"tech house\"],[\"technical death metal\"],[\"technical deathcore\"],[\"technical groove metal\"],[\"technical melodic death metal\"],[\"technical thrash\"],[\"techno\"],[\"techno kayo\"],[\"tecnobanda\"],[\"teen pop\"],[\"tejano\"],[\"tempe indie\"],[\"tennessee hip hop\"],[\"tennessee metal\"],[\"tex-mex\"],[\"texas blues\"],[\"texas country\"],[\"texas latin rap\"],[\"texas pop punk\"],[\"texas punk\"],[\"thai folk\"],[\"thai folk rock\"],[\"thai idol\"],[\"thai indie rock\"],[\"thai pop\"],[\"thall\"],[\"theme\"],[\"theremin\"],[\"thrash core\"],[\"thrash metal\"],[\"timba\"],[\"tin pan alley\"],[\"tipico\"],[\"tolkien metal\"],[\"tollywood\"],[\"tone\"],[\"torch song\"],[\"toronto indie\"],[\"toronto rap\"],[\"trad jazz catala\"],[\"traditional bluegrass\"],[\"traditional blues\"],[\"traditional british folk\"],[\"traditional country\"],[\"traditional folk\"],[\"traditional funk\"],[\"traditional rockabilly\"],[\"traditional ska\"],[\"traditional soul\"],[\"trance\"],[\"trance mexicano\"],[\"trancecore\"],[\"transpop\"],[\"trap\"],[\"trap argentino\"],[\"trap chileno\"],[\"trap dominicano\"],[\"trap latino\"],[\"trap mexicano\"],[\"trap queen\"],[\"trap soul\"],[\"trap triste\"],[\"trap venezolano\"],[\"traprun\"],[\"trash rock\"],[\"triangle indie\"],[\"tribal house\"],[\"trinidadian reggae\"],[\"trio cubano\"],[\"trip hop\"],[\"trival\"],[\"tropical\"],[\"tropical house\"],[\"tropicalia\"],[\"trova\"],[\"trova mexicana\"],[\"truck-driving country\"],[\"tuareg guitar\"],[\"tucson indie\"],[\"tulsa indie\"],[\"tuna estudiantil\"],[\"tunisian pop\"],[\"turbo folk\"],[\"turkish classical\"],[\"turkish classical performance\"],[\"turkish edm\"],[\"turkish experimental\"],[\"turkish folk\"],[\"turkish jazz\"],[\"turkish modern jazz\"],[\"turkish pop\"],[\"turkish psych\"],[\"turkish trap\"],[\"turkish trap pop\"],[\"turntablism\"],[\"twee pop\"],[\"twoubadou\"],[\"tzadik\"],[\"ugandan pop\"],[\"uilleann pipes\"],[\"uk alternative hip hop\"],[\"uk alternative pop\"],[\"uk americana\"],[\"uk contemporary jazz\"],[\"uk contemporary r&b\"],[\"uk dance\"],[\"uk dancehall\"],[\"uk diy punk\"],[\"uk dnb\"],[\"uk doom metal\"],[\"uk dub\"],[\"uk experimental electronic\"],[\"uk funky\"],[\"uk garage\"],[\"uk hip hop\"],[\"uk house\"],[\"uk metalcore\"],[\"uk noise rock\"],[\"uk pop\"],[\"uk pop punk\"],[\"uk post-hardcore\"],[\"uk post-punk\"],[\"uk reggae\"],[\"uk rockabilly\"],[\"uk stoner rock\"],[\"uk worship\"],[\"uk82\"],[\"ukrainian choir\"],[\"ukrainian classical\"],[\"ukrainian classical piano\"],[\"ukrainian electronic\"],[\"ukrainian pop\"],[\"ukulele\"],[\"umbanda\"],[\"underground hip hop\"],[\"underground power pop\"],[\"underground rap\"],[\"university choir\"],[\"uplifting trance\"],[\"uptempo hardcore\"],[\"urban contemporary\"],[\"urbano espanol\"],[\"us power metal\"],[\"utah indie\"],[\"uzbek pop\"],[\"uzbek traditional\"],[\"v-pop\"],[\"vallenato\"],[\"vallenato moderno\"],[\"vancouver indie\"],[\"vancouver metal\"],[\"vancouver punk\"],[\"vapor pop\"],[\"vapor soul\"],[\"vapor trap\"],[\"vapor twitch\"],[\"vaporwave\"],[\"variete francaise\"],[\"vaudeville\"],[\"vbs\"],[\"veena\"],[\"vegan straight edge\"],[\"vegas indie\"],[\"velha guarda\"],[\"venezuelan hip hop\"],[\"venezuelan indie\"],[\"venezuelan rock\"],[\"veracruz indie\"],[\"vermont indie\"],[\"vgm instrumental\"],[\"vgm remix\"],[\"victoria bc indie\"],[\"victorian britain\"],[\"video game music\"],[\"vienna indie\"],[\"vietnamese bolero\"],[\"vietnamese pop\"],[\"viking black metal\"],[\"viking folk\"],[\"viking metal\"],[\"villancicos\"],[\"vintage chanson\"],[\"vintage chinese pop\"],[\"vintage classical singing\"],[\"vintage country folk\"],[\"vintage dutch pop\"],[\"vintage french electronic\"],[\"vintage gospel\"],[\"vintage hollywood\"],[\"vintage italian pop\"],[\"vintage italian soundtrack\"],[\"vintage jazz\"],[\"vintage old-time\"],[\"vintage rockabilly\"],[\"vintage schlager\"],[\"vintage spanish pop\"],[\"vintage swedish pop\"],[\"vintage swing\"],[\"vintage tango\"],[\"viola\"],[\"violao\"],[\"violao classico\"],[\"violin\"],[\"viral pop\"],[\"viral rap\"],[\"viral trap\"],[\"virgin islands reggae\"],[\"virginia hip hop\"],[\"virginia metal\"],[\"virginia punk\"],[\"visor\"],[\"visual kei\"],[\"vocal ensemble\"],[\"vocal harmony group\"],[\"vocal house\"],[\"vocal jazz\"],[\"vocal trance\"],[\"vocaloid\"],[\"vogue\"],[\"volksmusik\"],[\"warm drone\"],[\"washboard\"],[\"washington indie\"],[\"wassoulou\"],[\"water\"],[\"wave\"],[\"welsh folk\"],[\"welsh indie\"],[\"welsh metal\"],[\"welsh rock\"],[\"west african jazz\"],[\"west australian hip hop\"],[\"west coast rap\"],[\"west coast reggae\"],[\"west coast trap\"],[\"west end\"],[\"west virginia indie\"],[\"western americana\"],[\"western mass indie\"],[\"western saharan folk\"],[\"western swing\"],[\"white noise\"],[\"wind ensemble\"],[\"wind quintet\"],[\"wisconsin indie\"],[\"witch house\"],[\"women's choir\"],[\"women's music\"],[\"wonky\"],[\"worcester ma indie\"],[\"world\"],[\"world fusion\"],[\"world meditation\"],[\"world worship\"],[\"worship\"],[\"wrestling\"],[\"wu fam\"],[\"wyoming indie\"],[\"wyoming roots\"],[\"xhosa\"],[\"xtra raw\"],[\"yacht rock\"],[\"ye ye\"],[\"yiddish folk\"],[\"yodeling\"],[\"yoga\"],[\"yoik\"],[\"york indie\"],[\"yorkshire folk\"],[\"yugoslav new wave\"],[\"yugoslav rock\"],[\"zambian pop\"],[\"zeuhl\"],[\"zhongguo feng\"],[\"zimdancehall\"],[\"zolo\"],[\"zouglou\"],[\"zouk\"],[\"zurich indie\"],[\"zydeco\"]],\"hovertemplate\":\"x=%{x}\\u003cbr\\u003ey=%{y}\\u003cbr\\u003egenres=%{customdata[0]}\\u003cbr\\u003ecluster=%{marker.color}\\u003cextra\\u003e\\u003c\\u002fextra\\u003e\",\"legendgroup\":\"\",\"marker\":{\"color\":[3,4,1,8,8,9,1,6,0,8,0,6,1,3,8,1,1,1,0,2,8,8,1,8,0,1,1,3,0,1,1,0,6,6,1,0,1,0,6,1,2,6,1,0,9,6,0,1,1,2,6,1,1,6,2,6,6,2,1,1,2,1,0,3,9,8,0,9,9,3,0,9,3,3,3,3,3,8,2,8,0,3,9,3,3,9,0,2,3,8,6,6,2,2,1,2,2,1,8,6,8,8,0,0,1,7,3,0,1,2,6,1,6,1,1,1,1,2,1,0,6,3,1,1,1,3,6,6,6,3,1,6,6,1,6,1,3,9,6,7,0,7,6,8,0,1,1,1,1,6,3,1,3,3,3,6,0,0,1,1,6,1,6,6,6,2,2,6,1,9,6,6,0,1,1,2,1,6,6,3,3,3,0,8,0,7,9,3,8,2,1,8,0,1,1,1,3,3,8,8,8,0,8,8,8,9,1,3,3,8,3,6,2,1,1,6,8,8,8,8,8,3,1,8,8,7,3,3,3,3,1,3,3,8,6,9,2,6,0,6,1,6,6,0,1,1,0,8,6,8,1,1,8,1,1,6,2,2,3,9,0,0,6,1,9,8,9,0,9,0,9,1,8,1,1,9,3,8,6,3,8,1,0,3,7,0,6,2,0,2,5,2,2,2,2,9,0,8,8,1,8,2,2,1,6,8,8,6,0,8,0,0,8,0,1,1,1,1,2,2,6,1,2,8,9,6,6,3,3,9,8,3,3,1,3,3,3,1,2,1,1,8,2,8,8,6,1,1,2,0,2,2,1,8,3,1,8,6,0,2,1,1,2,1,1,3,3,1,3,8,9,9,8,2,6,9,1,9,3,3,9,2,8,1,3,1,8,1,6,6,1,6,9,1,9,6,1,1,0,0,2,4,8,8,8,2,8,1,0,6,3,8,6,3,0,1,8,1,6,1,8,3,3,3,8,1,1,1,6,0,3,8,2,6,7,1,8,6,0,1,2,2,0,6,2,2,9,1,2,2,0,1,3,1,1,1,1,9,8,1,1,8,8,2,1,1,6,8,8,8,1,3,3,3,1,6,8,8,3,0,1,1,8,3,8,3,3,1,3,1,1,1,1,1,8,0,6,8,0,6,2,8,8,6,0,0,6,2,2,6,1,2,6,0,1,8,6,6,5,1,0,0,6,9,3,8,9,1,1,1,2,1,8,3,3,3,0,1,0,1,2,3,6,1,3,3,9,1,3,8,9,8,1,1,0,2,6,6,6,2,2,6,6,2,6,3,2,6,1,3,8,1,1,6,9,2,0,6,8,8,1,0,8,6,8,0,1,8,8,2,8,0,0,1,1,8,0,7,2,0,1,8,8,9,8,8,8,1,1,6,8,0,1,0,8,2,1,1,8,2,8,1,3,6,2,6,0,1,1,3,6,3,3,3,3,3,3,3,3,3,3,3,8,3,3,3,3,3,3,3,9,3,3,3,8,8,5,2,1,1,0,6,1,6,1,5,1,6,1,6,8,2,3,0,7,2,1,6,3,3,3,1,8,6,3,8,8,3,8,8,8,2,1,1,0,2,8,9,1,8,8,1,8,1,1,1,1,8,8,1,2,8,1,1,2,6,2,1,1,0,8,1,1,1,1,1,0,0,1,1,8,1,8,1,0,1,1,9,6,8,3,3,8,2,8,0,6,1,1,2,6,2,2,3,2,3,0,3,2,0,7,9,1,6,9,8,2,8,1,2,9,0,2,3,9,2,9,6,9,9,2,2,0,2,2,2,1,9,2,2,0,2,8,0,2,8,6,5,1,6,8,0,6,2,0,1,6,8,1,9,6,0,9,1,1,9,8,2,8,0,2,9,8,1,6,1,8,1,7,9,6,2,1,1,0,1,9,3,1,1,9,1,9,9,0,6,9,8,6,1,6,6,9,0,1,0,1,1,6,6,9,0,8,8,1,6,8,0,3,6,6,1,0,8,1,8,2,2,0,1,6,8,2,2,9,8,9,2,2,2,3,6,9,3,3,9,2,1,9,0,9,2,9,3,1,8,6,9,1,9,2,5,3,2,2,1,8,1,6,8,7,2,0,0,0,1,0,1,8,5,3,3,3,3,1,3,6,2,6,1,9,8,2,1,9,3,1,1,1,6,0,8,0,1,8,1,1,1,1,1,1,2,1,2,1,9,0,6,1,0,1,2,2,2,2,6,2,3,0,3,0,8,7,2,0,8,6,3,9,8,2,9,0,9,3,8,9,6,0,2,0,1,2,0,8,9,3,9,0,7,3,1,0,9,3,1,9,3,8,8,8,2,0,8,6,6,9,3,0,3,3,2,0,6,6,2,0,6,1,0,3,6,9,2,1,9,0,3,1,9,0,6,8,0,8,8,6,1,2,6,1,1,6,8,0,8,8,1,1,1,3,1,6,1,1,2,3,6,1,1,9,3,8,1,3,3,8,2,2,6,9,1,9,8,2,0,3,3,1,0,2,1,1,3,2,8,1,0,2,9,0,6,1,8,0,0,2,6,8,6,0,1,0,9,6,1,0,6,2,1,6,2,9,9,6,1,8,3,2,0,6,1,2,2,2,2,2,1,0,1,1,1,6,2,3,3,3,1,0,0,2,0,6,3,5,0,2,3,3,1,6,1,2,1,3,6,3,3,3,1,2,1,6,0,5,8,9,1,2,2,1,1,9,2,9,1,0,2,6,8,8,5,6,7,8,1,2,6,2,0,1,0,0,0,2,0,1,6,1,8,3,8,8,7,8,0,8,8,1,9,0,2,1,2,2,1,1,0,0,2,6,5,0,8,3,8,7,6,3,6,8,8,1,8,2,1,0,3,6,1,3,2,2,8,9,2,1,2,6,2,2,2,1,8,8,8,3,3,8,3,8,6,6,3,1,1,1,9,0,8,3,8,6,2,1,6,0,4,3,3,3,3,3,3,5,7,1,0,1,1,8,8,1,2,9,0,1,6,1,1,8,0,3,3,3,3,9,5,8,8,9,9,1,6,3,9,3,8,8,9,9,9,9,1,2,0,8,3,8,0,6,3,1,8,0,6,1,6,0,9,9,1,1,9,6,1,1,1,6,1,6,6,1,1,1,2,1,2,6,1,6,6,1,1,6,2,0,1,3,9,0,1,6,6,1,8,8,6,0,2,9,2,9,9,9,2,9,7,6,8,7,8,1,9,8,8,1,3,9,1,8,6,8,0,8,8,8,3,8,1,2,6,6,8,9,1,8,3,3,8,6,3,3,6,0,0,0,6,3,9,3,0,8,9,3,3,1,0,9,9,3,8,3,3,9,8,8,1,0,7,3,1,2,6,2,2,2,1,6,2,0,2,2,1,1,0,2,1,1,1,3,3,3,3,9,3,1,2,9,6,7,2,0,3,8,2,8,9,9,2,2,0,9,2,2,2,2,9,6,0,7,2,0,3,9,9,1,8,8,8,1,8,8,8,0,8,3,8,8,9,9,8,8,2,3,8,9,8,8,8,1,2,8,3,8,8,8,8,8,8,9,3,0,8,0,1,1,8,0,8,2,6,1,0,0,6,8,8,1,8,6,8,6,2,1,2,6,1,1,0,8,0,1,8,7,6,1,6,1,3,1,9,5,8,6,3,8,3,0,3,3,3,0,6,1,6,6,3,9,8,1,1,8,0,0,0,6,3,1,1,1,3,6,1,8,1,6,1,1,2,6,1,1,8,1,7,6,2,1,5,1,6,8,3,1,0,2,1,1,8,7,3,1,2,9,8,9,8,6,1,8,1,1,0,1,9,9,9,1,8,2,6,9,8,1,1,3,8,3,8,1,3,5,7,1,1,1,1,0,1,3,9,8,1,2,1,1,6,1,8,1,8,6,8,8,6,1,1,0,1,9,2,0,3,8,2,3,1,6,1,6,1,2,2,2,2,2,2,0,2,2,6,2,6,6,8,0,0,6,8,1,1,1,8,2,9,2,2,6,1,3,1,6,1,2,1,8,7,1,1,6,1,0,6,9,4,3,7,7,0,2,8,1,1,7,1,9,1,9,9,3,1,2,2,1,1,6,1,3,2,0,6,1,1,1,1,1,6,1,6,1,6,3,3,1,3,2,0,0,1,0,2,1,3,2,2,7,6,8,9,9,0,1,3,6,1,5,6,8,8,1,8,8,0,1,0,6,3,0,1,1,6,6,1,3,8,6,1,1,1,1,0,6,8,7,8,1,0,6,1,8,0,8,7,6,8,0,0,1,4,8,8,8,7,7,0,6,1,1,1,8,3,1,3,1,3,8,2,1,2,8,6,0,1,3,9,8,9,1,1,1,1,2,1,7,9,3,0,6,0,8,8,6,6,0,1,2,3,3,1,0,5,8,6,6,3,1,2,1,2,1,1,8,1,1,8,6,1,1,9,1,2,1,8,9,1,3,2,2,0,1,2,0,9,0,8,1,1,2,2,2,3,7,9,0,3,9,3,8,2,1,1,2,1,1,2,1,2,6,2,6,2,3,3,3,2,3,0,1,3,2,0,0,2,2,0,7,0,1,1,6,1,1,3,6,2,1,6,2,6,2,8,1,8,1,1,8,1,8,8,2,2,6,1,6,2,3,1,2,6,6,2,6,6,1,1,2,1,3,6,1,2,0,0,1,1,1,1,6,2,1,0,8,8,6,2,1,1,3,8,2,3,8,1,4,3,3,9,9,7,9,2,8,8,0,8,3,2,6,9,0,6,8,0,1,8,9,3,2,1,9,1,0,2,8,0,8,7,9,1,1,3,8,1,6,6,8,1,6,1,0,0,1,1,7,2,6,6,1,6,6,8,3,0,1,3,8,1,2,6,2,8,1,1,0,1,1,1,6,6,2,2,5,3,0,3,3,3,7,3,0,2,8,0,6,8,0,1,3,0,6,1,6,1,2,0,2,6,8,0,0,1,6,6,6,1,6,1,1,1,6,6,6,1,1,1,3,1,8,0,1,1,2,1,3,1,1,9,2,2,9,3,2,1,1,9,3,2,1,2,6,2,2,6,3,1,8,6,1,2,2,2,0,9,2,6,2,2,9,9,2,0,9,9,0,9,1,8,8,7,2,9,8,1,6,1,2,6,6,9,9,2,1,8,1,7,8,0,0,2,2,2,2,2,6,6,8,8,3,2,1,6,1,1,1,8,6,1,8,3,8,9,6,6,1,6,1,6,1,6,6,2,0,8,6,1,1,2,2,5,9,0,8,8,1,1,1,6,6,1,6,1,2,0,6,1,1,3,1,9,1,1,0,8,6,0,2,0,1,0,1,0,1,1,1,1,6,2,1,1,1,2,0,2,1,1,1,9,1,6,1,1,8,1,3,9,3,6,8,8,1,1,1,1,8,0,6,9,0,2,0,3,3,2,6,0,0,0,6,6,3,3,0,6,8,0,3,9,9,6,3,8,1,2,6,1,1,6,6,6,1,1,1,1,8,8,1,7,8,0,1,2,1,1,8,3,1,1,0,1,6,3,1,3,8,6,2,8,2,1,1,1,6,6,2,6,6,1,0,0,3,1,8,8,1,0,0,6,8,3,3,8,2,6,1,0,0,9,1,2,3,1,6,1,2,1,3,3,1,1,1,0,0,2,1,2,8,8,9,8,6,2,2,2,2,2,3,9,1,2,6,9,2,1,9,0,1,6,6,1,8,1,1,1,8,1,1,0,6,6,1,0,8,8,3,3,7,6,3,1,8,6,1,6,8,6,0,2,0,1,9,6,2,1,8,6,2,1,1,1,0,6,7,8,3,9,3,8,3,0,1,1,6,0,0,1,0,6,1,3,1,1,9,7,2,0,0,8,8,0,8,1,1,8,0,1,8,1,0,1,9,2,2,3,6,2,3,8,8,3,3,3,1,0,9,6,0,1,1,1,2,2,1,6,1,2,6,1,9,3,1,1,2,2,0,1,0,2,2,1,9,0,6,6,1,6,3,8,2,2,2,6,1,0,2,9,6,1,1,9,9,1,1,0,8,8,0,2,3,3,2,1,1,3,1,0,0,6,1,1,1,8,8,1,7,8,3,8,1,1,6,8,1,1,1,6,8,8,8,2,8,8,2,9,9,1,2,9,2,9,6,1,6,1,1,1,2,1,6,1,1,1,1,1,1,8,8,1,2,8,3,2,2,1,8,0,9,8,3,8,1,0,8,8,8,8,8,8,8,1,6,1,0,7,2,1,6,1,6,1,6,1,6,6,1,6,0,2,2,6,8,8,6,1,1,1,6,1,8,8,8,1,7,1,6,0,7,3,0,0,8,8,9,0,8,7,0,6,1,0,3,9,8,1,6,6,1,6,6,0,7,2,2,0,9,1,0,1,1,0,0,1,2,6,1,1,2,9,6,2,3,3,3,9,6,8,1,6,6,1,3,9,0,6,6,2,8,8,8,0,1,6,1,2,1,1,1,6,6,0,1,7,1,8,2,2,8,1,1,1,6,1,3,9,1,3,9,0,0,0,9,9,2,1,8,8,8,8,5,1,8,8,8,3,8,8,0,8,8,8,8,8,3,8,8,3,1,6,6,6,1,2,2,3,2,3,8,1,8,0,0,6,8,3,8,1,1,7,0,3,6,6,6,0,7,6,0,6,8,0,1,1,8,8,3,3,3,3,1,2,1,1,2,1,9,3,2,1,2,6,2,1,8,2,1,8,8,8,3,3,1,8,1,1,0,2,1,0,1,0,1,8,1],\"coloraxis\":\"coloraxis\",\"symbol\":\"circle\"},\"mode\":\"markers\",\"name\":\"\",\"showlegend\":false,\"x\":[47.172607421875,41.84767532348633,-5.255589008331299,29.38274574279785,12.36035442352295,13.364001274108887,-18.02518653869629,-53.88222122192383,20.630857467651367,14.256701469421387,6.730274677276611,7.163463115692139,-6.337538242340088,48.48752212524414,18.82990264892578,3.9955883026123047,2.304335355758667,7.511734485626221,8.531935691833496,-10.224109649658203,13.9630708694458,17.586843490600586,-10.087347030639648,36.29648971557617,6.009571075439453,-16.606586456298828,-12.294262886047363,41.73469924926758,8.552632331848145,-14.069404602050781,-11.609539031982422,13.924186706542969,-22.245634078979492,8.488198280334473,-28.5263729095459,-2.015794277191162,-8.473231315612793,13.220231056213379,-49.636600494384766,-18.51519012451172,-36.28144454956055,-49.952789306640625,-16.742046356201172,17.256946563720703,-0.6871986389160156,-34.28680419921875,15.000335693359375,-16.641508102416992,-12.658663749694824,-52.14889144897461,-26.19806480407715,-4.720583438873291,7.532408714294434,-47.47863006591797,-33.220035552978516,-51.27357864379883,-47.30387496948242,-17.816116333007812,-24.419397354125977,-29.659793853759766,-20.31420135498047,-15.756659507751465,20.364952087402344,32.60987091064453,-17.812976837158203,11.50645637512207,6.221404075622559,11.265238761901855,9.401320457458496,40.41994857788086,18.461334228515625,13.698014259338379,52.142578125,44.444374084472656,51.893272399902344,50.106475830078125,41.241153717041016,33.09508514404297,-1.3445771932601929,34.2050666809082,30.88538360595703,44.13111877441406,13.38183307647705,31.00906753540039,47.01231002807617,-19.33942222595215,25.877483367919922,-39.36251449584961,45.7099723815918,17.665603637695312,-48.04496383666992,-49.62838363647461,-39.83040237426758,-6.353999137878418,-1.8137949705123901,-33.347408294677734,-12.700860977172852,-4.267126083374023,34.721866607666016,-45.29167556762695,21.544857025146484,32.935855865478516,22.91629981994629,22.132156372070312,3.081260919570923,21.941864013671875,37.547584533691406,15.885313034057617,-18.60254669189453,-29.6889705657959,-47.529052734375,-13.250984191894531,-56.31129455566406,-18.66115951538086,-16.888364791870117,-14.664039611816406,-22.974336624145508,-27.008895874023438,4.387410640716553,8.923726081848145,0.2253486067056656,49.09065628051758,-5.180031776428223,-16.574710845947266,-13.851303100585938,41.684059143066406,-40.48736572265625,-1.142728328704834,-46.13038635253906,43.38861083984375,-15.615131378173828,-51.1568717956543,-52.77169418334961,-20.52346420288086,-47.47631072998047,-48.841617584228516,52.51689147949219,-17.812976837158203,-21.068897247314453,21.65298080444336,20.73013687133789,21.65298080444336,-27.489046096801758,18.961931228637695,12.442391395568848,-11.961471557617188,-13.403716087341309,-13.813730239868164,1.237783670425415,-44.21603775024414,48.565711975097656,-2.61342453956604,40.870849609375,40.78445053100586,36.74123764038086,7.037844657897949,6.116841793060303,5.968717575073242,-24.642065048217773,-29.033958435058594,-48.57193374633789,-24.036062240600586,-8.133249282836914,-54.329261779785156,-43.73902130126953,-30.087282180786133,-29.032732009887695,-43.81611633300781,-17.25376319885254,-13.461481094360352,-48.82782745361328,-2.6424431800842285,13.301420211791992,-20.338449478149414,-16.10213851928711,-1.2983297109603882,-20.73810577392578,-55.77488327026367,-48.388031005859375,50.564849853515625,52.85336685180664,53.41082000732422,14.974102973937988,48.866031646728516,16.55946159362793,0.7235938310623169,-21.335474014282227,49.5681037902832,31.33222770690918,-19.9512882232666,-20.09238052368164,26.984703063964844,9.229390144348145,-5.2766642570495605,-13.622444152832031,-13.850750923156738,54.78139877319336,31.568819046020508,37.83415985107422,17.548185348510742,24.90131378173828,14.424918174743652,27.26511573791504,16.154462814331055,17.293371200561523,6.920012950897217,-1.8981387615203857,40.84231185913086,35.55650329589844,34.495967864990234,45.64177703857422,-41.746036529541016,-24.5222225189209,-13.39199161529541,-12.260640144348145,-18.473848342895508,33.882450103759766,24.98488998413086,28.969026565551758,38.6579704284668,9.20750617980957,50.449554443359375,-20.320768356323242,21.99231719970703,16.25197982788086,2.7483928203582764,38.80752182006836,45.261173248291016,34.06806564331055,37.367408752441406,-11.821050643920898,43.966796875,35.543067932128906,29.657276153564453,-30.054418563842773,-7.243296146392822,-27.25783920288086,-42.4886474609375,9.728865623474121,-48.03633499145508,-20.279775619506836,-50.950965881347656,-50.31180953979492,8.62618350982666,-20.647567749023438,-23.818422317504883,10.16884994506836,16.911794662475586,6.498184680938721,27.264820098876953,-35.97248458862305,-17.29429054260254,30.897829055786133,-15.429884910583496,-14.80880355834961,-39.40978240966797,-5.311663627624512,-5.311663627624512,54.786136627197266,30.584144592285156,5.060059547424316,5.599212646484375,-40.56159591674805,-10.914388656616211,5.944230079650879,38.16878128051758,-14.309248924255371,10.721534729003906,17.11223793029785,26.974754333496094,0.38924750685691833,-7.864647388458252,37.34627914428711,-18.707860946655273,-16.327322006225586,0.695912778377533,16.431364059448242,30.401508331298828,-24.05983543395996,37.516597747802734,30.64281463623047,-11.204882621765137,4.885095119476318,55.17182540893555,22.637577056884766,12.93759822845459,-56.797611236572266,-23.97593879699707,0.2912557125091553,-1.053866982460022,23.039716720581055,-23.728904724121094,-39.876399993896484,-23.217897415161133,-1.053866982460022,15.053719520568848,1.3052424192428589,8.425742149353027,13.199359893798828,8.752936363220215,13.188940048217773,-0.7526743412017822,-45.25162124633789,-15.543848037719727,-30.138507843017578,15.114229202270508,17.44607162475586,10.863369941711426,18.569011688232422,25.55804443359375,3.9754576683044434,4.44284725189209,14.472436904907227,30.614398956298828,12.94443416595459,-23.347087860107422,-30.440868377685547,-26.591083526611328,-32.62230682373047,-31.790550231933594,-44.163795471191406,-32.851322174072266,-45.5815315246582,25.549264907836914,11.699323654174805,-45.028926849365234,-42.45289611816406,51.248863220214844,55.17182540893555,19.35350799560547,26.42934226989746,45.71678161621094,51.496795654296875,-8.708281517028809,39.10704040527344,50.65523910522461,36.059627532958984,-23.422670364379883,-28.74844741821289,-35.663612365722656,4.161725997924805,25.953340530395508,-28.748659133911133,14.940085411071777,12.22780990600586,-48.60602569580078,-27.08294105529785,-11.524864196777344,-2.659297466278076,23.858535766601562,-28.748138427734375,-26.096187591552734,-30.99974822998047,4.0117669105529785,38.331077575683594,-16.45200538635254,6.589144706726074,-52.849117279052734,13.382039070129395,-17.000070571899414,-14.468527793884277,-11.68911075592041,-25.715185165405273,-15.097414016723633,-21.768465042114258,44.26884460449219,50.89503479003906,-4.835648536682129,47.251094818115234,35.77268981933594,-22.346820831298828,6.035262584686279,14.41015911102295,-24.455671310424805,-35.72212600708008,6.0915141105651855,2.9621388912200928,9.764823913574219,47.59333801269531,48.73114013671875,26.492395401000977,-49.034244537353516,-0.08670102059841156,-27.89463233947754,40.1460075378418,-22.048646926879883,10.83033561706543,-9.928110122680664,-52.22120666503906,-35.445655822753906,-23.242414474487305,-49.90277099609375,-22.60832405090332,-17.587629318237305,-10.702095985412598,-15.357650756835938,-24.91196632385254,4.897058010101318,3.475668430328369,17.83864402770996,-23.31853675842285,40.65392303466797,34.43294143676758,18.940099716186523,5.572103977203369,-18.182771682739258,33.837371826171875,1.5811638832092285,6.008146286010742,-54.42129898071289,33.50035095214844,28.4632511138916,-42.1845588684082,47.00629425048828,14.775077819824219,-5.888387680053711,25.750221252441406,-14.51613998413086,-37.76324462890625,-2.481015682220459,14.922778129577637,44.936614990234375,37.167457580566406,52.410186767578125,11.455145835876465,-22.305566787719727,8.740861892700195,7.726152420043945,-49.11395263671875,15.385759353637695,31.8250789642334,12.978944778442383,-28.86203956604004,-51.666961669921875,1.3682564496994019,-12.128535270690918,15.979366302490234,6.419072151184082,11.028141021728516,-23.40549087524414,-45.955665588378906,-32.28995132446289,17.01776123046875,-43.6170539855957,-44.05937194824219,-35.97969436645508,42.689727783203125,-3.7441511154174805,-31.078187942504883,-28.22999382019043,23.075096130371094,10.110244750976562,30.483213424682617,8.512906074523926,-30.289474487304688,-11.755817413330078,8.997367858886719,-10.459851264953613,13.06965160369873,4.926515579223633,9.729540824890137,21.61791229248047,48.55644989013672,-30.211225509643555,2.9654223918914795,-5.804675102233887,-19.866769790649414,30.520858764648438,29.097579956054688,30.527128219604492,-3.8743417263031006,46.42420959472656,54.263973236083984,54.25087356567383,-12.947197914123535,-47.51337432861328,30.288223266601562,10.883415222167969,35.72075653076172,2.6860384941101074,-9.066018104553223,-19.08085823059082,20.150693893432617,40.23198699951172,14.488819122314453,44.71432113647461,36.23478317260742,2.4719972610473633,48.88503646850586,7.7409772872924805,-5.9164934158325195,-29.563552856445312,-25.101226806640625,4.899003982543945,10.165938377380371,24.497608184814453,-48.47682189941406,3.315842866897583,20.67709732055664,-52.42146301269531,-26.2760066986084,1.3724483251571655,13.743619918823242,-51.29448699951172,1.2796143293380737,17.38629150390625,-45.51626205444336,-30.708358764648438,-36.07600402832031,-52.473384857177734,7.278582572937012,-33.14338684082031,-53.97182846069336,21.25872039794922,1.435525894165039,14.275636672973633,10.54476261138916,10.103204727172852,27.41329574584961,-30.334457397460938,19.744186401367188,18.999374389648438,-19.207094192504883,-10.429322242736816,51.907249450683594,25.05290412902832,-11.39610767364502,1.7804399728775024,-31.179210662841797,-5.753731727600098,-39.186546325683594,-12.219512939453125,15.713873863220215,41.92170333862305,54.11549758911133,52.80270004272461,8.79063606262207,-3.762477159500122,13.24486255645752,5.043839931488037,-45.82862854003906,42.81869125366211,2.6441142559051514,4.395265102386475,41.92170333862305,38.894508361816406,29.519176483154297,-32.175086975097656,44.41895294189453,21.613855361938477,-8.294569969177246,51.66140365600586,11.297518730163574,-13.996271133422852,11.686101913452148,-33.584903717041016,-45.14981460571289,-48.84099197387695,-5.193096160888672,-27.5795955657959,-29.016063690185547,-4.918397426605225,-40.993831634521484,-20.912246704101562,-42.1171760559082,31.060482025146484,-33.45957565307617,-50.51701736450195,2.1941206455230713,37.811283111572266,17.692842483520508,-14.99571418762207,-10.553607940673828,-54.681610107421875,2.4763453006744385,-32.37816619873047,14.508779525756836,-24.4752140045166,28.837244033813477,10.78610610961914,-19.02161407470703,19.563507080078125,27.844680786132812,-39.37416076660156,5.782271385192871,30.42171287536621,6.5247883796691895,41.42649459838867,16.906888961791992,-39.20271301269531,40.54457473754883,27.39632225036621,11.827316284179688,2.6724343299865723,4.503110408782959,29.58771324157715,-0.56720370054245,1.6469218730926514,-10.671507835388184,27.96297836303711,9.28393840789795,38.99220657348633,10.225065231323242,-10.319076538085938,27.631162643432617,19.317750930786133,51.39826583862305,5.329700469970703,-9.120552062988281,-1.9430073499679565,27.726573944091797,25.641563415527344,1.1872730255126953,26.649038314819336,21.719058990478516,-2.0792317390441895,4.540091514587402,-15.692590713500977,28.551904678344727,-21.403682708740234,9.214984893798828,3.016186237335205,48.99201202392578,9.082172393798828,-8.504249572753906,-24.02430534362793,26.922019958496094,1.8454395532608032,-0.8478636741638184,50.98908615112305,-2.9278621673583984,49.240596771240234,48.96314239501953,51.00429153442383,43.93363952636719,53.3205451965332,36.51106262207031,49.05937957763672,45.22134017944336,53.8379020690918,53.615379333496094,49.31721878051758,25.065006256103516,49.83839797973633,47.55166244506836,48.532630920410156,43.73149490356445,50.409732818603516,54.94608688354492,39.409671783447266,12.20141887664795,49.70295333862305,49.75682830810547,41.155517578125,25.13764190673828,26.434663772583008,23.47970199584961,-29.381534576416016,10.426661491394043,-21.46112060546875,10.434365272521973,-33.944732666015625,-23.630882263183594,-20.856937408447266,-20.07769775390625,23.29009437561035,-30.745624542236328,15.797028541564941,-5.759791374206543,-48.648406982421875,30.6789608001709,-27.285993576049805,41.323787689208984,18.827972412109375,34.790748596191406,-34.46555709838867,-27.134279251098633,-51.2334098815918,52.14264678955078,50.52548599243164,39.56743240356445,-23.16860580444336,12.25759220123291,5.074498176574707,33.091617584228516,31.0740909576416,14.077702522277832,42.56028747558594,31.10344123840332,16.263254165649414,19.038555145263672,-4.341963768005371,-14.8555326461792,-20.276384353637695,14.131938934326172,-16.583148956298828,10.766315460205078,14.77258014678955,-17.615055084228516,15.675897598266602,18.654802322387695,-18.539440155029297,15.675435066223145,-23.607894897460938,-28.969411849975586,-21.796863555908203,2.2458696365356445,38.04581832885742,18.84311866760254,-17.240476608276367,-10.291900634765625,48.59995651245117,-19.4561767578125,-19.455989837646484,-24.442659378051758,-51.56889343261719,-32.633689880371094,-21.582120895385742,-1.015720248222351,9.11950969696045,21.92098617553711,-23.54053497314453,-12.821678161621094,-13.342228889465332,-20.39979362487793,-17.90415382385254,26.1894474029541,18.413965225219727,-14.243184089660645,-19.871856689453125,16.613208770751953,-24.40692138671875,7.135439395904541,-14.887920379638672,15.806350708007812,-14.310853004455566,-20.026878356933594,-15.692391395568848,-54.71709442138672,34.42525863647461,52.7821159362793,52.303714752197266,36.842018127441406,-33.816837310791016,48.06726837158203,7.282866477966309,-43.159423828125,-26.69447898864746,-11.528072357177734,-30.2380313873291,-50.199737548828125,-10.671507835388184,-20.165834426879883,52.52194595336914,-13.911843299865723,35.16575241088867,11.770153045654297,32.9195671081543,-23.64042091369629,9.713396072387695,2.629236936569214,-11.67941665649414,-29.1877384185791,-47.01401901245117,-11.67941665649414,11.96618366241455,-8.341533660888672,37.69844055175781,-24.464340209960938,-27.8714542388916,8.646714210510254,18.20578384399414,-2.714784622192383,42.23672103881836,-2.552022933959961,-14.685135841369629,-1.1842228174209595,-51.65774917602539,4.533935070037842,-9.770262718200684,-31.533294677734375,-32.36258316040039,13.62220573425293,-23.890398025512695,-24.74739646911621,-29.38994026184082,-16.58626365661621,-22.33243751525879,-23.589597702026367,-17.564043045043945,1.6465238332748413,-25.677013397216797,16.282917022705078,5.161099910736084,-7.850950241088867,6.1586384773254395,-27.576383590698242,23.396183013916016,3.3941032886505127,-53.822235107421875,39.86086654663086,18.733654022216797,3.6407735347747803,-42.05176544189453,9.027876853942871,-23.485923767089844,-26.250804901123047,21.634042739868164,-13.910821914672852,-0.782291054725647,-18.49826431274414,8.217557907104492,-16.007436752319336,-29.9265079498291,-24.066524505615234,35.09465026855469,16.40538787841797,-0.04779975116252899,6.467251300811768,14.90401554107666,-35.90645980834961,0.05982764810323715,16.615413665771484,4.7170281410217285,-13.956171989440918,-12.434937477111816,18.70048713684082,-10.869691848754883,3.988581657409668,-1.5522136688232422,-40.909698486328125,-44.839298248291016,-29.233476638793945,-13.818928718566895,22.31840705871582,-2.181328535079956,17.976375579833984,52.76545333862305,4.299641132354736,-33.565574645996094,28.724563598632812,-19.052722930908203,18.696914672851562,0.38924750685691833,13.402316093444824,-52.44716262817383,-0.7723773717880249,21.26539421081543,-43.22235107421875,-20.270633697509766,-43.190975189208984,-43.362361907958984,0.9832322001457214,17.694114685058594,11.11628532409668,13.297470092773438,-8.453150749206543,-28.087074279785156,-49.66807174682617,6.967399597167969,-12.133257865905762,9.346176147460938,18.628324508666992,28.947250366210938,-1.3629709482192993,-55.111595153808594,37.88115310668945,3.225168466567993,37.06822967529297,-51.80626678466797,-53.09086227416992,-10.29515552520752,11.09747314453125,13.339815139770508,-16.62246322631836,26.447134017944336,-21.350223541259766,-46.6121711730957,9.946267127990723,-14.04675006866455,-45.02340316772461,6.855296611785889,-23.844635009765625,-21.577884674072266,-7.372224807739258,27.7780818939209,-5.795009136199951,-11.50641918182373,-26.18620491027832,-26.372337341308594,46.49285888671875,-51.244773864746094,-9.805439949035645,41.80834197998047,30.169105529785156,-16.30525779724121,-46.41412353515625,-28.042831420898438,-19.56733512878418,9.872206687927246,25.166555404663086,-27.13628578186035,0.0813509002327919,49.0904541015625,-10.459929466247559,13.52933120727539,10.556184768676758,-17.811742782592773,-12.94992446899414,5.8442463874816895,-5.098541736602783,24.5762939453125,54.073123931884766,-27.130916595458984,-42.2180290222168,-25.878841400146484,37.861976623535156,-26.42714500427246,-49.584381103515625,14.450053215026855,20.208608627319336,-27.936851501464844,16.542512893676758,18.846675872802734,14.564327239990234,21.38894271850586,2.896016836166382,-15.435280799865723,15.315523147583008,27.289810180664062,50.32061004638672,48.791419982910156,42.730953216552734,43.75783920288086,1.9098447561264038,50.767982482910156,5.12108039855957,-37.70869445800781,-51.9880256652832,-15.99319839477539,9.188627243041992,32.00271224975586,-36.572269439697266,8.790815353393555,-13.84192943572998,41.496803283691406,11.91843318939209,-18.271461486816406,-26.169225692749023,-29.504396438598633,15.195474624633789,19.02261734008789,1.5990301370620728,-29.00617790222168,27.55577278137207,-14.498835563659668,-29.718181610107422,-26.2329044342041,-6.535590648651123,-26.920610427856445,-23.524585723876953,-13.931317329406738,-34.95371627807617,-29.51651954650879,-15.752975463867188,9.304393768310547,4.7810893058776855,-50.11343002319336,-9.999731063842773,12.171850204467773,-26.566062927246094,-30.998838424682617,-28.41986083984375,-44.37470626831055,-27.183977127075195,-50.108646392822266,-31.331012725830078,46.0537223815918,-3.0300095081329346,44.99906921386719,26.962753295898438,28.332489013671875,25.36910629272461,-26.397891998291016,16.62833023071289,47.7579231262207,-50.63788986206055,46.96561050415039,-16.007436752319336,18.647226333618164,-33.23255157470703,-5.840620040893555,14.93195915222168,10.11562728881836,41.56245422363281,32.60539627075195,2.7885148525238037,-37.86328887939453,-1.0374873876571655,-41.71579360961914,7.2999043464660645,-24.321216583251953,-49.080345153808594,21.028213500976562,32.6756706237793,9.311201095581055,47.694252014160156,36.620609283447266,9.865996360778809,0.14033545553684235,34.33674240112305,-19.156522750854492,13.572944641113281,-0.8849244117736816,13.152020454406738,-5.63809871673584,-7.454371452331543,26.0688419342041,17.50312614440918,6.262463569641113,16.782176971435547,-5.2852325439453125,6.0223822593688965,16.234731674194336,-48.49867248535156,-48.03374099731445,6.880337715148926,35.66777420043945,13.166335105895996,52.071956634521484,48.50857162475586,-17.501056671142578,16.578187942504883,-40.31092071533203,-40.153263092041016,-45.266395568847656,3.667548418045044,-21.884979248046875,-0.7294055819511414,23.14806365966797,45.67442321777344,-51.084861755371094,-7.554968357086182,-25.55219268798828,-29.060998916625977,26.201583862304688,27.896106719970703,54.79667282104492,-7.276655673980713,-1.4781183004379272,26.161409378051758,-22.440271377563477,28.441835403442383,28.543275833129883,41.73899841308594,32.98891067504883,4.311646461486816,10.031159400939941,-21.23076820373535,-44.81801986694336,2.8378045558929443,8.666315078735352,-4.14829158782959,8.309650421142578,20.677043914794922,40.09278106689453,30.23672103881836,-11.183806419372559,-1.1225990056991577,10.135453224182129,36.65203094482422,-12.13134479522705,-41.48569107055664,11.76219367980957,11.737296104431152,-33.722198486328125,41.726985931396484,-27.734865188598633,-4.938736438751221,2.7752487659454346,-7.533993721008301,32.424930572509766,31.325010299682617,-14.130379676818848,39.795352935791016,53.53885269165039,16.17158317565918,-26.65914535522461,-33.39564514160156,-44.56012725830078,13.718006134033203,-14.33751392364502,-6.066320896148682,32.83211898803711,-26.65914535522461,27.55389404296875,48.08934783935547,43.681034088134766,5.809177875518799,7.547340393066406,-11.471820831298828,-14.269597053527832,-12.550457000732422,48.25515365600586,-25.948030471801758,35.32621383666992,-18.123939514160156,5.959315776824951,-35.633731842041016,-0.8081045150756836,16.9180965423584,-33.86260223388672,-9.291524887084961,28.467313766479492,10.735485076904297,6.7081828117370605,-23.78641128540039,-38.81197738647461,23.01883316040039,-46.243839263916016,6.708135604858398,-19.331249237060547,8.055838584899902,-2.146691083908081,-26.91123390197754,-25.516742706298828,12.970846176147461,-27.30683135986328,-36.530311584472656,-8.623539924621582,-52.232643127441406,-35.84438705444336,8.984030723571777,-19.500059127807617,-41.240814208984375,-11.199102401733398,36.45085525512695,45.829811096191406,-55.59752655029297,5.59289026260376,-51.993019104003906,-16.304561614990234,-36.63441467285156,-18.95716094970703,-33.27293014526367,-22.663366317749023,-28.53818702697754,-23.692644119262695,14.109575271606445,-17.34096908569336,2.97774600982666,-9.336051940917969,8.04602336883545,-35.88644027709961,45.46818542480469,43.07015609741211,50.68667221069336,3.6644997596740723,12.568331718444824,1.251488447189331,-22.956329345703125,14.457184791564941,-20.68233871459961,32.30886459350586,25.518463134765625,2.912285804748535,-40.453697204589844,50.480628967285156,51.98758316040039,-14.520437240600586,-42.90418243408203,-19.076181411743164,0.9362452626228333,-20.8061466217041,50.64527893066406,-44.93239212036133,50.919532775878906,51.49147415161133,30.670215606689453,-24.989748001098633,-24.807191848754883,-6.407318592071533,-46.77701187133789,13.101225852966309,27.25712776184082,28.028987884521484,5.944230079650879,-25.384706497192383,-22.893352508544922,-36.517452239990234,-17.841819763183594,-21.674880981445312,-7.51645040512085,-13.960532188415527,8.59896183013916,-29.568294525146484,12.52674388885498,-24.652767181396484,5.029505252838135,40.763309478759766,20.358436584472656,25.52108383178711,3.9997565746307373,-2.001319646835327,15.032925605773926,4.060662746429443,-19.058002471923828,-6.256932258605957,-21.247896194458008,11.668977737426758,-20.898357391357422,2.322366952896118,1.3289496898651123,0.8809987306594849,-15.777353286743164,-2.374429225921631,-26.38496208190918,-33.14717483520508,-11.930743217468262,34.65787887573242,34.83369827270508,35.5794792175293,32.71522903442383,4.053329944610596,54.66594696044922,30.02350425720215,31.702199935913086,37.507957458496094,-28.326019287109375,-21.802949905395508,23.91636848449707,-28.89232063293457,-4.535040378570557,-20.218692779541016,-27.224842071533203,-10.681939125061035,-10.912988662719727,15.807833671569824,13.972651481628418,-32.37816619873047,-12.02225112915039,25.725215911865234,21.330989837646484,38.936546325683594,40.108882904052734,31.95953941345215,20.852867126464844,2.739522695541382,39.809722900390625,-47.67815399169922,34.91512680053711,22.33120346069336,-10.291557312011719,31.655263900756836,-48.954288482666016,-5.683231353759766,14.796100616455078,38.30923843383789,9.317767143249512,-29.82866859436035,36.015323638916016,-35.886077880859375,-32.50129699707031,30.54780387878418,-0.9823877811431885,-22.599821090698242,1.2443935871124268,-49.04003143310547,-51.91102600097656,-32.82421112060547,-17.030927658081055,-1.8992531299591064,-31.479434967041016,33.543392181396484,20.294321060180664,38.168800354003906,34.6543083190918,39.600215911865234,41.32075119018555,43.952850341796875,19.638032913208008,-36.103065490722656,-20.105937957763672,45.68952178955078,-17.118526458740234,-15.485568046569824,-11.433304786682129,-4.513422012329102,17.716032028198242,33.123573303222656,32.371734619140625,37.272674560546875,-51.674991607666016,-37.9649543762207,-15.235605239868164,-49.33797836303711,2.253722906112671,40.93231201171875,52.56536102294922,51.48954772949219,49.9889030456543,54.38254165649414,49.621559143066406,37.192176818847656,25.97645378112793,2.8478524684906006,9.692609786987305,10.361767768859863,-0.03604231774806976,-0.03604231774806976,17.696714401245117,33.85073471069336,-23.939205169677734,-34.14609909057617,27.370546340942383,4.8727898597717285,-25.048812866210938,-52.588165283203125,-18.874950408935547,-11.020673751831055,22.618383407592773,27.39632225036621,48.1100959777832,48.85881042480469,50.11521530151367,54.760589599609375,-0.312813937664032,26.502487182617188,34.79698181152344,34.7970085144043,-0.312813937664032,-7.554952144622803,-30.081085205078125,-53.26667404174805,55.17454528808594,17.946815490722656,31.25972557067871,5.041313171386719,14.419181823730469,8.471683502197266,4.868343830108643,13.689598083496094,-7.0483174324035645,-15.75560474395752,-40.826210021972656,33.07647705078125,22.278987884521484,50.6739387512207,32.74684524536133,17.66127586364746,-46.08489990234375,40.54286193847656,-14.596423149108887,28.64883804321289,25.172746658325195,-53.62778091430664,2.779050350189209,-3.261631727218628,19.87771987915039,9.234893798828125,24.840702056884766,-27.72173500061035,4.581871032714844,-8.646687507629395,-15.470610618591309,-35.838218688964844,12.794977188110352,-20.847293853759766,-52.136878967285156,-26.139873504638672,-1.1024385690689087,-44.47303771972656,-6.474380970001221,-29.745590209960938,-20.450572967529297,-43.612491607666016,-24.407245635986328,-26.66695785522461,-0.18877379596233368,-29.670766830444336,-45.44968795776367,6.088611602783203,3.821702241897583,-23.70291519165039,-45.763031005859375,-10.671507835388184,14.25548267364502,-32.27496337890625,45.38888931274414,4.748760223388672,2.7183709144592285,-30.679901123046875,-46.51063537597656,-45.335357666015625,6.663896560668945,25.786773681640625,12.661433219909668,8.977298736572266,13.765557289123535,-5.468297958374023,14.983689308166504,-40.865928649902344,-15.676348686218262,27.213722229003906,-17.118499755859375,-18.1052188873291,12.737223625183105,21.813390731811523,-26.91128158569336,41.29584884643555,-0.35193854570388794,40.57056427001953,5.636544227600098,13.802826881408691,25.482059478759766,10.725801467895508,-32.170021057128906,24.677509307861328,4.531342029571533,3.8316454887390137,-1.0734130144119263,-4.769139766693115,-0.5828530788421631,27.39632225036621,21.957477569580078,17.972028732299805,28.3968563079834,50.105674743652344,40.792083740234375,-20.711355209350586,-46.07886505126953,-40.63080596923828,7.133139133453369,6.7918171882629395,0.7308207750320435,7.95272159576416,49.47441864013672,49.06209182739258,33.17610168457031,49.67939376831055,-39.59082794189453,54.481292724609375,50.460205078125,-2.9278621673583984,17.971588134765625,1.0466936826705933,1.0466936826705933,-45.30928039550781,45.496177673339844,20.100343704223633,32.53856658935547,1.0466936826705933,49.46464157104492,-26.32345199584961,44.628238677978516,44.50218963623047,-0.03674627095460892,10.812614440917969,19.333717346191406,9.44400405883789,49.15708541870117,48.50230026245117,49.66608428955078,30.272035598754883,-0.2840927839279175,49.08358383178711,37.37495803833008,-24.675079345703125,17.103954315185547,-12.85356616973877,43.936283111572266,-4.8408894538879395,-35.90837478637695,-33.324188232421875,-41.85340118408203,-43.87282180786133,-39.63107681274414,-20.798521041870117,-47.99448013305664,-39.98323059082031,18.45074462890625,-34.31638717651367,-27.004798889160156,-7.606417655944824,-7.16321325302124,10.362404823303223,-17.904773712158203,-32.65874099731445,-5.886143207550049,-12.014214515686035,33.39230728149414,50.75469207763672,52.39405059814453,45.01200485229492,-8.631847381591797,31.679302215576172,-25.96335220336914,-28.359683990478516,11.385693550109863,3.7195305824279785,-2.082242012023926,-51.51279067993164,0.007326851598918438,31.679302215576172,16.706220626831055,-43.6989631652832,27.566923141479492,28.45718002319336,-5.4949774742126465,-40.5233154296875,-40.75191116333008,4.671108245849609,-12.524980545043945,-50.574459075927734,-40.92089080810547,-42.63640594482422,-17.768569946289062,3.540907621383667,-51.17327880859375,18.45071792602539,16.953384399414062,-19.275754928588867,17.258047103881836,50.071468353271484,28.99339485168457,9.058393478393555,-4.154531955718994,30.713682174682617,23.41251564025879,18.591218948364258,-29.550251007080078,31.629547119140625,17.975139617919922,32.05945587158203,24.258180618286133,23.384105682373047,36.889915466308594,30.72337532043457,29.660249710083008,26.85517120361328,29.15117835998535,29.346303939819336,30.206680297851562,-16.58359146118164,34.995521545410156,24.857404708862305,26.238401412963867,31.516796112060547,1.9865726232528687,29.774681091308594,-30.042152404785156,-11.775355339050293,30.14619255065918,38.01013946533203,33.739891052246094,30.810955047607422,39.3859748840332,11.947698593139648,30.670522689819336,28.839153289794922,-8.929570198059082,28.662052154541016,8.55475902557373,-4.02462911605835,14.598810195922852,-2.486088752746582,-11.782849311828613,22.576549530029297,18.78487205505371,17.523685455322266,-33.39564514160156,-31.45391082763672,-24.805706024169922,12.08227252960205,11.691692352294922,-49.37846374511719,31.136974334716797,27.367183685302734,-21.653676986694336,36.32354736328125,-53.62348556518555,38.01271438598633,-49.7523193359375,-52.14889144897461,8.55988597869873,4.968295097351074,-2.280846118927002,-34.99129104614258,7.320165634155273,8.926138877868652,22.586326599121094,8.950148582458496,-12.91602611541748,18.127178192138672,21.842041015625,-42.18865203857422,-29.21143913269043,10.707340240478516,-11.241170883178711,43.82966232299805,-12.63333797454834,8.98402214050293,25.212953567504883,16.96146583557129,-43.28300476074219,42.752899169921875,50.02997589111328,50.820743560791016,21.809465408325195,36.55942916870117,39.41934585571289,55.181915283203125,6.206350326538086,-45.5145263671875,-14.675066947937012,-30.69480323791504,-52.22109603881836,37.23087692260742,16.26640510559082,12.167646408081055,-22.132797241210938,-27.622093200683594,33.53284454345703,17.017011642456055,30.10996437072754,13.319479942321777,-5.224521636962891,51.71852111816406,-23.32015609741211,-20.456613540649414,-22.994779586791992,51.90153121948242,-44.305328369140625,-10.35994815826416,35.789588928222656,-19.51715660095215,-47.68128204345703,-18.528657913208008,-1.6497368812561035,-25.0386962890625,-44.91531753540039,-21.974637985229492,-21.62786865234375,18.631444931030273,-32.06456756591797,3.0345680713653564,-45.165855407714844,-10.591370582580566,-34.3937873840332,22.250139236450195,-22.279455184936523,-23.061283111572266,51.39826583862305,41.27477264404297,2.447091817855835,25.744831085205078,-25.739912033081055,-20.965858459472656,-30.944721221923828,34.33926010131836,3.1745152473449707,50.05657958984375,7.206490516662598,-24.81865119934082,-41.4384651184082,6.3413519859313965,-6.878664493560791,17.263933181762695,-41.81475067138672,-6.658336162567139,-5.589978218078613,-7.276655673980713,-5.2927703857421875,27.621463775634766,-4.755594253540039,21.03375244140625,12.037467002868652,17.754932403564453,-27.01252555847168,10.784669876098633,-24.808000564575195,-49.64868927001953,-17.402469635009766,31.77793312072754,10.305161476135254,-28.673891067504883,37.99723815917969,8.28317928314209,39.35380554199219,9.688706398010254,-21.543609619140625,42.72228240966797,26.502487182617188,-2.3902530670166016,-0.22479690611362457,-9.668203353881836,-10.24749755859375,0.8800955414772034,4.321785926818848,11.870867729187012,37.41156768798828,-8.63117504119873,22.564838409423828,-23.00434112548828,-45.447418212890625,11.480085372924805,8.171669960021973,-2.4025113582611084,-5.992883682250977,6.589910507202148,5.643960475921631,31.216651916503906,-18.147951126098633,36.3814697265625,33.875389099121094,12.367105484008789,-16.86215591430664,-49.374656677246094,17.611875534057617,-31.996063232421875,-6.553666114807129,-0.9437440037727356,24.215747833251953,46.23260498046875,12.074871063232422,-13.182411193847656,45.78418731689453,8.217537879943848,-31.358076095581055,-23.7637882232666,-41.45390701293945,1.6030826568603516,-27.577543258666992,-29.509796142578125,-25.57862663269043,-31.203100204467773,-23.746572494506836,-34.552040100097656,3.4133448600769043,-29.375486373901367,-42.515560150146484,-50.69454574584961,-31.96053695678711,-54.14475631713867,-1.0630266666412354,18.931180953979492,9.240104675292969,8.531935691833496,12.237275123596191,28.50173568725586,-11.091764450073242,-10.6816987991333,5.2024688720703125,21.457616806030273,-25.059856414794922,-20.840055465698242,-28.748659133911133,-47.827083587646484,-25.302886962890625,4.244411945343018,46.243255615234375,-29.596439361572266,-24.821748733520508,-23.108537673950195,-39.74668884277344,-29.49131202697754,6.82381534576416,-0.573654055595398,-0.4740053713321686,-31.676362991333008,-52.12004470825195,-23.913362503051758,3.9822654724121094,-44.24256134033203,25.0717716217041,41.76873779296875,46.19279861450195,21.94207000732422,21.842041015625,13.524361610412598,-30.3597412109375,13.365365028381348,-29.693531036376953,-0.8307422995567322,23.53908920288086,-17.970722198486328,-0.24013370275497437,-24.166606903076172,11.262174606323242,-12.41664981842041,43.29993438720703,-15.73608684539795,-17.156225204467773,-38.988426208496094,-14.436644554138184,-29.46308135986328,-48.04334259033203,-18.324247360229492,37.71001052856445,-37.23310089111328,16.105627059936523,-46.325294494628906,-11.165728569030762,-13.825814247131348,-20.29616928100586,-8.447981834411621,-22.880929946899414,7.251544952392578,-14.481882095336914,8.499333381652832,-22.082481384277344,-47.973915100097656,42.22454833984375,38.24199295043945,-2.413795232772827,53.533546447753906,-31.6279296875,17.285558700561523,9.509195327758789,-23.506349563598633,21.538686752319336,-37.42356872558594,-21.914722442626953,32.35796356201172,-36.64381790161133,-44.02830123901367,20.449045181274414,-45.630287170410156,38.76832962036133,-7.266273021697998,-7.266273021697998,7.119195461273193,-32.81818771362305,33.3066520690918,-49.309513092041016,2.9654223918914795,25.725215911865234,10.677485466003418,42.846466064453125,13.436893463134766,8.354659080505371,23.82008171081543,37.950679779052734,15.791213989257812,-11.444361686706543,24.450328826904297,-22.440271377563477,45.7746467590332,2.4963130950927734,-11.020715713500977,-22.240060806274414,-1.901077389717102,-19.540977478027344,-1.8453878164291382,51.88703918457031,33.882450103759766,-22.57500648498535,7.974625587463379,2.1612064838409424,-3.316683530807495,-0.7522441744804382,28.93692970275879,4.176339149475098,12.708829879760742,1.9137659072875977,24.687042236328125,-11.614372253417969,25.737871170043945,9.60579776763916,-19.437397003173828,31.559629440307617,28.82793617248535,18.968969345092773,7.151378154754639,-2.826162099838257,15.400259017944336,8.116409301757812,-3.930635690689087,-1.8347218036651611,40.93231201171875,20.876516342163086,38.194759368896484,11.854081153869629,-9.563597679138184,-9.768881797790527,23.918947219848633,-0.6150596737861633,-29.81739616394043,-22.48516082763672,6.311054706573486,18.21481704711914,37.997406005859375,-2.3353068828582764,38.734519958496094,-36.210880279541016,35.45686340332031,30.63348388671875,-3.575392961502075,-17.671606063842773,-24.27336311340332,31.69562339782715,-4.52706241607666,10.203194618225098,-15.869913101196289,38.219417572021484,28.724563598632812,19.2598819732666,9.697824478149414,-23.056703567504883,-1.7616621255874634,4.762821197509766,-24.77633285522461,-35.29629898071289,2.254352569580078,-0.9971652626991272,28.659687042236328,50.28643035888672,17.611839294433594,-46.63261795043945,16.881099700927734,33.961883544921875,33.961883544921875,-0.586793839931488,-45.576778411865234,4.542210102081299,-13.39409065246582,-42.05176544189453,32.48101043701172,32.565792083740234,4.888782978057861,6.8949785232543945,23.415468215942383,7.211600303649902,-36.966529846191406,-29.53179931640625,44.28488540649414,-15.294355392456055,-29.60024070739746,-19.83888816833496,-29.728242874145508,-33.40959930419922,7.890885353088379,14.444499969482422,-9.092494010925293,-22.932222366333008,25.925962448120117,-33.322021484375,-25.203554153442383,-11.869698524475098,15.67530632019043,-11.471474647521973,-32.9178466796875,-12.151371955871582,10.843299865722656,-19.224292755126953,-32.23755645751953,40.58732223510742,-44.44440841674805,-24.240144729614258,8.254725456237793,-26.94074058532715,-55.35361862182617,12.8365478515625,9.175257682800293,2.7554376125335693,31.685089111328125,6.403809547424316,-14.073452949523926,-20.075944900512695,-21.063356399536133,-21.302017211914062,54.013736724853516,22.661563873291016,18.8510684967041,13.708453178405762,46.51661682128906,2.801811933517456,47.260311126708984,35.64235305786133,-46.069679260253906,-14.2177734375,-19.32166290283203,-31.708629608154297,-34.75407028198242,6.134391784667969,-36.755252838134766,5.859115123748779,-44.451175689697266,-47.179901123046875,-36.90488815307617,10.261634826660156,-22.473711013793945,39.62063217163086,49.00244140625,37.87373352050781,-1.053866982460022,40.082828521728516,12.093193054199219,-15.446189880371094,39.938751220703125,-0.49695855379104614,14.525766372680664,-4.4888529777526855,-42.391021728515625,-38.69874954223633,14.928049087524414,6.472202777862549,13.763070106506348,-5.592434406280518,7.943069934844971,7.28800106048584,-18.360042572021484,6.623069763183594,47.209617614746094,-48.43512725830078,-13.322895050048828,-6.716649055480957,-47.46715545654297,-13.609553337097168,-23.515825271606445,-28.441043853759766,19.02231788635254,9.947051048278809,13.815017700195312,4.116811752319336,-0.4439322054386139,18.92011833190918,-15.194280624389648,32.2428092956543,11.125061988830566,-25.34429168701172,-35.62112045288086,-22.672718048095703,-28.562030792236328,-54.59618377685547,-30.91041374206543,43.00920867919922,-1.2585992813110352,-41.15053176879883,7.528623580932617,-42.961788177490234,-41.150455474853516,-24.518877029418945,4.702106475830078,-30.60354995727539,-25.50462532043457,-39.938804626464844,-19.36768341064453,40.96636962890625,-52.9305305480957,-16.671703338623047,-37.04071807861328,21.764820098876953,23.552698135375977,-38.58890914916992,5.506070613861084,-29.74241828918457,-30.161495208740234,-44.56012725830078,-25.257783889770508,-24.163747787475586,17.01168441772461,20.310056686401367,41.901336669921875,-14.319759368896484,-21.610515594482422,-14.767500877380371,-16.729469299316406,49.863433837890625,42.91329574584961,-26.377471923828125,41.18677520751953,48.20920181274414,3.544466018676758,26.887502670288086,51.69624710083008,43.81360626220703,-17.80289649963379,30.030820846557617,4.053329944610596,-3.021542549133301,-38.532527923583984,28.483867645263672,45.373199462890625,19.59332847595215,29.02300453186035,46.8097038269043,-19.67449188232422,-46.39632034301758,-6.116946220397949,21.432239532470703,-46.70038604736328,29.50738525390625,1.2432963848114014,1.8753563165664673,14.22803783416748,35.50917053222656,44.51006317138672,-24.603290557861328,-13.869382858276367,-21.335474014282227,-6.0436177253723145,11.152920722961426,-16.965545654296875,24.854719161987305,10.848980903625488,28.325273513793945,21.94207000732422,7.142890453338623,-26.000280380249023,-49.99257278442383,40.0662956237793,6.696534633636475,-4.633833885192871,-26.24839973449707,-45.6820182800293,15.862607955932617,-19.49740982055664,-48.345584869384766,7.516082286834717,22.515810012817383,4.884074687957764,-34.00450897216797,-20.04228973388672,24.004587173461914,-42.42932891845703,-34.138648986816406,10.624762535095215,-16.55126190185547,-50.497169494628906,-24.030187606811523,25.416250228881836,34.60978698730469,25.920137405395508,-14.106749534606934,38.27775573730469,15.926090240478516,-12.895611763000488,-9.903755187988281,-39.62599563598633,-8.814562797546387,31.94549560546875,2.7094461917877197,-7.24818754196167,30.859071731567383,4.4956159591674805,-19.06493377685547,-29.94028091430664,-49.173194885253906,-43.49169921875,-33.558746337890625,-10.23926067352295,26.025135040283203,38.36477279663086,24.988943099975586,48.84007263183594,51.05338668823242,40.41625213623047,24.78374481201172,48.25448226928711,26.777507781982422,-30.886741638183594,6.288169860839844,24.988937377929688,-50.957828521728516,20.862075805664062,9.851388931274414,-18.150508880615234,44.30158233642578,16.328048706054688,-43.384063720703125,-32.506229400634766,-2.706965923309326,-26.899507522583008,-26.548442840576172,13.50193977355957,-33.525691986083984,0.3562215268611908,0.060604728758335114,6.091045379638672,11.88672924041748,-6.363280773162842,-17.709575653076172,-46.81121063232422,-4.5480241775512695,-29.320409774780273,-50.23897933959961,-19.07200813293457,-21.466217041015625,-28.02696418762207,8.791252136230469,-41.71401596069336,-36.93941116333008,-8.743531227111816,-16.781164169311523,-18.180492401123047,39.76082229614258,-12.688385009765625,18.77260398864746,25.472734451293945,-17.35382843017578,-8.886220932006836,-26.13888931274414,-18.765731811523438,44.88853073120117,-11.820291519165039,-12.937590599060059,-15.71476936340332,-27.460899353027344,-27.24186134338379,-15.794445037841797,54.99745178222656,-27.742328643798828,-16.214263916015625,-14.107192039489746,14.38299560546875,50.67134475708008,-33.327842712402344,-26.403675079345703,-28.539772033691406,-40.21006774902344,-27.58810806274414,-37.51655960083008,5.190585613250732,46.869510650634766,-3.3067097663879395,9.449674606323242,6.626927852630615,8.205686569213867,-4.915159225463867,-26.26155662536621,-25.9285945892334,3.2764039039611816,-12.155579566955566,-24.25476837158203,-48.23162078857422,-28.015655517578125,-2.025970458984375,-2.715014934539795,9.079963684082031,-22.186038970947266,5.233628749847412,-2.7617926597595215,-0.7219924926757812,11.233648300170898,4.786865711212158,-17.183942794799805,51.66140365600586,8.50356674194336,-15.055264472961426,-12.191560745239258,-18.123184204101562,23.323598861694336,3.11568546295166,-49.582210540771484,-12.881365776062012,-24.70009422302246,6.944930553436279,6.3591227531433105,-3.2088427543640137,-6.491320610046387,-37.128135681152344,-17.27655792236328,6.504241943359375,-10.845174789428711,-0.9320592880249023,35.0277099609375,14.387566566467285,22.496854782104492,-37.08733367919922,-35.783233642578125,-35.77198791503906,-31.04914665222168,-44.374698638916016,-22.574691772460938,-57.63918685913086,24.935876846313477,36.740013122558594,36.89419937133789,-22.06696128845215,-3.4585702419281006,-51.95830535888672,-17.545080184936523,-18.614147186279297,-14.999419212341309,21.957422256469727,-46.3118896484375,-32.98985290527344,39.953182220458984,43.64199447631836,27.6064453125,22.207521438598633,12.387937545776367,-51.78701400756836,-5.592233180999756,-48.06580352783203,-31.954072952270508,-4.064446449279785,-21.025121688842773,-50.298011779785156,-46.789573669433594,-34.653385162353516,4.44284725189209,42.143341064453125,-47.471805572509766,-29.28310775756836,-9.255830764770508,-26.066577911376953,-39.88309097290039,25.72527313232422,-17.96318817138672,12.213475227355957,34.48111343383789,18.39388084411621,-19.904592514038086,-26.565235137939453,-28.11223793029785,-46.66341781616211,-49.53201675415039,-16.413766860961914,-47.34425735473633,-26.561643600463867,-34.8121337890625,9.768401145935059,-56.79593276977539,-14.592687606811523,12.750238418579102,45.37459182739258,-17.009811401367188,-18.423263549804688,-20.415206909179688,2.5385262966156006,9.912628173828125,7.099274158477783,-52.555419921875,25.0975284576416,-36.312828063964844,11.341887474060059,-29.71331024169922,15.302763938903809,-20.094791412353516,21.829198837280273,1.2443907260894775,-8.82351303100586,-2.3195886611938477,-14.516629219055176,-12.02225112915039,-10.646256446838379,-14.357820510864258,-22.135711669921875,-28.02696418762207,-23.879592895507812,24.338661193847656,-14.805191993713379,-14.038965225219727,-19.644763946533203,4.3897624015808105,19.75743865966797,-3.7680113315582275,-37.78958511352539,5.93528413772583,4.867534637451172,10.928913116455078,-4.639411449432373,50.957088470458984,1.2007085084915161,40.0662956237793,-18.735376358032227,30.450511932373047,30.877378463745117,-11.701852798461914,-28.59222412109375,1.4567937850952148,7.033350467681885,22.206714630126953,23.026498794555664,8.146263122558594,27.506975173950195,3.892901659011841,-10.6170654296875,26.303062438964844,54.3272590637207,50.28853225708008,-15.767484664916992,-50.658790588378906,28.17615509033203,24.412628173828125,29.160200119018555,-49.652503967285156,-49.65312576293945,50.818275451660156,51.50495147705078,17.373641967773438,-38.737701416015625,10.190255165100098,25.093338012695312,51.21247863769531,-10.762345314025879,-0.22019962966442108,-21.81906509399414,47.49763870239258,34.23427200317383,-31.124588012695312,-22.50780487060547,2.6580162048339844,-31.565916061401367,-2.4128191471099854,-31.99104881286621,-17.628570556640625,-23.912452697753906,-2.191497802734375,-10.091934204101562,-2.5212485790252686,-1.1619932651519775,10.892232894897461,19.976551055908203,-2.5056285858154297,-0.6289591789245605,14.393766403198242,23.854991912841797,-35.294158935546875,-13.499297142028809,-30.193492889404297,-10.428753852844238,36.98661422729492,42.36959457397461,1.4020518064498901,-21.10913848876953,16.215457916259766,-27.50789451599121,7.3044633865356445,29.836030960083008,-22.699987411499023,38.47571563720703,10.336164474487305,-57.63918685913086,-19.8231258392334,16.84050941467285,-38.164947509765625,-11.868146896362305,-20.192100524902344,-25.391347885131836,-54.02946472167969,-55.185768127441406,-29.187694549560547,-35.13172149658203,-4.89832878112793,-26.161649703979492,23.44044303894043,0.5802189707756042,49.4532470703125,0.945915162563324,-3.938062906265259,18.486133575439453,-0.453514963388443,23.685752868652344,21.135456085205078,-36.296268463134766,40.9890022277832,48.5699462890625,32.1098747253418,13.690643310546875,-25.721511840820312,8.225770950317383,-23.87250518798828,18.771167755126953,13.79125690460205,-6.029857158660889,10.205177307128906,-16.09709930419922,26.210920333862305,-15.646284103393555,-2.852832317352295,5.220277309417725,-8.376158714294434,9.879838943481445,46.34897994995117,49.49081802368164,-10.352727890014648,-22.700090408325195,-30.33445167541504,11.239116668701172,7.431999683380127,-37.257877349853516,-11.099274635314941,-34.6339111328125,9.997761726379395,19.395593643188477,-3.168130397796631,23.66781997680664,-51.133365631103516,-46.34955978393555,-43.25532531738281,-29.108224868774414,11.408220291137695,-23.968355178833008,26.153335571289062,0.984713077545166,-23.54259490966797,-4.915159225463867,-33.03984451293945,11.693513870239258,-23.96611976623535,7.265878200531006,10.614856719970703,17.777950286865234,-0.432495653629303,-31.380285263061523,-46.809242248535156,-29.362842559814453,13.28188419342041,1.3613951206207275,-25.999164581298828,-1.5941532850265503,18.849111557006836,-6.566005706787109,-12.250112533569336,27.39632225036621,15.040641784667969,10.621231079101562,6.550022125244141,4.569065570831299,28.869888305664062,8.18329906463623,25.602882385253906,48.979976654052734,25.368717193603516,-44.162864685058594,30.809892654418945,-30.326425552368164,19.246585845947266,-22.60918617248535,-31.0810546875,-27.130123138427734,12.149426460266113,-44.5284423828125,14.226397514343262,-26.7643985748291,10.335140228271484,8.587484359741211,1.937820553779602,-40.3158073425293,-11.070423126220703,-14.674684524536133,9.018989562988281,-51.746665954589844,-27.43995475769043,-16.227643966674805,3.6549389362335205,-9.306647300720215,15.725465774536133,-39.40978240966797,25.32277488708496,32.662391662597656,40.22224044799805,-10.209151268005371,32.802711486816406,47.69576644897461,44.79477310180664,2.457321882247925,-33.9721565246582,1.840837836265564,9.182503700256348,3.47186017036438,11.713424682617188,-19.91912078857422,11.713424682617188,-44.96620178222656,-13.450325965881348,44.51703643798828,-20.931907653808594,-28.44548797607422,0.07032527774572372,-0.23629878461360931,-25.69153594970703,2.7183709144592285,7.189028739929199,28.459508895874023,40.259639739990234,15.09085464477539,34.685630798339844,-29.93853759765625,-27.911447525024414,33.39521026611328,25.461673736572266,-21.07366943359375,0.1829124093055725,4.287700653076172,25.921091079711914,-27.036283493041992,-20.426416397094727,-20.352092742919922,-32.43312072753906,33.74150466918945,-25.508577346801758,-36.953433990478516,44.13616943359375,31.749847412109375,20.64051055908203,38.856998443603516,47.42911148071289,53.583797454833984,-15.590723037719727,13.59056282043457,19.839208602905273,10.175416946411133,33.077877044677734,4.32452392578125,-19.84134292602539,-17.434207916259766,-44.70485305786133,-45.2404670715332,1.8893793821334839,11.362868309020996,0.8442502021789551,-30.788196563720703,-46.12163162231445,1.3962081670761108,-21.889162063598633,43.74544906616211,-24.685991287231445,-20.893417358398438,-27.298492431640625,-26.397891998291016,18.596189498901367,-25.39547348022461,6.495527267456055,-38.615028381347656,-23.040630340576172,-21.912126541137695,-7.34607458114624,18.596189498901367,-39.23313522338867,-1.867669939994812,-23.435636520385742,-46.072147369384766,34.61565399169922,33.01765060424805,-16.806896209716797,-25.170005798339844,2.398716926574707,-43.972564697265625,-21.912126541137695,2.0750186443328857,-45.24058151245117,-26.5344295501709,-42.71883773803711,3.1742818355560303,1.8780573606491089,9.873682022094727,34.92930221557617,-22.661800384521484,-11.738601684570312,3.189417839050293,30.538166046142578,24.587282180786133,3.6456620693206787,-4.687573432922363,49.20612716674805,37.71733856201172,2.0844807624816895,-30.638065338134766,-15.1288423538208,42.333160400390625,14.593832015991211,2.1775872707366943,1.3951947689056396,8.677435874938965,-14.551214218139648,-11.781026840209961,-12.250767707824707,32.75072479248047,29.444536209106445,4.4956159591674805,2.5913238525390625,11.484530448913574,37.8636360168457,21.668514251708984,1.7870100736618042,4.6038923263549805,-1.5979665517807007,28.583274841308594,-25.612323760986328,-34.3937873840332,-34.546142578125,-19.030744552612305,26.83184051513672,16.4261474609375,28.621204376220703,-51.95917510986328,30.495342254638672,29.56306266784668,-18.154233932495117,4.699789047241211,-22.87143325805664,-15.749791145324707,0.005535234231501818,-21.90292739868164,-23.414958953857422,5.712066173553467,3.298527717590332,-12.21222972869873,-44.57594680786133,-11.468984603881836,-40.43789291381836,-29.745861053466797,-29.43772315979004,-13.449034690856934,10.865504264831543,-19.216272354125977,-29.058313369750977,-38.426414489746094,-17.73832130432129,-3.993887186050415,-3.274103879928589,30.30661964416504,7.473596572875977,-3.409984588623047,-40.865928649902344,34.61716842651367,48.287776947021484,-32.701873779296875,-24.20616912841797,-5.361009120941162,37.02376174926758,20.88072967529297,-18.11566734313965,38.51240539550781,44.983558654785156,38.15595245361328,3.01385498046875,9.775909423828125,25.759262084960938,24.095666885375977,15.212472915649414,17.112157821655273,21.683984756469727,19.422657012939453,17.569456100463867,17.31548309326172,-20.22127342224121,1.6446059942245483,-0.6933491230010986,4.487555503845215,-33.19462203979492,-9.787666320800781,-51.61103439331055,-32.86243438720703,-53.83344650268555,-10.050280570983887,-47.45772171020508,-32.944854736328125,-53.944068908691406,-49.638710021972656,-26.931814193725586,-42.896644592285156,6.755478382110596,-37.0485725402832,-18.641820907592773,-17.343198776245117,4.522518157958984,31.63152313232422,8.353395462036133,-32.21484375,-15.753986358642578,-26.149463653564453,9.15833568572998,10.456576347351074,16.291183471679688,13.365301132202148,20.876516342163086,-11.765034675598145,16.968645095825195,-2.662470817565918,-24.023773193359375,23.753551483154297,32.04705047607422,52.58445739746094,8.930450439453125,8.116409301757812,13.164997100830078,47.996299743652344,31.844411849975586,25.459619522094727,16.077180862426758,0.03929361328482628,0.31714218854904175,-52.7886962890625,-16.675729751586914,21.05767822265625,39.94173049926758,8.984030723571777,32.711585998535156,-32.60630798339844,-44.37049102783203,-1.254701018333435,10.713499069213867,-31.178348541259766,-28.960498809814453,11.642760276794434,-12.735710144042969,-24.787256240844727,-25.99786949157715,10.18896198272705,12.28950023651123,-30.6684513092041,9.054317474365234,-30.492103576660156,-14.562320709228516,2.8670599460601807,5.784673690795898,-27.436538696289062,-28.567626953125,-48.992794036865234,-16.313331604003906,-27.1754207611084,-39.29654312133789,-18.453481674194336,-3.7579755783081055,-36.69858169555664,43.55044174194336,47.332740783691406,51.76375198364258,-2.141627550125122,-19.777055740356445,35.10664367675781,-5.072937965393066,-52.00929260253906,-40.26873016357422,-31.67909049987793,44.51006317138672,5.1528730392456055,-2.551583766937256,-46.2767333984375,-42.54706573486328,-34.979736328125,2.46293306350708,28.583274841308594,37.74921417236328,22.519330978393555,-12.055620193481445,-17.21788215637207,4.22184944152832,-20.106689453125,-20.953079223632812,-15.63870620727539,-27.110254287719727,-53.3021125793457,-41.870384216308594,5.880070686340332,2.537709951400757,29.70359992980957,-1.3882979154586792,35.3841552734375,-23.68738555908203,-43.7721061706543,19.786651611328125,-27.67548179626465,-18.734424591064453,-12.847579956054688,-45.6347770690918,-30.782997131347656,36.22761154174805,-9.798457145690918,2.6145544052124023,53.0606689453125,12.297914505004883,16.156885147094727,22.518943786621094,22.519479751586914,-21.889162063598633,18.85120391845703,-21.689788818359375,-6.383244514465332,38.0188102722168,12.32203197479248,48.28077697753906,33.44466018676758,24.379718780517578,-15.53732967376709,39.19966125488281,37.49940490722656,34.37149429321289,39.70197677612305,26.558095932006836,39.17525863647461,25.802377700805664,37.00019836425781,26.74441146850586,37.9487419128418,25.472503662109375,34.19346618652344,52.860008239746094,29.251237869262695,19.024921417236328,52.489540100097656,-16.597171783447266,-54.023094177246094,-54.94667053222656,-49.208492279052734,-30.137189865112305,-47.35002517700195,-34.6522216796875,41.60960006713867,-42.233760833740234,42.68856430053711,19.27297592163086,-16.767499923706055,24.29848289489746,5.759757995605469,5.659052848815918,-21.84915542602539,30.9765625,36.384376525878906,23.065858840942383,-18.59379005432129,-3.157111167907715,25.19317626953125,12.354593276977539,38.91925811767578,-45.86665344238281,-48.186100006103516,-47.76447677612305,24.947458267211914,-2.3370697498321533,-52.413482666015625,17.528568267822266,-53.327693939208984,12.049348831176758,12.03110408782959,8.069292068481445,-17.049612045288086,20.876516342163086,18.06434440612793,52.46607971191406,36.469451904296875,44.0892448425293,28.384689331054688,-19.75942039489746,-44.83060073852539,10.17701244354248,-18.315509796142578,-33.54217529296875,11.984274864196777,29.68863868713379,44.30220031738281,-7.9471049308776855,-7.773256778717041,-34.76128387451172,-37.44502639770508,-38.69389724731445,-6.4197797775268555,7.3695454597473145,-34.64944839477539,-3.5547120571136475,10.707051277160645,24.91888999938965,21.49112892150879,50.19017028808594,39.62063217163086,1.5188813209533691,8.879300117492676,-11.56379508972168,-19.432153701782227,28.71257972717285,-0.901033878326416,-9.73127555847168,10.384657859802246,-15.333147048950195,14.747920989990234,-21.199508666992188,39.22333908081055,6.367645740509033],\"xaxis\":\"x\",\"y\":[2.0162298679351807,17.262544631958008,20.015514373779297,-25.207965850830078,-10.624383926391602,14.344733238220215,-21.087223052978516,-28.8687744140625,43.09580612182617,-23.91497230529785,56.4101448059082,8.345009803771973,19.357030868530273,-4.401610374450684,-31.57967758178711,-7.978756904602051,-34.232322692871094,-1.3941750526428223,46.73756408691406,-2.1074752807617188,-20.282346725463867,-27.666040420532227,-35.574317932128906,-29.595754623413086,44.24332809448242,-39.328365325927734,-28.877161026000977,1.1183936595916748,62.54187774658203,-38.45011901855469,-32.29222869873047,61.63684844970703,-49.63447570800781,18.806453704833984,-20.75074005126953,53.934173583984375,-32.807315826416016,63.69623565673828,-6.850759983062744,-13.96838665008545,4.380415916442871,-22.20489501953125,-42.4975700378418,57.711673736572266,29.2531681060791,-13.44571304321289,62.48432159423828,4.808909893035889,-18.783390045166016,3.489471912384033,-44.1107063293457,1.8116251230239868,-7.138967990875244,-5.512021064758301,5.210142135620117,-29.02837371826172,2.70661997795105,9.05911922454834,-27.271209716796875,-19.996173858642578,7.965904712677002,-4.23991060256958,52.573238372802734,8.51351261138916,27.687835693359375,-6.955374717712402,55.68899154663086,3.281252145767212,22.099349975585938,10.248222351074219,50.19929122924805,8.780263900756836,16.024002075195312,-15.544227600097656,7.5544586181640625,5.496854305267334,1.7300165891647339,-25.96308708190918,50.60553741455078,-7.222570896148682,42.0256233215332,5.759552478790283,13.08244514465332,8.078177452087402,-7.61949348449707,29.64544105529785,47.098899841308594,18.205339431762695,-8.550795555114746,-37.573795318603516,-1.0527980327606201,-0.5712975859642029,9.532196044921875,2.129509687423706,-15.28764533996582,5.254996299743652,-3.008709669113159,1.5225094556808472,-34.2588996887207,-15.91813850402832,-30.1573486328125,-6.0353007316589355,41.71525955200195,46.900474548339844,-0.7644971609115601,14.216089248657227,28.852201461791992,40.850624084472656,-5.111395835876465,-1.1082459688186646,-21.913257598876953,-14.336132049560547,-11.366165161132812,-4.917064189910889,-42.01803970336914,-14.800333976745605,-23.840011596679688,8.963769912719727,-34.981719970703125,56.13491439819336,-14.314436912536621,9.657464981079102,2.3628013134002686,7.495584487915039,4.992807865142822,-17.36741828918457,-9.669151306152344,-2.5979480743408203,-20.37042808532715,24.851661682128906,9.843032836914062,-23.518375396728516,-22.86705207824707,1.831591248512268,2.978107452392578,13.415369033813477,13.272632598876953,27.687835693359375,-51.73351287841797,22.90979766845703,62.46125030517578,22.90979766845703,-9.397335052490234,-15.019991874694824,46.877315521240234,-15.241509437561035,-0.1318366974592209,-21.576818466186523,-9.198953628540039,-4.362296104431152,14.508569717407227,-45.82761764526367,-17.560222625732422,4.078886032104492,7.509566307067871,-20.33405876159668,52.247947692871094,50.94261169433594,-12.813799858093262,-17.068466186523438,-7.124557971954346,-10.90776538848877,-6.794928550720215,-8.666047096252441,-0.6246996521949768,20.47468376159668,11.631988525390625,-12.632333755493164,-16.020788192749023,7.722823143005371,-2.3311281204223633,-12.49374771118164,46.0316162109375,3.3233273029327393,-18.25425910949707,50.64890670776367,-20.694263458251953,-20.92747688293457,-29.914939880371094,-8.992839813232422,6.084407329559326,1.680924654006958,43.39487838745117,-4.428214073181152,59.730308532714844,11.740784645080566,24.411785125732422,4.861710071563721,-4.970286846160889,20.912275314331055,-34.105838775634766,46.71691131591797,63.52323532104492,-29.738096237182617,-42.71664047241211,-41.96535873413086,11.711666107177734,5.1884379386901855,-20.321758270263672,0.5951169729232788,-35.99696731567383,60.4187126159668,-34.055198669433594,-3.5621840953826904,-34.623477935791016,27.407920837402344,-17.41545867919922,25.5745906829834,-0.3684225082397461,-13.193787574768066,15.36795425415039,-23.756511688232422,14.438643455505371,-44.22566604614258,-45.05192184448242,-47.68381118774414,-37.984596252441406,-34.74101638793945,-30.33343505859375,-22.795597076416016,-31.73485565185547,11.693000793457031,-39.10108947753906,-26.61518096923828,-21.035696029663086,12.102607727050781,-0.5127155780792236,-6.55241060256958,4.953888893127441,-0.5160000324249268,-17.823217391967773,1.7800371646881104,-0.5932847261428833,49.79167175292969,-12.710039138793945,2.507878541946411,-12.084519386291504,-23.91099739074707,56.712188720703125,-5.002844333648682,-25.71170425415039,-24.003446578979492,-29.510929107666016,64.93516540527344,-8.900158882141113,-35.569618225097656,52.32069396972656,-29.621644973754883,6.439323902130127,-20.936250686645508,-34.596343994140625,3.836747407913208,-6.739938259124756,-20.784435272216797,-20.985036849975586,1.0131220817565918,53.91267395019531,53.91267395019531,7.976225852966309,9.85516357421875,58.42536544799805,58.30257797241211,26.816207885742188,13.179315567016602,39.506378173828125,-10.660722732543945,20.850887298583984,52.185874938964844,42.991783142089844,43.982147216796875,36.13542938232422,-32.09757614135742,-23.71433448791504,-26.580665588378906,-43.69337844848633,26.230802536010742,14.122876167297363,-24.310665130615234,-47.55146026611328,24.322002410888672,-26.546236038208008,14.823524475097656,57.369258880615234,14.739153861999512,22.28297233581543,54.65491485595703,-12.459399223327637,20.54310417175293,52.18655014038086,47.7248420715332,-19.483924865722656,23.779434204101562,12.622023582458496,23.690858840942383,47.7248420715332,14.317963600158691,55.75089645385742,-31.113964080810547,-30.605005264282227,-31.85340118408203,-22.567657470703125,52.51951217651367,19.788602828979492,4.252281188964844,-8.38949203491211,-27.369482040405273,-33.0838623046875,-23.35844612121582,58.537784576416016,-26.899307250976562,63.49079895019531,64.98455810546875,-27.881105422973633,47.463741302490234,-6.113326072692871,6.698253154754639,-31.111154556274414,-3.6566741466522217,18.697540283203125,13.814163208007812,-2.490748643875122,-34.7806282043457,16.12278175354004,-33.55989074707031,11.262240409851074,-12.065716743469238,-3.1890523433685303,5.342051982879639,14.739153861999512,41.4547004699707,-7.5630202293396,-4.635230541229248,7.936110496520996,-29.228599548339844,-2.300931930541992,8.477675437927246,8.567054748535156,-0.6818803548812866,22.557382583618164,-35.495643615722656,-35.7010498046875,-10.944808006286621,22.55792236328125,-9.194528579711914,-40.796173095703125,-30.22954750061035,-34.21706008911133,-21.28481674194336,42.6591796875,52.5877571105957,22.558147430419922,1.1673709154129028,-0.27092981338500977,-27.07362937927246,31.254961013793945,-1.8912967443466187,-32.67863464355469,-9.018234252929688,41.6384391784668,13.319343566894531,-28.018177032470703,0.3984450101852417,31.50983428955078,3.4522740840911865,-41.389076232910156,3.5749683380126953,14.282770156860352,-42.34107971191406,4.324328899383545,-24.040599822998047,29.26628303527832,16.17498779296875,-20.36670684814453,24.39394187927246,-3.3604819774627686,16.360530853271484,-33.6794548034668,10.447491645812988,-8.166561126708984,5.9782280921936035,8.378222465515137,0.9347972869873047,-11.7008638381958,-19.670196533203125,10.122579574584961,4.2041192054748535,-13.284605026245117,-30.973499298095703,-29.197181701660156,-31.674190521240234,3.1236841678619385,-4.843408107757568,31.23986053466797,1.2916615009307861,18.192628860473633,-8.163472175598145,-22.54039192199707,-32.43696212768555,64.0374984741211,55.02779769897461,31.265968322753906,18.19965171813965,-19.59857177734375,-11.550607681274414,-10.181036949157715,11.278108596801758,-26.79303741455078,-27.071552276611328,53.9864387512207,-26.68143653869629,6.45364236831665,-36.03709411621094,1.3259133100509644,4.190415382385254,44.90501403808594,-49.64727020263672,-0.5107791423797607,-24.729679107666016,-6.713747501373291,-28.50356674194336,-34.71830749511719,2.3842453956604004,27.639007568359375,14.459678649902344,-14.727686882019043,-13.555769920349121,-12.89234733581543,-19.858478546142578,-4.622102737426758,52.083065032958984,3.6114375591278076,-6.140838623046875,24.55681800842285,-22.18753433227539,8.807265281677246,-18.23227882385254,-1.9751588106155396,-21.02465057373047,53.24748229980469,-29.181360244750977,4.612937927246094,20.463008880615234,52.377376556396484,-12.56240463256836,14.751218795776367,6.8052520751953125,15.525426864624023,2.8584134578704834,5.996072292327881,6.746187210083008,53.83705520629883,-9.042628288269043,6.186606407165527,-9.21960163116455,4.514170169830322,-15.19074535369873,-34.03467559814453,7.378003120422363,-7.184603214263916,-9.333020210266113,-7.686750888824463,-28.135955810546875,-14.504396438598633,9.866681098937988,-18.32401466369629,-52.49805450439453,-51.2003288269043,-20.843242645263672,-31.93065071105957,-20.815723419189453,-46.061527252197266,3.280115842819214,-2.5964152812957764,16.717914581298828,-2.97759747505188,-2.779459238052368,2.9730584621429443,-11.464778900146484,23.887170791625977,53.10619354248047,-38.65024185180664,-16.736953735351562,-33.70272445678711,22.68095588684082,-9.451602935791016,4.291310787200928,6.891246318817139,-5.281773090362549,6.992900371551514,-3.5893309116363525,3.783860921859741,0.7290155291557312,-31.02713966369629,-3.9472298622131348,-11.455700874328613,53.23554229736328,5.7713847160339355,-42.786075592041016,59.699920654296875,-20.498218536376953,-9.262694358825684,-17.965869903564453,-22.63707160949707,-21.457033157348633,53.7486457824707,49.7816276550293,-3.481435537338257,9.550042152404785,14.52253532409668,-23.146015167236328,-33.48044204711914,13.069918632507324,-28.07302474975586,52.64845275878906,-24.94907569885254,-17.692819595336914,-25.86042594909668,-25.797439575195312,-21.72809600830078,-2.5831997394561768,55.4536018371582,55.42885971069336,-48.424072265625,17.102550506591797,12.675461769104004,-36.177940368652344,23.2450008392334,-43.58136749267578,-19.472354888916016,-20.822097778320312,21.956729888916016,12.740267753601074,-2.154204845428467,-6.3757147789001465,11.164830207824707,14.807394981384277,49.716026306152344,-15.682268142700195,51.79438781738281,-3.357051372528076,20.2535343170166,7.057343006134033,-22.04047966003418,-3.5401036739349365,-6.3757147789001465,0.8202368021011353,6.850732803344727,-30.9324951171875,3.0786900520324707,-33.55616760253906,8.52793025970459,-16.566246032714844,-5.653951168060303,-2.963141918182373,52.758705139160156,7.8470540046691895,-6.695436000823975,-23.287443161010742,-8.232261657714844,11.540844917297363,15.487956047058105,-7.449983596801758,-8.301985740661621,9.917771339416504,-2.673552989959717,4.044493675231934,6.914490222930908,-24.674667358398438,-8.310741424560547,4.978569984436035,1.0953996181488037,-36.351436614990234,-42.2983512878418,-16.5821475982666,18.04469108581543,-6.8080878257751465,46.898399353027344,-47.41331100463867,-9.567429542541504,-19.462923049926758,-17.963743209838867,52.74465560913086,-26.62212371826172,-3.1633174419403076,-10.333645820617676,47.69009017944336,-31.424137115478516,-21.517547607421875,-31.206140518188477,22.0419921875,-21.438405990600586,56.666568756103516,59.43465042114258,-33.43480682373047,-34.69443130493164,46.05529022216797,40.96486282348633,9.014396667480469,32.72493362426758,53.054664611816406,-11.254629135131836,-21.678552627563477,-10.145817756652832,14.964884757995605,-2.8985249996185303,-8.389939308166504,-15.364686012268066,-10.758124351501465,-11.020683288574219,-9.095179557800293,-26.547266006469727,44.64870071411133,-27.279085159301758,49.06465530395508,-9.845226287841797,2.7868590354919434,-36.62152862548828,4.460174083709717,48.87595748901367,12.25836181640625,-19.434425354003906,-30.919443130493164,-2.842221736907959,-21.910293579101562,-13.528406143188477,-50.43478775024414,43.534915924072266,-30.560762405395508,-41.59943389892578,-0.06531188637018204,-5.090933799743652,-11.995594024658203,-10.57397174835205,8.123686790466309,7.041975498199463,-1.5288372039794922,23.831275939941406,-1.6203150749206543,8.36988639831543,9.438301086425781,10.917454719543457,12.798842430114746,-2.8728668689727783,-10.756596565246582,7.465468406677246,5.514751434326172,6.703900337219238,13.475189208984375,13.712858200073242,25.04044532775879,3.748538017272949,-11.417895317077637,-11.388190269470215,-3.8083250522613525,-2.438307046890259,-30.347776412963867,-18.850996017456055,22.987945556640625,-40.48434066772461,-1.3553460836410522,63.516517639160156,-38.69243621826172,-28.729251861572266,-45.136905670166016,0.9103320837020874,-19.214967727661133,-37.198631286621094,-19.284040451049805,-35.55342102050781,2.194476842880249,-32.77745056152344,-0.767837643623352,8.653404235839844,57.019615173339844,23.82404899597168,15.74687385559082,-11.057602882385254,-28.714284896850586,16.02385711669922,5.878199577331543,24.540742874145508,-13.109724044799805,-20.770217895507812,4.4514665603637695,1.5257912874221802,-5.593085289001465,-8.570918083190918,10.431211471557617,-6.776535987854004,-21.842315673828125,-0.2908562123775482,51.6590690612793,-43.33195495605469,-36.599971771240234,57.753570556640625,14.55866527557373,-29.76064109802246,12.492208480834961,-13.989751815795898,-23.542930603027344,-36.23173904418945,-13.048323631286621,-24.058624267578125,-13.404852867126465,-29.092906951904297,-12.947112083435059,-30.30930519104004,-31.63018226623535,-29.325864791870117,2.5199193954467773,2.3774805068969727,-16.996889114379883,-14.77035903930664,-14.770227432250977,29.973127365112305,-25.407459259033203,16.307891845703125,-29.137226104736328,-41.75295639038086,66.10782623291016,-35.28144454956055,-40.14430236816406,-40.8326530456543,-43.917232513427734,-40.59990692138672,-31.663713455200195,54.26432800292969,50.18791961669922,-40.00734329223633,-40.082557678222656,-16.885055541992188,-24.584671020507812,-41.83030319213867,-41.006591796875,60.70983123779297,-42.27301788330078,-39.92793655395508,27.543006896972656,-8.613242149353027,-31.096860885620117,-1.351167917251587,-0.9618111848831177,-12.788612365722656,16.638334274291992,-17.805686950683594,58.962547302246094,-4.129424571990967,-15.72219181060791,-26.175132751464844,5.452184677124023,-26.195009231567383,32.72493362426758,16.62569236755371,-3.922172784805298,17.896020889282227,27.498870849609375,62.03852462768555,-2.098189115524292,20.566024780273438,58.2413215637207,9.64179515838623,23.78775978088379,-5.829859256744385,2.3908495903015137,23.78775978088379,-39.66920852661133,-11.636016845703125,-26.900291442871094,-24.299087524414062,4.785468578338623,14.813721656799316,56.575618743896484,42.04573059082031,10.809435844421387,25.970489501953125,12.685619354248047,28.4771728515625,-20.62358283996582,15.77761459350586,19.16799545288086,7.808431625366211,15.69510555267334,43.99681854248047,23.674453735351562,23.025911331176758,18.457494735717773,-1.6925305128097534,29.275907516479492,30.200366973876953,14.604875564575195,49.71251678466797,5.08112907409668,-23.79012107849121,57.64832305908203,-2.2253835201263428,-14.038114547729492,-48.03665542602539,-18.958553314208984,-32.72031021118164,-16.325428009033203,-21.531219482421875,59.896976470947266,7.190808296203613,22.19994354248047,65.32861328125,-17.11634063720703,-44.600616455078125,-12.118720054626465,-34.799259185791016,26.377792358398438,-46.875911712646484,54.616641998291016,33.155609130859375,-12.950247764587402,-34.900413513183594,29.180160522460938,-30.820148468017578,51.32172393798828,-24.39215087890625,45.830928802490234,2.9625308513641357,26.18233299255371,-33.41810989379883,-7.5021071434021,-35.6396484375,-40.197593688964844,2.4395604133605957,-8.915411949157715,30.013486862182617,27.272218704223633,4.369576930999756,17.145597457885742,-37.21235656738281,-44.214698791503906,41.480682373046875,-33.08024978637695,37.70759201049805,12.755701065063477,-43.3900032043457,-33.083534240722656,37.45396041870117,-13.681873321533203,41.22671127319336,36.13542938232422,50.345733642578125,-21.945858001708984,39.16269302368164,-29.871742248535156,-25.1671199798584,-22.46537208557129,-7.627363204956055,-6.921291351318359,27.467430114746094,46.87099075317383,2.453371047973633,57.31941604614258,-33.54472351074219,-11.19648265838623,-29.23102569580078,19.385984420776367,20.85350227355957,63.128658294677734,2.435264825820923,49.19973373413086,-15.184565544128418,-22.329965591430664,-28.377771377563477,58.2845573425293,26.56584358215332,-25.325729370117188,-26.016326904296875,-33.198246002197266,57.37126922607422,-18.34436798095703,-34.74241256713867,-32.142356872558594,13.184038162231445,4.435150146484375,51.82248306274414,-41.67203140258789,-22.042104721069336,-32.53048324584961,22.405624389648438,12.12622356414795,12.446669578552246,-21.6361083984375,5.897520542144775,16.2134952545166,25.484973907470703,10.083333969116211,12.164947509765625,-21.791332244873047,12.802136421203613,8.623711585998535,2.387237310409546,28.671268463134766,4.452121734619141,-37.838722229003906,23.963857650756836,66.8370590209961,6.160783290863037,-0.4003390371799469,27.150388717651367,9.65758228302002,-20.328136444091797,-17.612396240234375,-26.654386520385742,27.68710708618164,-44.93156814575195,18.476057052612305,53.3638916015625,-19.828590393066406,6.772645950317383,31.620969772338867,21.2552490234375,-1.5923881530761719,-32.68018341064453,-31.145288467407227,-5.840518474578857,-10.982157707214355,21.262130737304688,22.295177459716797,53.37057113647461,54.84004592895508,61.6415901184082,-36.263370513916016,57.751197814941406,2.4589874744415283,-34.473182678222656,-21.045669555664062,-1.2963156700134277,-0.08802574127912521,1.2872157096862793,2.7987751960754395,-43.304134368896484,-2.8329360485076904,7.780851364135742,14.356138229370117,-29.027132034301758,-27.5023193359375,16.583881378173828,-14.4155855178833,9.571091651916504,-2.0790209770202637,19.98847007751465,7.706735134124756,-6.220193386077881,-30.228910446166992,-1.1280884742736816,-16.13011932373047,57.2780876159668,-12.770917892456055,52.59242630004883,-11.01418685913086,-6.75625467300415,4.137826442718506,-35.5453987121582,-1.280408263206482,13.776371955871582,-23.28461265563965,-35.75425338745117,20.22700309753418,-18.154020309448242,0.8621423244476318,-46.693153381347656,13.18928050994873,56.37517547607422,-4.91699743270874,13.628249168395996,55.44275665283203,-13.817710876464844,3.914766788482666,11.414236068725586,16.30638885498047,14.839057922363281,-19.61417007446289,15.139388084411621,-7.259921073913574,53.877262115478516,-7.574504852294922,43.42108917236328,-27.828100204467773,20.818588256835938,33.689327239990234,42.67023849487305,-18.62229347229004,-21.44294548034668,-4.268204689025879,33.155609130859375,-15.544541358947754,1.639970064163208,6.099208354949951,50.29463577270508,17.312990188598633,11.22772216796875,-34.4191780090332,32.672279357910156,-6.412644863128662,41.267982482910156,-1.0542854070663452,58.678524017333984,-21.49604034423828,15.221721649169922,51.7198600769043,-13.701231956481934,9.627330780029297,9.432787895202637,30.444358825683594,66.84485626220703,7.108695983886719,7.889236927032471,-21.8762264251709,53.581626892089844,27.845781326293945,3.327070951461792,2.603342056274414,5.22891902923584,-0.49873632192611694,-27.571392059326172,-14.364349365234375,-7.089081764221191,54.192901611328125,59.238346099853516,-30.939189910888672,-8.075603485107422,4.247694492340088,14.886011123657227,4.308575630187988,48.11202621459961,-6.4532084465026855,-6.494379997253418,25.158193588256836,48.222557067871094,-4.781850337982178,-5.8937482833862305,4.320254325866699,46.97836685180664,-51.560813903808594,-37.44108963012695,40.596675872802734,-9.95542049407959,-30.464954376220703,14.57113265991211,22.89028549194336,-30.41836166381836,8.52635669708252,43.65790939331055,11.338891983032227,-44.83408737182617,25.998741149902344,55.03852081298828,-48.83112335205078,-36.739410400390625,47.135501861572266,-21.890275955200195,-25.24456024169922,3.111335277557373,-9.760523796081543,19.559730529785156,-1.8328015804290771,-30.47290802001953,-7.8650312423706055,-10.51932430267334,-16.129070281982422,59.69992446899414,-23.27374839782715,45.31098556518555,-48.617828369140625,-41.310054779052734,-40.18839645385742,-2.5029330253601074,1.2036551237106323,-19.822832107543945,-40.431785583496094,-40.42315673828125,-0.05924263224005699,8.333248138427734,-16.03602409362793,2.7306485176086426,-33.35599136352539,16.439105987548828,-4.240503787994385,-5.093662261962891,-34.70659255981445,-8.717591285705566,10.78217887878418,-3.528341054916382,31.76985740661621,29.979629516601562,-28.73139190673828,10.73914909362793,-16.098148345947266,12.920022964477539,-12.985930442810059,31.76985740661621,44.258644104003906,-8.658552169799805,5.22011661529541,-8.321391105651855,61.10361099243164,-1.5344922542572021,-39.72622299194336,-22.36448097229004,-8.848807334899902,11.380114555358887,-14.045843124389648,-34.61479949951172,39.81874465942383,25.856014251708984,37.88840866088867,62.21876907348633,24.242340087890625,-32.90822982788086,31.339563369750977,56.3093376159668,69.44673156738281,8.820944786071777,-7.084336757659912,46.342979431152344,-22.476285934448242,69.4331283569336,3.6627562046051025,59.84510803222656,28.610065460205078,-9.813863754272461,-3.1384506225585938,45.743492126464844,-23.54339599609375,6.75935173034668,-26.476640701293945,-28.564409255981445,25.93729019165039,21.705734252929688,30.51655387878418,-12.13846492767334,-45.36604309082031,-12.996309280395508,-4.247041702270508,-16.47239112854004,51.351375579833984,-27.49591064453125,-35.856605529785156,13.400127410888672,8.54111385345459,11.885008811950684,15.890451431274414,7.566374778747559,3.107771396636963,49.918487548828125,8.873552322387695,-7.928272247314453,-40.3568000793457,4.6563639640808105,3.202481746673584,-6.819799423217773,-15.353878021240234,13.623491287231445,-5.1089863777160645,56.002471923828125,53.726722717285156,10.095590591430664,54.62075424194336,-51.935829162597656,6.410268306732178,-19.337539672851562,48.66377258300781,26.85961151123047,-9.849089622497559,-1.866041660308838,-20.98524284362793,-14.74605655670166,-26.114294052124023,52.07523727416992,-1.7159398794174194,9.91951847076416,0.6530234813690186,-2.920578956604004,-11.358358383178711,5.650196075439453,0.9062598347663879,31.182239532470703,19.340421676635742,-26.48933219909668,57.2783088684082,-19.759185791015625,-26.653690338134766,39.506378173828125,-20.931306838989258,9.782382011413574,14.918811798095703,4.4344801902771,-11.361663818359375,11.24916934967041,18.369659423828125,14.475894927978516,-17.16884994506836,59.051414489746094,24.080211639404297,4.373142242431641,-22.04401969909668,-28.748947143554688,-19.965688705444336,3.9094107151031494,7.788622856140137,-32.5223503112793,-28.69705581665039,14.931368827819824,-8.160350799560547,19.58268165588379,57.82044982910156,-26.156511306762695,46.465087890625,51.455902099609375,55.174739837646484,10.651653289794922,53.61408615112305,-27.030254364013672,4.451938629150391,14.716662406921387,-30.481491088867188,-10.829657554626465,-30.85623550415039,-11.719465255737305,30.804092407226562,-2.9237170219421387,46.46308135986328,45.90670394897461,-14.67007827758789,-23.585010528564453,30.927942276000977,43.566898345947266,16.874744415283203,-25.57276725769043,9.151029586791992,12.662553787231445,-40.95900344848633,-40.938148498535156,58.14530944824219,53.69770431518555,-6.8080878257751465,-10.576430320739746,-18.05243682861328,45.87692642211914,-9.909649848937988,26.03510284423828,45.98896789550781,16.181089401245117,-17.202762603759766,22.131587982177734,0.3054806590080261,-25.5709285736084,-39.21234130859375,-18.495824813842773,-31.079389572143555,15.657626152038574,-35.55704879760742,56.05661392211914,1.946065068244934,18.749170303344727,-0.4168098270893097,11.584753036499023,26.40688133239746,9.965734481811523,-6.79853630065918,28.05099868774414,9.838020324707031,-38.11272048950195,6.478639602661133,-29.505741119384766,13.420583724975586,18.624866485595703,41.552894592285156,-31.40349578857422,-27.311588287353516,-31.815473556518555,-10.660757064819336,2.2362287044525146,-3.9305312633514404,-24.099626541137695,10.980561256408691,-27.208898544311523,-31.656963348388672,-51.282310485839844,12.099245071411133,4.095425128936768,-35.160579681396484,-33.82972717285156,15.973653793334961,59.26313018798828,-6.8108134269714355,-3.091585874557495,-27.86319923400879,-27.64507293701172,-32.4210090637207,-29.23593521118164,-24.586824417114258,40.23243713378906,17.952133178710938,-2.416233539581299,-7.452445983886719,-0.5787382125854492,0.2214074730873108,3.676112413406372,-0.7820432186126709,-18.91417121887207,11.263426780700684,-12.87911319732666,59.82622528076172,-20.840545654296875,-20.840545654296875,-34.68208312988281,-17.063060760498047,-13.696810722351074,11.664229393005371,7.941098213195801,62.38494110107422,-0.885084867477417,-25.85865592956543,-43.68431091308594,-48.75453567504883,-11.941171646118164,56.666568756103516,7.752264499664307,7.004481792449951,13.262097358703613,14.495723724365234,35.076969146728516,-17.640106201171875,-34.18775939941406,-34.18779754638672,35.076969146728516,9.37186050415039,-17.228761672973633,-28.368154525756836,11.077381134033203,37.755043029785156,5.28425407409668,-11.669320106506348,-7.821497917175293,21.832780838012695,-12.27427864074707,9.287628173828125,9.023760795593262,-8.083819389343262,15.357643127441406,44.2396125793457,-39.19131851196289,-6.5398077964782715,-7.545474529266357,57.10204315185547,-14.488656997680664,9.425785064697266,-22.61891746520996,-28.187402725219727,41.43312454223633,-23.136070251464844,-9.866568565368652,-10.723610877990723,47.534542083740234,14.643065452575684,6.165060997009277,-13.045256614685059,-8.176106452941895,17.282222747802734,-7.786484718322754,-33.94834518432617,-1.895880103111267,-10.905694007873535,-22.40083122253418,-13.517531394958496,-12.477750778198242,-2.6113903522491455,-15.001632690429688,-19.827993392944336,-9.349552154541016,17.96021842956543,-15.040562629699707,26.737895965576172,-1.3495852947235107,-20.255756378173828,-3.3273205757141113,-16.5224666595459,-7.248447895050049,-3.555196762084961,-19.576030731201172,32.72493362426758,43.66353988647461,-22.4129581451416,-10.693681716918945,16.3791561126709,38.886966705322266,-30.348966598510742,2.2920682430267334,2.570558786392212,-4.560080051422119,-5.190475940704346,-30.822107315063477,18.20567512512207,61.808223724365234,49.285484313964844,13.10767650604248,4.569246768951416,14.90865707397461,-2.7472610473632812,32.43124771118164,12.278285026550293,13.843074798583984,-19.983322143554688,-47.90438461303711,-21.19832420349121,10.617108345031738,-14.931600570678711,-19.414913177490234,11.147909164428711,-34.43246078491211,-32.42314910888672,-22.347980499267578,1.4358561038970947,46.79029083251953,-2.7942283153533936,11.8087797164917,-6.8366875648498535,-11.05029296875,56.666568756103516,-25.67753028869629,-8.106353759765625,31.443796157836914,14.25204849243164,-18.26820182800293,-26.743824005126953,20.442251205444336,-15.087986946105957,-20.832685470581055,-22.58832359313965,25.449583053588867,-7.724082946777344,-13.3993501663208,-0.26968762278556824,4.9959306716918945,-12.944404602050781,27.751708984375,16.717439651489258,14.130311012268066,-5.090933799743652,59.89595031738281,51.13397979736328,51.13397979736328,-12.972033500671387,9.653491020202637,42.26752471923828,38.488494873046875,51.13397979736328,-12.946601867675781,34.455318450927734,-13.526152610778809,-14.409605026245117,-19.691579818725586,47.53192901611328,3.8821401596069336,7.61140775680542,1.0955508947372437,-13.135077476501465,-12.639214515686035,5.013618469238281,26.54151153564453,-14.046270370483398,-1.247367262840271,-23.339340209960938,59.41291427612305,44.016563415527344,12.112892150878906,-16.425132751464844,2.926679849624634,-14.801469802856445,14.959856033325195,15.108219146728516,9.215668678283691,-30.841283798217773,-0.7183591723442078,13.95454216003418,55.73295211791992,6.323808670043945,3.8517861366271973,-26.96987533569336,-26.94289779663086,61.33987808227539,6.554889678955078,-10.167407035827637,-21.035722732543945,-27.896053314208984,2.374544620513916,0.8855892419815063,8.732409477233887,13.672333717346191,14.471657752990723,9.348334312438965,-22.249797821044922,7.8697662353515625,15.651934623718262,6.218873023986816,14.199941635131836,-0.01714431680738926,53.08198928833008,9.348334312438965,-11.933425903320312,12.142949104309082,2.457038402557373,-3.220547676086426,17.346525192260742,14.585796356201172,16.435537338256836,55.869136810302734,21.066097259521484,-0.07617585361003876,16.411792755126953,16.45272445678711,0.07659805566072464,17.933561325073242,-0.027982385829091072,55.73289489746094,30.66448402404785,-2.6075005531311035,42.01031494140625,2.749415874481201,6.954679489135742,20.98155403137207,-32.813655853271484,-6.61008882522583,-12.149059295654297,-30.948341369628906,-32.60349655151367,-7.482490062713623,-36.50889587402344,-9.217339515686035,51.16801071166992,-34.22659683227539,28.243656158447266,-5.878535747528076,-4.014627456665039,-6.964093208312988,-5.464775562286377,-3.1079111099243164,-4.893395900726318,15.792411804199219,1.2821871042251587,-10.409442901611328,-6.957572937011719,-6.415782928466797,-11.12739372253418,-7.874910831451416,-34.67454528808594,6.961890697479248,-7.274435520172119,-2.979907274246216,-28.508075714111328,-8.483153343200684,-23.807329177856445,-35.43505096435547,-8.037759780883789,-30.446514129638672,13.883097648620605,31.001535415649414,64.91949462890625,9.807718276977539,55.65584945678711,-39.89516067504883,-6.195943832397461,-29.676881790161133,58.66413879394531,-33.227203369140625,29.979629516601562,-19.40805435180664,-27.433130264282227,55.93300247192383,56.432952880859375,-21.458049774169922,44.76274490356445,47.71536636352539,-39.704715728759766,-27.746015548706055,-24.54544448852539,-31.572433471679688,-6.6586594581604,3.489471912384033,-17.943979263305664,-1.4200268983840942,-6.461536407470703,-27.811548233032227,-10.30415153503418,68.80027770996094,-28.617412567138672,68.73583221435547,-19.551090240478516,-23.564027786254883,15.797544479370117,1.361865758895874,-38.299739837646484,-25.5858097076416,-38.30044937133789,13.76407241821289,0.3473998010158539,21.70571517944336,-19.036338806152344,-23.7021541595459,-3.8167500495910645,-0.7735969424247742,-13.753335952758789,-14.358962059020996,54.855525970458984,-2.2992441654205322,25.560874938964844,13.928319931030273,48.14347457885742,-19.496782302856445,-21.945049285888672,-19.70703887939453,-19.46520233154297,29.339834213256836,14.062045097351074,-23.643512725830078,-12.415104866027832,-12.976027488708496,-4.01735258102417,61.96953201293945,46.50644302368164,41.491004943847656,-5.867359161376953,-1.5567470788955688,-28.036571502685547,-34.20228576660156,-26.829002380371094,7.231011390686035,-12.984465599060059,-2.0030508041381836,-12.573253631591797,-39.609092712402344,-24.262897491455078,-38.88717269897461,-38.918941497802734,7.286713123321533,-13.156758308410645,-16.799198150634766,-30.851512908935547,42.85711669921875,-14.82487678527832,32.54287338256836,-15.934796333312988,-1.7847684621810913,-10.442718505859375,-19.82960319519043,-35.88608169555664,-35.809024810791016,-15.364686012268066,-1.0943617820739746,-9.108930587768555,46.14767074584961,8.311895370483398,-20.43836212158203,-26.116924285888672,-12.11484432220459,11.27940559387207,-3.4027135372161865,-6.810728073120117,14.486459732055664,-19.806529998779297,9.111245155334473,12.56946849822998,-12.760872840881348,-4.0929460525512695,4.210766792297363,-20.735294342041016,-44.83408737182617,-20.47194480895996,42.40526580810547,4.392777442932129,7.309242248535156,11.643338203430176,44.11874008178711,-30.70770263671875,-33.31797409057617,21.056427001953125,-3.001765251159668,29.34218406677246,-14.430312156677246,-4.965095043182373,-37.69850158691406,5.422756671905518,-2.218404769897461,-8.289633750915527,-36.014278411865234,3.766977310180664,-12.615501403808594,-17.640106201171875,6.819952011108398,-8.787666320800781,-8.781582832336426,-31.196868896484375,-8.56947135925293,50.936668395996094,-1.961309552192688,30.29208755493164,17.344030380249023,-34.404850006103516,-18.27471351623535,8.248847007751465,-2.246793270111084,-29.70559310913086,-8.967775344848633,-41.28050231933594,-24.65563201904297,-2.7991344928741455,-22.990232467651367,-49.24021530151367,-28.830991744995117,-14.093986511230469,-21.696086883544922,-12.571643829345703,13.536029815673828,41.62936782836914,-10.561071395874023,4.859683036804199,50.69533157348633,43.62626266479492,-1.9709687232971191,0.7576591968536377,13.546679496765137,11.138195991516113,-3.1913816928863525,-15.037038803100586,-0.5981411337852478,-6.4142022132873535,-30.07868194580078,17.776763916015625,18.92484474182129,13.734781265258789,18.68502426147461,11.82294750213623,10.90824031829834,47.65660858154297,17.18912696838379,20.73926544189453,-20.25485610961914,19.03541374206543,-21.29205322265625,-7.627123832702637,-32.77161407470703,52.824493408203125,46.73756408691406,-22.55376625061035,-37.33979034423828,-43.67410659790039,-44.687129974365234,-32.55491638183594,-9.402263641357422,20.09773826599121,28.507118225097656,22.55792236328125,5.110638618469238,-10.296182632446289,-30.747875213623047,-2.1934704780578613,-31.297985076904297,-9.888081550598145,-16.677488327026367,8.848711967468262,2.549546718597412,-31.964235305786133,10.285322189331055,-44.30704116821289,-35.55406188964844,-23.680753707885742,-41.7178840637207,54.218475341796875,-9.80381965637207,4.71065092086792,17.341434478759766,3.4018194675445557,14.216351509094238,15.797544479370117,47.41560745239258,7.309676647186279,-13.679101943969727,-23.557676315307617,-17.426551818847656,22.06458282470703,-21.12981605529785,36.679656982421875,-8.926715850830078,14.060511589050293,16.26214027404785,7.836574077606201,6.294304847717285,20.5086669921875,16.801498413085938,-27.978490829467773,-29.79672622680664,-25.635896682739258,-22.586139678955078,26.95419692993164,17.311248779296875,51.9065055847168,-4.143924713134766,4.810052871704102,4.027853012084961,-9.669053077697754,-33.605979919433594,-12.984381675720215,14.573195457458496,-15.556808471679688,18.675243377685547,3.1050937175750732,-18.949338912963867,9.907353401184082,4.741969585418701,-28.445972442626953,2.7261950969696045,6.417116641998291,60.471858978271484,64.21051025390625,-11.55904769897461,53.649559020996094,11.614058494567871,2.997002363204956,8.051247596740723,25.636241912841797,14.304823875427246,21.507001876831055,-8.666008949279785,-27.56236457824707,24.837230682373047,24.837230682373047,43.34959411621094,-18.763864517211914,0.1871282309293747,-6.378586292266846,-18.32401466369629,-18.05243682861328,-22.201702117919922,-17.41357421875,-18.409299850463867,-21.061565399169922,-13.179596900939941,-31.881376266479492,55.772491455078125,-23.133752822875977,46.36088180541992,-48.83112335205078,-3.1250102519989014,54.04792022705078,-48.754493713378906,-38.53470993041992,-7.820566654205322,-48.0705451965332,-17.615995407104492,16.23401641845703,-37.984596252441406,-45.53559112548828,-25.977867126464844,-42.588035583496094,-33.36113357543945,-41.54057693481445,46.40376663208008,-23.391538619995117,-18.733043670654297,11.610321998596191,-30.046754837036133,-42.97525405883789,48.681610107421875,-25.66333770751953,-43.56844711303711,-31.37525749206543,47.93562316894531,-33.62843704223633,28.051044464111328,-14.106403350830078,-25.310686111450195,30.831026077270508,51.417320251464844,-46.4851188659668,17.952133178710938,-4.654956817626953,-23.543935775756836,-26.684419631958008,1.1372499465942383,2.749361038208008,49.80072021484375,-10.579366683959961,-31.55760383605957,-10.63757038116455,-6.320225238800049,-29.308887481689453,26.785154342651367,-33.06635284423828,26.18768310546875,-35.11341094970703,21.290634155273438,44.52958679199219,41.793235778808594,-14.72111701965332,19.39154052734375,38.98048400878906,-9.504657745361328,64.14866638183594,-25.351268768310547,5.486620903015137,37.45396041870117,-8.385655403137207,7.553512096405029,4.309906482696533,13.805130004882812,-4.473842144012451,-10.825085639953613,21.254384994506836,-25.727542877197266,11.461573600769043,5.134552001953125,-6.9506001472473145,41.62937545776367,-1.6948004961013794,48.110939025878906,46.94034194946289,46.94034194946289,0.722484827041626,2.3729002475738525,55.304874420166016,-27.148164749145508,22.19994354248047,6.92590856552124,7.607250213623047,-7.815313816070557,58.016807556152344,-18.640331268310547,-16.631038665771484,-6.843329906463623,-11.515413284301758,3.4080891609191895,-26.530296325683594,14.74566650390625,-8.745737075805664,15.192741394042969,-32.909263610839844,-33.85028076171875,-23.46059799194336,-29.317623138427734,-30.425189971923828,-32.63948059082031,-34.457427978515625,-0.003527638502418995,-26.7098388671875,13.313668251037598,-26.299179077148438,21.54820442199707,-26.29813575744629,-9.027059555053711,32.01508331298828,-29.095090866088867,21.671222686767578,17.634191513061523,-15.199941635131836,62.26681137084961,-28.28700065612793,-8.010972023010254,48.47993087768555,15.241082191467285,49.74947738647461,42.48134231567383,-37.28947067260742,9.580435752868652,8.3038969039917,17.632699966430664,15.65608024597168,11.649188995361328,17.09035873413086,39.493934631347656,51.79373550415039,10.610441207885742,18.07200813293457,9.223851203918457,-24.19455909729004,9.729730606079102,-43.05502700805664,-43.70018768310547,8.939696311950684,-32.17667770385742,-5.29710578918457,4.941988945007324,-9.58708667755127,18.740224838256836,-2.2002830505371094,16.90152931213379,-22.833059310913086,25.619970321655273,32.34440231323242,9.701257705688477,-3.0609982013702393,47.7248420715332,23.808837890625,53.18314743041992,-10.4636812210083,7.701467990875244,47.95609664916992,51.65049743652344,51.786983489990234,17.722545623779297,21.57466697692871,50.225955963134766,27.926916122436523,42.386512756347656,-38.36615753173828,-9.915895462036133,-20.529285430908203,-28.981861114501953,-37.25699234008789,12.877894401550293,-8.462170600891113,13.65957260131836,13.274443626403809,2.4402034282684326,18.784488677978516,-47.556949615478516,10.394489288330078,-12.770737648010254,-8.778603553771973,-21.388235092163086,-28.81719207763672,-36.6646842956543,-0.028237465769052505,-43.494266510009766,39.06803512573242,-18.59371566772461,19.834779739379883,21.52725601196289,-47.909793853759766,-18.623302459716797,-23.77118492126465,14.913192749023438,-2.839357852935791,-15.110169410705566,11.645171165466309,8.798259735107422,-13.462640762329102,11.645172119140625,-7.576594829559326,-15.597600936889648,-31.53957176208496,-18.587575912475586,2.182863712310791,-22.1875057220459,4.102850914001465,-23.920198440551758,-0.50246262550354,15.927640914916992,50.11896896362305,44.05006408691406,9.845611572265625,-31.20717430114746,-37.360843658447266,-35.27427673339844,-28.73139190673828,22.6462459564209,-1.5218868255615234,40.56013870239258,-31.002269744873047,-12.935779571533203,-7.523138046264648,16.398611068725586,1.1597648859024048,-14.416443824768066,-11.516317367553711,-15.906784057617188,33.34550094604492,-1.186490535736084,-14.072640419006348,-9.00395679473877,-16.911155700683594,0.4041944146156311,6.122400283813477,31.67232894897461,0.5229408144950867,30.804092407226562,26.201005935668945,14.469708442687988,31.311386108398438,-13.452314376831055,47.95902633666992,-32.406002044677734,12.530244827270508,-3.9541208744049072,-3.7766706943511963,18.07036018371582,50.9522819519043,-16.243282318115234,-9.982892990112305,41.56938171386719,-31.309398651123047,-22.11224937438965,29.456493377685547,24.247390747070312,7.367300510406494,-31.517667770385742,24.411785125732422,-41.37725067138672,55.239253997802734,9.461686134338379,-26.644392013549805,54.61573028564453,-10.166988372802734,14.216351509094238,14.892674446105957,-29.05292320251465,13.892194747924805,11.620566368103027,-12.149971961975098,-29.629150390625,-47.81283950805664,-8.810186386108398,-6.796695232391357,4.636321067810059,-23.251161575317383,-26.007221221923828,46.46906280517578,52.9662971496582,-29.5367374420166,-31.065998077392578,37.83842468261719,-1.8279082775115967,-33.5764045715332,-21.974294662475586,-37.29852294921875,-20.804710388183594,-42.70404052734375,-26.992393493652344,7.595031261444092,48.28594207763672,-3.1508421897888184,1.8909926414489746,-26.57332420349121,-43.047122955322266,-9.029213905334473,-8.202509880065918,-3.5754916667938232,46.341148376464844,-3.718714714050293,-3.9832026958465576,40.987876892089844,-42.01329803466797,-2.500014305114746,-27.59544563293457,-19.706953048706055,-9.016253471374512,7.04817008972168,1.9085395336151123,-19.572620391845703,28.5748291015625,57.89339065551758,-1.9750322103500366,-6.038795471191406,22.298885345458984,36.70514678955078,10.776354789733887,48.697391510009766,11.276314735412598,-28.464534759521484,57.89337158203125,-28.899839401245117,-32.72222137451172,55.413421630859375,-29.783063888549805,1.9057831764221191,53.393829345703125,-13.77519416809082,-14.65866756439209,-7.418202877044678,-14.643122673034668,-11.95995044708252,55.98374557495117,6.74558687210083,5.980339050292969,-11.381257057189941,45.10413360595703,56.13262176513672,-15.981254577636719,-46.265071868896484,-1.1650094985961914,-10.515791893005371,-19.768526077270508,-22.56761360168457,-30.39218521118164,-11.967548370361328,-6.949347496032715,-19.219823837280273,-14.119169235229492,-13.102663040161133,6.892549514770508,-30.559289932250977,-29.130334854125977,-1.1043034791946411,-3.7332236766815186,-8.203164100646973,53.963523864746094,-23.907432556152344,-21.596769332885742,21.55636215209961,-8.459230422973633,-11.90372085571289,-34.13475036621094,-34.35441207885742,28.016136169433594,9.784133911132812,14.94454574584961,28.507946014404297,10.086371421813965,12.944883346557617,8.326035499572754,-14.63931941986084,12.92082405090332,-1.2791770696640015,8.830000877380371,-15.051450729370117,16.68790626525879,-2.9117205142974854,22.633657455444336,15.645720481872559,4.435976982116699,-2.7589054107666016,-45.88212966918945,1.2474119663238525,-16.59741973876953,-30.369544982910156,48.72175216674805,-0.8657488226890564,31.615163803100586,56.928428649902344,14.359251976013184,19.61140251159668,4.291224002838135,13.71662712097168,46.6560173034668,26.64952850341797,8.112789154052734,20.888565063476562,44.12828063964844,28.58605194091797,38.83026885986328,65.04280853271484,17.42864990234375,6.691455364227295,-16.566246032714844,-14.137826919555664,25.577775955200195,7.021000385284424,31.560977935791016,-10.884663581848145,-26.911190032958984,-27.91216468811035,0.9524344205856323,18.5423526763916,8.119704246520996,7.357217311859131,26.511587142944336,11.583483695983887,13.430882453918457,6.28587007522583,-41.78496170043945,-17.078519821166992,8.481414794921875,-28.79758071899414,55.89922332763672,52.656944274902344,13.886615753173828,14.681063652038574,13.398510932922363,13.851720809936523,16.306360244750977,-45.535614013671875,-14.553152084350586,-1.6029932498931885,-6.811129093170166,8.990620613098145,25.933774948120117,-16.358293533325195,-29.59987449645996,-12.622747421264648,-15.8497314453125,-26.717308044433594,-25.677488327026367,-12.322763442993164,-27.852556228637695,-22.43207359313965,6.078903675079346,-32.8836784362793,-3.740269899368286,-21.535120010375977,-24.67400550842285,-50.33128356933594,-27.03624725341797,-28.1156005859375,-8.934853553771973,-39.233821868896484,-23.159509658813477,-23.331649780273438,7.941184997558594,64.98455810546875,-17.205984115600586,1.2525207996368408,-33.48471450805664,-29.945232391357422,1.0997412204742432,27.277666091918945,-18.862619400024414,29.56104850769043,48.06159210205078,-30.103878021240234,-15.9329252243042,-11.486202239990234,-16.060327529907227,-37.82172775268555,-24.525163650512695,-24.54447364807129,-38.40066146850586,-23.298030853271484,-27.973093032836914,-0.45531517267227173,52.611690521240234,-12.566774368286133,-43.215293884277344,-7.8760762214660645,-7.395744800567627,-31.493755340576172,33.807674407958984,-16.45250129699707,-26.187828063964844,51.38239669799805,-32.78099060058594,-30.468828201293945,44.322811126708984,14.16911506652832,54.03188705444336,-10.177334785461426,58.3488883972168,4.892226219177246,53.53402328491211,-38.11280822753906,-38.264461517333984,-28.41240882873535,-12.86981201171875,-10.576430320739746,-1.562991976737976,6.280399799346924,-16.82763671875,-6.949347496032715,5.096560955047607,51.72512435913086,6.334260940551758,-14.69438362121582,-17.248323440551758,-44.57282638549805,41.856956481933594,-43.931095123291016,-5.8895134925842285,-32.9428825378418,-33.84345245361328,-39.23292541503906,-42.59114074707031,2.1492297649383545,35.79616165161133,11.620566368103027,-37.21537780761719,-24.17620849609375,-12.285499572753906,-18.093833923339844,-37.62691879272461,-29.863971710205078,-4.502966403961182,-10.129220008850098,40.768577575683594,4.600686550140381,4.876151084899902,52.04581069946289,32.63636016845703,47.176700592041016,8.037687301635742,14.007392883300781,22.58681869506836,2.134556531906128,45.909278869628906,48.33548355102539,49.17478561401367,2.6069581508636475,2.606919765472412,-7.011379241943359,7.006280422210693,53.821022033691406,1.0839835405349731,-14.115452766418457,47.406959533691406,-0.27547892928123474,11.575112342834473,36.94801712036133,-47.867103576660156,-0.3998127281665802,46.7148551940918,-32.28291320800781,6.280151844024658,3.351670503616333,-21.751388549804688,-38.98078155517578,-37.8257942199707,-48.07522201538086,-49.573951721191406,-39.078121185302734,-35.67755126953125,-38.9088020324707,-37.485107421875,-32.90019226074219,-14.505903244018555,-43.017250061035156,9.807283401489258,-28.35906982421875,52.71162414550781,-27.372095108032227,15.248973846435547,-28.376813888549805,-17.29130744934082,-26.62537384033203,6.38602876663208,-16.872873306274414,-22.653024673461914,51.231563568115234,-17.715717315673828,-18.937992095947266,6.184502601623535,-8.574478149414062,1.3145602941513062,0.544685423374176,-14.553152084350586,8.034748077392578,-11.903308868408203,10.41738510131836,-26.06426429748535,4.013204574584961,-18.643470764160156,-29.476987838745117,-23.382356643676758,13.989080429077148,-31.892580032348633,-9.010758399963379,-36.75486373901367,54.2769660949707,34.859493255615234,-0.42686742544174194,-32.343570709228516,9.862503051757812,-31.497941970825195,-33.9272575378418,49.090267181396484,49.669036865234375,-17.991355895996094,-24.06511688232422,5.792385578155518,1.7689299583435059,-35.135562896728516,10.75603199005127,18.904373168945312,-11.947861671447754,47.05860900878906,49.587615966796875,6.457431316375732,-13.268017768859863,15.075943946838379,21.21787452697754,-43.62716293334961,-9.313493728637695,-4.768502712249756,-4.509315490722656,-9.25672721862793,14.477940559387207,3.3490841388702393,-39.501983642578125,-26.92824363708496,-2.5831873416900635,67.75225830078125,59.78269958496094,11.495421409606934,-40.216915130615234,10.996732711791992,-17.675413131713867,1.4328460693359375,28.537260055541992,-11.094220161437988,-3.847923994064331,5.25620698928833,17.16156768798828,11.951044082641602,3.4949545860290527,10.892583847045898,21.055387496948242,35.207305908203125,-39.92937088012695,48.72175216674805,-17.278858184814453,0.9495909810066223,22.056325912475586,-2.4154555797576904,17.41742706298828,48.194576263427734,-30.437673568725586,-37.86458969116211,-0.8036240339279175,-18.277101516723633,-40.291404724121094,-30.09256362915039,-3.4335529804229736,-33.652740478515625,-35.10947036743164,-40.225242614746094,-27.50302505493164,56.666568756103516,6.2110915184021,-21.87691879272461,-26.70909881591797,62.90581512451172,-6.497918128967285,-32.878971099853516,21.002788543701172,11.295185089111328,21.243988037109375,-4.433557510375977,5.929087162017822,-22.366674423217773,-13.3316068649292,-47.14659118652344,-29.322118759155273,-43.77076721191406,-31.48430061340332,-16.849931716918945,61.500282287597656,-7.6864013671875,52.656105041503906,-4.509355545043945,45.69391632080078,-5.924369812011719,-2.5136892795562744,-39.196109771728516,-10.022199630737305,-24.7688045501709,17.621028900146484,3.6417455673217773,-31.198657989501953,-33.58563232421875,56.97043228149414,1.0131220817565918,21.870710372924805,-13.885523796081543,11.453462600708008,9.416851043701172,38.245941162109375,-14.6666841506958,12.71823501586914,54.122222900390625,-29.5183162689209,-6.060814380645752,-23.190200805664062,48.74005889892578,42.9406852722168,-2.9199204444885254,42.9406852722168,-13.530303001403809,-21.4773006439209,-6.030330657958984,-16.199630737304688,-6.603653430938721,26.672637939453125,8.509207725524902,22.11747169494629,38.886966705322266,64.82425689697266,-5.3366923332214355,-19.936656951904297,47.258277893066406,-11.522601127624512,-23.891984939575195,5.332544803619385,-12.565144538879395,49.75631332397461,-14.392582893371582,-11.039369583129883,-7.282855987548828,57.335052490234375,-14.380110740661621,29.09449005126953,29.077205657958984,13.846789360046387,1.277234673500061,-36.408870697021484,16.137144088745117,8.303162574768066,-8.04980754852295,-30.57581901550293,-0.005629257299005985,9.275607109069824,2.2538692951202393,-34.14897155761719,42.03627395629883,39.08171463012695,-21.015226364135742,44.23805618286133,-33.205223083496094,6.592230796813965,12.055686950683594,4.679437160491943,7.658259391784668,-40.653419494628906,-23.134584426879883,-30.796579360961914,8.498042106628418,-1.9123867750167847,-12.407072067260742,24.562129974365234,24.807880401611328,-14.136249542236328,-39.976383209228516,18.236249923706055,33.689327239990234,46.06443405151367,-11.940604209899902,48.802181243896484,11.966621398925781,12.279814720153809,-5.4742960929870605,3.7059319019317627,46.06443405151367,-7.21491003036499,-11.85252857208252,-3.8796606063842773,-0.7881535291671753,1.421207308769226,38.10011672973633,18.607318878173828,21.82122230529785,48.069671630859375,-13.995171546936035,-5.4742960929870605,50.74594497680664,7.658322811126709,26.592599868774414,-5.052802562713623,-10.592340469360352,-5.244367599487305,9.529669761657715,8.34439754486084,-8.796433448791504,-8.886724472045898,59.2217903137207,-26.59132957458496,-30.35407829284668,56.24712371826172,48.50840759277344,-1.1537789106369019,3.8759186267852783,47.7829704284668,-12.25733470916748,8.079296112060547,-0.4285639822483063,-6.4324188232421875,46.38836669921875,52.03413772583008,8.304521560668945,-29.221187591552734,-26.9320068359375,14.107081413269043,-21.618656158447266,-31.818729400634766,-42.01329803466797,10.338387489318848,-9.414347648620605,12.857522010803223,-10.193374633789062,-3.5475122928619385,-8.954558372497559,-9.38012981414795,-38.22234344482422,-14.859742164611816,-10.442718505859375,-29.919225692749023,-47.23403549194336,-31.369991302490234,-30.677274703979492,-35.83890151977539,-3.3101370334625244,-29.808433532714844,-30.21741485595703,11.394607543945312,19.369905471801758,31.2650146484375,0.9920381903648376,49.204376220703125,26.492835998535156,24.616222381591797,18.807796478271484,4.796073913574219,-44.286216735839844,-14.508370399475098,-41.42616653442383,-2.8987245559692383,-29.744876861572266,21.454086303710938,-41.302085876464844,-22.12102508544922,-11.933679580688477,-34.932708740234375,9.50753402709961,0.821760356426239,-25.362939834594727,-24.747093200683594,-23.512958526611328,-42.077049255371094,-24.9166202545166,4.569246768951416,-13.474665641784668,-6.486939907073975,16.365009307861328,30.253835678100586,-50.41895294189453,-24.768821716308594,56.01382064819336,29.473094940185547,-27.341909408569336,14.300207138061523,-21.686317443847656,-11.225800514221191,52.30137252807617,-36.2104377746582,-34.1436653137207,-23.323932647705078,0.16965624690055847,-30.901546478271484,-27.594087600708008,1.253699779510498,-37.9498405456543,-48.628807067871094,-34.347957611083984,40.229766845703125,30.91548728942871,9.242582321166992,-38.60063171386719,-23.200931549072266,-26.828670501708984,-8.77860164642334,1.200682282447815,-22.7607421875,-37.09025192260742,-21.6104793548584,-18.860563278198242,-26.778472900390625,-24.808839797973633,50.93214416503906,17.962265014648438,9.52658748626709,-35.3523063659668,-44.465423583984375,48.030025482177734,15.803400993347168,-35.40115737915039,-40.40453338623047,-2.5216128826141357,-20.90484619140625,-7.425597190856934,-1.7386412620544434,-34.122955322265625,-4.654956817626953,-37.40546798706055,30.681764602661133,-43.309532165527344,-50.43480682373047,49.96527099609375,42.31430435180664,7.678182125091553,49.75630569458008,30.831026077270508,-12.805804252624512,-17.99054527282715,35.9964599609375,47.00480270385742,-17.053543090820312,8.739545822143555,41.341094970703125,-28.831409454345703,10.385011672973633,56.284095764160156,24.013534545898438,21.705734252929688,-11.11747932434082,-27.483003616333008,-11.311197280883789,-9.587456703186035,-2.2544565200805664,-16.668546676635742,-15.314122200012207,59.52183532714844,44.16653060913086,14.596792221069336,25.115741729736328,66.45059204101562,14.828706741333008,-15.390063285827637,53.43658447265625,-25.224472045898438,-11.995014190673828,48.15985107421875,64.92656707763672,-17.771875381469727,4.310818195343018,5.07762336730957,8.494338035583496,-38.14627456665039,18.373218536376953,31.78407096862793,-6.849147319793701,16.11189842224121,14.555034637451172,1.3806519508361816,9.001486778259277,27.511558532714844,-51.124855041503906,-11.693331718444824,-41.370521545410156,-21.566814422607422,-2.79702091217041,-31.914873123168945,24.247390747070312,44.07688522338867,41.914615631103516,-12.216163635253906,-23.94001007080078,21.040937423706055,-9.890412330627441,-38.22234344482422,-19.878890991210938,58.97807312011719,-43.43302917480469,-48.45393371582031,-10.979942321777344,20.778549194335938,7.3008294105529785,-10.110366821289062,-18.856277465820312,-21.002840042114258,-13.072867393493652,56.54205322265625,-5.191456317901611,-34.22827911376953,13.557756423950195,-28.43153953552246,6.838601112365723,14.346396446228027,-32.92466735839844,-27.702943801879883,-39.15097427368164,-41.664920806884766,-13.732549667358398,-20.902822494506836,26.15374755859375,19.156965255737305,-22.127471923828125,-0.5495922565460205,11.60759449005127,42.476806640625,58.97807693481445,58.97877883911133,24.562129974365234,39.49401092529297,17.151809692382812,-44.34727478027344,-25.81083106994629,-12.400876998901367,-12.561383247375488,-29.24567222595215,-19.92708396911621,9.28010082244873,-21.025959014892578,-21.89195442199707,-27.237892150878906,-2.8942883014678955,-31.973608016967773,-24.984752655029297,54.00587844848633,-22.063325881958008,-36.32151794433594,-21.334138870239258,-31.33055877685547,-29.192014694213867,1.5095850229263306,45.21070861816406,-11.448747634887695,3.014240026473999,-10.467170715332031,-21.000288009643555,-16.554134368896484,-17.636577606201172,-29.618318557739258,5.633159160614014,11.724421501159668,-9.964505195617676,15.15902042388916,1.2712128162384033,-28.887746810913086,-34.4063720703125,-11.270560264587402,44.21281814575195,53.38435363769531,-50.856842041015625,-29.120115280151367,23.672746658325195,-33.4547119140625,-12.176071166992188,-36.060752868652344,20.724210739135742,64.01646423339844,28.431142807006836,0.5728439688682556,1.1102066040039062,1.7416746616363525,44.260555267333984,7.027828216552734,-28.141172409057617,58.53675842285156,-28.050212860107422,-13.076810836791992,49.057003021240234,-5.3523640632629395,-34.860233306884766,-4.654956817626953,-34.91837692260742,16.804710388183594,5.488679885864258,26.751047134399414,3.0698413848876953,-22.26032257080078,19.505760192871094,-7.591007709503174,-20.06416130065918,1.3377107381820679,-2.1237595081329346,1.1438783407211304,12.329654693603516,-2.575223445892334,-2.6839237213134766,7.738331317901611,-32.51359176635742,12.138343811035156,-16.0621280670166,-36.951412200927734,25.306640625,-32.282196044921875,-11.822875022888184,36.54330825805664,-30.754976272583008,17.430328369140625,32.34440231323242,-17.469789505004883,1.0535849332809448,-37.984352111816406,-15.055932998657227,56.47319030761719,2.9184610843658447,-9.271282196044922,60.29832458496094,5.1733078956604,59.5880241394043,-44.42774963378906,-30.211990356445312,-34.96539306640625],\"yaxis\":\"y\",\"type\":\"scattergl\"}],                        {\"template\":{\"data\":{\"histogram2dcontour\":[{\"type\":\"histogram2dcontour\",\"colorbar\":{\"outlinewidth\":0,\"ticks\":\"\"},\"colorscale\":[[0.0,\"#0d0887\"],[0.1111111111111111,\"#46039f\"],[0.2222222222222222,\"#7201a8\"],[0.3333333333333333,\"#9c179e\"],[0.4444444444444444,\"#bd3786\"],[0.5555555555555556,\"#d8576b\"],[0.6666666666666666,\"#ed7953\"],[0.7777777777777778,\"#fb9f3a\"],[0.8888888888888888,\"#fdca26\"],[1.0,\"#f0f921\"]]}],\"choropleth\":[{\"type\":\"choropleth\",\"colorbar\":{\"outlinewidth\":0,\"ticks\":\"\"}}],\"histogram2d\":[{\"type\":\"histogram2d\",\"colorbar\":{\"outlinewidth\":0,\"ticks\":\"\"},\"colorscale\":[[0.0,\"#0d0887\"],[0.1111111111111111,\"#46039f\"],[0.2222222222222222,\"#7201a8\"],[0.3333333333333333,\"#9c179e\"],[0.4444444444444444,\"#bd3786\"],[0.5555555555555556,\"#d8576b\"],[0.6666666666666666,\"#ed7953\"],[0.7777777777777778,\"#fb9f3a\"],[0.8888888888888888,\"#fdca26\"],[1.0,\"#f0f921\"]]}],\"heatmap\":[{\"type\":\"heatmap\",\"colorbar\":{\"outlinewidth\":0,\"ticks\":\"\"},\"colorscale\":[[0.0,\"#0d0887\"],[0.1111111111111111,\"#46039f\"],[0.2222222222222222,\"#7201a8\"],[0.3333333333333333,\"#9c179e\"],[0.4444444444444444,\"#bd3786\"],[0.5555555555555556,\"#d8576b\"],[0.6666666666666666,\"#ed7953\"],[0.7777777777777778,\"#fb9f3a\"],[0.8888888888888888,\"#fdca26\"],[1.0,\"#f0f921\"]]}],\"heatmapgl\":[{\"type\":\"heatmapgl\",\"colorbar\":{\"outlinewidth\":0,\"ticks\":\"\"},\"colorscale\":[[0.0,\"#0d0887\"],[0.1111111111111111,\"#46039f\"],[0.2222222222222222,\"#7201a8\"],[0.3333333333333333,\"#9c179e\"],[0.4444444444444444,\"#bd3786\"],[0.5555555555555556,\"#d8576b\"],[0.6666666666666666,\"#ed7953\"],[0.7777777777777778,\"#fb9f3a\"],[0.8888888888888888,\"#fdca26\"],[1.0,\"#f0f921\"]]}],\"contourcarpet\":[{\"type\":\"contourcarpet\",\"colorbar\":{\"outlinewidth\":0,\"ticks\":\"\"}}],\"contour\":[{\"type\":\"contour\",\"colorbar\":{\"outlinewidth\":0,\"ticks\":\"\"},\"colorscale\":[[0.0,\"#0d0887\"],[0.1111111111111111,\"#46039f\"],[0.2222222222222222,\"#7201a8\"],[0.3333333333333333,\"#9c179e\"],[0.4444444444444444,\"#bd3786\"],[0.5555555555555556,\"#d8576b\"],[0.6666666666666666,\"#ed7953\"],[0.7777777777777778,\"#fb9f3a\"],[0.8888888888888888,\"#fdca26\"],[1.0,\"#f0f921\"]]}],\"surface\":[{\"type\":\"surface\",\"colorbar\":{\"outlinewidth\":0,\"ticks\":\"\"},\"colorscale\":[[0.0,\"#0d0887\"],[0.1111111111111111,\"#46039f\"],[0.2222222222222222,\"#7201a8\"],[0.3333333333333333,\"#9c179e\"],[0.4444444444444444,\"#bd3786\"],[0.5555555555555556,\"#d8576b\"],[0.6666666666666666,\"#ed7953\"],[0.7777777777777778,\"#fb9f3a\"],[0.8888888888888888,\"#fdca26\"],[1.0,\"#f0f921\"]]}],\"mesh3d\":[{\"type\":\"mesh3d\",\"colorbar\":{\"outlinewidth\":0,\"ticks\":\"\"}}],\"scatter\":[{\"fillpattern\":{\"fillmode\":\"overlay\",\"size\":10,\"solidity\":0.2},\"type\":\"scatter\"}],\"parcoords\":[{\"type\":\"parcoords\",\"line\":{\"colorbar\":{\"outlinewidth\":0,\"ticks\":\"\"}}}],\"scatterpolargl\":[{\"type\":\"scatterpolargl\",\"marker\":{\"colorbar\":{\"outlinewidth\":0,\"ticks\":\"\"}}}],\"bar\":[{\"error_x\":{\"color\":\"#2a3f5f\"},\"error_y\":{\"color\":\"#2a3f5f\"},\"marker\":{\"line\":{\"color\":\"#E5ECF6\",\"width\":0.5},\"pattern\":{\"fillmode\":\"overlay\",\"size\":10,\"solidity\":0.2}},\"type\":\"bar\"}],\"scattergeo\":[{\"type\":\"scattergeo\",\"marker\":{\"colorbar\":{\"outlinewidth\":0,\"ticks\":\"\"}}}],\"scatterpolar\":[{\"type\":\"scatterpolar\",\"marker\":{\"colorbar\":{\"outlinewidth\":0,\"ticks\":\"\"}}}],\"histogram\":[{\"marker\":{\"pattern\":{\"fillmode\":\"overlay\",\"size\":10,\"solidity\":0.2}},\"type\":\"histogram\"}],\"scattergl\":[{\"type\":\"scattergl\",\"marker\":{\"colorbar\":{\"outlinewidth\":0,\"ticks\":\"\"}}}],\"scatter3d\":[{\"type\":\"scatter3d\",\"line\":{\"colorbar\":{\"outlinewidth\":0,\"ticks\":\"\"}},\"marker\":{\"colorbar\":{\"outlinewidth\":0,\"ticks\":\"\"}}}],\"scattermapbox\":[{\"type\":\"scattermapbox\",\"marker\":{\"colorbar\":{\"outlinewidth\":0,\"ticks\":\"\"}}}],\"scatterternary\":[{\"type\":\"scatterternary\",\"marker\":{\"colorbar\":{\"outlinewidth\":0,\"ticks\":\"\"}}}],\"scattercarpet\":[{\"type\":\"scattercarpet\",\"marker\":{\"colorbar\":{\"outlinewidth\":0,\"ticks\":\"\"}}}],\"carpet\":[{\"aaxis\":{\"endlinecolor\":\"#2a3f5f\",\"gridcolor\":\"white\",\"linecolor\":\"white\",\"minorgridcolor\":\"white\",\"startlinecolor\":\"#2a3f5f\"},\"baxis\":{\"endlinecolor\":\"#2a3f5f\",\"gridcolor\":\"white\",\"linecolor\":\"white\",\"minorgridcolor\":\"white\",\"startlinecolor\":\"#2a3f5f\"},\"type\":\"carpet\"}],\"table\":[{\"cells\":{\"fill\":{\"color\":\"#EBF0F8\"},\"line\":{\"color\":\"white\"}},\"header\":{\"fill\":{\"color\":\"#C8D4E3\"},\"line\":{\"color\":\"white\"}},\"type\":\"table\"}],\"barpolar\":[{\"marker\":{\"line\":{\"color\":\"#E5ECF6\",\"width\":0.5},\"pattern\":{\"fillmode\":\"overlay\",\"size\":10,\"solidity\":0.2}},\"type\":\"barpolar\"}],\"pie\":[{\"automargin\":true,\"type\":\"pie\"}]},\"layout\":{\"autotypenumbers\":\"strict\",\"colorway\":[\"#636efa\",\"#EF553B\",\"#00cc96\",\"#ab63fa\",\"#FFA15A\",\"#19d3f3\",\"#FF6692\",\"#B6E880\",\"#FF97FF\",\"#FECB52\"],\"font\":{\"color\":\"#2a3f5f\"},\"hovermode\":\"closest\",\"hoverlabel\":{\"align\":\"left\"},\"paper_bgcolor\":\"white\",\"plot_bgcolor\":\"#E5ECF6\",\"polar\":{\"bgcolor\":\"#E5ECF6\",\"angularaxis\":{\"gridcolor\":\"white\",\"linecolor\":\"white\",\"ticks\":\"\"},\"radialaxis\":{\"gridcolor\":\"white\",\"linecolor\":\"white\",\"ticks\":\"\"}},\"ternary\":{\"bgcolor\":\"#E5ECF6\",\"aaxis\":{\"gridcolor\":\"white\",\"linecolor\":\"white\",\"ticks\":\"\"},\"baxis\":{\"gridcolor\":\"white\",\"linecolor\":\"white\",\"ticks\":\"\"},\"caxis\":{\"gridcolor\":\"white\",\"linecolor\":\"white\",\"ticks\":\"\"}},\"coloraxis\":{\"colorbar\":{\"outlinewidth\":0,\"ticks\":\"\"}},\"colorscale\":{\"sequential\":[[0.0,\"#0d0887\"],[0.1111111111111111,\"#46039f\"],[0.2222222222222222,\"#7201a8\"],[0.3333333333333333,\"#9c179e\"],[0.4444444444444444,\"#bd3786\"],[0.5555555555555556,\"#d8576b\"],[0.6666666666666666,\"#ed7953\"],[0.7777777777777778,\"#fb9f3a\"],[0.8888888888888888,\"#fdca26\"],[1.0,\"#f0f921\"]],\"sequentialminus\":[[0.0,\"#0d0887\"],[0.1111111111111111,\"#46039f\"],[0.2222222222222222,\"#7201a8\"],[0.3333333333333333,\"#9c179e\"],[0.4444444444444444,\"#bd3786\"],[0.5555555555555556,\"#d8576b\"],[0.6666666666666666,\"#ed7953\"],[0.7777777777777778,\"#fb9f3a\"],[0.8888888888888888,\"#fdca26\"],[1.0,\"#f0f921\"]],\"diverging\":[[0,\"#8e0152\"],[0.1,\"#c51b7d\"],[0.2,\"#de77ae\"],[0.3,\"#f1b6da\"],[0.4,\"#fde0ef\"],[0.5,\"#f7f7f7\"],[0.6,\"#e6f5d0\"],[0.7,\"#b8e186\"],[0.8,\"#7fbc41\"],[0.9,\"#4d9221\"],[1,\"#276419\"]]},\"xaxis\":{\"gridcolor\":\"white\",\"linecolor\":\"white\",\"ticks\":\"\",\"title\":{\"standoff\":15},\"zerolinecolor\":\"white\",\"automargin\":true,\"zerolinewidth\":2},\"yaxis\":{\"gridcolor\":\"white\",\"linecolor\":\"white\",\"ticks\":\"\",\"title\":{\"standoff\":15},\"zerolinecolor\":\"white\",\"automargin\":true,\"zerolinewidth\":2},\"scene\":{\"xaxis\":{\"backgroundcolor\":\"#E5ECF6\",\"gridcolor\":\"white\",\"linecolor\":\"white\",\"showbackground\":true,\"ticks\":\"\",\"zerolinecolor\":\"white\",\"gridwidth\":2},\"yaxis\":{\"backgroundcolor\":\"#E5ECF6\",\"gridcolor\":\"white\",\"linecolor\":\"white\",\"showbackground\":true,\"ticks\":\"\",\"zerolinecolor\":\"white\",\"gridwidth\":2},\"zaxis\":{\"backgroundcolor\":\"#E5ECF6\",\"gridcolor\":\"white\",\"linecolor\":\"white\",\"showbackground\":true,\"ticks\":\"\",\"zerolinecolor\":\"white\",\"gridwidth\":2}},\"shapedefaults\":{\"line\":{\"color\":\"#2a3f5f\"}},\"annotationdefaults\":{\"arrowcolor\":\"#2a3f5f\",\"arrowhead\":0,\"arrowwidth\":1},\"geo\":{\"bgcolor\":\"white\",\"landcolor\":\"#E5ECF6\",\"subunitcolor\":\"white\",\"showland\":true,\"showlakes\":true,\"lakecolor\":\"white\"},\"title\":{\"x\":0.05},\"mapbox\":{\"style\":\"light\"}}},\"xaxis\":{\"anchor\":\"y\",\"domain\":[0.0,1.0],\"title\":{\"text\":\"x\"}},\"yaxis\":{\"anchor\":\"x\",\"domain\":[0.0,1.0],\"title\":{\"text\":\"y\"}},\"coloraxis\":{\"colorbar\":{\"title\":{\"text\":\"cluster\"}},\"colorscale\":[[0.0,\"#0d0887\"],[0.1111111111111111,\"#46039f\"],[0.2222222222222222,\"#7201a8\"],[0.3333333333333333,\"#9c179e\"],[0.4444444444444444,\"#bd3786\"],[0.5555555555555556,\"#d8576b\"],[0.6666666666666666,\"#ed7953\"],[0.7777777777777778,\"#fb9f3a\"],[0.8888888888888888,\"#fdca26\"],[1.0,\"#f0f921\"]]},\"legend\":{\"tracegroupgap\":0},\"margin\":{\"t\":60}},                        {\"responsive\": true}                    ).then(function(){\n",
       "                            \n",
       "var gd = document.getElementById('0cb91870-8af9-4cae-a45a-a11b0d5185c8');\n",
       "var x = new MutationObserver(function (mutations, observer) {{\n",
       "        var display = window.getComputedStyle(gd).display;\n",
       "        if (!display || display === 'none') {{\n",
       "            console.log([gd, 'removed!']);\n",
       "            Plotly.purge(gd);\n",
       "            observer.disconnect();\n",
       "        }}\n",
       "}});\n",
       "\n",
       "// Listen for the removal of the full notebook cells\n",
       "var notebookContainer = gd.closest('#notebook-container');\n",
       "if (notebookContainer) {{\n",
       "    x.observe(notebookContainer, {childList: true});\n",
       "}}\n",
       "\n",
       "// Listen for the clearing of the current output cell\n",
       "var outputEl = gd.closest('.output');\n",
       "if (outputEl) {{\n",
       "    x.observe(outputEl, {childList: true});\n",
       "}}\n",
       "\n",
       "                        })                };                });            </script>        </div>"
      ]
     },
     "metadata": {},
     "output_type": "display_data"
    }
   ],
   "source": [
    "# Visualizing the Clusters with t-SNE\n",
    "\n",
    "from sklearn.manifold import TSNE\n",
    "\n",
    "tsne_pipeline = Pipeline([('scaler', StandardScaler()), ('tsne', TSNE(n_components=2, verbose=1))])\n",
    "genre_embedding = tsne_pipeline.fit_transform(X)\n",
    "projection = pd.DataFrame(columns=['x', 'y'], data=genre_embedding)\n",
    "projection['genres'] = genre_data['genres']\n",
    "projection['cluster'] = genre_data['cluster']\n",
    "\n",
    "fig = px.scatter(\n",
    "    projection, x='x', y='y', color='cluster', hover_data=['x', 'y', 'genres'])\n",
    "fig.show()"
   ]
  },
  {
   "cell_type": "markdown",
   "metadata": {},
   "source": [
    "# **Clustering Songs with K-Means**"
   ]
  },
  {
   "cell_type": "code",
   "execution_count": 35,
   "metadata": {
    "_kg_hide-output": true,
    "execution": {
     "iopub.execute_input": "2021-12-17T05:44:43.191246Z",
     "iopub.status.busy": "2021-12-17T05:44:43.190695Z",
     "iopub.status.idle": "2021-12-17T05:44:55.203359Z",
     "shell.execute_reply": "2021-12-17T05:44:55.202178Z",
     "shell.execute_reply.started": "2021-12-17T05:44:43.191203Z"
    }
   },
   "outputs": [],
   "source": [
    "'''song_cluster_pipeline = Pipeline([('scaler', StandardScaler()), \n",
    "                                  ('kmeans', KMeans(n_clusters=20, \n",
    "                                   verbose=False, n_jobs=4))\n",
    "                                 ], verbose=False)'''\n",
    "song_cluster_pipeline = Pipeline([('scaler', StandardScaler()), \n",
    "                                  ('kmeans', KMeans(n_clusters=20, \n",
    "                                   verbose=False))\n",
    "                                 ], verbose=False)\n",
    "\n",
    "X = data.select_dtypes(np.number)\n",
    "number_cols = list(X.columns)\n",
    "song_cluster_pipeline.fit(X)\n",
    "song_cluster_labels = song_cluster_pipeline.predict(X)\n",
    "data['cluster_label'] = song_cluster_labels"
   ]
  },
  {
   "cell_type": "code",
   "execution_count": null,
   "metadata": {
    "_kg_hide-output": false,
    "execution": {
     "iopub.execute_input": "2021-12-17T05:44:55.205249Z",
     "iopub.status.busy": "2021-12-17T05:44:55.204917Z",
     "iopub.status.idle": "2021-12-17T05:45:01.491666Z",
     "shell.execute_reply": "2021-12-17T05:45:01.490056Z",
     "shell.execute_reply.started": "2021-12-17T05:44:55.205217Z"
    }
   },
   "outputs": [],
   "source": [
    "# Visualizing the Clusters with PCA\n",
    "\n",
    "from sklearn.decomposition import PCA\n",
    "\n",
    "pca_pipeline = Pipeline([('scaler', StandardScaler()), ('PCA', PCA(n_components=2))])\n",
    "song_embedding = pca_pipeline.fit_transform(X)\n",
    "projection = pd.DataFrame(columns=['x', 'y'], data=song_embedding)\n",
    "projection['title'] = data['name']\n",
    "projection['cluster'] = data['cluster_label']\n",
    "\n",
    "fig = px.scatter(\n",
    "    projection, x='x', y='y', color='cluster', hover_data=['x', 'y', 'title'])\n",
    "fig.show()"
   ]
  },
  {
   "cell_type": "markdown",
   "metadata": {},
   "source": [
    "# **Build Recommender System**\n",
    "\n",
    "* Based on the analysis and visualizations, it’s clear that similar genres tend to have data points that are located close to each other while similar types of songs are also clustered together.\n",
    "* This observation makes perfect sense. Similar genres will sound similar and will come from similar time periods while the same can be said for songs within those genres. We can use this idea to build a recommendation system by taking the data points of the songs a user has listened to and recommending songs corresponding to nearby data points.\n",
    "* [Spotipy](https://spotipy.readthedocs.io/en/2.16.1/) is a Python client for the Spotify Web API that makes it easy for developers to fetch data and query Spotify’s catalog for songs. You have to install using `pip install spotipy`\n",
    "* After installing Spotipy, you will need to create an app on the [Spotify Developer’s page](https://developer.spotify.com/) and save your Client ID and secret key."
   ]
  },
  {
   "cell_type": "code",
   "execution_count": 15,
   "metadata": {},
   "outputs": [
    {
     "name": "stdout",
     "output_type": "stream",
     "text": [
      "\u001b[33mWARNING: Running pip as the 'root' user can result in broken permissions and conflicting behaviour with the system package manager. It is recommended to use a virtual environment instead: https://pip.pypa.io/warnings/venv\u001b[0m\u001b[33m\r\n",
      "\u001b[0m"
     ]
    }
   ],
   "source": [
    "!pip install spotipy"
   ]
  },
  {
   "cell_type": "code",
   "execution_count": null,
   "metadata": {},
   "outputs": [],
   "source": [
    "import spotipy\n",
    "from spotipy.oauth2 import SpotifyClientCredentials\n",
    "from collections import defaultdict\n",
    "import os\n",
    "sp = spotipy.Spotify(auth_manager=SpotifyClientCredentials(client_id=\"ee8235dfc62f4de8b24fcccddc2b9427\",client_secret=\"197c7f6353b943c2bc2c85ce2e5670af\"))\n",
    "\n",
    "def find_song(name, year):\n",
    "    song_data = defaultdict()\n",
    "    results = sp.search(q= 'track: {} year: {}'.format(name,year), limit=1)\n",
    "    if results['tracks']['items'] == []:\n",
    "        return None\n",
    "\n",
    "    results = results['tracks']['items'][0]\n",
    "    track_id = results['id']\n",
    "    audio_features = sp.audio_features(track_id)[0]\n",
    "\n",
    "    song_data['name'] = [name]\n",
    "    song_data['year'] = [year]\n",
    "    song_data['explicit'] = [int(results['explicit'])]\n",
    "    song_data['duration_ms'] = [results['duration_ms']]\n",
    "    song_data['popularity'] = [results['popularity']]\n",
    "\n",
    "    for key, value in audio_features.items():\n",
    "        song_data[key] = value\n",
    "\n",
    "    return pd.DataFrame(song_data)"
   ]
  },
  {
   "cell_type": "code",
   "execution_count": 38,
   "metadata": {},
   "outputs": [],
   "source": [
    "from collections import defaultdict\n",
    "from sklearn.metrics import euclidean_distances\n",
    "from scipy.spatial.distance import cdist\n",
    "import difflib\n",
    "\n",
    "number_cols = ['valence', 'year', 'acousticness', 'danceability', 'duration_ms', 'energy', 'explicit',\n",
    " 'instrumentalness', 'key', 'liveness', 'loudness', 'mode', 'popularity', 'speechiness', 'tempo']\n",
    "\n",
    "\n",
    "def get_song_data(song, spotify_data):\n",
    "    \n",
    "    try:\n",
    "        song_data = spotify_data[(spotify_data['name'] == song['name']) \n",
    "                                & (spotify_data['year'] == song['year'])].iloc[0]\n",
    "        return song_data\n",
    "    \n",
    "    except IndexError:\n",
    "        return find_song(song['name'], song['year'])\n",
    "        \n",
    "\n",
    "def get_mean_vector(song_list, spotify_data):\n",
    "    \n",
    "    song_vectors = []\n",
    "    \n",
    "    for song in song_list:\n",
    "        song_data = get_song_data(song, spotify_data)\n",
    "        if song_data is None:\n",
    "            print('Warning: {} does not exist in Spotify or in database'.format(song['name']))\n",
    "            continue\n",
    "        song_vector = song_data[number_cols].values\n",
    "        song_vectors.append(song_vector)  \n",
    "    \n",
    "    song_matrix = np.array(list(song_vectors))\n",
    "    return np.mean(song_matrix, axis=0)\n",
    "\n",
    "\n",
    "def flatten_dict_list(dict_list):\n",
    "    \n",
    "    flattened_dict = defaultdict()\n",
    "    for key in dict_list[0].keys():\n",
    "        flattened_dict[key] = []\n",
    "    \n",
    "    for dictionary in dict_list:\n",
    "        for key, value in dictionary.items():\n",
    "            flattened_dict[key].append(value)\n",
    "            \n",
    "    return flattened_dict\n",
    "\n",
    "\n",
    "def recommend_songs( song_list, spotify_data, n_songs=10):\n",
    "    \n",
    "    metadata_cols = ['name', 'year', 'artists']\n",
    "    song_dict = flatten_dict_list(song_list)\n",
    "    \n",
    "    song_center = get_mean_vector(song_list, spotify_data)\n",
    "    scaler = song_cluster_pipeline.steps[0][1]\n",
    "    scaled_data = scaler.transform(spotify_data[number_cols])\n",
    "    scaled_song_center = scaler.transform(song_center.reshape(1, -1))\n",
    "    distances = cdist(scaled_song_center, scaled_data, 'cosine')\n",
    "    index = list(np.argsort(distances)[:, :n_songs][0])\n",
    "    \n",
    "    rec_songs = spotify_data.iloc[index]\n",
    "    rec_songs = rec_songs[~rec_songs['name'].isin(song_dict['name'])]\n",
    "    return rec_songs[metadata_cols].to_dict(orient='records')"
   ]
  },
  {
   "cell_type": "code",
   "execution_count": 39,
   "metadata": {},
   "outputs": [],
   "source": [
    "def get_mean_vector(song_list, spotify_data):\n",
    "    song_vectors = []\n",
    "\n",
    "    for song in song_list:\n",
    "        song_data = get_song_data(song, spotify_data)\n",
    "        if song_data is None:\n",
    "            print('Warning: {} does not exist in Spotify or in the database'.format(song['name']))\n",
    "            continue\n",
    "        song_vector = song_data[number_cols].values\n",
    "        if song_vector.shape[0] != len(number_cols):\n",
    "            print('Warning: {} has inconsistent shape'.format(song['name']))\n",
    "            continue\n",
    "        song_vectors.append(song_vector)\n",
    "\n",
    "    if not song_vectors:\n",
    "        return None\n",
    "\n",
    "    song_matrix = np.array(song_vectors)\n",
    "    return np.mean(song_matrix, axis=0)"
   ]
  },
  {
   "cell_type": "code",
   "execution_count": 41,
   "metadata": {
    "scrolled": true
   },
   "outputs": [
    {
     "data": {
      "text/plain": [
       "[{'name': 'The Middle',\n",
       "  'year': 2018,\n",
       "  'artists': \"['Zedd', 'Maren Morris', 'Grey']\"},\n",
       " {'name': 'Some Say - Felix Jaehn Remix',\n",
       "  'year': 2020,\n",
       "  'artists': \"['Nea', 'Felix Jaehn']\"},\n",
       " {'name': 'Happy Does', 'year': 2020, 'artists': \"['Kenny Chesney']\"},\n",
       " {'name': 'Happier', 'year': 2018, 'artists': \"['Marshmello', 'Bastille']\"},\n",
       " {'name': 'Adore You', 'year': 2019, 'artists': \"['Harry Styles']\"},\n",
       " {'name': 'Dynamite', 'year': 2020, 'artists': \"['BTS']\"},\n",
       " {'name': 'China',\n",
       "  'year': 2019,\n",
       "  'artists': \"['Anuel AA', 'Daddy Yankee', 'KAROL G', 'J Balvin', 'Ozuna']\"},\n",
       " {'name': 'Vaina Loca', 'year': 2018, 'artists': \"['Ozuna', 'Manuel Turizo']\"},\n",
       " {'name': 'Ella Quiere Beber - Remix',\n",
       "  'year': 2018,\n",
       "  'artists': \"['Anuel AA', 'Romeo Santos']\"}]"
      ]
     },
     "execution_count": 41,
     "metadata": {},
     "output_type": "execute_result"
    }
   ],
   "source": [
    "recommend_songs([{'name': 'Believer', 'year': 2017},\n",
    "                {'name': 'Closer', 'year': 2016},\n",
    "                {'name': 'Let Me Love You', 'year': 2016},\n",
    "                {'name': 'Play Date', 'year': 2015},\n",
    "                {'name': 'Shape of You', 'year': 2017}],  data) "
   ]
  },
  {
   "cell_type": "code",
   "execution_count": null,
   "metadata": {},
   "outputs": [],
   "source": []
  }
 ],
 "metadata": {
  "kernelspec": {
   "display_name": "Python 3 (ipykernel)",
   "language": "python",
   "name": "python3"
  },
  "language_info": {
   "codemirror_mode": {
    "name": "ipython",
    "version": 3
   },
   "file_extension": ".py",
   "mimetype": "text/x-python",
   "name": "python",
   "nbconvert_exporter": "python",
   "pygments_lexer": "ipython3",
   "version": "3.10.12"
  }
 },
 "nbformat": 4,
 "nbformat_minor": 4
}
